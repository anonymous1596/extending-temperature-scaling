{
 "cells": [
  {
   "cell_type": "markdown",
   "metadata": {},
   "source": [
    "# Load Data"
   ]
  },
  {
   "cell_type": "code",
   "execution_count": 4,
   "metadata": {},
   "outputs": [],
   "source": [
    "import matplotlib.pyplot as plt\n",
    "import pandas as pd\n",
    "import seaborn as sns\n",
    "import plotly.express as px\n",
    "from plot_functions import *\n",
    "sns.set()\n",
    "model_names = [\n",
    "  'resnet152',\n",
    "  'seresnet152',\n",
    "  'xception',\n",
    "  'densenet161',\n",
    "  'inceptionresnetv2'\n",
    "]\n",
    "settings = [\n",
    "  'pointpred',\n",
    "  'compose',\n",
    "  'locshift',\n",
    "  'convert'\n",
    "]\n",
    "seeds = range(20)\n",
    "ood_datasets = [\n",
    "  'svhn', \n",
    "  'lsun'\n",
    "  ]\n",
    "\n",
    "df = get_df('../recalibration/results', model_names,settings,seeds,ood_datasets)\n",
    "\n",
    "sns.set()\n",
    "\n",
    "\n",
    "df=df.rename(columns={\n",
    "  'svhn_AUC': 'SVHN', \n",
    "  'lsun_AUC': 'LSUN', \n",
    "  })\n",
    "df = df.reset_index(names = ['Method'])\n",
    "df = df[['Model','Method','Setting','ECE','SVHN','LSUN']]"
   ]
  },
  {
   "cell_type": "markdown",
   "metadata": {},
   "source": [
    "# Point Prediction Results"
   ]
  },
  {
   "cell_type": "code",
   "execution_count": 6,
   "metadata": {},
   "outputs": [
    {
     "data": {
      "application/vnd.plotly.v1+json": {
       "config": {
        "plotlyServerURL": "https://plot.ly"
       },
       "data": [
        {
         "alignmentgroup": "True",
         "hovertemplate": "Method=%{x}<br>Metric=ECE<br>Model=resnet152<br>Value=%{y}<extra></extra>",
         "legendgroup": "TS",
         "marker": {
          "color": "#636efa"
         },
         "name": "TS",
         "notched": false,
         "offsetgroup": "TS",
         "orientation": "v",
         "showlegend": true,
         "type": "box",
         "x": [
          "TS",
          "TS",
          "TS",
          "TS",
          "TS",
          "TS",
          "TS",
          "TS",
          "TS",
          "TS",
          "TS",
          "TS",
          "TS",
          "TS",
          "TS",
          "TS",
          "TS",
          "TS",
          "TS",
          "TS"
         ],
         "x0": " ",
         "xaxis": "x11",
         "y": [
          0.0492432042956352,
          0.0355856716632843,
          0.0489439293742179,
          0.0430326461791992,
          0.0561533272266387,
          0.044098574668169,
          0.0471259206533432,
          0.0522155240178108,
          0.0440555624663829,
          0.0443593636155128,
          0.0392874106764793,
          0.0397967249155044,
          0.0615818351507186,
          0.0429457277059555,
          0.0444066897034645,
          0.0500263236463069,
          0.0398569293320179,
          0.040772333741188,
          0.0357026420533657,
          0.0415388941764831
         ],
         "y0": " ",
         "yaxis": "y11"
        },
        {
         "alignmentgroup": "True",
         "hovertemplate": "Method=%{x}<br>Metric=ECE<br>Model=seresnet152<br>Value=%{y}<extra></extra>",
         "legendgroup": "TS",
         "marker": {
          "color": "#636efa"
         },
         "name": "TS",
         "notched": false,
         "offsetgroup": "TS",
         "orientation": "v",
         "showlegend": false,
         "type": "box",
         "x": [
          "TS",
          "TS",
          "TS",
          "TS",
          "TS",
          "TS",
          "TS",
          "TS",
          "TS",
          "TS",
          "TS",
          "TS",
          "TS",
          "TS",
          "TS",
          "TS",
          "TS",
          "TS",
          "TS",
          "TS"
         ],
         "x0": " ",
         "xaxis": "x12",
         "y": [
          0.0398333519697189,
          0.0328292362391948,
          0.0379936434328556,
          0.0342465564608573,
          0.0365596637129783,
          0.0397329367697238,
          0.0377466827630996,
          0.0488139726221561,
          0.0441545918583869,
          0.0309073999524116,
          0.0228777788579463,
          0.0349773354828357,
          0.0482783541083335,
          0.0474691167473793,
          0.044200524687767,
          0.0325230956077575,
          0.0417960844933986,
          0.0372965112328529,
          0.0407556742429733,
          0.0397651009261608
         ],
         "y0": " ",
         "yaxis": "y12"
        },
        {
         "alignmentgroup": "True",
         "hovertemplate": "Method=%{x}<br>Metric=ECE<br>Model=xception<br>Value=%{y}<extra></extra>",
         "legendgroup": "TS",
         "marker": {
          "color": "#636efa"
         },
         "name": "TS",
         "notched": false,
         "offsetgroup": "TS",
         "orientation": "v",
         "showlegend": false,
         "type": "box",
         "x": [
          "TS",
          "TS",
          "TS",
          "TS",
          "TS",
          "TS",
          "TS",
          "TS",
          "TS",
          "TS",
          "TS",
          "TS",
          "TS",
          "TS",
          "TS",
          "TS",
          "TS",
          "TS",
          "TS",
          "TS"
         ],
         "x0": " ",
         "xaxis": "x13",
         "y": [
          0.0387804880738258,
          0.0345401391386985,
          0.0455312356352806,
          0.0413061529397964,
          0.0344962030649185,
          0.0538197755813598,
          0.0366082116961479,
          0.0374007485806942,
          0.0424687713384628,
          0.0308962874114513,
          0.0273678191006183,
          0.0407929271459579,
          0.0388065055012702,
          0.0398237034678459,
          0.0362392142415046,
          0.0373817086219787,
          0.0301132816821336,
          0.0334869362413883,
          0.0432363748550415,
          0.0364350453019142
         ],
         "y0": " ",
         "yaxis": "y13"
        },
        {
         "alignmentgroup": "True",
         "hovertemplate": "Method=%{x}<br>Metric=ECE<br>Model=densenet161<br>Value=%{y}<extra></extra>",
         "legendgroup": "TS",
         "marker": {
          "color": "#636efa"
         },
         "name": "TS",
         "notched": false,
         "offsetgroup": "TS",
         "orientation": "v",
         "showlegend": false,
         "type": "box",
         "x": [
          "TS",
          "TS",
          "TS",
          "TS",
          "TS",
          "TS",
          "TS",
          "TS",
          "TS",
          "TS",
          "TS",
          "TS",
          "TS",
          "TS",
          "TS",
          "TS",
          "TS",
          "TS",
          "TS",
          "TS"
         ],
         "x0": " ",
         "xaxis": "x14",
         "y": [
          0.036826878786087,
          0.0506099089980125,
          0.0464729852974414,
          0.0420008786022663,
          0.0458010733127594,
          0.0477341376245021,
          0.0327170677483081,
          0.0389181151986122,
          0.0453841164708137,
          0.0374037101864814,
          0.0416148230433464,
          0.0327210649847984,
          0.046012207865715,
          0.0322652161121368,
          0.0510251522064209,
          0.0548773109912872,
          0.0451041981577873,
          0.0375780090689659,
          0.0512498095631599,
          0.0314360149204731
         ],
         "y0": " ",
         "yaxis": "y14"
        },
        {
         "alignmentgroup": "True",
         "hovertemplate": "Method=%{x}<br>Metric=ECE<br>Model=inceptionresnetv2<br>Value=%{y}<extra></extra>",
         "legendgroup": "TS",
         "marker": {
          "color": "#636efa"
         },
         "name": "TS",
         "notched": false,
         "offsetgroup": "TS",
         "orientation": "v",
         "showlegend": false,
         "type": "box",
         "x": [
          "TS",
          "TS",
          "TS",
          "TS",
          "TS",
          "TS",
          "TS",
          "TS",
          "TS",
          "TS",
          "TS",
          "TS",
          "TS",
          "TS",
          "TS",
          "TS",
          "TS",
          "TS",
          "TS",
          "TS"
         ],
         "x0": " ",
         "xaxis": "x15",
         "y": [
          0.039546113461256,
          0.0552414655685424,
          0.0371476076543331,
          0.0411897636950016,
          0.0407727435231208,
          0.0572934113442897,
          0.0364828966557979,
          0.0441917479038238,
          0.0448852330446243,
          0.0519070476293563,
          0.0415657460689544,
          0.0416226498782634,
          0.0347613021731376,
          0.0411883518099784,
          0.0398853793740272,
          0.0449695959687233,
          0.0446600914001464,
          0.0364001356065273,
          0.0442599132657051,
          0.0355085767805576
         ],
         "y0": " ",
         "yaxis": "y15"
        },
        {
         "alignmentgroup": "True",
         "hovertemplate": "Method=%{x}<br>Metric=SVHN<br>Model=resnet152<br>Value=%{y}<extra></extra>",
         "legendgroup": "TS",
         "marker": {
          "color": "#636efa"
         },
         "name": "TS",
         "notched": false,
         "offsetgroup": "TS",
         "orientation": "v",
         "showlegend": false,
         "type": "box",
         "x": [
          "TS",
          "TS",
          "TS",
          "TS",
          "TS",
          "TS",
          "TS",
          "TS",
          "TS",
          "TS",
          "TS",
          "TS",
          "TS",
          "TS",
          "TS",
          "TS",
          "TS",
          "TS",
          "TS",
          "TS"
         ],
         "x0": " ",
         "xaxis": "x6",
         "y": [
          0.8706529999999999,
          0.8696272500000001,
          0.87310475,
          0.8731597500000001,
          0.86986,
          0.8653875,
          0.8715677500000001,
          0.866803,
          0.8573802500000001,
          0.87131625,
          0.874221,
          0.8672195,
          0.87016675,
          0.87304925,
          0.86261825,
          0.8676252500000001,
          0.8621912500000001,
          0.8606054999999999,
          0.8628672500000001,
          0.86436975
         ],
         "y0": " ",
         "yaxis": "y6"
        },
        {
         "alignmentgroup": "True",
         "hovertemplate": "Method=%{x}<br>Metric=SVHN<br>Model=seresnet152<br>Value=%{y}<extra></extra>",
         "legendgroup": "TS",
         "marker": {
          "color": "#636efa"
         },
         "name": "TS",
         "notched": false,
         "offsetgroup": "TS",
         "orientation": "v",
         "showlegend": false,
         "type": "box",
         "x": [
          "TS",
          "TS",
          "TS",
          "TS",
          "TS",
          "TS",
          "TS",
          "TS",
          "TS",
          "TS",
          "TS",
          "TS",
          "TS",
          "TS",
          "TS",
          "TS",
          "TS",
          "TS",
          "TS",
          "TS"
         ],
         "x0": " ",
         "xaxis": "x7",
         "y": [
          0.890154,
          0.8870612499999999,
          0.8868605,
          0.8908257500000001,
          0.888884,
          0.8820570000000001,
          0.8879579999999999,
          0.88504275,
          0.882704,
          0.88868725,
          0.89202775,
          0.8883367499999999,
          0.8845179999999999,
          0.8894182500000001,
          0.8849615000000001,
          0.8872599999999999,
          0.88488925,
          0.8825182500000001,
          0.88445925,
          0.8893355000000001
         ],
         "y0": " ",
         "yaxis": "y7"
        },
        {
         "alignmentgroup": "True",
         "hovertemplate": "Method=%{x}<br>Metric=SVHN<br>Model=xception<br>Value=%{y}<extra></extra>",
         "legendgroup": "TS",
         "marker": {
          "color": "#636efa"
         },
         "name": "TS",
         "notched": false,
         "offsetgroup": "TS",
         "orientation": "v",
         "showlegend": false,
         "type": "box",
         "x": [
          "TS",
          "TS",
          "TS",
          "TS",
          "TS",
          "TS",
          "TS",
          "TS",
          "TS",
          "TS",
          "TS",
          "TS",
          "TS",
          "TS",
          "TS",
          "TS",
          "TS",
          "TS",
          "TS",
          "TS"
         ],
         "x0": " ",
         "xaxis": "x8",
         "y": [
          0.8677192499999999,
          0.8703574999999999,
          0.8616787499999999,
          0.8744562500000002,
          0.868318,
          0.8682044999999999,
          0.867625,
          0.8613029999999999,
          0.86213175,
          0.8693319999999999,
          0.8714002499999999,
          0.86741125,
          0.86405575,
          0.86013225,
          0.8622787500000001,
          0.8641565,
          0.86668725,
          0.86388175,
          0.8661441250000002,
          0.871731
         ],
         "y0": " ",
         "yaxis": "y8"
        },
        {
         "alignmentgroup": "True",
         "hovertemplate": "Method=%{x}<br>Metric=SVHN<br>Model=densenet161<br>Value=%{y}<extra></extra>",
         "legendgroup": "TS",
         "marker": {
          "color": "#636efa"
         },
         "name": "TS",
         "notched": false,
         "offsetgroup": "TS",
         "orientation": "v",
         "showlegend": false,
         "type": "box",
         "x": [
          "TS",
          "TS",
          "TS",
          "TS",
          "TS",
          "TS",
          "TS",
          "TS",
          "TS",
          "TS",
          "TS",
          "TS",
          "TS",
          "TS",
          "TS",
          "TS",
          "TS",
          "TS",
          "TS",
          "TS"
         ],
         "x0": " ",
         "xaxis": "x9",
         "y": [
          0.8856550000000001,
          0.8811234999999998,
          0.8816862499999999,
          0.8877757499999999,
          0.87566525,
          0.8800612500000002,
          0.88004775,
          0.88382925,
          0.867885625,
          0.8818602499999999,
          0.87989175,
          0.87692625,
          0.87782275,
          0.8817735,
          0.8785639999999999,
          0.8810605000000001,
          0.87751925,
          0.8707752500000001,
          0.8778422499999999,
          0.8793112499999999
         ],
         "y0": " ",
         "yaxis": "y9"
        },
        {
         "alignmentgroup": "True",
         "hovertemplate": "Method=%{x}<br>Metric=SVHN<br>Model=inceptionresnetv2<br>Value=%{y}<extra></extra>",
         "legendgroup": "TS",
         "marker": {
          "color": "#636efa"
         },
         "name": "TS",
         "notched": false,
         "offsetgroup": "TS",
         "orientation": "v",
         "showlegend": false,
         "type": "box",
         "x": [
          "TS",
          "TS",
          "TS",
          "TS",
          "TS",
          "TS",
          "TS",
          "TS",
          "TS",
          "TS",
          "TS",
          "TS",
          "TS",
          "TS",
          "TS",
          "TS",
          "TS",
          "TS",
          "TS",
          "TS"
         ],
         "x0": " ",
         "xaxis": "x10",
         "y": [
          0.8928192500000001,
          0.8875150000000002,
          0.8913469999999999,
          0.8990155,
          0.89241525,
          0.887240625,
          0.8908615,
          0.88977725,
          0.8875414999999999,
          0.8913402500000001,
          0.8950897500000001,
          0.889147,
          0.89303025,
          0.891006,
          0.888166,
          0.8900609999999999,
          0.89027775,
          0.88894875,
          0.8854759999999999,
          0.8882952500000001
         ],
         "y0": " ",
         "yaxis": "y10"
        },
        {
         "alignmentgroup": "True",
         "hovertemplate": "Method=%{x}<br>Metric=LSUN<br>Model=resnet152<br>Value=%{y}<extra></extra>",
         "legendgroup": "TS",
         "marker": {
          "color": "#636efa"
         },
         "name": "TS",
         "notched": false,
         "offsetgroup": "TS",
         "orientation": "v",
         "showlegend": false,
         "type": "box",
         "x": [
          "TS",
          "TS",
          "TS",
          "TS",
          "TS",
          "TS",
          "TS",
          "TS",
          "TS",
          "TS",
          "TS",
          "TS",
          "TS",
          "TS",
          "TS",
          "TS",
          "TS",
          "TS",
          "TS",
          "TS"
         ],
         "x0": " ",
         "xaxis": "x",
         "y": [
          0.9021405,
          0.901349875,
          0.9042805,
          0.904594,
          0.900435125,
          0.8973270000000001,
          0.90258475,
          0.8974095,
          0.8901605000000001,
          0.902453,
          0.90471775,
          0.8980490000000001,
          0.90044575,
          0.903865,
          0.8958828750000001,
          0.9005362499999999,
          0.89564275,
          0.8920187500000001,
          0.8959365,
          0.8962525000000001
         ],
         "y0": " ",
         "yaxis": "y"
        },
        {
         "alignmentgroup": "True",
         "hovertemplate": "Method=%{x}<br>Metric=LSUN<br>Model=seresnet152<br>Value=%{y}<extra></extra>",
         "legendgroup": "TS",
         "marker": {
          "color": "#636efa"
         },
         "name": "TS",
         "notched": false,
         "offsetgroup": "TS",
         "orientation": "v",
         "showlegend": false,
         "type": "box",
         "x": [
          "TS",
          "TS",
          "TS",
          "TS",
          "TS",
          "TS",
          "TS",
          "TS",
          "TS",
          "TS",
          "TS",
          "TS",
          "TS",
          "TS",
          "TS",
          "TS",
          "TS",
          "TS",
          "TS",
          "TS"
         ],
         "x0": " ",
         "xaxis": "x2",
         "y": [
          0.92094275,
          0.9186577499999998,
          0.918406,
          0.92188975,
          0.919793,
          0.91451025,
          0.91910125,
          0.915781125,
          0.9143465,
          0.9196205,
          0.92187825,
          0.92017475,
          0.91550725,
          0.92149075,
          0.91663375,
          0.91911425,
          0.9167815,
          0.91434325,
          0.916239125,
          0.9204125
         ],
         "y0": " ",
         "yaxis": "y2"
        },
        {
         "alignmentgroup": "True",
         "hovertemplate": "Method=%{x}<br>Metric=LSUN<br>Model=xception<br>Value=%{y}<extra></extra>",
         "legendgroup": "TS",
         "marker": {
          "color": "#636efa"
         },
         "name": "TS",
         "notched": false,
         "offsetgroup": "TS",
         "orientation": "v",
         "showlegend": false,
         "type": "box",
         "x": [
          "TS",
          "TS",
          "TS",
          "TS",
          "TS",
          "TS",
          "TS",
          "TS",
          "TS",
          "TS",
          "TS",
          "TS",
          "TS",
          "TS",
          "TS",
          "TS",
          "TS",
          "TS",
          "TS",
          "TS"
         ],
         "x0": " ",
         "xaxis": "x3",
         "y": [
          0.8891935,
          0.8912556250000001,
          0.8841604999999999,
          0.89479975,
          0.8895947500000001,
          0.8894209999999999,
          0.8884130000000001,
          0.8826702499999999,
          0.8835934999999999,
          0.8904455,
          0.8915565,
          0.8883372500000001,
          0.8851570000000001,
          0.88256125,
          0.884404,
          0.886242,
          0.88864775,
          0.8856497499999999,
          0.887949,
          0.8930174999999999
         ],
         "y0": " ",
         "yaxis": "y3"
        },
        {
         "alignmentgroup": "True",
         "hovertemplate": "Method=%{x}<br>Metric=LSUN<br>Model=densenet161<br>Value=%{y}<extra></extra>",
         "legendgroup": "TS",
         "marker": {
          "color": "#636efa"
         },
         "name": "TS",
         "notched": false,
         "offsetgroup": "TS",
         "orientation": "v",
         "showlegend": false,
         "type": "box",
         "x": [
          "TS",
          "TS",
          "TS",
          "TS",
          "TS",
          "TS",
          "TS",
          "TS",
          "TS",
          "TS",
          "TS",
          "TS",
          "TS",
          "TS",
          "TS",
          "TS",
          "TS",
          "TS",
          "TS",
          "TS"
         ],
         "x0": " ",
         "xaxis": "x4",
         "y": [
          0.9026725,
          0.898259,
          0.89895375,
          0.904939875,
          0.893414,
          0.8974112500000001,
          0.8973895,
          0.9004847500000001,
          0.885507125,
          0.89919175,
          0.8971583750000001,
          0.8948032499999999,
          0.89495575,
          0.899324,
          0.8959157499999999,
          0.8987932500000002,
          0.895305,
          0.8888005000000001,
          0.8955002500000001,
          0.89668275
         ],
         "y0": " ",
         "yaxis": "y4"
        },
        {
         "alignmentgroup": "True",
         "hovertemplate": "Method=%{x}<br>Metric=LSUN<br>Model=inceptionresnetv2<br>Value=%{y}<extra></extra>",
         "legendgroup": "TS",
         "marker": {
          "color": "#636efa"
         },
         "name": "TS",
         "notched": false,
         "offsetgroup": "TS",
         "orientation": "v",
         "showlegend": false,
         "type": "box",
         "x": [
          "TS",
          "TS",
          "TS",
          "TS",
          "TS",
          "TS",
          "TS",
          "TS",
          "TS",
          "TS",
          "TS",
          "TS",
          "TS",
          "TS",
          "TS",
          "TS",
          "TS",
          "TS",
          "TS",
          "TS"
         ],
         "x0": " ",
         "xaxis": "x5",
         "y": [
          0.92054075,
          0.915888125,
          0.919296,
          0.9264147500000002,
          0.920184,
          0.91587225,
          0.91859125,
          0.9176124999999998,
          0.915388,
          0.91845325,
          0.92195225,
          0.9162395,
          0.92138075,
          0.9191225,
          0.9167795,
          0.919165,
          0.9190575,
          0.9173925,
          0.91371825,
          0.916347
         ],
         "y0": " ",
         "yaxis": "y5"
        },
        {
         "alignmentgroup": "True",
         "hovertemplate": "Method=%{x}<br>Metric=ECE<br>Model=resnet152<br>Value=%{y}<extra></extra>",
         "legendgroup": "SPTS",
         "marker": {
          "color": "#EF553B"
         },
         "name": "SPTS",
         "notched": false,
         "offsetgroup": "SPTS",
         "orientation": "v",
         "showlegend": true,
         "type": "box",
         "x": [
          "SPTS",
          "SPTS",
          "SPTS",
          "SPTS",
          "SPTS",
          "SPTS",
          "SPTS",
          "SPTS",
          "SPTS",
          "SPTS",
          "SPTS",
          "SPTS",
          "SPTS",
          "SPTS",
          "SPTS",
          "SPTS",
          "SPTS",
          "SPTS",
          "SPTS",
          "SPTS"
         ],
         "x0": " ",
         "xaxis": "x11",
         "y": [
          0.0413864105939865,
          0.0305227823555469,
          0.0335762500762939,
          0.0336276516318321,
          0.037097044289112,
          0.0297200437635183,
          0.0306023266166448,
          0.0423750318586826,
          0.0326877497136592,
          0.0359089747071266,
          0.0321724712848663,
          0.0361724495887756,
          0.0503782778978347,
          0.0282692126929759,
          0.0298744030296802,
          0.0376960150897502,
          0.0292984470725059,
          0.0337538085877895,
          0.0242797173559665,
          0.0343282371759414
         ],
         "y0": " ",
         "yaxis": "y11"
        },
        {
         "alignmentgroup": "True",
         "hovertemplate": "Method=%{x}<br>Metric=ECE<br>Model=seresnet152<br>Value=%{y}<extra></extra>",
         "legendgroup": "SPTS",
         "marker": {
          "color": "#EF553B"
         },
         "name": "SPTS",
         "notched": false,
         "offsetgroup": "SPTS",
         "orientation": "v",
         "showlegend": false,
         "type": "box",
         "x": [
          "SPTS",
          "SPTS",
          "SPTS",
          "SPTS",
          "SPTS",
          "SPTS",
          "SPTS",
          "SPTS",
          "SPTS",
          "SPTS",
          "SPTS",
          "SPTS",
          "SPTS",
          "SPTS",
          "SPTS",
          "SPTS",
          "SPTS",
          "SPTS",
          "SPTS",
          "SPTS"
         ],
         "x0": " ",
         "xaxis": "x12",
         "y": [
          0.0227783303707838,
          0.0246295481920242,
          0.0307428799569606,
          0.0272571314126253,
          0.0175386313349008,
          0.0243907030671834,
          0.0256746504455804,
          0.0326357781887054,
          0.032557476311922,
          0.0176772326231002,
          0.0275835432112216,
          0.0305972397327423,
          0.0329520106315612,
          0.0356019586324691,
          0.0289603285491466,
          0.0236742291599512,
          0.0351467169821262,
          0.0236073248088359,
          0.0334497541189193,
          0.0251959189772605
         ],
         "y0": " ",
         "yaxis": "y12"
        },
        {
         "alignmentgroup": "True",
         "hovertemplate": "Method=%{x}<br>Metric=ECE<br>Model=xception<br>Value=%{y}<extra></extra>",
         "legendgroup": "SPTS",
         "marker": {
          "color": "#EF553B"
         },
         "name": "SPTS",
         "notched": false,
         "offsetgroup": "SPTS",
         "orientation": "v",
         "showlegend": false,
         "type": "box",
         "x": [
          "SPTS",
          "SPTS",
          "SPTS",
          "SPTS",
          "SPTS",
          "SPTS",
          "SPTS",
          "SPTS",
          "SPTS",
          "SPTS",
          "SPTS",
          "SPTS",
          "SPTS",
          "SPTS",
          "SPTS",
          "SPTS",
          "SPTS",
          "SPTS",
          "SPTS",
          "SPTS"
         ],
         "x0": " ",
         "xaxis": "x13",
         "y": [
          0.0264067575335502,
          0.0230724588036537,
          0.0278958044946193,
          0.022222850471735,
          0.0181817486882209,
          0.0392216369509696,
          0.0166821163147687,
          0.0214141327887773,
          0.0236904621124267,
          0.018593605607748,
          0.0235708095133304,
          0.0205509345978498,
          0.0185626242309808,
          0.0232974532991647,
          0.0241266544908285,
          0.0224055554717779,
          0.0178771801292896,
          0.0245516095310449,
          0.0299998819828033,
          0.0231571327894926
         ],
         "y0": " ",
         "yaxis": "y13"
        },
        {
         "alignmentgroup": "True",
         "hovertemplate": "Method=%{x}<br>Metric=ECE<br>Model=densenet161<br>Value=%{y}<extra></extra>",
         "legendgroup": "SPTS",
         "marker": {
          "color": "#EF553B"
         },
         "name": "SPTS",
         "notched": false,
         "offsetgroup": "SPTS",
         "orientation": "v",
         "showlegend": false,
         "type": "box",
         "x": [
          "SPTS",
          "SPTS",
          "SPTS",
          "SPTS",
          "SPTS",
          "SPTS",
          "SPTS",
          "SPTS",
          "SPTS",
          "SPTS",
          "SPTS",
          "SPTS",
          "SPTS",
          "SPTS",
          "SPTS",
          "SPTS",
          "SPTS",
          "SPTS",
          "SPTS",
          "SPTS"
         ],
         "x0": " ",
         "xaxis": "x14",
         "y": [
          0.0271755643188953,
          0.0422801077365875,
          0.032585646957159,
          0.0304711647331714,
          0.0336798764765262,
          0.0324179902672767,
          0.0257205516099929,
          0.0335807316005229,
          0.0333293825387954,
          0.0276549533009529,
          0.0337059535086154,
          0.0243952553719282,
          0.0312227010726928,
          0.0248586311936378,
          0.0365422368049621,
          0.0372673273086547,
          0.0285826306790113,
          0.0327005051076412,
          0.0391790457069873,
          0.0269863605499267
         ],
         "y0": " ",
         "yaxis": "y14"
        },
        {
         "alignmentgroup": "True",
         "hovertemplate": "Method=%{x}<br>Metric=ECE<br>Model=inceptionresnetv2<br>Value=%{y}<extra></extra>",
         "legendgroup": "SPTS",
         "marker": {
          "color": "#EF553B"
         },
         "name": "SPTS",
         "notched": false,
         "offsetgroup": "SPTS",
         "orientation": "v",
         "showlegend": false,
         "type": "box",
         "x": [
          "SPTS",
          "SPTS",
          "SPTS",
          "SPTS",
          "SPTS",
          "SPTS",
          "SPTS",
          "SPTS",
          "SPTS",
          "SPTS",
          "SPTS",
          "SPTS",
          "SPTS",
          "SPTS",
          "SPTS",
          "SPTS",
          "SPTS",
          "SPTS",
          "SPTS",
          "SPTS"
         ],
         "x0": " ",
         "xaxis": "x15",
         "y": [
          0.0223498996347188,
          0.0331852361559867,
          0.0289607383310794,
          0.0294421911239624,
          0.0258716456592082,
          0.038040667772293,
          0.0258111283183097,
          0.0252597983926534,
          0.0320073701441288,
          0.0323611497879028,
          0.026309460401535,
          0.0211612489074468,
          0.0169060975313186,
          0.0182482562959194,
          0.0327465757727623,
          0.0296141896396875,
          0.0286666080355644,
          0.0238787829875946,
          0.0296058431267738,
          0.0178237445652484
         ],
         "y0": " ",
         "yaxis": "y15"
        },
        {
         "alignmentgroup": "True",
         "hovertemplate": "Method=%{x}<br>Metric=SVHN<br>Model=resnet152<br>Value=%{y}<extra></extra>",
         "legendgroup": "SPTS",
         "marker": {
          "color": "#EF553B"
         },
         "name": "SPTS",
         "notched": false,
         "offsetgroup": "SPTS",
         "orientation": "v",
         "showlegend": false,
         "type": "box",
         "x": [
          "SPTS",
          "SPTS",
          "SPTS",
          "SPTS",
          "SPTS",
          "SPTS",
          "SPTS",
          "SPTS",
          "SPTS",
          "SPTS",
          "SPTS",
          "SPTS",
          "SPTS",
          "SPTS",
          "SPTS",
          "SPTS",
          "SPTS",
          "SPTS",
          "SPTS",
          "SPTS"
         ],
         "x0": " ",
         "xaxis": "x6",
         "y": [
          0.87030025,
          0.869248,
          0.87270975,
          0.87280175,
          0.8694784999999999,
          0.8650274999999998,
          0.8711945,
          0.8663495000000001,
          0.857132,
          0.8709195000000001,
          0.8738826249999999,
          0.86685075,
          0.86978475,
          0.87263475,
          0.8622827500000001,
          0.8672975,
          0.86184525,
          0.8603155,
          0.8624824999999999,
          0.8639484999999999
         ],
         "y0": " ",
         "yaxis": "y6"
        },
        {
         "alignmentgroup": "True",
         "hovertemplate": "Method=%{x}<br>Metric=SVHN<br>Model=seresnet152<br>Value=%{y}<extra></extra>",
         "legendgroup": "SPTS",
         "marker": {
          "color": "#EF553B"
         },
         "name": "SPTS",
         "notched": false,
         "offsetgroup": "SPTS",
         "orientation": "v",
         "showlegend": false,
         "type": "box",
         "x": [
          "SPTS",
          "SPTS",
          "SPTS",
          "SPTS",
          "SPTS",
          "SPTS",
          "SPTS",
          "SPTS",
          "SPTS",
          "SPTS",
          "SPTS",
          "SPTS",
          "SPTS",
          "SPTS",
          "SPTS",
          "SPTS",
          "SPTS",
          "SPTS",
          "SPTS",
          "SPTS"
         ],
         "x0": " ",
         "xaxis": "x7",
         "y": [
          0.8900307500000001,
          0.88697,
          0.88679775,
          0.8906585,
          0.88886125,
          0.8820260000000001,
          0.88785575,
          0.8849215,
          0.8825907500000001,
          0.8886186249999999,
          0.8919735000000001,
          0.88826425,
          0.8844072500000001,
          0.8893015000000002,
          0.8848853750000001,
          0.88725975,
          0.8847779999999998,
          0.8823489999999999,
          0.8843838750000002,
          0.88928825
         ],
         "y0": " ",
         "yaxis": "y7"
        },
        {
         "alignmentgroup": "True",
         "hovertemplate": "Method=%{x}<br>Metric=SVHN<br>Model=xception<br>Value=%{y}<extra></extra>",
         "legendgroup": "SPTS",
         "marker": {
          "color": "#EF553B"
         },
         "name": "SPTS",
         "notched": false,
         "offsetgroup": "SPTS",
         "orientation": "v",
         "showlegend": false,
         "type": "box",
         "x": [
          "SPTS",
          "SPTS",
          "SPTS",
          "SPTS",
          "SPTS",
          "SPTS",
          "SPTS",
          "SPTS",
          "SPTS",
          "SPTS",
          "SPTS",
          "SPTS",
          "SPTS",
          "SPTS",
          "SPTS",
          "SPTS",
          "SPTS",
          "SPTS",
          "SPTS",
          "SPTS"
         ],
         "x0": " ",
         "xaxis": "x8",
         "y": [
          0.8676034999999999,
          0.8702510000000002,
          0.8615760000000001,
          0.8743167500000001,
          0.868272,
          0.8681022500000002,
          0.8675742499999999,
          0.861179125,
          0.8620425,
          0.86926625,
          0.87128525,
          0.86729775,
          0.8639356250000001,
          0.8600014999999999,
          0.8622678750000001,
          0.86416,
          0.86661175,
          0.8637905,
          0.8659634999999999,
          0.8715482499999999
         ],
         "y0": " ",
         "yaxis": "y8"
        },
        {
         "alignmentgroup": "True",
         "hovertemplate": "Method=%{x}<br>Metric=SVHN<br>Model=densenet161<br>Value=%{y}<extra></extra>",
         "legendgroup": "SPTS",
         "marker": {
          "color": "#EF553B"
         },
         "name": "SPTS",
         "notched": false,
         "offsetgroup": "SPTS",
         "orientation": "v",
         "showlegend": false,
         "type": "box",
         "x": [
          "SPTS",
          "SPTS",
          "SPTS",
          "SPTS",
          "SPTS",
          "SPTS",
          "SPTS",
          "SPTS",
          "SPTS",
          "SPTS",
          "SPTS",
          "SPTS",
          "SPTS",
          "SPTS",
          "SPTS",
          "SPTS",
          "SPTS",
          "SPTS",
          "SPTS",
          "SPTS"
         ],
         "x0": " ",
         "xaxis": "x9",
         "y": [
          0.885726,
          0.8811802500000002,
          0.8817437499999999,
          0.8878777499999999,
          0.8757557500000002,
          0.880143,
          0.8801155,
          0.88382875,
          0.86797925,
          0.8819549999999999,
          0.8799377500000001,
          0.877046,
          0.87795225,
          0.8818594999999999,
          0.8786890000000002,
          0.8811027499999999,
          0.8776039999999999,
          0.8708155,
          0.8778245000000001,
          0.8793511250000001
         ],
         "y0": " ",
         "yaxis": "y9"
        },
        {
         "alignmentgroup": "True",
         "hovertemplate": "Method=%{x}<br>Metric=SVHN<br>Model=inceptionresnetv2<br>Value=%{y}<extra></extra>",
         "legendgroup": "SPTS",
         "marker": {
          "color": "#EF553B"
         },
         "name": "SPTS",
         "notched": false,
         "offsetgroup": "SPTS",
         "orientation": "v",
         "showlegend": false,
         "type": "box",
         "x": [
          "SPTS",
          "SPTS",
          "SPTS",
          "SPTS",
          "SPTS",
          "SPTS",
          "SPTS",
          "SPTS",
          "SPTS",
          "SPTS",
          "SPTS",
          "SPTS",
          "SPTS",
          "SPTS",
          "SPTS",
          "SPTS",
          "SPTS",
          "SPTS",
          "SPTS",
          "SPTS"
         ],
         "x0": " ",
         "xaxis": "x10",
         "y": [
          0.892634125,
          0.8873545000000002,
          0.8911479999999998,
          0.8987985000000001,
          0.8922295,
          0.887084625,
          0.89067625,
          0.88953975,
          0.8873107499999999,
          0.891138,
          0.8949079999999999,
          0.8889232500000002,
          0.89287575,
          0.89081775,
          0.8880170000000001,
          0.8899092499999999,
          0.8900565,
          0.8886909999999999,
          0.8851914999999999,
          0.8881079999999999
         ],
         "y0": " ",
         "yaxis": "y10"
        },
        {
         "alignmentgroup": "True",
         "hovertemplate": "Method=%{x}<br>Metric=LSUN<br>Model=resnet152<br>Value=%{y}<extra></extra>",
         "legendgroup": "SPTS",
         "marker": {
          "color": "#EF553B"
         },
         "name": "SPTS",
         "notched": false,
         "offsetgroup": "SPTS",
         "orientation": "v",
         "showlegend": false,
         "type": "box",
         "x": [
          "SPTS",
          "SPTS",
          "SPTS",
          "SPTS",
          "SPTS",
          "SPTS",
          "SPTS",
          "SPTS",
          "SPTS",
          "SPTS",
          "SPTS",
          "SPTS",
          "SPTS",
          "SPTS",
          "SPTS",
          "SPTS",
          "SPTS",
          "SPTS",
          "SPTS",
          "SPTS"
         ],
         "x0": " ",
         "xaxis": "x",
         "y": [
          0.9019935,
          0.90121925,
          0.9040905,
          0.9044615,
          0.9002892499999999,
          0.89718525,
          0.9024095,
          0.8972367500000001,
          0.89010875,
          0.902305,
          0.9046125000000002,
          0.8979154999999999,
          0.9002990000000001,
          0.9037145,
          0.8957662499999999,
          0.9003939999999999,
          0.8955247499999999,
          0.89191075,
          0.8957680000000001,
          0.8960999999999999
         ],
         "y0": " ",
         "yaxis": "y"
        },
        {
         "alignmentgroup": "True",
         "hovertemplate": "Method=%{x}<br>Metric=LSUN<br>Model=seresnet152<br>Value=%{y}<extra></extra>",
         "legendgroup": "SPTS",
         "marker": {
          "color": "#EF553B"
         },
         "name": "SPTS",
         "notched": false,
         "offsetgroup": "SPTS",
         "orientation": "v",
         "showlegend": false,
         "type": "box",
         "x": [
          "SPTS",
          "SPTS",
          "SPTS",
          "SPTS",
          "SPTS",
          "SPTS",
          "SPTS",
          "SPTS",
          "SPTS",
          "SPTS",
          "SPTS",
          "SPTS",
          "SPTS",
          "SPTS",
          "SPTS",
          "SPTS",
          "SPTS",
          "SPTS",
          "SPTS",
          "SPTS"
         ],
         "x0": " ",
         "xaxis": "x2",
         "y": [
          0.92067625,
          0.9184365,
          0.918184,
          0.92160575,
          0.9195895,
          0.91431225,
          0.918854,
          0.915503,
          0.91406775,
          0.9193775,
          0.921646,
          0.919928,
          0.915219,
          0.921241,
          0.916403,
          0.9189105,
          0.91652225,
          0.91406475,
          0.915996,
          0.92019575
         ],
         "y0": " ",
         "yaxis": "y2"
        },
        {
         "alignmentgroup": "True",
         "hovertemplate": "Method=%{x}<br>Metric=LSUN<br>Model=xception<br>Value=%{y}<extra></extra>",
         "legendgroup": "SPTS",
         "marker": {
          "color": "#EF553B"
         },
         "name": "SPTS",
         "notched": false,
         "offsetgroup": "SPTS",
         "orientation": "v",
         "showlegend": false,
         "type": "box",
         "x": [
          "SPTS",
          "SPTS",
          "SPTS",
          "SPTS",
          "SPTS",
          "SPTS",
          "SPTS",
          "SPTS",
          "SPTS",
          "SPTS",
          "SPTS",
          "SPTS",
          "SPTS",
          "SPTS",
          "SPTS",
          "SPTS",
          "SPTS",
          "SPTS",
          "SPTS",
          "SPTS"
         ],
         "x0": " ",
         "xaxis": "x3",
         "y": [
          0.889376,
          0.89142875,
          0.88435325,
          0.8949688749999999,
          0.8898241250000001,
          0.8896487499999999,
          0.88862325,
          0.8828495000000001,
          0.8837717500000001,
          0.8906850000000001,
          0.8917387499999999,
          0.8885305,
          0.885322,
          0.88271875,
          0.8846534999999999,
          0.8864712499999999,
          0.8888679999999999,
          0.8858352500000001,
          0.8880640000000001,
          0.89316725
         ],
         "y0": " ",
         "yaxis": "y3"
        },
        {
         "alignmentgroup": "True",
         "hovertemplate": "Method=%{x}<br>Metric=LSUN<br>Model=densenet161<br>Value=%{y}<extra></extra>",
         "legendgroup": "SPTS",
         "marker": {
          "color": "#EF553B"
         },
         "name": "SPTS",
         "notched": false,
         "offsetgroup": "SPTS",
         "orientation": "v",
         "showlegend": false,
         "type": "box",
         "x": [
          "SPTS",
          "SPTS",
          "SPTS",
          "SPTS",
          "SPTS",
          "SPTS",
          "SPTS",
          "SPTS",
          "SPTS",
          "SPTS",
          "SPTS",
          "SPTS",
          "SPTS",
          "SPTS",
          "SPTS",
          "SPTS",
          "SPTS",
          "SPTS",
          "SPTS",
          "SPTS"
         ],
         "x0": " ",
         "xaxis": "x4",
         "y": [
          0.902605125,
          0.8981237500000001,
          0.8988175,
          0.904841625,
          0.893339,
          0.897309,
          0.8973025,
          0.9003545,
          0.8854204999999999,
          0.89910225,
          0.8970795,
          0.8947485,
          0.8949435000000001,
          0.8992185,
          0.8958495,
          0.8986837500000001,
          0.89522375,
          0.8887077500000001,
          0.8953257500000001,
          0.896566625
         ],
         "y0": " ",
         "yaxis": "y4"
        },
        {
         "alignmentgroup": "True",
         "hovertemplate": "Method=%{x}<br>Metric=LSUN<br>Model=inceptionresnetv2<br>Value=%{y}<extra></extra>",
         "legendgroup": "SPTS",
         "marker": {
          "color": "#EF553B"
         },
         "name": "SPTS",
         "notched": false,
         "offsetgroup": "SPTS",
         "orientation": "v",
         "showlegend": false,
         "type": "box",
         "x": [
          "SPTS",
          "SPTS",
          "SPTS",
          "SPTS",
          "SPTS",
          "SPTS",
          "SPTS",
          "SPTS",
          "SPTS",
          "SPTS",
          "SPTS",
          "SPTS",
          "SPTS",
          "SPTS",
          "SPTS",
          "SPTS",
          "SPTS",
          "SPTS",
          "SPTS",
          "SPTS"
         ],
         "x0": " ",
         "xaxis": "x5",
         "y": [
          0.92038925,
          0.91577175,
          0.91914025,
          0.926264,
          0.92001725,
          0.9157305,
          0.9184555,
          0.917436125,
          0.9151945,
          0.918311,
          0.9218105,
          0.9160595,
          0.921271,
          0.9189615,
          0.91663025,
          0.9190805,
          0.918914875,
          0.9172359999999998,
          0.91351725,
          0.9162005
         ],
         "y0": " ",
         "yaxis": "y5"
        },
        {
         "alignmentgroup": "True",
         "hovertemplate": "Method=%{x}<br>Metric=ECE<br>Model=resnet152<br>Value=%{y}<extra></extra>",
         "legendgroup": "SP1",
         "marker": {
          "color": "#00cc96"
         },
         "name": "SP1",
         "notched": false,
         "offsetgroup": "SP1",
         "orientation": "v",
         "showlegend": true,
         "type": "box",
         "x": [
          "SP1",
          "SP1",
          "SP1",
          "SP1",
          "SP1",
          "SP1",
          "SP1",
          "SP1",
          "SP1",
          "SP1",
          "SP1",
          "SP1",
          "SP1",
          "SP1",
          "SP1",
          "SP1",
          "SP1",
          "SP1",
          "SP1",
          "SP1"
         ],
         "x0": " ",
         "xaxis": "x11",
         "y": [
          0.0323594249784946,
          0.0285137109458446,
          0.0357410348951816,
          0.0397690199315547,
          0.0287944730371236,
          0.030175233259797,
          0.0410398356616497,
          0.0442372038960456,
          0.0292998999357223,
          0.0386950299143791,
          0.0210413783788681,
          0.0412012040615081,
          0.0429374873638153,
          0.0329669266939163,
          0.0254487004131078,
          0.0262838453054428,
          0.0267986431717872,
          0.0279128104448318,
          0.0356325209140777,
          0.0422440655529499
         ],
         "y0": " ",
         "yaxis": "y11"
        },
        {
         "alignmentgroup": "True",
         "hovertemplate": "Method=%{x}<br>Metric=ECE<br>Model=seresnet152<br>Value=%{y}<extra></extra>",
         "legendgroup": "SP1",
         "marker": {
          "color": "#00cc96"
         },
         "name": "SP1",
         "notched": false,
         "offsetgroup": "SP1",
         "orientation": "v",
         "showlegend": false,
         "type": "box",
         "x": [
          "SP1",
          "SP1",
          "SP1",
          "SP1",
          "SP1",
          "SP1",
          "SP1",
          "SP1",
          "SP1",
          "SP1",
          "SP1",
          "SP1",
          "SP1",
          "SP1",
          "SP1",
          "SP1",
          "SP1",
          "SP1",
          "SP1",
          "SP1"
         ],
         "x0": " ",
         "xaxis": "x12",
         "y": [
          0.0188015960156917,
          0.0253287255764007,
          0.0354789271950721,
          0.0209185667335987,
          0.0286766029894351,
          0.0262189861387014,
          0.0300583839416503,
          0.0322612188756465,
          0.051552090793848,
          0.0249800402671098,
          0.0265836231410503,
          0.0308798626065254,
          0.0324229635298252,
          0.0295286141335964,
          0.0370730347931385,
          0.0337598584592342,
          0.0427586883306503,
          0.0386708043515682,
          0.0312126874923706,
          0.0410971604287624
         ],
         "y0": " ",
         "yaxis": "y12"
        },
        {
         "alignmentgroup": "True",
         "hovertemplate": "Method=%{x}<br>Metric=ECE<br>Model=xception<br>Value=%{y}<extra></extra>",
         "legendgroup": "SP1",
         "marker": {
          "color": "#00cc96"
         },
         "name": "SP1",
         "notched": false,
         "offsetgroup": "SP1",
         "orientation": "v",
         "showlegend": false,
         "type": "box",
         "x": [
          "SP1",
          "SP1",
          "SP1",
          "SP1",
          "SP1",
          "SP1",
          "SP1",
          "SP1",
          "SP1",
          "SP1",
          "SP1",
          "SP1",
          "SP1",
          "SP1",
          "SP1",
          "SP1",
          "SP1",
          "SP1",
          "SP1",
          "SP1"
         ],
         "x0": " ",
         "xaxis": "x13",
         "y": [
          0.0189213696867227,
          0.0230599157512187,
          0.0169062223285436,
          0.0154166352003812,
          0.0085664354264736,
          0.0278103835880756,
          0.0141442269086837,
          0.032121691852808,
          0.0249648615717887,
          0.0186486020684242,
          0.0235890112817287,
          0.0235254876315593,
          0.013431005179882,
          0.0183763653039932,
          0.0179112870246171,
          0.0193637534976005,
          0.0186362899839878,
          0.0216135401278734,
          0.0218517445027828,
          0.030433902516961
         ],
         "y0": " ",
         "yaxis": "y13"
        },
        {
         "alignmentgroup": "True",
         "hovertemplate": "Method=%{x}<br>Metric=ECE<br>Model=densenet161<br>Value=%{y}<extra></extra>",
         "legendgroup": "SP1",
         "marker": {
          "color": "#00cc96"
         },
         "name": "SP1",
         "notched": false,
         "offsetgroup": "SP1",
         "orientation": "v",
         "showlegend": false,
         "type": "box",
         "x": [
          "SP1",
          "SP1",
          "SP1",
          "SP1",
          "SP1",
          "SP1",
          "SP1",
          "SP1",
          "SP1",
          "SP1",
          "SP1",
          "SP1",
          "SP1",
          "SP1",
          "SP1",
          "SP1",
          "SP1",
          "SP1",
          "SP1",
          "SP1"
         ],
         "x0": " ",
         "xaxis": "x14",
         "y": [
          0.0231595039367675,
          0.0374802276492118,
          0.0304776690900325,
          0.0271933004260063,
          0.032163418829441,
          0.0420467220246791,
          0.0383891500532627,
          0.0368532538414001,
          0.0297797974199056,
          0.023129753768444,
          0.0205737613141536,
          0.0228795744478702,
          0.0261522773653268,
          0.0276517942547798,
          0.0387965030968189,
          0.0326305851340293,
          0.0268652904778718,
          0.027943467721343,
          0.0349232330918312,
          0.0317902266979217
         ],
         "y0": " ",
         "yaxis": "y14"
        },
        {
         "alignmentgroup": "True",
         "hovertemplate": "Method=%{x}<br>Metric=ECE<br>Model=inceptionresnetv2<br>Value=%{y}<extra></extra>",
         "legendgroup": "SP1",
         "marker": {
          "color": "#00cc96"
         },
         "name": "SP1",
         "notched": false,
         "offsetgroup": "SP1",
         "orientation": "v",
         "showlegend": false,
         "type": "box",
         "x": [
          "SP1",
          "SP1",
          "SP1",
          "SP1",
          "SP1",
          "SP1",
          "SP1",
          "SP1",
          "SP1",
          "SP1",
          "SP1",
          "SP1",
          "SP1",
          "SP1",
          "SP1",
          "SP1",
          "SP1",
          "SP1",
          "SP1",
          "SP1"
         ],
         "x0": " ",
         "xaxis": "x15",
         "y": [
          0.0232262946665287,
          0.0316287316381931,
          0.0228869244456291,
          0.0297202598303556,
          0.0276328977197408,
          0.0276755653321743,
          0.022351786494255,
          0.030904646962881,
          0.0279437899589538,
          0.0226687416434288,
          0.0176965706050395,
          0.0233460329473018,
          0.0219336040318012,
          0.0188510958105325,
          0.0287931114435195,
          0.0231047123670578,
          0.0243043955415487,
          0.0245859920978546,
          0.0368182957172393,
          0.0263417735695838
         ],
         "y0": " ",
         "yaxis": "y15"
        },
        {
         "alignmentgroup": "True",
         "hovertemplate": "Method=%{x}<br>Metric=SVHN<br>Model=resnet152<br>Value=%{y}<extra></extra>",
         "legendgroup": "SP1",
         "marker": {
          "color": "#00cc96"
         },
         "name": "SP1",
         "notched": false,
         "offsetgroup": "SP1",
         "orientation": "v",
         "showlegend": false,
         "type": "box",
         "x": [
          "SP1",
          "SP1",
          "SP1",
          "SP1",
          "SP1",
          "SP1",
          "SP1",
          "SP1",
          "SP1",
          "SP1",
          "SP1",
          "SP1",
          "SP1",
          "SP1",
          "SP1",
          "SP1",
          "SP1",
          "SP1",
          "SP1",
          "SP1"
         ],
         "x0": " ",
         "xaxis": "x6",
         "y": [
          0.8613394999999999,
          0.861678125,
          0.86514275,
          0.8662212499999999,
          0.862301,
          0.85797775,
          0.8636625000000001,
          0.858932,
          0.8492035,
          0.8636187499999999,
          0.8664085,
          0.8594045,
          0.8626091250000002,
          0.8640177499999999,
          0.854192,
          0.85986925,
          0.8541365,
          0.8522985000000001,
          0.854903125,
          0.8559355000000001
         ],
         "y0": " ",
         "yaxis": "y6"
        },
        {
         "alignmentgroup": "True",
         "hovertemplate": "Method=%{x}<br>Metric=SVHN<br>Model=seresnet152<br>Value=%{y}<extra></extra>",
         "legendgroup": "SP1",
         "marker": {
          "color": "#00cc96"
         },
         "name": "SP1",
         "notched": false,
         "offsetgroup": "SP1",
         "orientation": "v",
         "showlegend": false,
         "type": "box",
         "x": [
          "SP1",
          "SP1",
          "SP1",
          "SP1",
          "SP1",
          "SP1",
          "SP1",
          "SP1",
          "SP1",
          "SP1",
          "SP1",
          "SP1",
          "SP1",
          "SP1",
          "SP1",
          "SP1",
          "SP1",
          "SP1",
          "SP1",
          "SP1"
         ],
         "x0": " ",
         "xaxis": "x7",
         "y": [
          0.8803252500000001,
          0.8770915000000001,
          0.87638425,
          0.8811547500000001,
          0.8797252500000001,
          0.87293075,
          0.8781485,
          0.875366,
          0.8731922499999999,
          0.8795827500000001,
          0.88279575,
          0.8791107499999999,
          0.8752260000000001,
          0.8789677500000002,
          0.87570575,
          0.8776917500000001,
          0.8747137500000001,
          0.8727349999999999,
          0.8738805,
          0.87931375
         ],
         "y0": " ",
         "yaxis": "y7"
        },
        {
         "alignmentgroup": "True",
         "hovertemplate": "Method=%{x}<br>Metric=SVHN<br>Model=xception<br>Value=%{y}<extra></extra>",
         "legendgroup": "SP1",
         "marker": {
          "color": "#00cc96"
         },
         "name": "SP1",
         "notched": false,
         "offsetgroup": "SP1",
         "orientation": "v",
         "showlegend": false,
         "type": "box",
         "x": [
          "SP1",
          "SP1",
          "SP1",
          "SP1",
          "SP1",
          "SP1",
          "SP1",
          "SP1",
          "SP1",
          "SP1",
          "SP1",
          "SP1",
          "SP1",
          "SP1",
          "SP1",
          "SP1",
          "SP1",
          "SP1",
          "SP1",
          "SP1"
         ],
         "x0": " ",
         "xaxis": "x8",
         "y": [
          0.8648042499999999,
          0.86762975,
          0.859077,
          0.871709125,
          0.865548,
          0.8658061249999999,
          0.8651095,
          0.85844875,
          0.8593885000000001,
          0.8664947500000001,
          0.8683755000000001,
          0.86489675,
          0.8615167500000002,
          0.857467,
          0.8595225000000001,
          0.8615397500000002,
          0.863674,
          0.8607685,
          0.8632317500000001,
          0.86866025
         ],
         "y0": " ",
         "yaxis": "y8"
        },
        {
         "alignmentgroup": "True",
         "hovertemplate": "Method=%{x}<br>Metric=SVHN<br>Model=densenet161<br>Value=%{y}<extra></extra>",
         "legendgroup": "SP1",
         "marker": {
          "color": "#00cc96"
         },
         "name": "SP1",
         "notched": false,
         "offsetgroup": "SP1",
         "orientation": "v",
         "showlegend": false,
         "type": "box",
         "x": [
          "SP1",
          "SP1",
          "SP1",
          "SP1",
          "SP1",
          "SP1",
          "SP1",
          "SP1",
          "SP1",
          "SP1",
          "SP1",
          "SP1",
          "SP1",
          "SP1",
          "SP1",
          "SP1",
          "SP1",
          "SP1",
          "SP1",
          "SP1"
         ],
         "x0": " ",
         "xaxis": "x9",
         "y": [
          0.88034375,
          0.875807,
          0.87662475,
          0.8830627500000001,
          0.8708955,
          0.87509,
          0.874448,
          0.8787974999999999,
          0.8624015,
          0.87640825,
          0.8752335,
          0.8725565,
          0.87320825,
          0.8763894999999999,
          0.87395025,
          0.87575725,
          0.8720000000000001,
          0.8650892500000001,
          0.8735705,
          0.8736712500000001
         ],
         "y0": " ",
         "yaxis": "y9"
        },
        {
         "alignmentgroup": "True",
         "hovertemplate": "Method=%{x}<br>Metric=SVHN<br>Model=inceptionresnetv2<br>Value=%{y}<extra></extra>",
         "legendgroup": "SP1",
         "marker": {
          "color": "#00cc96"
         },
         "name": "SP1",
         "notched": false,
         "offsetgroup": "SP1",
         "orientation": "v",
         "showlegend": false,
         "type": "box",
         "x": [
          "SP1",
          "SP1",
          "SP1",
          "SP1",
          "SP1",
          "SP1",
          "SP1",
          "SP1",
          "SP1",
          "SP1",
          "SP1",
          "SP1",
          "SP1",
          "SP1",
          "SP1",
          "SP1",
          "SP1",
          "SP1",
          "SP1",
          "SP1"
         ],
         "x0": " ",
         "xaxis": "x10",
         "y": [
          0.888329625,
          0.8835952499999999,
          0.88667975,
          0.8949942499999999,
          0.8884415000000001,
          0.8832625,
          0.8864007500000001,
          0.88556725,
          0.88307425,
          0.88700175,
          0.89097775,
          0.8852442500000001,
          0.8890997499999999,
          0.88656575,
          0.8834145,
          0.8859225,
          0.8857417499999999,
          0.8842260000000001,
          0.8811917499999999,
          0.8838145000000001
         ],
         "y0": " ",
         "yaxis": "y10"
        },
        {
         "alignmentgroup": "True",
         "hovertemplate": "Method=%{x}<br>Metric=LSUN<br>Model=resnet152<br>Value=%{y}<extra></extra>",
         "legendgroup": "SP1",
         "marker": {
          "color": "#00cc96"
         },
         "name": "SP1",
         "notched": false,
         "offsetgroup": "SP1",
         "orientation": "v",
         "showlegend": false,
         "type": "box",
         "x": [
          "SP1",
          "SP1",
          "SP1",
          "SP1",
          "SP1",
          "SP1",
          "SP1",
          "SP1",
          "SP1",
          "SP1",
          "SP1",
          "SP1",
          "SP1",
          "SP1",
          "SP1",
          "SP1",
          "SP1",
          "SP1",
          "SP1",
          "SP1"
         ],
         "x0": " ",
         "xaxis": "x",
         "y": [
          0.8916632499999999,
          0.89197575,
          0.8948472500000001,
          0.8962203750000002,
          0.8915512500000001,
          0.8883347500000001,
          0.8932055000000001,
          0.888253,
          0.880344,
          0.89343375,
          0.89566525,
          0.888931125,
          0.8914699999999999,
          0.8936636250000001,
          0.8857649999999999,
          0.89112175,
          0.8857872499999999,
          0.8824704999999998,
          0.88611925,
          0.8867255
         ],
         "y0": " ",
         "yaxis": "y"
        },
        {
         "alignmentgroup": "True",
         "hovertemplate": "Method=%{x}<br>Metric=LSUN<br>Model=seresnet152<br>Value=%{y}<extra></extra>",
         "legendgroup": "SP1",
         "marker": {
          "color": "#00cc96"
         },
         "name": "SP1",
         "notched": false,
         "offsetgroup": "SP1",
         "orientation": "v",
         "showlegend": false,
         "type": "box",
         "x": [
          "SP1",
          "SP1",
          "SP1",
          "SP1",
          "SP1",
          "SP1",
          "SP1",
          "SP1",
          "SP1",
          "SP1",
          "SP1",
          "SP1",
          "SP1",
          "SP1",
          "SP1",
          "SP1",
          "SP1",
          "SP1",
          "SP1",
          "SP1"
         ],
         "x0": " ",
         "xaxis": "x2",
         "y": [
          0.910581,
          0.9078005,
          0.90706,
          0.911288,
          0.90971175,
          0.904285,
          0.90830225,
          0.9053505,
          0.90389825,
          0.909506,
          0.9119015,
          0.9099235,
          0.90518,
          0.9103355,
          0.9062267500000002,
          0.90854275,
          0.905785375,
          0.9037275,
          0.9047785,
          0.90952875
         ],
         "y0": " ",
         "yaxis": "y2"
        },
        {
         "alignmentgroup": "True",
         "hovertemplate": "Method=%{x}<br>Metric=LSUN<br>Model=xception<br>Value=%{y}<extra></extra>",
         "legendgroup": "SP1",
         "marker": {
          "color": "#00cc96"
         },
         "name": "SP1",
         "notched": false,
         "offsetgroup": "SP1",
         "orientation": "v",
         "showlegend": false,
         "type": "box",
         "x": [
          "SP1",
          "SP1",
          "SP1",
          "SP1",
          "SP1",
          "SP1",
          "SP1",
          "SP1",
          "SP1",
          "SP1",
          "SP1",
          "SP1",
          "SP1",
          "SP1",
          "SP1",
          "SP1",
          "SP1",
          "SP1",
          "SP1",
          "SP1"
         ],
         "x0": " ",
         "xaxis": "x3",
         "y": [
          0.8871072500000001,
          0.889355,
          0.88223475,
          0.8928325,
          0.8875302500000001,
          0.8877630000000001,
          0.8865649999999999,
          0.8806299999999999,
          0.8816674999999999,
          0.8884245,
          0.88937175,
          0.8864682500000001,
          0.88329775,
          0.8806455000000001,
          0.88232725,
          0.8843215,
          0.8864295000000001,
          0.883281,
          0.8858237500000001,
          0.8907882500000002
         ],
         "y0": " ",
         "yaxis": "y3"
        },
        {
         "alignmentgroup": "True",
         "hovertemplate": "Method=%{x}<br>Metric=LSUN<br>Model=densenet161<br>Value=%{y}<extra></extra>",
         "legendgroup": "SP1",
         "marker": {
          "color": "#00cc96"
         },
         "name": "SP1",
         "notched": false,
         "offsetgroup": "SP1",
         "orientation": "v",
         "showlegend": false,
         "type": "box",
         "x": [
          "SP1",
          "SP1",
          "SP1",
          "SP1",
          "SP1",
          "SP1",
          "SP1",
          "SP1",
          "SP1",
          "SP1",
          "SP1",
          "SP1",
          "SP1",
          "SP1",
          "SP1",
          "SP1",
          "SP1",
          "SP1",
          "SP1",
          "SP1"
         ],
         "x0": " ",
         "xaxis": "x4",
         "y": [
          0.89577125,
          0.8912422500000001,
          0.8922332500000001,
          0.898376,
          0.8871117499999999,
          0.8906240000000001,
          0.889961375,
          0.89378075,
          0.87841375,
          0.89208575,
          0.8908249999999999,
          0.888603,
          0.8887427499999999,
          0.89209925,
          0.88951025,
          0.89180525,
          0.8881165000000002,
          0.8814017500000001,
          0.889381875,
          0.8893195000000002
         ],
         "y0": " ",
         "yaxis": "y4"
        },
        {
         "alignmentgroup": "True",
         "hovertemplate": "Method=%{x}<br>Metric=LSUN<br>Model=inceptionresnetv2<br>Value=%{y}<extra></extra>",
         "legendgroup": "SP1",
         "marker": {
          "color": "#00cc96"
         },
         "name": "SP1",
         "notched": false,
         "offsetgroup": "SP1",
         "orientation": "v",
         "showlegend": false,
         "type": "box",
         "x": [
          "SP1",
          "SP1",
          "SP1",
          "SP1",
          "SP1",
          "SP1",
          "SP1",
          "SP1",
          "SP1",
          "SP1",
          "SP1",
          "SP1",
          "SP1",
          "SP1",
          "SP1",
          "SP1",
          "SP1",
          "SP1",
          "SP1",
          "SP1"
         ],
         "x0": " ",
         "xaxis": "x5",
         "y": [
          0.916602,
          0.9124345,
          0.915255625,
          0.923002,
          0.9168055,
          0.91250425,
          0.91478425,
          0.914127,
          0.91160125,
          0.91480725,
          0.91855425,
          0.91274425,
          0.91782375,
          0.915235,
          0.912648,
          0.915573375,
          0.9152002500000002,
          0.91345675,
          0.9099915,
          0.91247375
         ],
         "y0": " ",
         "yaxis": "y5"
        },
        {
         "alignmentgroup": "True",
         "hovertemplate": "Method=%{x}<br>Metric=ECE<br>Model=resnet152<br>Value=%{y}<extra></extra>",
         "legendgroup": "SPU",
         "marker": {
          "color": "#ab63fa"
         },
         "name": "SPU",
         "notched": false,
         "offsetgroup": "SPU",
         "orientation": "v",
         "showlegend": true,
         "type": "box",
         "x": [
          "SPU",
          "SPU",
          "SPU",
          "SPU",
          "SPU",
          "SPU",
          "SPU",
          "SPU",
          "SPU",
          "SPU",
          "SPU",
          "SPU",
          "SPU",
          "SPU",
          "SPU",
          "SPU",
          "SPU",
          "SPU",
          "SPU",
          "SPU"
         ],
         "x0": " ",
         "xaxis": "x11",
         "y": [
          0.0331389382481575,
          0.0279769524931907,
          0.0325353294610977,
          0.0368191227316856,
          0.0255776643753051,
          0.025274246931076,
          0.0368880853056907,
          0.0428801067173481,
          0.0276147983968257,
          0.0374857112765312,
          0.0215677246451377,
          0.0375048294663429,
          0.0406846925616264,
          0.0316810868680477,
          0.021424887701869,
          0.0242453217506408,
          0.0276424884796142,
          0.0318335965275764,
          0.0335541442036628,
          0.038583617657423
         ],
         "y0": " ",
         "yaxis": "y11"
        },
        {
         "alignmentgroup": "True",
         "hovertemplate": "Method=%{x}<br>Metric=ECE<br>Model=seresnet152<br>Value=%{y}<extra></extra>",
         "legendgroup": "SPU",
         "marker": {
          "color": "#ab63fa"
         },
         "name": "SPU",
         "notched": false,
         "offsetgroup": "SPU",
         "orientation": "v",
         "showlegend": false,
         "type": "box",
         "x": [
          "SPU",
          "SPU",
          "SPU",
          "SPU",
          "SPU",
          "SPU",
          "SPU",
          "SPU",
          "SPU",
          "SPU",
          "SPU",
          "SPU",
          "SPU",
          "SPU",
          "SPU",
          "SPU",
          "SPU",
          "SPU",
          "SPU",
          "SPU"
         ],
         "x0": " ",
         "xaxis": "x12",
         "y": [
          0.0153706893324851,
          0.0261291936039924,
          0.0341275669634342,
          0.0214717779308557,
          0.0253435689955949,
          0.0236376617103815,
          0.027727797627449,
          0.0316892862319946,
          0.0499999821186065,
          0.0204725638031959,
          0.0241455361247062,
          0.030592918395996,
          0.0297444071620702,
          0.0298706013709306,
          0.0376833342015743,
          0.0297561567276716,
          0.0384897552430629,
          0.0356167033314704,
          0.032258752733469,
          0.0371136665344238
         ],
         "y0": " ",
         "yaxis": "y12"
        },
        {
         "alignmentgroup": "True",
         "hovertemplate": "Method=%{x}<br>Metric=ECE<br>Model=xception<br>Value=%{y}<extra></extra>",
         "legendgroup": "SPU",
         "marker": {
          "color": "#ab63fa"
         },
         "name": "SPU",
         "notched": false,
         "offsetgroup": "SPU",
         "orientation": "v",
         "showlegend": false,
         "type": "box",
         "x": [
          "SPU",
          "SPU",
          "SPU",
          "SPU",
          "SPU",
          "SPU",
          "SPU",
          "SPU",
          "SPU",
          "SPU",
          "SPU",
          "SPU",
          "SPU",
          "SPU",
          "SPU",
          "SPU",
          "SPU",
          "SPU",
          "SPU",
          "SPU"
         ],
         "x0": " ",
         "xaxis": "x13",
         "y": [
          0.0235406570136547,
          0.0248815882951021,
          0.0123298643156886,
          0.0177970193326473,
          0.0122685488313436,
          0.0247667748481035,
          0.0089496057480573,
          0.024041574448347,
          0.0196483489125967,
          0.0265759583562612,
          0.0267633236944675,
          0.0230187475681304,
          0.0252954382449388,
          0.0151635324582457,
          0.0165168642997741,
          0.0181979238986969,
          0.0211867932230234,
          0.0299250036478042,
          0.0226561576128005,
          0.0246777310967445
         ],
         "y0": " ",
         "yaxis": "y13"
        },
        {
         "alignmentgroup": "True",
         "hovertemplate": "Method=%{x}<br>Metric=ECE<br>Model=densenet161<br>Value=%{y}<extra></extra>",
         "legendgroup": "SPU",
         "marker": {
          "color": "#ab63fa"
         },
         "name": "SPU",
         "notched": false,
         "offsetgroup": "SPU",
         "orientation": "v",
         "showlegend": false,
         "type": "box",
         "x": [
          "SPU",
          "SPU",
          "SPU",
          "SPU",
          "SPU",
          "SPU",
          "SPU",
          "SPU",
          "SPU",
          "SPU",
          "SPU",
          "SPU",
          "SPU",
          "SPU",
          "SPU",
          "SPU",
          "SPU",
          "SPU",
          "SPU",
          "SPU"
         ],
         "x0": " ",
         "xaxis": "x14",
         "y": [
          0.0268001146614551,
          0.0358443111181259,
          0.0260431729257106,
          0.0266799069941043,
          0.0273389965295791,
          0.0405840352177619,
          0.0358702912926673,
          0.0350143685936927,
          0.0242898520082235,
          0.0233354978263378,
          0.0187263302505016,
          0.0160007663071155,
          0.02931066788733,
          0.0241839569061994,
          0.0361452922224998,
          0.0282912161201238,
          0.0258812401443719,
          0.022638076916337,
          0.0322377197444438,
          0.0290752854198217
         ],
         "y0": " ",
         "yaxis": "y14"
        },
        {
         "alignmentgroup": "True",
         "hovertemplate": "Method=%{x}<br>Metric=ECE<br>Model=inceptionresnetv2<br>Value=%{y}<extra></extra>",
         "legendgroup": "SPU",
         "marker": {
          "color": "#ab63fa"
         },
         "name": "SPU",
         "notched": false,
         "offsetgroup": "SPU",
         "orientation": "v",
         "showlegend": false,
         "type": "box",
         "x": [
          "SPU",
          "SPU",
          "SPU",
          "SPU",
          "SPU",
          "SPU",
          "SPU",
          "SPU",
          "SPU",
          "SPU",
          "SPU",
          "SPU",
          "SPU",
          "SPU",
          "SPU",
          "SPU",
          "SPU",
          "SPU",
          "SPU",
          "SPU"
         ],
         "x0": " ",
         "xaxis": "x15",
         "y": [
          0.019827177748084,
          0.0263794418424367,
          0.0271422937512397,
          0.0242147613316774,
          0.0246797390282154,
          0.0231351628899574,
          0.0213214941322803,
          0.027635421603918,
          0.0274128671735525,
          0.0219506993889808,
          0.0184191018342971,
          0.0170632097870111,
          0.0182043127715587,
          0.0194647423923015,
          0.0295858308672904,
          0.0203813724219799,
          0.0234538558870553,
          0.0278502441942691,
          0.0340552330017089,
          0.0301542393863201
         ],
         "y0": " ",
         "yaxis": "y15"
        },
        {
         "alignmentgroup": "True",
         "hovertemplate": "Method=%{x}<br>Metric=SVHN<br>Model=resnet152<br>Value=%{y}<extra></extra>",
         "legendgroup": "SPU",
         "marker": {
          "color": "#ab63fa"
         },
         "name": "SPU",
         "notched": false,
         "offsetgroup": "SPU",
         "orientation": "v",
         "showlegend": false,
         "type": "box",
         "x": [
          "SPU",
          "SPU",
          "SPU",
          "SPU",
          "SPU",
          "SPU",
          "SPU",
          "SPU",
          "SPU",
          "SPU",
          "SPU",
          "SPU",
          "SPU",
          "SPU",
          "SPU",
          "SPU",
          "SPU",
          "SPU",
          "SPU",
          "SPU"
         ],
         "x0": " ",
         "xaxis": "x6",
         "y": [
          0.86030075,
          0.86078175,
          0.8645067500000001,
          0.86574325,
          0.861382,
          0.8571992500000001,
          0.8628,
          0.85833675,
          0.8481782499999999,
          0.86276875,
          0.8657365000000001,
          0.8586055,
          0.8618025,
          0.8630844999999999,
          0.85314025,
          0.8590312499999999,
          0.8530427500000001,
          0.85135875,
          0.853987,
          0.8549505
         ],
         "y0": " ",
         "yaxis": "y6"
        },
        {
         "alignmentgroup": "True",
         "hovertemplate": "Method=%{x}<br>Metric=SVHN<br>Model=seresnet152<br>Value=%{y}<extra></extra>",
         "legendgroup": "SPU",
         "marker": {
          "color": "#ab63fa"
         },
         "name": "SPU",
         "notched": false,
         "offsetgroup": "SPU",
         "orientation": "v",
         "showlegend": false,
         "type": "box",
         "x": [
          "SPU",
          "SPU",
          "SPU",
          "SPU",
          "SPU",
          "SPU",
          "SPU",
          "SPU",
          "SPU",
          "SPU",
          "SPU",
          "SPU",
          "SPU",
          "SPU",
          "SPU",
          "SPU",
          "SPU",
          "SPU",
          "SPU",
          "SPU"
         ],
         "x0": " ",
         "xaxis": "x7",
         "y": [
          0.8790432499999999,
          0.8757318749999999,
          0.87522425,
          0.880401,
          0.8784869999999998,
          0.8718625,
          0.87695725,
          0.8740265,
          0.8720694999999999,
          0.8783664999999999,
          0.8818237499999999,
          0.87802125,
          0.874374,
          0.8778265,
          0.8746704999999999,
          0.876682625,
          0.87334525,
          0.8716587499999999,
          0.8724617499999999,
          0.8780337500000001
         ],
         "y0": " ",
         "yaxis": "y7"
        },
        {
         "alignmentgroup": "True",
         "hovertemplate": "Method=%{x}<br>Metric=SVHN<br>Model=xception<br>Value=%{y}<extra></extra>",
         "legendgroup": "SPU",
         "marker": {
          "color": "#ab63fa"
         },
         "name": "SPU",
         "notched": false,
         "offsetgroup": "SPU",
         "orientation": "v",
         "showlegend": false,
         "type": "box",
         "x": [
          "SPU",
          "SPU",
          "SPU",
          "SPU",
          "SPU",
          "SPU",
          "SPU",
          "SPU",
          "SPU",
          "SPU",
          "SPU",
          "SPU",
          "SPU",
          "SPU",
          "SPU",
          "SPU",
          "SPU",
          "SPU",
          "SPU",
          "SPU"
         ],
         "x0": " ",
         "xaxis": "x8",
         "y": [
          0.863055,
          0.86608975,
          0.8576284999999999,
          0.87029975,
          0.86375125,
          0.86445375,
          0.86338475,
          0.85672625,
          0.85780625,
          0.864636,
          0.866904,
          0.8636805000000001,
          0.860004875,
          0.856131,
          0.857901,
          0.859694,
          0.8615915,
          0.8588640000000001,
          0.861509375,
          0.866578
         ],
         "y0": " ",
         "yaxis": "y8"
        },
        {
         "alignmentgroup": "True",
         "hovertemplate": "Method=%{x}<br>Metric=SVHN<br>Model=densenet161<br>Value=%{y}<extra></extra>",
         "legendgroup": "SPU",
         "marker": {
          "color": "#ab63fa"
         },
         "name": "SPU",
         "notched": false,
         "offsetgroup": "SPU",
         "orientation": "v",
         "showlegend": false,
         "type": "box",
         "x": [
          "SPU",
          "SPU",
          "SPU",
          "SPU",
          "SPU",
          "SPU",
          "SPU",
          "SPU",
          "SPU",
          "SPU",
          "SPU",
          "SPU",
          "SPU",
          "SPU",
          "SPU",
          "SPU",
          "SPU",
          "SPU",
          "SPU",
          "SPU"
         ],
         "x0": " ",
         "xaxis": "x9",
         "y": [
          0.878997,
          0.8743657499999999,
          0.87556025,
          0.8821540000000001,
          0.8697705,
          0.8739374999999999,
          0.873121,
          0.8775242499999999,
          0.861175,
          0.8749312499999999,
          0.8742719999999999,
          0.87164425,
          0.8720177500000001,
          0.8747970000000002,
          0.8726565000000001,
          0.8746257499999999,
          0.8704357499999998,
          0.8639650000000001,
          0.8725422500000001,
          0.8723102500000001
         ],
         "y0": " ",
         "yaxis": "y9"
        },
        {
         "alignmentgroup": "True",
         "hovertemplate": "Method=%{x}<br>Metric=SVHN<br>Model=inceptionresnetv2<br>Value=%{y}<extra></extra>",
         "legendgroup": "SPU",
         "marker": {
          "color": "#ab63fa"
         },
         "name": "SPU",
         "notched": false,
         "offsetgroup": "SPU",
         "orientation": "v",
         "showlegend": false,
         "type": "box",
         "x": [
          "SPU",
          "SPU",
          "SPU",
          "SPU",
          "SPU",
          "SPU",
          "SPU",
          "SPU",
          "SPU",
          "SPU",
          "SPU",
          "SPU",
          "SPU",
          "SPU",
          "SPU",
          "SPU",
          "SPU",
          "SPU",
          "SPU",
          "SPU"
         ],
         "x0": " ",
         "xaxis": "x10",
         "y": [
          0.8848725,
          0.8804311250000001,
          0.8831672500000001,
          0.89226525,
          0.88567475,
          0.88075075,
          0.8832165000000001,
          0.8825275000000001,
          0.8801605,
          0.8839567499999998,
          0.8884067499999999,
          0.88248475,
          0.8859557500000002,
          0.88318575,
          0.8798662500000001,
          0.88303025,
          0.8824942499999999,
          0.8809305000000001,
          0.8779182500000001,
          0.8806614999999999
         ],
         "y0": " ",
         "yaxis": "y10"
        },
        {
         "alignmentgroup": "True",
         "hovertemplate": "Method=%{x}<br>Metric=LSUN<br>Model=resnet152<br>Value=%{y}<extra></extra>",
         "legendgroup": "SPU",
         "marker": {
          "color": "#ab63fa"
         },
         "name": "SPU",
         "notched": false,
         "offsetgroup": "SPU",
         "orientation": "v",
         "showlegend": false,
         "type": "box",
         "x": [
          "SPU",
          "SPU",
          "SPU",
          "SPU",
          "SPU",
          "SPU",
          "SPU",
          "SPU",
          "SPU",
          "SPU",
          "SPU",
          "SPU",
          "SPU",
          "SPU",
          "SPU",
          "SPU",
          "SPU",
          "SPU",
          "SPU",
          "SPU"
         ],
         "x0": " ",
         "xaxis": "x",
         "y": [
          0.8899425,
          0.89038125,
          0.8935985000000001,
          0.89512275,
          0.889901,
          0.886915625,
          0.8917295,
          0.886941,
          0.878564,
          0.891899625,
          0.894371,
          0.8874252499999999,
          0.8899565000000002,
          0.8920515,
          0.88394775,
          0.8896110000000002,
          0.8838060000000001,
          0.8808877499999999,
          0.8843800000000002,
          0.88500075
         ],
         "y0": " ",
         "yaxis": "y"
        },
        {
         "alignmentgroup": "True",
         "hovertemplate": "Method=%{x}<br>Metric=LSUN<br>Model=seresnet152<br>Value=%{y}<extra></extra>",
         "legendgroup": "SPU",
         "marker": {
          "color": "#ab63fa"
         },
         "name": "SPU",
         "notched": false,
         "offsetgroup": "SPU",
         "orientation": "v",
         "showlegend": false,
         "type": "box",
         "x": [
          "SPU",
          "SPU",
          "SPU",
          "SPU",
          "SPU",
          "SPU",
          "SPU",
          "SPU",
          "SPU",
          "SPU",
          "SPU",
          "SPU",
          "SPU",
          "SPU",
          "SPU",
          "SPU",
          "SPU",
          "SPU",
          "SPU",
          "SPU"
         ],
         "x0": " ",
         "xaxis": "x2",
         "y": [
          0.9089525,
          0.9060375,
          0.9055885,
          0.910163,
          0.90797925,
          0.90279275,
          0.9066405,
          0.903546375,
          0.902342,
          0.90782525,
          0.91057225,
          0.9084415,
          0.9039335,
          0.90880025,
          0.9047275,
          0.907179125,
          0.9039184999999998,
          0.9022555,
          0.9028035,
          0.907805875
         ],
         "y0": " ",
         "yaxis": "y2"
        },
        {
         "alignmentgroup": "True",
         "hovertemplate": "Method=%{x}<br>Metric=LSUN<br>Model=xception<br>Value=%{y}<extra></extra>",
         "legendgroup": "SPU",
         "marker": {
          "color": "#ab63fa"
         },
         "name": "SPU",
         "notched": false,
         "offsetgroup": "SPU",
         "orientation": "v",
         "showlegend": false,
         "type": "box",
         "x": [
          "SPU",
          "SPU",
          "SPU",
          "SPU",
          "SPU",
          "SPU",
          "SPU",
          "SPU",
          "SPU",
          "SPU",
          "SPU",
          "SPU",
          "SPU",
          "SPU",
          "SPU",
          "SPU",
          "SPU",
          "SPU",
          "SPU",
          "SPU"
         ],
         "x0": " ",
         "xaxis": "x3",
         "y": [
          0.8851864999999999,
          0.8875124999999999,
          0.88042625,
          0.891117,
          0.8854257499999999,
          0.8861207499999999,
          0.884623375,
          0.878615,
          0.8798775000000001,
          0.88622975,
          0.8876345,
          0.88484175,
          0.8814905,
          0.878961625,
          0.88038875,
          0.8822786250000001,
          0.884030875,
          0.8810395,
          0.883742,
          0.8883817500000001
         ],
         "y0": " ",
         "yaxis": "y3"
        },
        {
         "alignmentgroup": "True",
         "hovertemplate": "Method=%{x}<br>Metric=LSUN<br>Model=densenet161<br>Value=%{y}<extra></extra>",
         "legendgroup": "SPU",
         "marker": {
          "color": "#ab63fa"
         },
         "name": "SPU",
         "notched": false,
         "offsetgroup": "SPU",
         "orientation": "v",
         "showlegend": false,
         "type": "box",
         "x": [
          "SPU",
          "SPU",
          "SPU",
          "SPU",
          "SPU",
          "SPU",
          "SPU",
          "SPU",
          "SPU",
          "SPU",
          "SPU",
          "SPU",
          "SPU",
          "SPU",
          "SPU",
          "SPU",
          "SPU",
          "SPU",
          "SPU",
          "SPU"
         ],
         "x0": " ",
         "xaxis": "x4",
         "y": [
          0.89386475,
          0.8891197500000001,
          0.89056325,
          0.8968659999999998,
          0.8854129999999999,
          0.8889127499999999,
          0.8880472500000001,
          0.8918285,
          0.87663675,
          0.8900432500000002,
          0.8893226249999999,
          0.8870309999999999,
          0.8868034999999999,
          0.8899343749999998,
          0.8875512499999999,
          0.8900947499999999,
          0.8859582500000001,
          0.87971725,
          0.8877562499999999,
          0.8872617499999998
         ],
         "y0": " ",
         "yaxis": "y4"
        },
        {
         "alignmentgroup": "True",
         "hovertemplate": "Method=%{x}<br>Metric=LSUN<br>Model=inceptionresnetv2<br>Value=%{y}<extra></extra>",
         "legendgroup": "SPU",
         "marker": {
          "color": "#ab63fa"
         },
         "name": "SPU",
         "notched": false,
         "offsetgroup": "SPU",
         "orientation": "v",
         "showlegend": false,
         "type": "box",
         "x": [
          "SPU",
          "SPU",
          "SPU",
          "SPU",
          "SPU",
          "SPU",
          "SPU",
          "SPU",
          "SPU",
          "SPU",
          "SPU",
          "SPU",
          "SPU",
          "SPU",
          "SPU",
          "SPU",
          "SPU",
          "SPU",
          "SPU",
          "SPU"
         ],
         "x0": " ",
         "xaxis": "x5",
         "y": [
          0.9131385,
          0.909290625,
          0.911824,
          0.92027975,
          0.91406375,
          0.9099625,
          0.911745,
          0.911226,
          0.908757125,
          0.91176375,
          0.91592275,
          0.9099644999999998,
          0.91461975,
          0.912067,
          0.90921075,
          0.91271225,
          0.91199575,
          0.91016325,
          0.90658325,
          0.90926675
         ],
         "y0": " ",
         "yaxis": "y5"
        }
       ],
       "layout": {
        "annotations": [
         {
          "font": {
           "size": 20
          },
          "showarrow": false,
          "text": "",
          "textangle": 0,
          "x": 0.07600000000000001,
          "xanchor": "center",
          "xref": "paper",
          "y": 0.9999999999999999,
          "yanchor": "bottom",
          "yref": "paper"
         },
         {
          "font": {
           "size": 20
          },
          "showarrow": false,
          "text": "",
          "textangle": 0,
          "x": 0.28300000000000003,
          "xanchor": "center",
          "xref": "paper",
          "y": 0.9999999999999999,
          "yanchor": "bottom",
          "yref": "paper"
         },
         {
          "font": {
           "size": 20
          },
          "showarrow": false,
          "text": "",
          "textangle": 0,
          "x": 0.49000000000000005,
          "xanchor": "center",
          "xref": "paper",
          "y": 0.9999999999999999,
          "yanchor": "bottom",
          "yref": "paper"
         },
         {
          "font": {
           "size": 20
          },
          "showarrow": false,
          "text": "",
          "textangle": 0,
          "x": 0.6970000000000001,
          "xanchor": "center",
          "xref": "paper",
          "y": 0.9999999999999999,
          "yanchor": "bottom",
          "yref": "paper"
         },
         {
          "font": {
           "size": 20
          },
          "showarrow": false,
          "text": "",
          "textangle": 0,
          "x": 0.9040000000000001,
          "xanchor": "center",
          "xref": "paper",
          "y": 0.9999999999999999,
          "yanchor": "bottom",
          "yref": "paper"
         },
         {
          "font": {
           "size": 20
          },
          "showarrow": false,
          "text": "",
          "textangle": 0,
          "x": 0.9800000000000001,
          "xanchor": "left",
          "xref": "paper",
          "y": 0.15333333333333332,
          "yanchor": "middle",
          "yref": "paper"
         },
         {
          "font": {
           "size": 20
          },
          "showarrow": false,
          "text": "",
          "textangle": 0,
          "x": 0.9800000000000001,
          "xanchor": "left",
          "xref": "paper",
          "y": 0.5,
          "yanchor": "middle",
          "yref": "paper"
         },
         {
          "font": {
           "size": 20
          },
          "showarrow": false,
          "text": "",
          "textangle": 0,
          "x": 0.9800000000000001,
          "xanchor": "left",
          "xref": "paper",
          "y": 0.8466666666666666,
          "yanchor": "middle",
          "yref": "paper"
         }
        ],
        "autosize": false,
        "boxmode": "overlay",
        "height": 420,
        "legend": {
         "title": {
          "text": "Method"
         },
         "tracegroupgap": 0
        },
        "margin": {
         "t": 60
        },
        "showlegend": false,
        "template": {
         "data": {
          "bar": [
           {
            "error_x": {
             "color": "#2a3f5f"
            },
            "error_y": {
             "color": "#2a3f5f"
            },
            "marker": {
             "line": {
              "color": "#E5ECF6",
              "width": 0.5
             },
             "pattern": {
              "fillmode": "overlay",
              "size": 10,
              "solidity": 0.2
             }
            },
            "type": "bar"
           }
          ],
          "barpolar": [
           {
            "marker": {
             "line": {
              "color": "#E5ECF6",
              "width": 0.5
             },
             "pattern": {
              "fillmode": "overlay",
              "size": 10,
              "solidity": 0.2
             }
            },
            "type": "barpolar"
           }
          ],
          "carpet": [
           {
            "aaxis": {
             "endlinecolor": "#2a3f5f",
             "gridcolor": "white",
             "linecolor": "white",
             "minorgridcolor": "white",
             "startlinecolor": "#2a3f5f"
            },
            "baxis": {
             "endlinecolor": "#2a3f5f",
             "gridcolor": "white",
             "linecolor": "white",
             "minorgridcolor": "white",
             "startlinecolor": "#2a3f5f"
            },
            "type": "carpet"
           }
          ],
          "choropleth": [
           {
            "colorbar": {
             "outlinewidth": 0,
             "ticks": ""
            },
            "type": "choropleth"
           }
          ],
          "contour": [
           {
            "colorbar": {
             "outlinewidth": 0,
             "ticks": ""
            },
            "colorscale": [
             [
              0,
              "#0d0887"
             ],
             [
              0.1111111111111111,
              "#46039f"
             ],
             [
              0.2222222222222222,
              "#7201a8"
             ],
             [
              0.3333333333333333,
              "#9c179e"
             ],
             [
              0.4444444444444444,
              "#bd3786"
             ],
             [
              0.5555555555555556,
              "#d8576b"
             ],
             [
              0.6666666666666666,
              "#ed7953"
             ],
             [
              0.7777777777777778,
              "#fb9f3a"
             ],
             [
              0.8888888888888888,
              "#fdca26"
             ],
             [
              1,
              "#f0f921"
             ]
            ],
            "type": "contour"
           }
          ],
          "contourcarpet": [
           {
            "colorbar": {
             "outlinewidth": 0,
             "ticks": ""
            },
            "type": "contourcarpet"
           }
          ],
          "heatmap": [
           {
            "colorbar": {
             "outlinewidth": 0,
             "ticks": ""
            },
            "colorscale": [
             [
              0,
              "#0d0887"
             ],
             [
              0.1111111111111111,
              "#46039f"
             ],
             [
              0.2222222222222222,
              "#7201a8"
             ],
             [
              0.3333333333333333,
              "#9c179e"
             ],
             [
              0.4444444444444444,
              "#bd3786"
             ],
             [
              0.5555555555555556,
              "#d8576b"
             ],
             [
              0.6666666666666666,
              "#ed7953"
             ],
             [
              0.7777777777777778,
              "#fb9f3a"
             ],
             [
              0.8888888888888888,
              "#fdca26"
             ],
             [
              1,
              "#f0f921"
             ]
            ],
            "type": "heatmap"
           }
          ],
          "heatmapgl": [
           {
            "colorbar": {
             "outlinewidth": 0,
             "ticks": ""
            },
            "colorscale": [
             [
              0,
              "#0d0887"
             ],
             [
              0.1111111111111111,
              "#46039f"
             ],
             [
              0.2222222222222222,
              "#7201a8"
             ],
             [
              0.3333333333333333,
              "#9c179e"
             ],
             [
              0.4444444444444444,
              "#bd3786"
             ],
             [
              0.5555555555555556,
              "#d8576b"
             ],
             [
              0.6666666666666666,
              "#ed7953"
             ],
             [
              0.7777777777777778,
              "#fb9f3a"
             ],
             [
              0.8888888888888888,
              "#fdca26"
             ],
             [
              1,
              "#f0f921"
             ]
            ],
            "type": "heatmapgl"
           }
          ],
          "histogram": [
           {
            "marker": {
             "pattern": {
              "fillmode": "overlay",
              "size": 10,
              "solidity": 0.2
             }
            },
            "type": "histogram"
           }
          ],
          "histogram2d": [
           {
            "colorbar": {
             "outlinewidth": 0,
             "ticks": ""
            },
            "colorscale": [
             [
              0,
              "#0d0887"
             ],
             [
              0.1111111111111111,
              "#46039f"
             ],
             [
              0.2222222222222222,
              "#7201a8"
             ],
             [
              0.3333333333333333,
              "#9c179e"
             ],
             [
              0.4444444444444444,
              "#bd3786"
             ],
             [
              0.5555555555555556,
              "#d8576b"
             ],
             [
              0.6666666666666666,
              "#ed7953"
             ],
             [
              0.7777777777777778,
              "#fb9f3a"
             ],
             [
              0.8888888888888888,
              "#fdca26"
             ],
             [
              1,
              "#f0f921"
             ]
            ],
            "type": "histogram2d"
           }
          ],
          "histogram2dcontour": [
           {
            "colorbar": {
             "outlinewidth": 0,
             "ticks": ""
            },
            "colorscale": [
             [
              0,
              "#0d0887"
             ],
             [
              0.1111111111111111,
              "#46039f"
             ],
             [
              0.2222222222222222,
              "#7201a8"
             ],
             [
              0.3333333333333333,
              "#9c179e"
             ],
             [
              0.4444444444444444,
              "#bd3786"
             ],
             [
              0.5555555555555556,
              "#d8576b"
             ],
             [
              0.6666666666666666,
              "#ed7953"
             ],
             [
              0.7777777777777778,
              "#fb9f3a"
             ],
             [
              0.8888888888888888,
              "#fdca26"
             ],
             [
              1,
              "#f0f921"
             ]
            ],
            "type": "histogram2dcontour"
           }
          ],
          "mesh3d": [
           {
            "colorbar": {
             "outlinewidth": 0,
             "ticks": ""
            },
            "type": "mesh3d"
           }
          ],
          "parcoords": [
           {
            "line": {
             "colorbar": {
              "outlinewidth": 0,
              "ticks": ""
             }
            },
            "type": "parcoords"
           }
          ],
          "pie": [
           {
            "automargin": true,
            "type": "pie"
           }
          ],
          "scatter": [
           {
            "fillpattern": {
             "fillmode": "overlay",
             "size": 10,
             "solidity": 0.2
            },
            "type": "scatter"
           }
          ],
          "scatter3d": [
           {
            "line": {
             "colorbar": {
              "outlinewidth": 0,
              "ticks": ""
             }
            },
            "marker": {
             "colorbar": {
              "outlinewidth": 0,
              "ticks": ""
             }
            },
            "type": "scatter3d"
           }
          ],
          "scattercarpet": [
           {
            "marker": {
             "colorbar": {
              "outlinewidth": 0,
              "ticks": ""
             }
            },
            "type": "scattercarpet"
           }
          ],
          "scattergeo": [
           {
            "marker": {
             "colorbar": {
              "outlinewidth": 0,
              "ticks": ""
             }
            },
            "type": "scattergeo"
           }
          ],
          "scattergl": [
           {
            "marker": {
             "colorbar": {
              "outlinewidth": 0,
              "ticks": ""
             }
            },
            "type": "scattergl"
           }
          ],
          "scattermapbox": [
           {
            "marker": {
             "colorbar": {
              "outlinewidth": 0,
              "ticks": ""
             }
            },
            "type": "scattermapbox"
           }
          ],
          "scatterpolar": [
           {
            "marker": {
             "colorbar": {
              "outlinewidth": 0,
              "ticks": ""
             }
            },
            "type": "scatterpolar"
           }
          ],
          "scatterpolargl": [
           {
            "marker": {
             "colorbar": {
              "outlinewidth": 0,
              "ticks": ""
             }
            },
            "type": "scatterpolargl"
           }
          ],
          "scatterternary": [
           {
            "marker": {
             "colorbar": {
              "outlinewidth": 0,
              "ticks": ""
             }
            },
            "type": "scatterternary"
           }
          ],
          "surface": [
           {
            "colorbar": {
             "outlinewidth": 0,
             "ticks": ""
            },
            "colorscale": [
             [
              0,
              "#0d0887"
             ],
             [
              0.1111111111111111,
              "#46039f"
             ],
             [
              0.2222222222222222,
              "#7201a8"
             ],
             [
              0.3333333333333333,
              "#9c179e"
             ],
             [
              0.4444444444444444,
              "#bd3786"
             ],
             [
              0.5555555555555556,
              "#d8576b"
             ],
             [
              0.6666666666666666,
              "#ed7953"
             ],
             [
              0.7777777777777778,
              "#fb9f3a"
             ],
             [
              0.8888888888888888,
              "#fdca26"
             ],
             [
              1,
              "#f0f921"
             ]
            ],
            "type": "surface"
           }
          ],
          "table": [
           {
            "cells": {
             "fill": {
              "color": "#EBF0F8"
             },
             "line": {
              "color": "white"
             }
            },
            "header": {
             "fill": {
              "color": "#C8D4E3"
             },
             "line": {
              "color": "white"
             }
            },
            "type": "table"
           }
          ]
         },
         "layout": {
          "annotationdefaults": {
           "arrowcolor": "#2a3f5f",
           "arrowhead": 0,
           "arrowwidth": 1
          },
          "autotypenumbers": "strict",
          "coloraxis": {
           "colorbar": {
            "outlinewidth": 0,
            "ticks": ""
           }
          },
          "colorscale": {
           "diverging": [
            [
             0,
             "#8e0152"
            ],
            [
             0.1,
             "#c51b7d"
            ],
            [
             0.2,
             "#de77ae"
            ],
            [
             0.3,
             "#f1b6da"
            ],
            [
             0.4,
             "#fde0ef"
            ],
            [
             0.5,
             "#f7f7f7"
            ],
            [
             0.6,
             "#e6f5d0"
            ],
            [
             0.7,
             "#b8e186"
            ],
            [
             0.8,
             "#7fbc41"
            ],
            [
             0.9,
             "#4d9221"
            ],
            [
             1,
             "#276419"
            ]
           ],
           "sequential": [
            [
             0,
             "#0d0887"
            ],
            [
             0.1111111111111111,
             "#46039f"
            ],
            [
             0.2222222222222222,
             "#7201a8"
            ],
            [
             0.3333333333333333,
             "#9c179e"
            ],
            [
             0.4444444444444444,
             "#bd3786"
            ],
            [
             0.5555555555555556,
             "#d8576b"
            ],
            [
             0.6666666666666666,
             "#ed7953"
            ],
            [
             0.7777777777777778,
             "#fb9f3a"
            ],
            [
             0.8888888888888888,
             "#fdca26"
            ],
            [
             1,
             "#f0f921"
            ]
           ],
           "sequentialminus": [
            [
             0,
             "#0d0887"
            ],
            [
             0.1111111111111111,
             "#46039f"
            ],
            [
             0.2222222222222222,
             "#7201a8"
            ],
            [
             0.3333333333333333,
             "#9c179e"
            ],
            [
             0.4444444444444444,
             "#bd3786"
            ],
            [
             0.5555555555555556,
             "#d8576b"
            ],
            [
             0.6666666666666666,
             "#ed7953"
            ],
            [
             0.7777777777777778,
             "#fb9f3a"
            ],
            [
             0.8888888888888888,
             "#fdca26"
            ],
            [
             1,
             "#f0f921"
            ]
           ]
          },
          "colorway": [
           "#636efa",
           "#EF553B",
           "#00cc96",
           "#ab63fa",
           "#FFA15A",
           "#19d3f3",
           "#FF6692",
           "#B6E880",
           "#FF97FF",
           "#FECB52"
          ],
          "font": {
           "color": "#2a3f5f"
          },
          "geo": {
           "bgcolor": "white",
           "lakecolor": "white",
           "landcolor": "#E5ECF6",
           "showlakes": true,
           "showland": true,
           "subunitcolor": "white"
          },
          "hoverlabel": {
           "align": "left"
          },
          "hovermode": "closest",
          "mapbox": {
           "style": "light"
          },
          "paper_bgcolor": "white",
          "plot_bgcolor": "#E5ECF6",
          "polar": {
           "angularaxis": {
            "gridcolor": "white",
            "linecolor": "white",
            "ticks": ""
           },
           "bgcolor": "#E5ECF6",
           "radialaxis": {
            "gridcolor": "white",
            "linecolor": "white",
            "ticks": ""
           }
          },
          "scene": {
           "xaxis": {
            "backgroundcolor": "#E5ECF6",
            "gridcolor": "white",
            "gridwidth": 2,
            "linecolor": "white",
            "showbackground": true,
            "ticks": "",
            "zerolinecolor": "white"
           },
           "yaxis": {
            "backgroundcolor": "#E5ECF6",
            "gridcolor": "white",
            "gridwidth": 2,
            "linecolor": "white",
            "showbackground": true,
            "ticks": "",
            "zerolinecolor": "white"
           },
           "zaxis": {
            "backgroundcolor": "#E5ECF6",
            "gridcolor": "white",
            "gridwidth": 2,
            "linecolor": "white",
            "showbackground": true,
            "ticks": "",
            "zerolinecolor": "white"
           }
          },
          "shapedefaults": {
           "line": {
            "color": "#2a3f5f"
           }
          },
          "ternary": {
           "aaxis": {
            "gridcolor": "white",
            "linecolor": "white",
            "ticks": ""
           },
           "baxis": {
            "gridcolor": "white",
            "linecolor": "white",
            "ticks": ""
           },
           "bgcolor": "#E5ECF6",
           "caxis": {
            "gridcolor": "white",
            "linecolor": "white",
            "ticks": ""
           }
          },
          "title": {
           "x": 0.05
          },
          "xaxis": {
           "automargin": true,
           "gridcolor": "white",
           "linecolor": "white",
           "ticks": "",
           "title": {
            "standoff": 15
           },
           "zerolinecolor": "white",
           "zerolinewidth": 2
          },
          "yaxis": {
           "automargin": true,
           "gridcolor": "white",
           "linecolor": "white",
           "ticks": "",
           "title": {
            "standoff": 15
           },
           "zerolinecolor": "white",
           "zerolinewidth": 2
          }
         }
        },
        "width": 979.9999999999999,
        "xaxis": {
         "anchor": "y",
         "categoryarray": [
          "TS",
          "SPTS",
          "SP1",
          "SPU"
         ],
         "categoryorder": "array",
         "domain": [
          0,
          0.15200000000000002
         ],
         "showticklabels": false,
         "tickangle": 90,
         "tickfont": {
          "size": 16
         },
         "title": {
          "text": ""
         }
        },
        "xaxis10": {
         "anchor": "y10",
         "domain": [
          0.8280000000000001,
          0.9800000000000001
         ],
         "matches": "x",
         "showticklabels": false,
         "tickangle": 90,
         "tickfont": {
          "size": 16
         },
         "title": {
          "text": ""
         }
        },
        "xaxis11": {
         "anchor": "y11",
         "domain": [
          0,
          0.15200000000000002
         ],
         "matches": "x",
         "showticklabels": false,
         "tickangle": 90,
         "tickfont": {
          "size": 16
         },
         "title": {
          "text": ""
         }
        },
        "xaxis12": {
         "anchor": "y12",
         "domain": [
          0.20700000000000002,
          0.35900000000000004
         ],
         "matches": "x",
         "showticklabels": false,
         "tickangle": 90,
         "tickfont": {
          "size": 16
         },
         "title": {
          "text": ""
         }
        },
        "xaxis13": {
         "anchor": "y13",
         "domain": [
          0.41400000000000003,
          0.5660000000000001
         ],
         "matches": "x",
         "showticklabels": false,
         "tickangle": 90,
         "tickfont": {
          "size": 16
         },
         "title": {
          "text": ""
         }
        },
        "xaxis14": {
         "anchor": "y14",
         "domain": [
          0.6210000000000001,
          0.7730000000000001
         ],
         "matches": "x",
         "showticklabels": false,
         "tickangle": 90,
         "tickfont": {
          "size": 16
         },
         "title": {
          "text": ""
         }
        },
        "xaxis15": {
         "anchor": "y15",
         "domain": [
          0.8280000000000001,
          0.9800000000000001
         ],
         "matches": "x",
         "showticklabels": false,
         "tickangle": 90,
         "tickfont": {
          "size": 16
         },
         "title": {
          "text": ""
         }
        },
        "xaxis2": {
         "anchor": "y2",
         "categoryarray": [
          "TS",
          "SPTS",
          "SP1",
          "SPU"
         ],
         "categoryorder": "array",
         "domain": [
          0.20700000000000002,
          0.35900000000000004
         ],
         "matches": "x",
         "showticklabels": false,
         "tickangle": 90,
         "tickfont": {
          "size": 16
         },
         "title": {
          "text": ""
         }
        },
        "xaxis3": {
         "anchor": "y3",
         "categoryarray": [
          "TS",
          "SPTS",
          "SP1",
          "SPU"
         ],
         "categoryorder": "array",
         "domain": [
          0.41400000000000003,
          0.5660000000000001
         ],
         "matches": "x",
         "showticklabels": false,
         "tickangle": 90,
         "tickfont": {
          "size": 16
         },
         "title": {
          "text": ""
         }
        },
        "xaxis4": {
         "anchor": "y4",
         "categoryarray": [
          "TS",
          "SPTS",
          "SP1",
          "SPU"
         ],
         "categoryorder": "array",
         "domain": [
          0.6210000000000001,
          0.7730000000000001
         ],
         "matches": "x",
         "showticklabels": false,
         "tickangle": 90,
         "tickfont": {
          "size": 16
         },
         "title": {
          "text": ""
         }
        },
        "xaxis5": {
         "anchor": "y5",
         "categoryarray": [
          "TS",
          "SPTS",
          "SP1",
          "SPU"
         ],
         "categoryorder": "array",
         "domain": [
          0.8280000000000001,
          0.9800000000000001
         ],
         "matches": "x",
         "showticklabels": false,
         "tickangle": 90,
         "tickfont": {
          "size": 16
         },
         "title": {
          "text": ""
         }
        },
        "xaxis6": {
         "anchor": "y6",
         "domain": [
          0,
          0.15200000000000002
         ],
         "matches": "x",
         "showticklabels": false,
         "tickangle": 90,
         "tickfont": {
          "size": 16
         },
         "title": {
          "text": ""
         }
        },
        "xaxis7": {
         "anchor": "y7",
         "domain": [
          0.20700000000000002,
          0.35900000000000004
         ],
         "matches": "x",
         "showticklabels": false,
         "tickangle": 90,
         "tickfont": {
          "size": 16
         },
         "title": {
          "text": ""
         }
        },
        "xaxis8": {
         "anchor": "y8",
         "domain": [
          0.41400000000000003,
          0.5660000000000001
         ],
         "matches": "x",
         "showticklabels": false,
         "tickangle": 90,
         "tickfont": {
          "size": 16
         },
         "title": {
          "text": ""
         }
        },
        "xaxis9": {
         "anchor": "y9",
         "domain": [
          0.6210000000000001,
          0.7730000000000001
         ],
         "matches": "x",
         "showticklabels": false,
         "tickangle": 90,
         "tickfont": {
          "size": 16
         },
         "title": {
          "text": ""
         }
        },
        "yaxis": {
         "anchor": "x",
         "domain": [
          0,
          0.30666666666666664
         ],
         "showticklabels": true,
         "tickfont": {
          "size": 16
         },
         "title": {
          "text": ""
         }
        },
        "yaxis10": {
         "anchor": "x10",
         "domain": [
          0.3466666666666666,
          0.6533333333333333
         ],
         "showticklabels": true,
         "tickfont": {
          "size": 16
         },
         "title": {
          "text": ""
         }
        },
        "yaxis11": {
         "anchor": "x11",
         "domain": [
          0.6933333333333332,
          0.9999999999999999
         ],
         "showticklabels": true,
         "tickfont": {
          "size": 16
         },
         "title": {
          "text": ""
         }
        },
        "yaxis12": {
         "anchor": "x12",
         "domain": [
          0.6933333333333332,
          0.9999999999999999
         ],
         "showticklabels": true,
         "tickfont": {
          "size": 16
         },
         "title": {
          "text": ""
         }
        },
        "yaxis13": {
         "anchor": "x13",
         "domain": [
          0.6933333333333332,
          0.9999999999999999
         ],
         "showticklabels": true,
         "tickfont": {
          "size": 16
         },
         "title": {
          "text": ""
         }
        },
        "yaxis14": {
         "anchor": "x14",
         "domain": [
          0.6933333333333332,
          0.9999999999999999
         ],
         "showticklabels": true,
         "tickfont": {
          "size": 16
         },
         "title": {
          "text": ""
         }
        },
        "yaxis15": {
         "anchor": "x15",
         "domain": [
          0.6933333333333332,
          0.9999999999999999
         ],
         "showticklabels": true,
         "tickfont": {
          "size": 16
         },
         "title": {
          "text": ""
         }
        },
        "yaxis2": {
         "anchor": "x2",
         "domain": [
          0,
          0.30666666666666664
         ],
         "showticklabels": true,
         "tickfont": {
          "size": 16
         },
         "title": {
          "text": ""
         }
        },
        "yaxis3": {
         "anchor": "x3",
         "domain": [
          0,
          0.30666666666666664
         ],
         "showticklabels": true,
         "tickfont": {
          "size": 16
         },
         "title": {
          "text": ""
         }
        },
        "yaxis4": {
         "anchor": "x4",
         "domain": [
          0,
          0.30666666666666664
         ],
         "showticklabels": true,
         "tickfont": {
          "size": 16
         },
         "title": {
          "text": ""
         }
        },
        "yaxis5": {
         "anchor": "x5",
         "domain": [
          0,
          0.30666666666666664
         ],
         "showticklabels": true,
         "tickfont": {
          "size": 16
         },
         "title": {
          "text": ""
         }
        },
        "yaxis6": {
         "anchor": "x6",
         "domain": [
          0.3466666666666666,
          0.6533333333333333
         ],
         "showticklabels": true,
         "tickfont": {
          "size": 16
         },
         "title": {
          "text": ""
         }
        },
        "yaxis7": {
         "anchor": "x7",
         "domain": [
          0.3466666666666666,
          0.6533333333333333
         ],
         "showticklabels": true,
         "tickfont": {
          "size": 16
         },
         "title": {
          "text": ""
         }
        },
        "yaxis8": {
         "anchor": "x8",
         "domain": [
          0.3466666666666666,
          0.6533333333333333
         ],
         "showticklabels": true,
         "tickfont": {
          "size": 16
         },
         "title": {
          "text": ""
         }
        },
        "yaxis9": {
         "anchor": "x9",
         "domain": [
          0.3466666666666666,
          0.6533333333333333
         ],
         "showticklabels": true,
         "tickfont": {
          "size": 16
         },
         "title": {
          "text": ""
         }
        }
       }
      }
     },
     "metadata": {},
     "output_type": "display_data"
    }
   ],
   "source": [
    "fig = get_plot_metric(df, 'pointpred', model_names)\n",
    "fig.write_image('pointpred_boxplot.png', scale = 3)\n",
    "fig.show()"
   ]
  },
  {
   "cell_type": "markdown",
   "metadata": {},
   "source": [
    "# Bayes Approach 1: Direct Application"
   ]
  },
  {
   "cell_type": "code",
   "execution_count": 7,
   "metadata": {},
   "outputs": [
    {
     "data": {
      "application/vnd.plotly.v1+json": {
       "config": {
        "plotlyServerURL": "https://plot.ly"
       },
       "data": [
        {
         "alignmentgroup": "True",
         "hovertemplate": "Method=%{x}<br>Metric=ECE<br>Model=resnet152<br>Value=%{y}<extra></extra>",
         "legendgroup": "TS",
         "marker": {
          "color": "#636efa"
         },
         "name": "TS",
         "notched": false,
         "offsetgroup": "TS",
         "orientation": "v",
         "showlegend": true,
         "type": "box",
         "x": [
          "TS",
          "TS",
          "TS",
          "TS",
          "TS",
          "TS",
          "TS",
          "TS",
          "TS",
          "TS",
          "TS",
          "TS",
          "TS",
          "TS",
          "TS",
          "TS",
          "TS",
          "TS",
          "TS",
          "TS"
         ],
         "x0": " ",
         "xaxis": "x11",
         "y": [
          0.0320285148918628,
          0.0338837020099163,
          0.0405759066343307,
          0.0370147451758384,
          0.0522349625825881,
          0.0382200852036476,
          0.0344611853361129,
          0.0423635318875312,
          0.0340821370482444,
          0.0394570603966712,
          0.0252781324088573,
          0.0401429384946823,
          0.0390655547380447,
          0.0263540633022785,
          0.0238834358751773,
          0.0314182415604591,
          0.023835439234972,
          0.0403431579470634,
          0.0337140038609504,
          0.0371514409780502
         ],
         "y0": " ",
         "yaxis": "y11"
        },
        {
         "alignmentgroup": "True",
         "hovertemplate": "Method=%{x}<br>Metric=ECE<br>Model=seresnet152<br>Value=%{y}<extra></extra>",
         "legendgroup": "TS",
         "marker": {
          "color": "#636efa"
         },
         "name": "TS",
         "notched": false,
         "offsetgroup": "TS",
         "orientation": "v",
         "showlegend": false,
         "type": "box",
         "x": [
          "TS",
          "TS",
          "TS",
          "TS",
          "TS",
          "TS",
          "TS",
          "TS",
          "TS",
          "TS",
          "TS",
          "TS",
          "TS",
          "TS",
          "TS",
          "TS",
          "TS",
          "TS",
          "TS",
          "TS"
         ],
         "x0": " ",
         "xaxis": "x12",
         "y": [
          0.0318160317838192,
          0.0300562530755996,
          0.02552255615592,
          0.0288961417973041,
          0.0392146036028862,
          0.0363784991204738,
          0.0292786806821823,
          0.0365352630615234,
          0.0389033071696758,
          0.0265496559441089,
          0.0179320964962244,
          0.0249991156160831,
          0.0276183430105447,
          0.0319571979343891,
          0.0303799267858266,
          0.0327384509146213,
          0.0317620858550071,
          0.0275482200086116,
          0.024758618324995,
          0.0291248820722103
         ],
         "y0": " ",
         "yaxis": "y12"
        },
        {
         "alignmentgroup": "True",
         "hovertemplate": "Method=%{x}<br>Metric=ECE<br>Model=xception<br>Value=%{y}<extra></extra>",
         "legendgroup": "TS",
         "marker": {
          "color": "#636efa"
         },
         "name": "TS",
         "notched": false,
         "offsetgroup": "TS",
         "orientation": "v",
         "showlegend": false,
         "type": "box",
         "x": [
          "TS",
          "TS",
          "TS",
          "TS",
          "TS",
          "TS",
          "TS",
          "TS",
          "TS",
          "TS",
          "TS",
          "TS",
          "TS",
          "TS",
          "TS",
          "TS",
          "TS",
          "TS",
          "TS",
          "TS"
         ],
         "x0": " ",
         "xaxis": "x13",
         "y": [
          0.0352264083921909,
          0.0431030988693237,
          0.0335918702185153,
          0.0306645035743713,
          0.0328666865825653,
          0.0454417690634727,
          0.0350073464214801,
          0.0346899405121803,
          0.0476027056574821,
          0.0259614773094654,
          0.0255986750125885,
          0.035922072827816,
          0.0332574695348739,
          0.0387321375310421,
          0.0297723710536956,
          0.0438930168747901,
          0.0308553539216518,
          0.0366304963827133,
          0.0388613194227218,
          0.0299620348960161
         ],
         "y0": " ",
         "yaxis": "y13"
        },
        {
         "alignmentgroup": "True",
         "hovertemplate": "Method=%{x}<br>Metric=ECE<br>Model=densenet161<br>Value=%{y}<extra></extra>",
         "legendgroup": "TS",
         "marker": {
          "color": "#636efa"
         },
         "name": "TS",
         "notched": false,
         "offsetgroup": "TS",
         "orientation": "v",
         "showlegend": false,
         "type": "box",
         "x": [
          "TS",
          "TS",
          "TS",
          "TS",
          "TS",
          "TS",
          "TS",
          "TS",
          "TS",
          "TS",
          "TS",
          "TS",
          "TS",
          "TS",
          "TS",
          "TS",
          "TS",
          "TS",
          "TS",
          "TS"
         ],
         "x0": " ",
         "xaxis": "x14",
         "y": [
          0.0278342738747596,
          0.0245090331882238,
          0.0381616652011871,
          0.0280329175293445,
          0.0323275811970233,
          0.0338915437459945,
          0.0223670937120914,
          0.0292104296386241,
          0.0236607622355222,
          0.0243649296462535,
          0.0204850323498249,
          0.0355081483721733,
          0.0272819213569164,
          0.0203917846083641,
          0.0283827688544988,
          0.0347300544381141,
          0.0285418573766946,
          0.028847087174654,
          0.0351171493530273,
          0.0195080582052469
         ],
         "y0": " ",
         "yaxis": "y14"
        },
        {
         "alignmentgroup": "True",
         "hovertemplate": "Method=%{x}<br>Metric=ECE<br>Model=inceptionresnetv2<br>Value=%{y}<extra></extra>",
         "legendgroup": "TS",
         "marker": {
          "color": "#636efa"
         },
         "name": "TS",
         "notched": false,
         "offsetgroup": "TS",
         "orientation": "v",
         "showlegend": false,
         "type": "box",
         "x": [
          "TS",
          "TS",
          "TS",
          "TS",
          "TS",
          "TS",
          "TS",
          "TS",
          "TS",
          "TS",
          "TS",
          "TS",
          "TS",
          "TS",
          "TS",
          "TS",
          "TS",
          "TS",
          "TS",
          "TS"
         ],
         "x0": " ",
         "xaxis": "x15",
         "y": [
          0.0430318042635917,
          0.0468410886824131,
          0.0329993590712547,
          0.0364831052720546,
          0.0442765280604362,
          0.0545766800642013,
          0.0343908630311489,
          0.0452622696757316,
          0.0478580147027969,
          0.0567406825721263,
          0.035906683653593,
          0.039672527462244,
          0.040590763092041,
          0.0398752614855766,
          0.0325694903731346,
          0.0373859107494354,
          0.0317684710025787,
          0.0349643342196941,
          0.0353703238070011,
          0.0404056385159492
         ],
         "y0": " ",
         "yaxis": "y15"
        },
        {
         "alignmentgroup": "True",
         "hovertemplate": "Method=%{x}<br>Metric=SVHN<br>Model=resnet152<br>Value=%{y}<extra></extra>",
         "legendgroup": "TS",
         "marker": {
          "color": "#636efa"
         },
         "name": "TS",
         "notched": false,
         "offsetgroup": "TS",
         "orientation": "v",
         "showlegend": false,
         "type": "box",
         "x": [
          "TS",
          "TS",
          "TS",
          "TS",
          "TS",
          "TS",
          "TS",
          "TS",
          "TS",
          "TS",
          "TS",
          "TS",
          "TS",
          "TS",
          "TS",
          "TS",
          "TS",
          "TS",
          "TS",
          "TS"
         ],
         "x0": " ",
         "xaxis": "x6",
         "y": [
          0.8930812499999998,
          0.8926965,
          0.894212125,
          0.89503225,
          0.8929492499999999,
          0.890642,
          0.89147,
          0.8877575000000001,
          0.8805395,
          0.89087175,
          0.895239875,
          0.888245875,
          0.8901122499999999,
          0.89533925,
          0.8877907499999999,
          0.8913115000000001,
          0.8857656249999999,
          0.8826685000000001,
          0.8850971249999999,
          0.8872965
         ],
         "y0": " ",
         "yaxis": "y6"
        },
        {
         "alignmentgroup": "True",
         "hovertemplate": "Method=%{x}<br>Metric=SVHN<br>Model=seresnet152<br>Value=%{y}<extra></extra>",
         "legendgroup": "TS",
         "marker": {
          "color": "#636efa"
         },
         "name": "TS",
         "notched": false,
         "offsetgroup": "TS",
         "orientation": "v",
         "showlegend": false,
         "type": "box",
         "x": [
          "TS",
          "TS",
          "TS",
          "TS",
          "TS",
          "TS",
          "TS",
          "TS",
          "TS",
          "TS",
          "TS",
          "TS",
          "TS",
          "TS",
          "TS",
          "TS",
          "TS",
          "TS",
          "TS",
          "TS"
         ],
         "x0": " ",
         "xaxis": "x7",
         "y": [
          0.912430125,
          0.91079,
          0.90943425,
          0.91336325,
          0.910512,
          0.90420875,
          0.90815625,
          0.90476325,
          0.9029855,
          0.9094525,
          0.9113505,
          0.9110785,
          0.90415225,
          0.90925,
          0.9085950000000002,
          0.90883725,
          0.9067585,
          0.90285525,
          0.9053985,
          0.90874975
         ],
         "y0": " ",
         "yaxis": "y7"
        },
        {
         "alignmentgroup": "True",
         "hovertemplate": "Method=%{x}<br>Metric=SVHN<br>Model=xception<br>Value=%{y}<extra></extra>",
         "legendgroup": "TS",
         "marker": {
          "color": "#636efa"
         },
         "name": "TS",
         "notched": false,
         "offsetgroup": "TS",
         "orientation": "v",
         "showlegend": false,
         "type": "box",
         "x": [
          "TS",
          "TS",
          "TS",
          "TS",
          "TS",
          "TS",
          "TS",
          "TS",
          "TS",
          "TS",
          "TS",
          "TS",
          "TS",
          "TS",
          "TS",
          "TS",
          "TS",
          "TS",
          "TS",
          "TS"
         ],
         "x0": " ",
         "xaxis": "x8",
         "y": [
          0.8719567500000001,
          0.8740904999999999,
          0.866155,
          0.877472375,
          0.87164275,
          0.872172,
          0.8726176249999998,
          0.8654992499999999,
          0.8670662500000001,
          0.87380825,
          0.87563675,
          0.870611,
          0.86800975,
          0.86227325,
          0.8663742499999999,
          0.8672522500000001,
          0.8696079999999999,
          0.8687347499999999,
          0.87115025,
          0.8748592499999999
         ],
         "y0": " ",
         "yaxis": "y8"
        },
        {
         "alignmentgroup": "True",
         "hovertemplate": "Method=%{x}<br>Metric=SVHN<br>Model=densenet161<br>Value=%{y}<extra></extra>",
         "legendgroup": "TS",
         "marker": {
          "color": "#636efa"
         },
         "name": "TS",
         "notched": false,
         "offsetgroup": "TS",
         "orientation": "v",
         "showlegend": false,
         "type": "box",
         "x": [
          "TS",
          "TS",
          "TS",
          "TS",
          "TS",
          "TS",
          "TS",
          "TS",
          "TS",
          "TS",
          "TS",
          "TS",
          "TS",
          "TS",
          "TS",
          "TS",
          "TS",
          "TS",
          "TS",
          "TS"
         ],
         "x0": " ",
         "xaxis": "x9",
         "y": [
          0.9122775,
          0.910309,
          0.911268,
          0.91602925,
          0.90706825,
          0.90839675,
          0.90824175,
          0.910533,
          0.9002335,
          0.9091915,
          0.91101425,
          0.906888,
          0.903291375,
          0.91099725,
          0.9094575,
          0.9130355,
          0.906899,
          0.902715,
          0.908437,
          0.90716475
         ],
         "y0": " ",
         "yaxis": "y9"
        },
        {
         "alignmentgroup": "True",
         "hovertemplate": "Method=%{x}<br>Metric=SVHN<br>Model=inceptionresnetv2<br>Value=%{y}<extra></extra>",
         "legendgroup": "TS",
         "marker": {
          "color": "#636efa"
         },
         "name": "TS",
         "notched": false,
         "offsetgroup": "TS",
         "orientation": "v",
         "showlegend": false,
         "type": "box",
         "x": [
          "TS",
          "TS",
          "TS",
          "TS",
          "TS",
          "TS",
          "TS",
          "TS",
          "TS",
          "TS",
          "TS",
          "TS",
          "TS",
          "TS",
          "TS",
          "TS",
          "TS",
          "TS",
          "TS",
          "TS"
         ],
         "x0": " ",
         "xaxis": "x10",
         "y": [
          0.8935752499999999,
          0.8899005000000001,
          0.89316775,
          0.9000722500000001,
          0.89460075,
          0.8887215000000002,
          0.8949099999999999,
          0.8917934999999999,
          0.88930875,
          0.89293825,
          0.89703325,
          0.8918898749999999,
          0.8938970000000002,
          0.8932614999999999,
          0.8908318749999999,
          0.8923405,
          0.8915822499999999,
          0.8911204999999999,
          0.8873368749999999,
          0.8907087499999999
         ],
         "y0": " ",
         "yaxis": "y10"
        },
        {
         "alignmentgroup": "True",
         "hovertemplate": "Method=%{x}<br>Metric=LSUN<br>Model=resnet152<br>Value=%{y}<extra></extra>",
         "legendgroup": "TS",
         "marker": {
          "color": "#636efa"
         },
         "name": "TS",
         "notched": false,
         "offsetgroup": "TS",
         "orientation": "v",
         "showlegend": false,
         "type": "box",
         "x": [
          "TS",
          "TS",
          "TS",
          "TS",
          "TS",
          "TS",
          "TS",
          "TS",
          "TS",
          "TS",
          "TS",
          "TS",
          "TS",
          "TS",
          "TS",
          "TS",
          "TS",
          "TS",
          "TS",
          "TS"
         ],
         "x0": " ",
         "xaxis": "x",
         "y": [
          0.923345875,
          0.92251775,
          0.9238850000000002,
          0.9251635,
          0.92278375,
          0.92116575,
          0.92203725,
          0.9172845,
          0.9125275,
          0.92117075,
          0.92429625,
          0.91888325,
          0.919433,
          0.92530425,
          0.91916625,
          0.923334,
          0.918219,
          0.9137380000000002,
          0.91732025,
          0.91846875
         ],
         "y0": " ",
         "yaxis": "y"
        },
        {
         "alignmentgroup": "True",
         "hovertemplate": "Method=%{x}<br>Metric=LSUN<br>Model=seresnet152<br>Value=%{y}<extra></extra>",
         "legendgroup": "TS",
         "marker": {
          "color": "#636efa"
         },
         "name": "TS",
         "notched": false,
         "offsetgroup": "TS",
         "orientation": "v",
         "showlegend": false,
         "type": "box",
         "x": [
          "TS",
          "TS",
          "TS",
          "TS",
          "TS",
          "TS",
          "TS",
          "TS",
          "TS",
          "TS",
          "TS",
          "TS",
          "TS",
          "TS",
          "TS",
          "TS",
          "TS",
          "TS",
          "TS",
          "TS"
         ],
         "x0": " ",
         "xaxis": "x2",
         "y": [
          0.94106025,
          0.9391965,
          0.938356,
          0.9420005,
          0.9390975,
          0.93413475,
          0.937047,
          0.9342655,
          0.933452,
          0.93856875,
          0.939193,
          0.940415,
          0.9338845,
          0.93976375,
          0.938041,
          0.938317,
          0.936816,
          0.93298275,
          0.93548675,
          0.938675375
         ],
         "y0": " ",
         "yaxis": "y2"
        },
        {
         "alignmentgroup": "True",
         "hovertemplate": "Method=%{x}<br>Metric=LSUN<br>Model=xception<br>Value=%{y}<extra></extra>",
         "legendgroup": "TS",
         "marker": {
          "color": "#636efa"
         },
         "name": "TS",
         "notched": false,
         "offsetgroup": "TS",
         "orientation": "v",
         "showlegend": false,
         "type": "box",
         "x": [
          "TS",
          "TS",
          "TS",
          "TS",
          "TS",
          "TS",
          "TS",
          "TS",
          "TS",
          "TS",
          "TS",
          "TS",
          "TS",
          "TS",
          "TS",
          "TS",
          "TS",
          "TS",
          "TS",
          "TS"
         ],
         "x0": " ",
         "xaxis": "x3",
         "y": [
          0.8930986249999999,
          0.89452475,
          0.8886090000000001,
          0.8979557499999999,
          0.8927532500000002,
          0.8932684999999999,
          0.89314925,
          0.8865275000000001,
          0.8881377499999998,
          0.894601,
          0.89538525,
          0.89122075,
          0.8889955,
          0.88461025,
          0.88813275,
          0.8890629999999999,
          0.89137,
          0.89005975,
          0.8923899999999999,
          0.895863
         ],
         "y0": " ",
         "yaxis": "y3"
        },
        {
         "alignmentgroup": "True",
         "hovertemplate": "Method=%{x}<br>Metric=LSUN<br>Model=densenet161<br>Value=%{y}<extra></extra>",
         "legendgroup": "TS",
         "marker": {
          "color": "#636efa"
         },
         "name": "TS",
         "notched": false,
         "offsetgroup": "TS",
         "orientation": "v",
         "showlegend": false,
         "type": "box",
         "x": [
          "TS",
          "TS",
          "TS",
          "TS",
          "TS",
          "TS",
          "TS",
          "TS",
          "TS",
          "TS",
          "TS",
          "TS",
          "TS",
          "TS",
          "TS",
          "TS",
          "TS",
          "TS",
          "TS",
          "TS"
         ],
         "x0": " ",
         "xaxis": "x4",
         "y": [
          0.92839025,
          0.9260715000000002,
          0.92732275,
          0.932657,
          0.9240095,
          0.92483225,
          0.92479225,
          0.92617625,
          0.91712675,
          0.9261465,
          0.9267795,
          0.923259,
          0.9199500000000002,
          0.92747275,
          0.925607,
          0.92953775,
          0.92366775,
          0.91985325,
          0.92512325,
          0.92392225
         ],
         "y0": " ",
         "yaxis": "y4"
        },
        {
         "alignmentgroup": "True",
         "hovertemplate": "Method=%{x}<br>Metric=LSUN<br>Model=inceptionresnetv2<br>Value=%{y}<extra></extra>",
         "legendgroup": "TS",
         "marker": {
          "color": "#636efa"
         },
         "name": "TS",
         "notched": false,
         "offsetgroup": "TS",
         "orientation": "v",
         "showlegend": false,
         "type": "box",
         "x": [
          "TS",
          "TS",
          "TS",
          "TS",
          "TS",
          "TS",
          "TS",
          "TS",
          "TS",
          "TS",
          "TS",
          "TS",
          "TS",
          "TS",
          "TS",
          "TS",
          "TS",
          "TS",
          "TS",
          "TS"
         ],
         "x0": " ",
         "xaxis": "x5",
         "y": [
          0.9216460000000002,
          0.91849875,
          0.9214565,
          0.9277720000000002,
          0.92267325,
          0.9178070000000002,
          0.92288875,
          0.9197535,
          0.9175455,
          0.92043675,
          0.92410375,
          0.918917875,
          0.922649,
          0.921662,
          0.91964625,
          0.921571625,
          0.920727,
          0.919887,
          0.915755,
          0.91921475
         ],
         "y0": " ",
         "yaxis": "y5"
        },
        {
         "alignmentgroup": "True",
         "hovertemplate": "Method=%{x}<br>Metric=ECE<br>Model=resnet152<br>Value=%{y}<extra></extra>",
         "legendgroup": "SPTS",
         "marker": {
          "color": "#EF553B"
         },
         "name": "SPTS",
         "notched": false,
         "offsetgroup": "SPTS",
         "orientation": "v",
         "showlegend": true,
         "type": "box",
         "x": [
          "SPTS",
          "SPTS",
          "SPTS",
          "SPTS",
          "SPTS",
          "SPTS",
          "SPTS",
          "SPTS",
          "SPTS",
          "SPTS",
          "SPTS",
          "SPTS",
          "SPTS",
          "SPTS",
          "SPTS",
          "SPTS",
          "SPTS",
          "SPTS",
          "SPTS",
          "SPTS"
         ],
         "x0": " ",
         "xaxis": "x11",
         "y": [
          0.0218292325735092,
          0.0198139995336532,
          0.0199240073561668,
          0.0363240949809551,
          0.0317172855138778,
          0.0192179977893829,
          0.0246335379779338,
          0.0295722763985395,
          0.0218317508697509,
          0.0325157158076763,
          0.0258072484284639,
          0.0337752327322959,
          0.0303960740566253,
          0.0248140320181846,
          0.0192002691328525,
          0.016126848757267,
          0.0171618349850177,
          0.0242264345288276,
          0.0273729115724563,
          0.0341190733015537
         ],
         "y0": " ",
         "yaxis": "y11"
        },
        {
         "alignmentgroup": "True",
         "hovertemplate": "Method=%{x}<br>Metric=ECE<br>Model=seresnet152<br>Value=%{y}<extra></extra>",
         "legendgroup": "SPTS",
         "marker": {
          "color": "#EF553B"
         },
         "name": "SPTS",
         "notched": false,
         "offsetgroup": "SPTS",
         "orientation": "v",
         "showlegend": false,
         "type": "box",
         "x": [
          "SPTS",
          "SPTS",
          "SPTS",
          "SPTS",
          "SPTS",
          "SPTS",
          "SPTS",
          "SPTS",
          "SPTS",
          "SPTS",
          "SPTS",
          "SPTS",
          "SPTS",
          "SPTS",
          "SPTS",
          "SPTS",
          "SPTS",
          "SPTS",
          "SPTS",
          "SPTS"
         ],
         "x0": " ",
         "xaxis": "x12",
         "y": [
          0.0183000303804874,
          0.0330189876258373,
          0.0223568826913833,
          0.0252459738403558,
          0.0194762870669364,
          0.0301063433289527,
          0.0235203355550766,
          0.0285081174224615,
          0.0297553315758705,
          0.0264822579920291,
          0.0259347818791866,
          0.0226539596915245,
          0.0153837632387876,
          0.0260224100202322,
          0.0181818231940269,
          0.0249763540923595,
          0.0232268124818801,
          0.0200994927436113,
          0.0237602181732654,
          0.0233898553997278
         ],
         "y0": " ",
         "yaxis": "y12"
        },
        {
         "alignmentgroup": "True",
         "hovertemplate": "Method=%{x}<br>Metric=ECE<br>Model=xception<br>Value=%{y}<extra></extra>",
         "legendgroup": "SPTS",
         "marker": {
          "color": "#EF553B"
         },
         "name": "SPTS",
         "notched": false,
         "offsetgroup": "SPTS",
         "orientation": "v",
         "showlegend": false,
         "type": "box",
         "x": [
          "SPTS",
          "SPTS",
          "SPTS",
          "SPTS",
          "SPTS",
          "SPTS",
          "SPTS",
          "SPTS",
          "SPTS",
          "SPTS",
          "SPTS",
          "SPTS",
          "SPTS",
          "SPTS",
          "SPTS",
          "SPTS",
          "SPTS",
          "SPTS",
          "SPTS",
          "SPTS"
         ],
         "x0": " ",
         "xaxis": "x13",
         "y": [
          0.0246299989521503,
          0.019569868221879,
          0.0136882551014423,
          0.0195045545697212,
          0.0126992147415876,
          0.0263162050396204,
          0.020711064338684,
          0.0143499420955777,
          0.0304379481822252,
          0.0198533032089471,
          0.0301348473876714,
          0.0192114878445863,
          0.0168911851942539,
          0.0237074177712202,
          0.0197406765073537,
          0.0289831161499023,
          0.0151509130373597,
          0.0272182319313287,
          0.0229918658733367,
          0.0195990204811096
         ],
         "y0": " ",
         "yaxis": "y13"
        },
        {
         "alignmentgroup": "True",
         "hovertemplate": "Method=%{x}<br>Metric=ECE<br>Model=densenet161<br>Value=%{y}<extra></extra>",
         "legendgroup": "SPTS",
         "marker": {
          "color": "#EF553B"
         },
         "name": "SPTS",
         "notched": false,
         "offsetgroup": "SPTS",
         "orientation": "v",
         "showlegend": false,
         "type": "box",
         "x": [
          "SPTS",
          "SPTS",
          "SPTS",
          "SPTS",
          "SPTS",
          "SPTS",
          "SPTS",
          "SPTS",
          "SPTS",
          "SPTS",
          "SPTS",
          "SPTS",
          "SPTS",
          "SPTS",
          "SPTS",
          "SPTS",
          "SPTS",
          "SPTS",
          "SPTS",
          "SPTS"
         ],
         "x0": " ",
         "xaxis": "x14",
         "y": [
          0.0183575954288244,
          0.0218517705798149,
          0.0246317032724618,
          0.0265631005167961,
          0.0172826647758483,
          0.0191640313714742,
          0.0181771218776702,
          0.0257466565817594,
          0.0188303403556346,
          0.0196433793753385,
          0.0224801506847143,
          0.0193657502532005,
          0.0168486852198839,
          0.0198546778410673,
          0.0178271755576133,
          0.019190315157175,
          0.0255609843879938,
          0.0197555217891931,
          0.0221528876572847,
          0.0189115591347217
         ],
         "y0": " ",
         "yaxis": "y14"
        },
        {
         "alignmentgroup": "True",
         "hovertemplate": "Method=%{x}<br>Metric=ECE<br>Model=inceptionresnetv2<br>Value=%{y}<extra></extra>",
         "legendgroup": "SPTS",
         "marker": {
          "color": "#EF553B"
         },
         "name": "SPTS",
         "notched": false,
         "offsetgroup": "SPTS",
         "orientation": "v",
         "showlegend": false,
         "type": "box",
         "x": [
          "SPTS",
          "SPTS",
          "SPTS",
          "SPTS",
          "SPTS",
          "SPTS",
          "SPTS",
          "SPTS",
          "SPTS",
          "SPTS",
          "SPTS",
          "SPTS",
          "SPTS",
          "SPTS",
          "SPTS",
          "SPTS",
          "SPTS",
          "SPTS",
          "SPTS",
          "SPTS"
         ],
         "x0": " ",
         "xaxis": "x15",
         "y": [
          0.0304407496005296,
          0.0367413163185119,
          0.0264096986502408,
          0.0251460745930671,
          0.0307908337563276,
          0.0319022051990032,
          0.0167407803237438,
          0.0261167492717504,
          0.0268409103155136,
          0.0298842210322618,
          0.0145663050934672,
          0.0117680942639708,
          0.0169134102761745,
          0.0260950438678264,
          0.0307929068803787,
          0.0251033790409564,
          0.0185388121753931,
          0.0248415581881999,
          0.0310889109969139,
          0.021994000300765
         ],
         "y0": " ",
         "yaxis": "y15"
        },
        {
         "alignmentgroup": "True",
         "hovertemplate": "Method=%{x}<br>Metric=SVHN<br>Model=resnet152<br>Value=%{y}<extra></extra>",
         "legendgroup": "SPTS",
         "marker": {
          "color": "#EF553B"
         },
         "name": "SPTS",
         "notched": false,
         "offsetgroup": "SPTS",
         "orientation": "v",
         "showlegend": false,
         "type": "box",
         "x": [
          "SPTS",
          "SPTS",
          "SPTS",
          "SPTS",
          "SPTS",
          "SPTS",
          "SPTS",
          "SPTS",
          "SPTS",
          "SPTS",
          "SPTS",
          "SPTS",
          "SPTS",
          "SPTS",
          "SPTS",
          "SPTS",
          "SPTS",
          "SPTS",
          "SPTS",
          "SPTS"
         ],
         "x0": " ",
         "xaxis": "x6",
         "y": [
          0.8928195,
          0.89243375,
          0.893936,
          0.89474825,
          0.8926985,
          0.890373,
          0.8911956249999999,
          0.8874229999999999,
          0.8803445000000001,
          0.8906015,
          0.89497475,
          0.8879975,
          0.8898280000000001,
          0.89500925,
          0.8875225,
          0.8910292499999999,
          0.8854955,
          0.8824044999999999,
          0.88481075,
          0.8869330000000001
         ],
         "y0": " ",
         "yaxis": "y6"
        },
        {
         "alignmentgroup": "True",
         "hovertemplate": "Method=%{x}<br>Metric=SVHN<br>Model=seresnet152<br>Value=%{y}<extra></extra>",
         "legendgroup": "SPTS",
         "marker": {
          "color": "#EF553B"
         },
         "name": "SPTS",
         "notched": false,
         "offsetgroup": "SPTS",
         "orientation": "v",
         "showlegend": false,
         "type": "box",
         "x": [
          "SPTS",
          "SPTS",
          "SPTS",
          "SPTS",
          "SPTS",
          "SPTS",
          "SPTS",
          "SPTS",
          "SPTS",
          "SPTS",
          "SPTS",
          "SPTS",
          "SPTS",
          "SPTS",
          "SPTS",
          "SPTS",
          "SPTS",
          "SPTS",
          "SPTS",
          "SPTS"
         ],
         "x0": " ",
         "xaxis": "x7",
         "y": [
          0.912249,
          0.9106345,
          0.90929375,
          0.91321375,
          0.91039425,
          0.90411925,
          0.90798425,
          0.904588,
          0.90281025,
          0.90930125,
          0.91120375,
          0.9109225,
          0.9040185,
          0.90907425,
          0.9084737500000002,
          0.90871075,
          0.9066287500000002,
          0.9026775,
          0.90527525,
          0.90862
         ],
         "y0": " ",
         "yaxis": "y7"
        },
        {
         "alignmentgroup": "True",
         "hovertemplate": "Method=%{x}<br>Metric=SVHN<br>Model=xception<br>Value=%{y}<extra></extra>",
         "legendgroup": "SPTS",
         "marker": {
          "color": "#EF553B"
         },
         "name": "SPTS",
         "notched": false,
         "offsetgroup": "SPTS",
         "orientation": "v",
         "showlegend": false,
         "type": "box",
         "x": [
          "SPTS",
          "SPTS",
          "SPTS",
          "SPTS",
          "SPTS",
          "SPTS",
          "SPTS",
          "SPTS",
          "SPTS",
          "SPTS",
          "SPTS",
          "SPTS",
          "SPTS",
          "SPTS",
          "SPTS",
          "SPTS",
          "SPTS",
          "SPTS",
          "SPTS",
          "SPTS"
         ],
         "x0": " ",
         "xaxis": "x8",
         "y": [
          0.8719189999999999,
          0.87402725,
          0.86614775,
          0.8773757500000001,
          0.8716407500000001,
          0.87212325,
          0.8725940000000001,
          0.8654662500000001,
          0.86703175,
          0.87378425,
          0.8756197499999998,
          0.8705755000000001,
          0.8679483749999999,
          0.86224375,
          0.8664324999999999,
          0.86728975,
          0.8695882500000002,
          0.8687194999999999,
          0.871019875,
          0.8747795
         ],
         "y0": " ",
         "yaxis": "y8"
        },
        {
         "alignmentgroup": "True",
         "hovertemplate": "Method=%{x}<br>Metric=SVHN<br>Model=densenet161<br>Value=%{y}<extra></extra>",
         "legendgroup": "SPTS",
         "marker": {
          "color": "#EF553B"
         },
         "name": "SPTS",
         "notched": false,
         "offsetgroup": "SPTS",
         "orientation": "v",
         "showlegend": false,
         "type": "box",
         "x": [
          "SPTS",
          "SPTS",
          "SPTS",
          "SPTS",
          "SPTS",
          "SPTS",
          "SPTS",
          "SPTS",
          "SPTS",
          "SPTS",
          "SPTS",
          "SPTS",
          "SPTS",
          "SPTS",
          "SPTS",
          "SPTS",
          "SPTS",
          "SPTS",
          "SPTS",
          "SPTS"
         ],
         "x0": " ",
         "xaxis": "x9",
         "y": [
          0.9122205,
          0.91026575,
          0.91124525,
          0.91597475,
          0.90706875,
          0.9083565,
          0.908187,
          0.91040475,
          0.900212,
          0.90913525,
          0.9109615,
          0.90684525,
          0.9032935,
          0.91095125,
          0.909408875,
          0.91295925,
          0.90685025,
          0.902661,
          0.90835925,
          0.90707625
         ],
         "y0": " ",
         "yaxis": "y9"
        },
        {
         "alignmentgroup": "True",
         "hovertemplate": "Method=%{x}<br>Metric=SVHN<br>Model=inceptionresnetv2<br>Value=%{y}<extra></extra>",
         "legendgroup": "SPTS",
         "marker": {
          "color": "#EF553B"
         },
         "name": "SPTS",
         "notched": false,
         "offsetgroup": "SPTS",
         "orientation": "v",
         "showlegend": false,
         "type": "box",
         "x": [
          "SPTS",
          "SPTS",
          "SPTS",
          "SPTS",
          "SPTS",
          "SPTS",
          "SPTS",
          "SPTS",
          "SPTS",
          "SPTS",
          "SPTS",
          "SPTS",
          "SPTS",
          "SPTS",
          "SPTS",
          "SPTS",
          "SPTS",
          "SPTS",
          "SPTS",
          "SPTS"
         ],
         "x0": " ",
         "xaxis": "x10",
         "y": [
          0.89333425,
          0.8896882500000001,
          0.892922,
          0.899832,
          0.8943485,
          0.88851825,
          0.89470275,
          0.89152025,
          0.889027,
          0.89272,
          0.8968304999999999,
          0.8916365,
          0.8937463750000001,
          0.89304675,
          0.89066625,
          0.89214775,
          0.8913456250000001,
          0.8908484999999999,
          0.8870095000000001,
          0.89045175
         ],
         "y0": " ",
         "yaxis": "y10"
        },
        {
         "alignmentgroup": "True",
         "hovertemplate": "Method=%{x}<br>Metric=LSUN<br>Model=resnet152<br>Value=%{y}<extra></extra>",
         "legendgroup": "SPTS",
         "marker": {
          "color": "#EF553B"
         },
         "name": "SPTS",
         "notched": false,
         "offsetgroup": "SPTS",
         "orientation": "v",
         "showlegend": false,
         "type": "box",
         "x": [
          "SPTS",
          "SPTS",
          "SPTS",
          "SPTS",
          "SPTS",
          "SPTS",
          "SPTS",
          "SPTS",
          "SPTS",
          "SPTS",
          "SPTS",
          "SPTS",
          "SPTS",
          "SPTS",
          "SPTS",
          "SPTS",
          "SPTS",
          "SPTS",
          "SPTS",
          "SPTS"
         ],
         "x0": " ",
         "xaxis": "x",
         "y": [
          0.92328925,
          0.922461125,
          0.9238385,
          0.925103,
          0.922721,
          0.92110125,
          0.921985,
          0.9172130000000002,
          0.91250725,
          0.921102,
          0.9242555,
          0.918836,
          0.91938025,
          0.92522225,
          0.91911,
          0.9232708750000002,
          0.91817975,
          0.913687,
          0.91724175,
          0.91838125
         ],
         "y0": " ",
         "yaxis": "y"
        },
        {
         "alignmentgroup": "True",
         "hovertemplate": "Method=%{x}<br>Metric=LSUN<br>Model=seresnet152<br>Value=%{y}<extra></extra>",
         "legendgroup": "SPTS",
         "marker": {
          "color": "#EF553B"
         },
         "name": "SPTS",
         "notched": false,
         "offsetgroup": "SPTS",
         "orientation": "v",
         "showlegend": false,
         "type": "box",
         "x": [
          "SPTS",
          "SPTS",
          "SPTS",
          "SPTS",
          "SPTS",
          "SPTS",
          "SPTS",
          "SPTS",
          "SPTS",
          "SPTS",
          "SPTS",
          "SPTS",
          "SPTS",
          "SPTS",
          "SPTS",
          "SPTS",
          "SPTS",
          "SPTS",
          "SPTS",
          "SPTS"
         ],
         "x0": " ",
         "xaxis": "x2",
         "y": [
          0.94101775,
          0.93915225,
          0.9383217499999998,
          0.9419745,
          0.93905975,
          0.93410425,
          0.93701375,
          0.93422825,
          0.933420375,
          0.93854125,
          0.93915825,
          0.9403745000000002,
          0.93386475,
          0.93972975,
          0.9379915,
          0.938272625,
          0.93676425,
          0.93294475,
          0.9354445,
          0.93863525
         ],
         "y0": " ",
         "yaxis": "y2"
        },
        {
         "alignmentgroup": "True",
         "hovertemplate": "Method=%{x}<br>Metric=LSUN<br>Model=xception<br>Value=%{y}<extra></extra>",
         "legendgroup": "SPTS",
         "marker": {
          "color": "#EF553B"
         },
         "name": "SPTS",
         "notched": false,
         "offsetgroup": "SPTS",
         "orientation": "v",
         "showlegend": false,
         "type": "box",
         "x": [
          "SPTS",
          "SPTS",
          "SPTS",
          "SPTS",
          "SPTS",
          "SPTS",
          "SPTS",
          "SPTS",
          "SPTS",
          "SPTS",
          "SPTS",
          "SPTS",
          "SPTS",
          "SPTS",
          "SPTS",
          "SPTS",
          "SPTS",
          "SPTS",
          "SPTS",
          "SPTS"
         ],
         "x0": " ",
         "xaxis": "x3",
         "y": [
          0.8932592500000001,
          0.8946475,
          0.8887555,
          0.8980764999999999,
          0.89293525,
          0.8934245000000001,
          0.893297,
          0.8866620000000001,
          0.8882709999999999,
          0.8947944999999999,
          0.8955542500000001,
          0.89136975,
          0.8891239999999999,
          0.8847560000000001,
          0.88836125,
          0.8892490000000001,
          0.89155,
          0.89017425,
          0.892485,
          0.89591875
         ],
         "y0": " ",
         "yaxis": "y3"
        },
        {
         "alignmentgroup": "True",
         "hovertemplate": "Method=%{x}<br>Metric=LSUN<br>Model=densenet161<br>Value=%{y}<extra></extra>",
         "legendgroup": "SPTS",
         "marker": {
          "color": "#EF553B"
         },
         "name": "SPTS",
         "notched": false,
         "offsetgroup": "SPTS",
         "orientation": "v",
         "showlegend": false,
         "type": "box",
         "x": [
          "SPTS",
          "SPTS",
          "SPTS",
          "SPTS",
          "SPTS",
          "SPTS",
          "SPTS",
          "SPTS",
          "SPTS",
          "SPTS",
          "SPTS",
          "SPTS",
          "SPTS",
          "SPTS",
          "SPTS",
          "SPTS",
          "SPTS",
          "SPTS",
          "SPTS",
          "SPTS"
         ],
         "x0": " ",
         "xaxis": "x4",
         "y": [
          0.928361,
          0.92606875,
          0.92729425,
          0.9326475,
          0.924015,
          0.9248015,
          0.92475825,
          0.92611375,
          0.91711625,
          0.926126875,
          0.92676375,
          0.9232415,
          0.919977,
          0.927461,
          0.925558,
          0.92952,
          0.92364675,
          0.91982825,
          0.92506025,
          0.9238405
         ],
         "y0": " ",
         "yaxis": "y4"
        },
        {
         "alignmentgroup": "True",
         "hovertemplate": "Method=%{x}<br>Metric=LSUN<br>Model=inceptionresnetv2<br>Value=%{y}<extra></extra>",
         "legendgroup": "SPTS",
         "marker": {
          "color": "#EF553B"
         },
         "name": "SPTS",
         "notched": false,
         "offsetgroup": "SPTS",
         "orientation": "v",
         "showlegend": false,
         "type": "box",
         "x": [
          "SPTS",
          "SPTS",
          "SPTS",
          "SPTS",
          "SPTS",
          "SPTS",
          "SPTS",
          "SPTS",
          "SPTS",
          "SPTS",
          "SPTS",
          "SPTS",
          "SPTS",
          "SPTS",
          "SPTS",
          "SPTS",
          "SPTS",
          "SPTS",
          "SPTS",
          "SPTS"
         ],
         "x0": " ",
         "xaxis": "x5",
         "y": [
          0.9215355,
          0.918412,
          0.921338,
          0.927669,
          0.922571875,
          0.91774475,
          0.9227905,
          0.91962375,
          0.917411875,
          0.9203325,
          0.9239965,
          0.91878575,
          0.92257025,
          0.92155475,
          0.91957125,
          0.92149875,
          0.92061,
          0.919776,
          0.9156085,
          0.91910625
         ],
         "y0": " ",
         "yaxis": "y5"
        },
        {
         "alignmentgroup": "True",
         "hovertemplate": "Method=%{x}<br>Metric=ECE<br>Model=resnet152<br>Value=%{y}<extra></extra>",
         "legendgroup": "SP1",
         "marker": {
          "color": "#00cc96"
         },
         "name": "SP1",
         "notched": false,
         "offsetgroup": "SP1",
         "orientation": "v",
         "showlegend": true,
         "type": "box",
         "x": [
          "SP1",
          "SP1",
          "SP1",
          "SP1",
          "SP1",
          "SP1",
          "SP1",
          "SP1",
          "SP1",
          "SP1",
          "SP1",
          "SP1",
          "SP1",
          "SP1",
          "SP1",
          "SP1",
          "SP1",
          "SP1",
          "SP1",
          "SP1"
         ],
         "x0": " ",
         "xaxis": "x11",
         "y": [
          0.0204228218644857,
          0.0302715115249156,
          0.0180175621062517,
          0.0328558646142482,
          0.026183757930994,
          0.0265667047351598,
          0.0210359822958707,
          0.0432670898735523,
          0.0237618014216423,
          0.0434373244643211,
          0.024446852505207,
          0.0335089936852455,
          0.0339622944593429,
          0.0187710355967283,
          0.0183482952415943,
          0.024903368204832,
          0.0234554149210453,
          0.0211447887122631,
          0.0268965922296047,
          0.0294687952846288
         ],
         "y0": " ",
         "yaxis": "y11"
        },
        {
         "alignmentgroup": "True",
         "hovertemplate": "Method=%{x}<br>Metric=ECE<br>Model=seresnet152<br>Value=%{y}<extra></extra>",
         "legendgroup": "SP1",
         "marker": {
          "color": "#00cc96"
         },
         "name": "SP1",
         "notched": false,
         "offsetgroup": "SP1",
         "orientation": "v",
         "showlegend": false,
         "type": "box",
         "x": [
          "SP1",
          "SP1",
          "SP1",
          "SP1",
          "SP1",
          "SP1",
          "SP1",
          "SP1",
          "SP1",
          "SP1",
          "SP1",
          "SP1",
          "SP1",
          "SP1",
          "SP1",
          "SP1",
          "SP1",
          "SP1",
          "SP1",
          "SP1"
         ],
         "x0": " ",
         "xaxis": "x12",
         "y": [
          0.0223352015018463,
          0.0263946074992418,
          0.0337535440921783,
          0.0210710577666759,
          0.0273489709943532,
          0.0273306742310524,
          0.025137785822153,
          0.027057334780693,
          0.0324259288609027,
          0.02521413564682,
          0.0248088296502828,
          0.019226100295782,
          0.0207068920135498,
          0.0240145996212959,
          0.0213749017566442,
          0.0228376574814319,
          0.0265404768288135,
          0.0222884267568588,
          0.0216009896248579,
          0.0264717731624841
         ],
         "y0": " ",
         "yaxis": "y12"
        },
        {
         "alignmentgroup": "True",
         "hovertemplate": "Method=%{x}<br>Metric=ECE<br>Model=xception<br>Value=%{y}<extra></extra>",
         "legendgroup": "SP1",
         "marker": {
          "color": "#00cc96"
         },
         "name": "SP1",
         "notched": false,
         "offsetgroup": "SP1",
         "orientation": "v",
         "showlegend": false,
         "type": "box",
         "x": [
          "SP1",
          "SP1",
          "SP1",
          "SP1",
          "SP1",
          "SP1",
          "SP1",
          "SP1",
          "SP1",
          "SP1",
          "SP1",
          "SP1",
          "SP1",
          "SP1",
          "SP1",
          "SP1",
          "SP1",
          "SP1",
          "SP1",
          "SP1"
         ],
         "x0": " ",
         "xaxis": "x13",
         "y": [
          0.0128670157864689,
          0.0177917331457138,
          0.0273318924009799,
          0.0199162755161523,
          0.0164913199841976,
          0.0287578217685222,
          0.0168143641203641,
          0.0203652568161487,
          0.0250961519777774,
          0.0212852898985147,
          0.0250631645321846,
          0.0157796237617731,
          0.0164452157914638,
          0.017262727022171,
          0.0180589240044355,
          0.0281619429588317,
          0.0208214242011308,
          0.0271805562078952,
          0.0232844371348619,
          0.019587829709053
         ],
         "y0": " ",
         "yaxis": "y13"
        },
        {
         "alignmentgroup": "True",
         "hovertemplate": "Method=%{x}<br>Metric=ECE<br>Model=densenet161<br>Value=%{y}<extra></extra>",
         "legendgroup": "SP1",
         "marker": {
          "color": "#00cc96"
         },
         "name": "SP1",
         "notched": false,
         "offsetgroup": "SP1",
         "orientation": "v",
         "showlegend": false,
         "type": "box",
         "x": [
          "SP1",
          "SP1",
          "SP1",
          "SP1",
          "SP1",
          "SP1",
          "SP1",
          "SP1",
          "SP1",
          "SP1",
          "SP1",
          "SP1",
          "SP1",
          "SP1",
          "SP1",
          "SP1",
          "SP1",
          "SP1",
          "SP1",
          "SP1"
         ],
         "x0": " ",
         "xaxis": "x14",
         "y": [
          0.016759855672717,
          0.0168018490076065,
          0.0227714963257312,
          0.0203349255025386,
          0.0274694208055734,
          0.0242166016250848,
          0.0170514453202486,
          0.0322509706020355,
          0.0159637592732906,
          0.0117250513285398,
          0.0243004951626062,
          0.022201769053936,
          0.0142671754583716,
          0.0175003502517938,
          0.0209597051143646,
          0.0260766949504613,
          0.0193730890750885,
          0.0186772905290126,
          0.0200551152229309,
          0.0251794718205928
         ],
         "y0": " ",
         "yaxis": "y14"
        },
        {
         "alignmentgroup": "True",
         "hovertemplate": "Method=%{x}<br>Metric=ECE<br>Model=inceptionresnetv2<br>Value=%{y}<extra></extra>",
         "legendgroup": "SP1",
         "marker": {
          "color": "#00cc96"
         },
         "name": "SP1",
         "notched": false,
         "offsetgroup": "SP1",
         "orientation": "v",
         "showlegend": false,
         "type": "box",
         "x": [
          "SP1",
          "SP1",
          "SP1",
          "SP1",
          "SP1",
          "SP1",
          "SP1",
          "SP1",
          "SP1",
          "SP1",
          "SP1",
          "SP1",
          "SP1",
          "SP1",
          "SP1",
          "SP1",
          "SP1",
          "SP1",
          "SP1",
          "SP1"
         ],
         "x0": " ",
         "xaxis": "x15",
         "y": [
          0.0246329139918088,
          0.0303619410842657,
          0.0272015202790498,
          0.0328646637499332,
          0.0306784715503454,
          0.0242255739867687,
          0.0216419491916894,
          0.0300900712609291,
          0.024710664525628,
          0.0239423494786024,
          0.0189553182572126,
          0.022170566022396,
          0.0141707472503185,
          0.0277544427663087,
          0.0290362760424613,
          0.0194371901452541,
          0.0282040499150753,
          0.0229681059718132,
          0.0281128548085689,
          0.0216235574334859
         ],
         "y0": " ",
         "yaxis": "y15"
        },
        {
         "alignmentgroup": "True",
         "hovertemplate": "Method=%{x}<br>Metric=SVHN<br>Model=resnet152<br>Value=%{y}<extra></extra>",
         "legendgroup": "SP1",
         "marker": {
          "color": "#00cc96"
         },
         "name": "SP1",
         "notched": false,
         "offsetgroup": "SP1",
         "orientation": "v",
         "showlegend": false,
         "type": "box",
         "x": [
          "SP1",
          "SP1",
          "SP1",
          "SP1",
          "SP1",
          "SP1",
          "SP1",
          "SP1",
          "SP1",
          "SP1",
          "SP1",
          "SP1",
          "SP1",
          "SP1",
          "SP1",
          "SP1",
          "SP1",
          "SP1",
          "SP1",
          "SP1"
         ],
         "x0": " ",
         "xaxis": "x6",
         "y": [
          0.8890494999999998,
          0.88945925,
          0.89104825,
          0.8925422500000001,
          0.8903756250000001,
          0.88823575,
          0.888855,
          0.885256,
          0.87725,
          0.887871,
          0.8923005,
          0.8858017499999999,
          0.886745625,
          0.8920250000000001,
          0.8849127499999999,
          0.888399,
          0.8831791250000001,
          0.8798,
          0.8822430000000001,
          0.8842682500000001
         ],
         "y0": " ",
         "yaxis": "y6"
        },
        {
         "alignmentgroup": "True",
         "hovertemplate": "Method=%{x}<br>Metric=SVHN<br>Model=seresnet152<br>Value=%{y}<extra></extra>",
         "legendgroup": "SP1",
         "marker": {
          "color": "#00cc96"
         },
         "name": "SP1",
         "notched": false,
         "offsetgroup": "SP1",
         "orientation": "v",
         "showlegend": false,
         "type": "box",
         "x": [
          "SP1",
          "SP1",
          "SP1",
          "SP1",
          "SP1",
          "SP1",
          "SP1",
          "SP1",
          "SP1",
          "SP1",
          "SP1",
          "SP1",
          "SP1",
          "SP1",
          "SP1",
          "SP1",
          "SP1",
          "SP1",
          "SP1",
          "SP1"
         ],
         "x0": " ",
         "xaxis": "x7",
         "y": [
          0.90699325,
          0.90554675,
          0.90324175,
          0.90768325,
          0.9051055,
          0.8988662500000001,
          0.902574,
          0.8994834999999999,
          0.8976265000000001,
          0.904515125,
          0.906008,
          0.906056,
          0.898546625,
          0.903409,
          0.9033605,
          0.903609,
          0.901296,
          0.8971549999999998,
          0.8995717500000001,
          0.9028452500000002
         ],
         "y0": " ",
         "yaxis": "y7"
        },
        {
         "alignmentgroup": "True",
         "hovertemplate": "Method=%{x}<br>Metric=SVHN<br>Model=xception<br>Value=%{y}<extra></extra>",
         "legendgroup": "SP1",
         "marker": {
          "color": "#00cc96"
         },
         "name": "SP1",
         "notched": false,
         "offsetgroup": "SP1",
         "orientation": "v",
         "showlegend": false,
         "type": "box",
         "x": [
          "SP1",
          "SP1",
          "SP1",
          "SP1",
          "SP1",
          "SP1",
          "SP1",
          "SP1",
          "SP1",
          "SP1",
          "SP1",
          "SP1",
          "SP1",
          "SP1",
          "SP1",
          "SP1",
          "SP1",
          "SP1",
          "SP1",
          "SP1"
         ],
         "x0": " ",
         "xaxis": "x8",
         "y": [
          0.8697197499999999,
          0.8720564999999999,
          0.8642348749999998,
          0.8755372499999999,
          0.86949675,
          0.8703960000000002,
          0.8706291249999999,
          0.863499,
          0.8651115,
          0.8717775,
          0.87340075,
          0.868776,
          0.86609175,
          0.86027025,
          0.86428625,
          0.8650764999999999,
          0.8673250000000001,
          0.86631675,
          0.868993,
          0.8724672499999999
         ],
         "y0": " ",
         "yaxis": "y8"
        },
        {
         "alignmentgroup": "True",
         "hovertemplate": "Method=%{x}<br>Metric=SVHN<br>Model=densenet161<br>Value=%{y}<extra></extra>",
         "legendgroup": "SP1",
         "marker": {
          "color": "#00cc96"
         },
         "name": "SP1",
         "notched": false,
         "offsetgroup": "SP1",
         "orientation": "v",
         "showlegend": false,
         "type": "box",
         "x": [
          "SP1",
          "SP1",
          "SP1",
          "SP1",
          "SP1",
          "SP1",
          "SP1",
          "SP1",
          "SP1",
          "SP1",
          "SP1",
          "SP1",
          "SP1",
          "SP1",
          "SP1",
          "SP1",
          "SP1",
          "SP1",
          "SP1",
          "SP1"
         ],
         "x0": " ",
         "xaxis": "x9",
         "y": [
          0.909847875,
          0.90824025,
          0.90929975,
          0.914447125,
          0.9056,
          0.90643875,
          0.9063385,
          0.90869825,
          0.8984252500000001,
          0.90709975,
          0.90916425,
          0.9051795,
          0.90128175,
          0.90877225,
          0.90773225,
          0.910978,
          0.90461325,
          0.9004901249999999,
          0.90691925,
          0.904816375
         ],
         "y0": " ",
         "yaxis": "y9"
        },
        {
         "alignmentgroup": "True",
         "hovertemplate": "Method=%{x}<br>Metric=SVHN<br>Model=inceptionresnetv2<br>Value=%{y}<extra></extra>",
         "legendgroup": "SP1",
         "marker": {
          "color": "#00cc96"
         },
         "name": "SP1",
         "notched": false,
         "offsetgroup": "SP1",
         "orientation": "v",
         "showlegend": false,
         "type": "box",
         "x": [
          "SP1",
          "SP1",
          "SP1",
          "SP1",
          "SP1",
          "SP1",
          "SP1",
          "SP1",
          "SP1",
          "SP1",
          "SP1",
          "SP1",
          "SP1",
          "SP1",
          "SP1",
          "SP1",
          "SP1",
          "SP1",
          "SP1",
          "SP1"
         ],
         "x0": " ",
         "xaxis": "x10",
         "y": [
          0.8892410000000002,
          0.88615425,
          0.88874275,
          0.8963007500000001,
          0.89090625,
          0.88508425,
          0.8907235,
          0.88780375,
          0.8851069999999999,
          0.88900425,
          0.8932668750000001,
          0.8881209999999999,
          0.89012675,
          0.8890359999999999,
          0.8864259999999999,
          0.888582,
          0.8872802500000001,
          0.88664775,
          0.8832564999999999,
          0.8865122499999999
         ],
         "y0": " ",
         "yaxis": "y10"
        },
        {
         "alignmentgroup": "True",
         "hovertemplate": "Method=%{x}<br>Metric=LSUN<br>Model=resnet152<br>Value=%{y}<extra></extra>",
         "legendgroup": "SP1",
         "marker": {
          "color": "#00cc96"
         },
         "name": "SP1",
         "notched": false,
         "offsetgroup": "SP1",
         "orientation": "v",
         "showlegend": false,
         "type": "box",
         "x": [
          "SP1",
          "SP1",
          "SP1",
          "SP1",
          "SP1",
          "SP1",
          "SP1",
          "SP1",
          "SP1",
          "SP1",
          "SP1",
          "SP1",
          "SP1",
          "SP1",
          "SP1",
          "SP1",
          "SP1",
          "SP1",
          "SP1",
          "SP1"
         ],
         "x0": " ",
         "xaxis": "x",
         "y": [
          0.9191185,
          0.91910875,
          0.92057675,
          0.922481,
          0.920025,
          0.918258,
          0.91899975,
          0.914513,
          0.9090065000000002,
          0.9178375,
          0.92127525,
          0.9161867500000002,
          0.915807,
          0.92186275,
          0.915853,
          0.9200280000000002,
          0.91508775,
          0.910984,
          0.91393725,
          0.91518675
         ],
         "y0": " ",
         "yaxis": "y"
        },
        {
         "alignmentgroup": "True",
         "hovertemplate": "Method=%{x}<br>Metric=LSUN<br>Model=seresnet152<br>Value=%{y}<extra></extra>",
         "legendgroup": "SP1",
         "marker": {
          "color": "#00cc96"
         },
         "name": "SP1",
         "notched": false,
         "offsetgroup": "SP1",
         "orientation": "v",
         "showlegend": false,
         "type": "box",
         "x": [
          "SP1",
          "SP1",
          "SP1",
          "SP1",
          "SP1",
          "SP1",
          "SP1",
          "SP1",
          "SP1",
          "SP1",
          "SP1",
          "SP1",
          "SP1",
          "SP1",
          "SP1",
          "SP1",
          "SP1",
          "SP1",
          "SP1",
          "SP1"
         ],
         "x0": " ",
         "xaxis": "x2",
         "y": [
          0.93566725,
          0.93371425,
          0.93219925,
          0.9362215000000002,
          0.93356425,
          0.928529125,
          0.93136175,
          0.9289685,
          0.92801175,
          0.93337775,
          0.93389675,
          0.93519075,
          0.92813875,
          0.9339615,
          0.93249575,
          0.9328467500000002,
          0.93113125,
          0.92726125,
          0.92943625,
          0.93267425
         ],
         "y0": " ",
         "yaxis": "y2"
        },
        {
         "alignmentgroup": "True",
         "hovertemplate": "Method=%{x}<br>Metric=LSUN<br>Model=xception<br>Value=%{y}<extra></extra>",
         "legendgroup": "SP1",
         "marker": {
          "color": "#00cc96"
         },
         "name": "SP1",
         "notched": false,
         "offsetgroup": "SP1",
         "orientation": "v",
         "showlegend": false,
         "type": "box",
         "x": [
          "SP1",
          "SP1",
          "SP1",
          "SP1",
          "SP1",
          "SP1",
          "SP1",
          "SP1",
          "SP1",
          "SP1",
          "SP1",
          "SP1",
          "SP1",
          "SP1",
          "SP1",
          "SP1",
          "SP1",
          "SP1",
          "SP1",
          "SP1"
         ],
         "x0": " ",
         "xaxis": "x3",
         "y": [
          0.89133625,
          0.8929392500000001,
          0.8869601250000001,
          0.89635475,
          0.8911315,
          0.891921375,
          0.8916109999999999,
          0.8849147500000001,
          0.886524375,
          0.8929977499999999,
          0.8935882499999999,
          0.8897634999999999,
          0.8875160000000001,
          0.883052,
          0.8864555000000001,
          0.887380625,
          0.8895154999999999,
          0.8880275000000001,
          0.89075725,
          0.8939142499999998
         ],
         "y0": " ",
         "yaxis": "y3"
        },
        {
         "alignmentgroup": "True",
         "hovertemplate": "Method=%{x}<br>Metric=LSUN<br>Model=densenet161<br>Value=%{y}<extra></extra>",
         "legendgroup": "SP1",
         "marker": {
          "color": "#00cc96"
         },
         "name": "SP1",
         "notched": false,
         "offsetgroup": "SP1",
         "orientation": "v",
         "showlegend": false,
         "type": "box",
         "x": [
          "SP1",
          "SP1",
          "SP1",
          "SP1",
          "SP1",
          "SP1",
          "SP1",
          "SP1",
          "SP1",
          "SP1",
          "SP1",
          "SP1",
          "SP1",
          "SP1",
          "SP1",
          "SP1",
          "SP1",
          "SP1",
          "SP1",
          "SP1"
         ],
         "x0": " ",
         "xaxis": "x4",
         "y": [
          0.92567375,
          0.92362675,
          0.92491575,
          0.930627,
          0.92208575,
          0.9223575000000002,
          0.92242125,
          0.9240915,
          0.9148615,
          0.92366475,
          0.92450725,
          0.92114625,
          0.9175205,
          0.924924875,
          0.92345725,
          0.927119,
          0.92101525,
          0.91727425,
          0.923115,
          0.921208375
         ],
         "y0": " ",
         "yaxis": "y4"
        },
        {
         "alignmentgroup": "True",
         "hovertemplate": "Method=%{x}<br>Metric=LSUN<br>Model=inceptionresnetv2<br>Value=%{y}<extra></extra>",
         "legendgroup": "SP1",
         "marker": {
          "color": "#00cc96"
         },
         "name": "SP1",
         "notched": false,
         "offsetgroup": "SP1",
         "orientation": "v",
         "showlegend": false,
         "type": "box",
         "x": [
          "SP1",
          "SP1",
          "SP1",
          "SP1",
          "SP1",
          "SP1",
          "SP1",
          "SP1",
          "SP1",
          "SP1",
          "SP1",
          "SP1",
          "SP1",
          "SP1",
          "SP1",
          "SP1",
          "SP1",
          "SP1",
          "SP1",
          "SP1"
         ],
         "x0": " ",
         "xaxis": "x5",
         "y": [
          0.917912,
          0.91527875,
          0.91764475,
          0.92454175,
          0.91960625,
          0.914679,
          0.9194145,
          0.9165260000000002,
          0.91402275,
          0.9170855,
          0.921013125,
          0.91572525,
          0.91930425,
          0.918046,
          0.9158902499999998,
          0.91831675,
          0.91710675,
          0.91618525,
          0.91234575,
          0.91559675
         ],
         "y0": " ",
         "yaxis": "y5"
        },
        {
         "alignmentgroup": "True",
         "hovertemplate": "Method=%{x}<br>Metric=ECE<br>Model=resnet152<br>Value=%{y}<extra></extra>",
         "legendgroup": "SPU",
         "marker": {
          "color": "#ab63fa"
         },
         "name": "SPU",
         "notched": false,
         "offsetgroup": "SPU",
         "orientation": "v",
         "showlegend": true,
         "type": "box",
         "x": [
          "SPU",
          "SPU",
          "SPU",
          "SPU",
          "SPU",
          "SPU",
          "SPU",
          "SPU",
          "SPU",
          "SPU",
          "SPU",
          "SPU",
          "SPU",
          "SPU",
          "SPU",
          "SPU",
          "SPU",
          "SPU",
          "SPU",
          "SPU"
         ],
         "x0": " ",
         "xaxis": "x11",
         "y": [
          0.0186943523585796,
          0.0243043713271617,
          0.0137804830446839,
          0.0353383608162403,
          0.0252205245196819,
          0.0219987668097019,
          0.020066050812602,
          0.0410339720547199,
          0.0195692367851734,
          0.0393500924110412,
          0.0299639999866485,
          0.0299626104533672,
          0.0319741033017635,
          0.0191368944942951,
          0.019436277449131,
          0.0245162919163703,
          0.0237049050629138,
          0.0233760233968496,
          0.0295431725680828,
          0.0279156733304262
         ],
         "y0": " ",
         "yaxis": "y11"
        },
        {
         "alignmentgroup": "True",
         "hovertemplate": "Method=%{x}<br>Metric=ECE<br>Model=seresnet152<br>Value=%{y}<extra></extra>",
         "legendgroup": "SPU",
         "marker": {
          "color": "#ab63fa"
         },
         "name": "SPU",
         "notched": false,
         "offsetgroup": "SPU",
         "orientation": "v",
         "showlegend": false,
         "type": "box",
         "x": [
          "SPU",
          "SPU",
          "SPU",
          "SPU",
          "SPU",
          "SPU",
          "SPU",
          "SPU",
          "SPU",
          "SPU",
          "SPU",
          "SPU",
          "SPU",
          "SPU",
          "SPU",
          "SPU",
          "SPU",
          "SPU",
          "SPU",
          "SPU"
         ],
         "x0": " ",
         "xaxis": "x12",
         "y": [
          0.0227299910038709,
          0.0272063985466957,
          0.0322575271129608,
          0.0206203553825616,
          0.0255116838961839,
          0.0257984325289726,
          0.0262842010706663,
          0.0261813662946224,
          0.0313101038336753,
          0.0293748192489147,
          0.0260430313646793,
          0.0176334902644157,
          0.0207712333649396,
          0.0219469256699085,
          0.0187775082886219,
          0.0222701299935579,
          0.0259622335433959,
          0.0234661009162664,
          0.021939093247056,
          0.0237978585064411
         ],
         "y0": " ",
         "yaxis": "y12"
        },
        {
         "alignmentgroup": "True",
         "hovertemplate": "Method=%{x}<br>Metric=ECE<br>Model=xception<br>Value=%{y}<extra></extra>",
         "legendgroup": "SPU",
         "marker": {
          "color": "#ab63fa"
         },
         "name": "SPU",
         "notched": false,
         "offsetgroup": "SPU",
         "orientation": "v",
         "showlegend": false,
         "type": "box",
         "x": [
          "SPU",
          "SPU",
          "SPU",
          "SPU",
          "SPU",
          "SPU",
          "SPU",
          "SPU",
          "SPU",
          "SPU",
          "SPU",
          "SPU",
          "SPU",
          "SPU",
          "SPU",
          "SPU",
          "SPU",
          "SPU",
          "SPU",
          "SPU"
         ],
         "x0": " ",
         "xaxis": "x13",
         "y": [
          0.0205005183815956,
          0.0162286832928657,
          0.0278895460069179,
          0.0210447218269109,
          0.0202886909246444,
          0.0237232130020856,
          0.0131328487768769,
          0.0270970314741134,
          0.0193243492394685,
          0.0258396286517381,
          0.0293358601629734,
          0.019549511373043,
          0.0131163299083709,
          0.0134887564927339,
          0.0177312474697828,
          0.0226132180541753,
          0.0258177779614925,
          0.0212919283658266,
          0.0270509328693151,
          0.021719180047512
         ],
         "y0": " ",
         "yaxis": "y13"
        },
        {
         "alignmentgroup": "True",
         "hovertemplate": "Method=%{x}<br>Metric=ECE<br>Model=densenet161<br>Value=%{y}<extra></extra>",
         "legendgroup": "SPU",
         "marker": {
          "color": "#ab63fa"
         },
         "name": "SPU",
         "notched": false,
         "offsetgroup": "SPU",
         "orientation": "v",
         "showlegend": false,
         "type": "box",
         "x": [
          "SPU",
          "SPU",
          "SPU",
          "SPU",
          "SPU",
          "SPU",
          "SPU",
          "SPU",
          "SPU",
          "SPU",
          "SPU",
          "SPU",
          "SPU",
          "SPU",
          "SPU",
          "SPU",
          "SPU",
          "SPU",
          "SPU",
          "SPU"
         ],
         "x0": " ",
         "xaxis": "x14",
         "y": [
          0.0167035292834043,
          0.015726663172245,
          0.0212708953768014,
          0.0180030036717653,
          0.02263112552464,
          0.0202778801321983,
          0.0194634012877941,
          0.0331034436821937,
          0.0155446520075201,
          0.0093498397618532,
          0.0286254920065403,
          0.0161891318857669,
          0.0163447558879852,
          0.0119048608466982,
          0.021588210016489,
          0.0235363766551017,
          0.0179419312626123,
          0.0209089666604995,
          0.0188592839986085,
          0.0242295451462268
         ],
         "y0": " ",
         "yaxis": "y14"
        },
        {
         "alignmentgroup": "True",
         "hovertemplate": "Method=%{x}<br>Metric=ECE<br>Model=inceptionresnetv2<br>Value=%{y}<extra></extra>",
         "legendgroup": "SPU",
         "marker": {
          "color": "#ab63fa"
         },
         "name": "SPU",
         "notched": false,
         "offsetgroup": "SPU",
         "orientation": "v",
         "showlegend": false,
         "type": "box",
         "x": [
          "SPU",
          "SPU",
          "SPU",
          "SPU",
          "SPU",
          "SPU",
          "SPU",
          "SPU",
          "SPU",
          "SPU",
          "SPU",
          "SPU",
          "SPU",
          "SPU",
          "SPU",
          "SPU",
          "SPU",
          "SPU",
          "SPU",
          "SPU"
         ],
         "x0": " ",
         "xaxis": "x15",
         "y": [
          0.0225186869502067,
          0.0274128913879394,
          0.0283608566969633,
          0.0317810736596584,
          0.0296937841922044,
          0.0180266611278057,
          0.0144689390435814,
          0.0286005642265081,
          0.0245726164430379,
          0.0190826188772916,
          0.019137741997838,
          0.019324542954564,
          0.0107119921594858,
          0.0180852152407169,
          0.0272286552935838,
          0.0188209563493728,
          0.0279946774244308,
          0.0277403891086578,
          0.0278170481324195,
          0.0210736840963363
         ],
         "y0": " ",
         "yaxis": "y15"
        },
        {
         "alignmentgroup": "True",
         "hovertemplate": "Method=%{x}<br>Metric=SVHN<br>Model=resnet152<br>Value=%{y}<extra></extra>",
         "legendgroup": "SPU",
         "marker": {
          "color": "#ab63fa"
         },
         "name": "SPU",
         "notched": false,
         "offsetgroup": "SPU",
         "orientation": "v",
         "showlegend": false,
         "type": "box",
         "x": [
          "SPU",
          "SPU",
          "SPU",
          "SPU",
          "SPU",
          "SPU",
          "SPU",
          "SPU",
          "SPU",
          "SPU",
          "SPU",
          "SPU",
          "SPU",
          "SPU",
          "SPU",
          "SPU",
          "SPU",
          "SPU",
          "SPU",
          "SPU"
         ],
         "x0": " ",
         "xaxis": "x6",
         "y": [
          0.8883542500000001,
          0.88895575,
          0.890766625,
          0.89240175,
          0.8899779999999999,
          0.8880615000000001,
          0.888569,
          0.8851289999999999,
          0.8768372499999999,
          0.8874467500000001,
          0.8920375,
          0.8857105000000001,
          0.8861477499999999,
          0.8915835,
          0.8844868749999999,
          0.88806125,
          0.88286175,
          0.8796087499999999,
          0.88187025,
          0.8840255
         ],
         "y0": " ",
         "yaxis": "y6"
        },
        {
         "alignmentgroup": "True",
         "hovertemplate": "Method=%{x}<br>Metric=SVHN<br>Model=seresnet152<br>Value=%{y}<extra></extra>",
         "legendgroup": "SPU",
         "marker": {
          "color": "#ab63fa"
         },
         "name": "SPU",
         "notched": false,
         "offsetgroup": "SPU",
         "orientation": "v",
         "showlegend": false,
         "type": "box",
         "x": [
          "SPU",
          "SPU",
          "SPU",
          "SPU",
          "SPU",
          "SPU",
          "SPU",
          "SPU",
          "SPU",
          "SPU",
          "SPU",
          "SPU",
          "SPU",
          "SPU",
          "SPU",
          "SPU",
          "SPU",
          "SPU",
          "SPU",
          "SPU"
         ],
         "x0": " ",
         "xaxis": "x7",
         "y": [
          0.90640675,
          0.904982,
          0.90276675,
          0.9075665,
          0.90447525,
          0.8983970000000001,
          0.9021215,
          0.8987692500000001,
          0.89715675,
          0.90386475,
          0.905738,
          0.90572775,
          0.89813125,
          0.90305925,
          0.9029435,
          0.90336675,
          0.900727375,
          0.89669675,
          0.898777,
          0.9022665
         ],
         "y0": " ",
         "yaxis": "y7"
        },
        {
         "alignmentgroup": "True",
         "hovertemplate": "Method=%{x}<br>Metric=SVHN<br>Model=xception<br>Value=%{y}<extra></extra>",
         "legendgroup": "SPU",
         "marker": {
          "color": "#ab63fa"
         },
         "name": "SPU",
         "notched": false,
         "offsetgroup": "SPU",
         "orientation": "v",
         "showlegend": false,
         "type": "box",
         "x": [
          "SPU",
          "SPU",
          "SPU",
          "SPU",
          "SPU",
          "SPU",
          "SPU",
          "SPU",
          "SPU",
          "SPU",
          "SPU",
          "SPU",
          "SPU",
          "SPU",
          "SPU",
          "SPU",
          "SPU",
          "SPU",
          "SPU",
          "SPU"
         ],
         "x0": " ",
         "xaxis": "x8",
         "y": [
          0.867736,
          0.8703294999999999,
          0.8624530000000001,
          0.87391425,
          0.86753875,
          0.8688802499999999,
          0.868637125,
          0.861687,
          0.863392,
          0.8696895,
          0.871717375,
          0.867318,
          0.864453125,
          0.8585562499999998,
          0.86242175,
          0.86294425,
          0.86482375,
          0.8640289999999999,
          0.867124,
          0.86990925
         ],
         "y0": " ",
         "yaxis": "y8"
        },
        {
         "alignmentgroup": "True",
         "hovertemplate": "Method=%{x}<br>Metric=SVHN<br>Model=densenet161<br>Value=%{y}<extra></extra>",
         "legendgroup": "SPU",
         "marker": {
          "color": "#ab63fa"
         },
         "name": "SPU",
         "notched": false,
         "offsetgroup": "SPU",
         "orientation": "v",
         "showlegend": false,
         "type": "box",
         "x": [
          "SPU",
          "SPU",
          "SPU",
          "SPU",
          "SPU",
          "SPU",
          "SPU",
          "SPU",
          "SPU",
          "SPU",
          "SPU",
          "SPU",
          "SPU",
          "SPU",
          "SPU",
          "SPU",
          "SPU",
          "SPU",
          "SPU",
          "SPU"
         ],
         "x0": " ",
         "xaxis": "x9",
         "y": [
          0.90836975,
          0.9069195,
          0.90828525,
          0.9139215,
          0.9047915,
          0.9053875,
          0.90534575,
          0.9077585,
          0.89763125,
          0.9059505,
          0.90837025,
          0.9044105,
          0.900216125,
          0.9075345,
          0.90654375,
          0.909957875,
          0.90311025,
          0.8994605,
          0.90593175,
          0.90356925
         ],
         "y0": " ",
         "yaxis": "y9"
        },
        {
         "alignmentgroup": "True",
         "hovertemplate": "Method=%{x}<br>Metric=SVHN<br>Model=inceptionresnetv2<br>Value=%{y}<extra></extra>",
         "legendgroup": "SPU",
         "marker": {
          "color": "#ab63fa"
         },
         "name": "SPU",
         "notched": false,
         "offsetgroup": "SPU",
         "orientation": "v",
         "showlegend": false,
         "type": "box",
         "x": [
          "SPU",
          "SPU",
          "SPU",
          "SPU",
          "SPU",
          "SPU",
          "SPU",
          "SPU",
          "SPU",
          "SPU",
          "SPU",
          "SPU",
          "SPU",
          "SPU",
          "SPU",
          "SPU",
          "SPU",
          "SPU",
          "SPU",
          "SPU"
         ],
         "x0": " ",
         "xaxis": "x10",
         "y": [
          0.8855069999999999,
          0.88288075,
          0.88495675,
          0.89342075,
          0.8878797500000002,
          0.8825560000000001,
          0.8872245000000001,
          0.8846282500000001,
          0.8820457500000001,
          0.885723375,
          0.8905862499999999,
          0.8852705,
          0.886787875,
          0.88550875,
          0.88263075,
          0.8857145,
          0.883864,
          0.8831197500000001,
          0.87972825,
          0.8832229999999999
         ],
         "y0": " ",
         "yaxis": "y10"
        },
        {
         "alignmentgroup": "True",
         "hovertemplate": "Method=%{x}<br>Metric=LSUN<br>Model=resnet152<br>Value=%{y}<extra></extra>",
         "legendgroup": "SPU",
         "marker": {
          "color": "#ab63fa"
         },
         "name": "SPU",
         "notched": false,
         "offsetgroup": "SPU",
         "orientation": "v",
         "showlegend": false,
         "type": "box",
         "x": [
          "SPU",
          "SPU",
          "SPU",
          "SPU",
          "SPU",
          "SPU",
          "SPU",
          "SPU",
          "SPU",
          "SPU",
          "SPU",
          "SPU",
          "SPU",
          "SPU",
          "SPU",
          "SPU",
          "SPU",
          "SPU",
          "SPU",
          "SPU"
         ],
         "x0": " ",
         "xaxis": "x",
         "y": [
          0.91786725,
          0.9180405,
          0.91981325,
          0.92184075,
          0.91908025,
          0.91746,
          0.918172,
          0.913777,
          0.9079415,
          0.9168055,
          0.92054225,
          0.91555625,
          0.91472075,
          0.920810625,
          0.914847875,
          0.91905575,
          0.913901,
          0.9103325,
          0.91282125,
          0.91424325
         ],
         "y0": " ",
         "yaxis": "y"
        },
        {
         "alignmentgroup": "True",
         "hovertemplate": "Method=%{x}<br>Metric=LSUN<br>Model=seresnet152<br>Value=%{y}<extra></extra>",
         "legendgroup": "SPU",
         "marker": {
          "color": "#ab63fa"
         },
         "name": "SPU",
         "notched": false,
         "offsetgroup": "SPU",
         "orientation": "v",
         "showlegend": false,
         "type": "box",
         "x": [
          "SPU",
          "SPU",
          "SPU",
          "SPU",
          "SPU",
          "SPU",
          "SPU",
          "SPU",
          "SPU",
          "SPU",
          "SPU",
          "SPU",
          "SPU",
          "SPU",
          "SPU",
          "SPU",
          "SPU",
          "SPU",
          "SPU",
          "SPU"
         ],
         "x0": " ",
         "xaxis": "x2",
         "y": [
          0.93497,
          0.933069375,
          0.93166425,
          0.936075,
          0.932782,
          0.92793975,
          0.93078575,
          0.92808925,
          0.92742775,
          0.932627125,
          0.933534,
          0.934774,
          0.9276535,
          0.9335165,
          0.93194025,
          0.93255825,
          0.93041875,
          0.92670825,
          0.92851075,
          0.93202225
         ],
         "y0": " ",
         "yaxis": "y2"
        },
        {
         "alignmentgroup": "True",
         "hovertemplate": "Method=%{x}<br>Metric=LSUN<br>Model=xception<br>Value=%{y}<extra></extra>",
         "legendgroup": "SPU",
         "marker": {
          "color": "#ab63fa"
         },
         "name": "SPU",
         "notched": false,
         "offsetgroup": "SPU",
         "orientation": "v",
         "showlegend": false,
         "type": "box",
         "x": [
          "SPU",
          "SPU",
          "SPU",
          "SPU",
          "SPU",
          "SPU",
          "SPU",
          "SPU",
          "SPU",
          "SPU",
          "SPU",
          "SPU",
          "SPU",
          "SPU",
          "SPU",
          "SPU",
          "SPU",
          "SPU",
          "SPU",
          "SPU"
         ],
         "x0": " ",
         "xaxis": "x3",
         "y": [
          0.8892429999999998,
          0.8910985,
          0.8849495000000001,
          0.89448025,
          0.88895475,
          0.8902794999999999,
          0.8895412500000001,
          0.882923,
          0.8846640000000001,
          0.8907836250000001,
          0.8916750000000001,
          0.888045,
          0.885704,
          0.8812612500000001,
          0.8843192499999999,
          0.8851079999999999,
          0.88690775,
          0.8856222499999999,
          0.8886097499999999,
          0.89130975
         ],
         "y0": " ",
         "yaxis": "y3"
        },
        {
         "alignmentgroup": "True",
         "hovertemplate": "Method=%{x}<br>Metric=LSUN<br>Model=densenet161<br>Value=%{y}<extra></extra>",
         "legendgroup": "SPU",
         "marker": {
          "color": "#ab63fa"
         },
         "name": "SPU",
         "notched": false,
         "offsetgroup": "SPU",
         "orientation": "v",
         "showlegend": false,
         "type": "box",
         "x": [
          "SPU",
          "SPU",
          "SPU",
          "SPU",
          "SPU",
          "SPU",
          "SPU",
          "SPU",
          "SPU",
          "SPU",
          "SPU",
          "SPU",
          "SPU",
          "SPU",
          "SPU",
          "SPU",
          "SPU",
          "SPU",
          "SPU",
          "SPU"
         ],
         "x0": " ",
         "xaxis": "x4",
         "y": [
          0.92383775,
          0.921867625,
          0.92356425,
          0.9297125,
          0.920863,
          0.92097575,
          0.92103425,
          0.922752,
          0.91372175,
          0.92214725,
          0.92336575,
          0.91995775,
          0.916041,
          0.92330875,
          0.92184925,
          0.92572275,
          0.91907275,
          0.9159395,
          0.92165525,
          0.91961
         ],
         "y0": " ",
         "yaxis": "y4"
        },
        {
         "alignmentgroup": "True",
         "hovertemplate": "Method=%{x}<br>Metric=LSUN<br>Model=inceptionresnetv2<br>Value=%{y}<extra></extra>",
         "legendgroup": "SPU",
         "marker": {
          "color": "#ab63fa"
         },
         "name": "SPU",
         "notched": false,
         "offsetgroup": "SPU",
         "orientation": "v",
         "showlegend": false,
         "type": "box",
         "x": [
          "SPU",
          "SPU",
          "SPU",
          "SPU",
          "SPU",
          "SPU",
          "SPU",
          "SPU",
          "SPU",
          "SPU",
          "SPU",
          "SPU",
          "SPU",
          "SPU",
          "SPU",
          "SPU",
          "SPU",
          "SPU",
          "SPU",
          "SPU"
         ],
         "x0": " ",
         "xaxis": "x5",
         "y": [
          0.91415075,
          0.91186275,
          0.9138855,
          0.9215035,
          0.916718,
          0.91200425,
          0.91599075,
          0.91335875,
          0.910955,
          0.9138425,
          0.918321,
          0.91285,
          0.91578725,
          0.9146025,
          0.91210525,
          0.91529125,
          0.913643875,
          0.9125985,
          0.90867975,
          0.91218
         ],
         "y0": " ",
         "yaxis": "y5"
        }
       ],
       "layout": {
        "annotations": [
         {
          "font": {
           "size": 20
          },
          "showarrow": false,
          "text": "",
          "textangle": 0,
          "x": 0.07600000000000001,
          "xanchor": "center",
          "xref": "paper",
          "y": 0.9999999999999999,
          "yanchor": "bottom",
          "yref": "paper"
         },
         {
          "font": {
           "size": 20
          },
          "showarrow": false,
          "text": "",
          "textangle": 0,
          "x": 0.28300000000000003,
          "xanchor": "center",
          "xref": "paper",
          "y": 0.9999999999999999,
          "yanchor": "bottom",
          "yref": "paper"
         },
         {
          "font": {
           "size": 20
          },
          "showarrow": false,
          "text": "",
          "textangle": 0,
          "x": 0.49000000000000005,
          "xanchor": "center",
          "xref": "paper",
          "y": 0.9999999999999999,
          "yanchor": "bottom",
          "yref": "paper"
         },
         {
          "font": {
           "size": 20
          },
          "showarrow": false,
          "text": "",
          "textangle": 0,
          "x": 0.6970000000000001,
          "xanchor": "center",
          "xref": "paper",
          "y": 0.9999999999999999,
          "yanchor": "bottom",
          "yref": "paper"
         },
         {
          "font": {
           "size": 20
          },
          "showarrow": false,
          "text": "",
          "textangle": 0,
          "x": 0.9040000000000001,
          "xanchor": "center",
          "xref": "paper",
          "y": 0.9999999999999999,
          "yanchor": "bottom",
          "yref": "paper"
         },
         {
          "font": {
           "size": 20
          },
          "showarrow": false,
          "text": "",
          "textangle": 0,
          "x": 0.9800000000000001,
          "xanchor": "left",
          "xref": "paper",
          "y": 0.15333333333333332,
          "yanchor": "middle",
          "yref": "paper"
         },
         {
          "font": {
           "size": 20
          },
          "showarrow": false,
          "text": "",
          "textangle": 0,
          "x": 0.9800000000000001,
          "xanchor": "left",
          "xref": "paper",
          "y": 0.5,
          "yanchor": "middle",
          "yref": "paper"
         },
         {
          "font": {
           "size": 20
          },
          "showarrow": false,
          "text": "",
          "textangle": 0,
          "x": 0.9800000000000001,
          "xanchor": "left",
          "xref": "paper",
          "y": 0.8466666666666666,
          "yanchor": "middle",
          "yref": "paper"
         }
        ],
        "autosize": false,
        "boxmode": "overlay",
        "height": 420,
        "legend": {
         "title": {
          "text": "Method"
         },
         "tracegroupgap": 0
        },
        "margin": {
         "t": 60
        },
        "showlegend": false,
        "template": {
         "data": {
          "bar": [
           {
            "error_x": {
             "color": "#2a3f5f"
            },
            "error_y": {
             "color": "#2a3f5f"
            },
            "marker": {
             "line": {
              "color": "#E5ECF6",
              "width": 0.5
             },
             "pattern": {
              "fillmode": "overlay",
              "size": 10,
              "solidity": 0.2
             }
            },
            "type": "bar"
           }
          ],
          "barpolar": [
           {
            "marker": {
             "line": {
              "color": "#E5ECF6",
              "width": 0.5
             },
             "pattern": {
              "fillmode": "overlay",
              "size": 10,
              "solidity": 0.2
             }
            },
            "type": "barpolar"
           }
          ],
          "carpet": [
           {
            "aaxis": {
             "endlinecolor": "#2a3f5f",
             "gridcolor": "white",
             "linecolor": "white",
             "minorgridcolor": "white",
             "startlinecolor": "#2a3f5f"
            },
            "baxis": {
             "endlinecolor": "#2a3f5f",
             "gridcolor": "white",
             "linecolor": "white",
             "minorgridcolor": "white",
             "startlinecolor": "#2a3f5f"
            },
            "type": "carpet"
           }
          ],
          "choropleth": [
           {
            "colorbar": {
             "outlinewidth": 0,
             "ticks": ""
            },
            "type": "choropleth"
           }
          ],
          "contour": [
           {
            "colorbar": {
             "outlinewidth": 0,
             "ticks": ""
            },
            "colorscale": [
             [
              0,
              "#0d0887"
             ],
             [
              0.1111111111111111,
              "#46039f"
             ],
             [
              0.2222222222222222,
              "#7201a8"
             ],
             [
              0.3333333333333333,
              "#9c179e"
             ],
             [
              0.4444444444444444,
              "#bd3786"
             ],
             [
              0.5555555555555556,
              "#d8576b"
             ],
             [
              0.6666666666666666,
              "#ed7953"
             ],
             [
              0.7777777777777778,
              "#fb9f3a"
             ],
             [
              0.8888888888888888,
              "#fdca26"
             ],
             [
              1,
              "#f0f921"
             ]
            ],
            "type": "contour"
           }
          ],
          "contourcarpet": [
           {
            "colorbar": {
             "outlinewidth": 0,
             "ticks": ""
            },
            "type": "contourcarpet"
           }
          ],
          "heatmap": [
           {
            "colorbar": {
             "outlinewidth": 0,
             "ticks": ""
            },
            "colorscale": [
             [
              0,
              "#0d0887"
             ],
             [
              0.1111111111111111,
              "#46039f"
             ],
             [
              0.2222222222222222,
              "#7201a8"
             ],
             [
              0.3333333333333333,
              "#9c179e"
             ],
             [
              0.4444444444444444,
              "#bd3786"
             ],
             [
              0.5555555555555556,
              "#d8576b"
             ],
             [
              0.6666666666666666,
              "#ed7953"
             ],
             [
              0.7777777777777778,
              "#fb9f3a"
             ],
             [
              0.8888888888888888,
              "#fdca26"
             ],
             [
              1,
              "#f0f921"
             ]
            ],
            "type": "heatmap"
           }
          ],
          "heatmapgl": [
           {
            "colorbar": {
             "outlinewidth": 0,
             "ticks": ""
            },
            "colorscale": [
             [
              0,
              "#0d0887"
             ],
             [
              0.1111111111111111,
              "#46039f"
             ],
             [
              0.2222222222222222,
              "#7201a8"
             ],
             [
              0.3333333333333333,
              "#9c179e"
             ],
             [
              0.4444444444444444,
              "#bd3786"
             ],
             [
              0.5555555555555556,
              "#d8576b"
             ],
             [
              0.6666666666666666,
              "#ed7953"
             ],
             [
              0.7777777777777778,
              "#fb9f3a"
             ],
             [
              0.8888888888888888,
              "#fdca26"
             ],
             [
              1,
              "#f0f921"
             ]
            ],
            "type": "heatmapgl"
           }
          ],
          "histogram": [
           {
            "marker": {
             "pattern": {
              "fillmode": "overlay",
              "size": 10,
              "solidity": 0.2
             }
            },
            "type": "histogram"
           }
          ],
          "histogram2d": [
           {
            "colorbar": {
             "outlinewidth": 0,
             "ticks": ""
            },
            "colorscale": [
             [
              0,
              "#0d0887"
             ],
             [
              0.1111111111111111,
              "#46039f"
             ],
             [
              0.2222222222222222,
              "#7201a8"
             ],
             [
              0.3333333333333333,
              "#9c179e"
             ],
             [
              0.4444444444444444,
              "#bd3786"
             ],
             [
              0.5555555555555556,
              "#d8576b"
             ],
             [
              0.6666666666666666,
              "#ed7953"
             ],
             [
              0.7777777777777778,
              "#fb9f3a"
             ],
             [
              0.8888888888888888,
              "#fdca26"
             ],
             [
              1,
              "#f0f921"
             ]
            ],
            "type": "histogram2d"
           }
          ],
          "histogram2dcontour": [
           {
            "colorbar": {
             "outlinewidth": 0,
             "ticks": ""
            },
            "colorscale": [
             [
              0,
              "#0d0887"
             ],
             [
              0.1111111111111111,
              "#46039f"
             ],
             [
              0.2222222222222222,
              "#7201a8"
             ],
             [
              0.3333333333333333,
              "#9c179e"
             ],
             [
              0.4444444444444444,
              "#bd3786"
             ],
             [
              0.5555555555555556,
              "#d8576b"
             ],
             [
              0.6666666666666666,
              "#ed7953"
             ],
             [
              0.7777777777777778,
              "#fb9f3a"
             ],
             [
              0.8888888888888888,
              "#fdca26"
             ],
             [
              1,
              "#f0f921"
             ]
            ],
            "type": "histogram2dcontour"
           }
          ],
          "mesh3d": [
           {
            "colorbar": {
             "outlinewidth": 0,
             "ticks": ""
            },
            "type": "mesh3d"
           }
          ],
          "parcoords": [
           {
            "line": {
             "colorbar": {
              "outlinewidth": 0,
              "ticks": ""
             }
            },
            "type": "parcoords"
           }
          ],
          "pie": [
           {
            "automargin": true,
            "type": "pie"
           }
          ],
          "scatter": [
           {
            "fillpattern": {
             "fillmode": "overlay",
             "size": 10,
             "solidity": 0.2
            },
            "type": "scatter"
           }
          ],
          "scatter3d": [
           {
            "line": {
             "colorbar": {
              "outlinewidth": 0,
              "ticks": ""
             }
            },
            "marker": {
             "colorbar": {
              "outlinewidth": 0,
              "ticks": ""
             }
            },
            "type": "scatter3d"
           }
          ],
          "scattercarpet": [
           {
            "marker": {
             "colorbar": {
              "outlinewidth": 0,
              "ticks": ""
             }
            },
            "type": "scattercarpet"
           }
          ],
          "scattergeo": [
           {
            "marker": {
             "colorbar": {
              "outlinewidth": 0,
              "ticks": ""
             }
            },
            "type": "scattergeo"
           }
          ],
          "scattergl": [
           {
            "marker": {
             "colorbar": {
              "outlinewidth": 0,
              "ticks": ""
             }
            },
            "type": "scattergl"
           }
          ],
          "scattermapbox": [
           {
            "marker": {
             "colorbar": {
              "outlinewidth": 0,
              "ticks": ""
             }
            },
            "type": "scattermapbox"
           }
          ],
          "scatterpolar": [
           {
            "marker": {
             "colorbar": {
              "outlinewidth": 0,
              "ticks": ""
             }
            },
            "type": "scatterpolar"
           }
          ],
          "scatterpolargl": [
           {
            "marker": {
             "colorbar": {
              "outlinewidth": 0,
              "ticks": ""
             }
            },
            "type": "scatterpolargl"
           }
          ],
          "scatterternary": [
           {
            "marker": {
             "colorbar": {
              "outlinewidth": 0,
              "ticks": ""
             }
            },
            "type": "scatterternary"
           }
          ],
          "surface": [
           {
            "colorbar": {
             "outlinewidth": 0,
             "ticks": ""
            },
            "colorscale": [
             [
              0,
              "#0d0887"
             ],
             [
              0.1111111111111111,
              "#46039f"
             ],
             [
              0.2222222222222222,
              "#7201a8"
             ],
             [
              0.3333333333333333,
              "#9c179e"
             ],
             [
              0.4444444444444444,
              "#bd3786"
             ],
             [
              0.5555555555555556,
              "#d8576b"
             ],
             [
              0.6666666666666666,
              "#ed7953"
             ],
             [
              0.7777777777777778,
              "#fb9f3a"
             ],
             [
              0.8888888888888888,
              "#fdca26"
             ],
             [
              1,
              "#f0f921"
             ]
            ],
            "type": "surface"
           }
          ],
          "table": [
           {
            "cells": {
             "fill": {
              "color": "#EBF0F8"
             },
             "line": {
              "color": "white"
             }
            },
            "header": {
             "fill": {
              "color": "#C8D4E3"
             },
             "line": {
              "color": "white"
             }
            },
            "type": "table"
           }
          ]
         },
         "layout": {
          "annotationdefaults": {
           "arrowcolor": "#2a3f5f",
           "arrowhead": 0,
           "arrowwidth": 1
          },
          "autotypenumbers": "strict",
          "coloraxis": {
           "colorbar": {
            "outlinewidth": 0,
            "ticks": ""
           }
          },
          "colorscale": {
           "diverging": [
            [
             0,
             "#8e0152"
            ],
            [
             0.1,
             "#c51b7d"
            ],
            [
             0.2,
             "#de77ae"
            ],
            [
             0.3,
             "#f1b6da"
            ],
            [
             0.4,
             "#fde0ef"
            ],
            [
             0.5,
             "#f7f7f7"
            ],
            [
             0.6,
             "#e6f5d0"
            ],
            [
             0.7,
             "#b8e186"
            ],
            [
             0.8,
             "#7fbc41"
            ],
            [
             0.9,
             "#4d9221"
            ],
            [
             1,
             "#276419"
            ]
           ],
           "sequential": [
            [
             0,
             "#0d0887"
            ],
            [
             0.1111111111111111,
             "#46039f"
            ],
            [
             0.2222222222222222,
             "#7201a8"
            ],
            [
             0.3333333333333333,
             "#9c179e"
            ],
            [
             0.4444444444444444,
             "#bd3786"
            ],
            [
             0.5555555555555556,
             "#d8576b"
            ],
            [
             0.6666666666666666,
             "#ed7953"
            ],
            [
             0.7777777777777778,
             "#fb9f3a"
            ],
            [
             0.8888888888888888,
             "#fdca26"
            ],
            [
             1,
             "#f0f921"
            ]
           ],
           "sequentialminus": [
            [
             0,
             "#0d0887"
            ],
            [
             0.1111111111111111,
             "#46039f"
            ],
            [
             0.2222222222222222,
             "#7201a8"
            ],
            [
             0.3333333333333333,
             "#9c179e"
            ],
            [
             0.4444444444444444,
             "#bd3786"
            ],
            [
             0.5555555555555556,
             "#d8576b"
            ],
            [
             0.6666666666666666,
             "#ed7953"
            ],
            [
             0.7777777777777778,
             "#fb9f3a"
            ],
            [
             0.8888888888888888,
             "#fdca26"
            ],
            [
             1,
             "#f0f921"
            ]
           ]
          },
          "colorway": [
           "#636efa",
           "#EF553B",
           "#00cc96",
           "#ab63fa",
           "#FFA15A",
           "#19d3f3",
           "#FF6692",
           "#B6E880",
           "#FF97FF",
           "#FECB52"
          ],
          "font": {
           "color": "#2a3f5f"
          },
          "geo": {
           "bgcolor": "white",
           "lakecolor": "white",
           "landcolor": "#E5ECF6",
           "showlakes": true,
           "showland": true,
           "subunitcolor": "white"
          },
          "hoverlabel": {
           "align": "left"
          },
          "hovermode": "closest",
          "mapbox": {
           "style": "light"
          },
          "paper_bgcolor": "white",
          "plot_bgcolor": "#E5ECF6",
          "polar": {
           "angularaxis": {
            "gridcolor": "white",
            "linecolor": "white",
            "ticks": ""
           },
           "bgcolor": "#E5ECF6",
           "radialaxis": {
            "gridcolor": "white",
            "linecolor": "white",
            "ticks": ""
           }
          },
          "scene": {
           "xaxis": {
            "backgroundcolor": "#E5ECF6",
            "gridcolor": "white",
            "gridwidth": 2,
            "linecolor": "white",
            "showbackground": true,
            "ticks": "",
            "zerolinecolor": "white"
           },
           "yaxis": {
            "backgroundcolor": "#E5ECF6",
            "gridcolor": "white",
            "gridwidth": 2,
            "linecolor": "white",
            "showbackground": true,
            "ticks": "",
            "zerolinecolor": "white"
           },
           "zaxis": {
            "backgroundcolor": "#E5ECF6",
            "gridcolor": "white",
            "gridwidth": 2,
            "linecolor": "white",
            "showbackground": true,
            "ticks": "",
            "zerolinecolor": "white"
           }
          },
          "shapedefaults": {
           "line": {
            "color": "#2a3f5f"
           }
          },
          "ternary": {
           "aaxis": {
            "gridcolor": "white",
            "linecolor": "white",
            "ticks": ""
           },
           "baxis": {
            "gridcolor": "white",
            "linecolor": "white",
            "ticks": ""
           },
           "bgcolor": "#E5ECF6",
           "caxis": {
            "gridcolor": "white",
            "linecolor": "white",
            "ticks": ""
           }
          },
          "title": {
           "x": 0.05
          },
          "xaxis": {
           "automargin": true,
           "gridcolor": "white",
           "linecolor": "white",
           "ticks": "",
           "title": {
            "standoff": 15
           },
           "zerolinecolor": "white",
           "zerolinewidth": 2
          },
          "yaxis": {
           "automargin": true,
           "gridcolor": "white",
           "linecolor": "white",
           "ticks": "",
           "title": {
            "standoff": 15
           },
           "zerolinecolor": "white",
           "zerolinewidth": 2
          }
         }
        },
        "width": 979.9999999999999,
        "xaxis": {
         "anchor": "y",
         "categoryarray": [
          "TS",
          "SPTS",
          "SP1",
          "SPU"
         ],
         "categoryorder": "array",
         "domain": [
          0,
          0.15200000000000002
         ],
         "showticklabels": false,
         "tickangle": 90,
         "tickfont": {
          "size": 16
         },
         "title": {
          "text": ""
         }
        },
        "xaxis10": {
         "anchor": "y10",
         "domain": [
          0.8280000000000001,
          0.9800000000000001
         ],
         "matches": "x",
         "showticklabels": false,
         "tickangle": 90,
         "tickfont": {
          "size": 16
         },
         "title": {
          "text": ""
         }
        },
        "xaxis11": {
         "anchor": "y11",
         "domain": [
          0,
          0.15200000000000002
         ],
         "matches": "x",
         "showticklabels": false,
         "tickangle": 90,
         "tickfont": {
          "size": 16
         },
         "title": {
          "text": ""
         }
        },
        "xaxis12": {
         "anchor": "y12",
         "domain": [
          0.20700000000000002,
          0.35900000000000004
         ],
         "matches": "x",
         "showticklabels": false,
         "tickangle": 90,
         "tickfont": {
          "size": 16
         },
         "title": {
          "text": ""
         }
        },
        "xaxis13": {
         "anchor": "y13",
         "domain": [
          0.41400000000000003,
          0.5660000000000001
         ],
         "matches": "x",
         "showticklabels": false,
         "tickangle": 90,
         "tickfont": {
          "size": 16
         },
         "title": {
          "text": ""
         }
        },
        "xaxis14": {
         "anchor": "y14",
         "domain": [
          0.6210000000000001,
          0.7730000000000001
         ],
         "matches": "x",
         "showticklabels": false,
         "tickangle": 90,
         "tickfont": {
          "size": 16
         },
         "title": {
          "text": ""
         }
        },
        "xaxis15": {
         "anchor": "y15",
         "domain": [
          0.8280000000000001,
          0.9800000000000001
         ],
         "matches": "x",
         "showticklabels": false,
         "tickangle": 90,
         "tickfont": {
          "size": 16
         },
         "title": {
          "text": ""
         }
        },
        "xaxis2": {
         "anchor": "y2",
         "categoryarray": [
          "TS",
          "SPTS",
          "SP1",
          "SPU"
         ],
         "categoryorder": "array",
         "domain": [
          0.20700000000000002,
          0.35900000000000004
         ],
         "matches": "x",
         "showticklabels": false,
         "tickangle": 90,
         "tickfont": {
          "size": 16
         },
         "title": {
          "text": ""
         }
        },
        "xaxis3": {
         "anchor": "y3",
         "categoryarray": [
          "TS",
          "SPTS",
          "SP1",
          "SPU"
         ],
         "categoryorder": "array",
         "domain": [
          0.41400000000000003,
          0.5660000000000001
         ],
         "matches": "x",
         "showticklabels": false,
         "tickangle": 90,
         "tickfont": {
          "size": 16
         },
         "title": {
          "text": ""
         }
        },
        "xaxis4": {
         "anchor": "y4",
         "categoryarray": [
          "TS",
          "SPTS",
          "SP1",
          "SPU"
         ],
         "categoryorder": "array",
         "domain": [
          0.6210000000000001,
          0.7730000000000001
         ],
         "matches": "x",
         "showticklabels": false,
         "tickangle": 90,
         "tickfont": {
          "size": 16
         },
         "title": {
          "text": ""
         }
        },
        "xaxis5": {
         "anchor": "y5",
         "categoryarray": [
          "TS",
          "SPTS",
          "SP1",
          "SPU"
         ],
         "categoryorder": "array",
         "domain": [
          0.8280000000000001,
          0.9800000000000001
         ],
         "matches": "x",
         "showticklabels": false,
         "tickangle": 90,
         "tickfont": {
          "size": 16
         },
         "title": {
          "text": ""
         }
        },
        "xaxis6": {
         "anchor": "y6",
         "domain": [
          0,
          0.15200000000000002
         ],
         "matches": "x",
         "showticklabels": false,
         "tickangle": 90,
         "tickfont": {
          "size": 16
         },
         "title": {
          "text": ""
         }
        },
        "xaxis7": {
         "anchor": "y7",
         "domain": [
          0.20700000000000002,
          0.35900000000000004
         ],
         "matches": "x",
         "showticklabels": false,
         "tickangle": 90,
         "tickfont": {
          "size": 16
         },
         "title": {
          "text": ""
         }
        },
        "xaxis8": {
         "anchor": "y8",
         "domain": [
          0.41400000000000003,
          0.5660000000000001
         ],
         "matches": "x",
         "showticklabels": false,
         "tickangle": 90,
         "tickfont": {
          "size": 16
         },
         "title": {
          "text": ""
         }
        },
        "xaxis9": {
         "anchor": "y9",
         "domain": [
          0.6210000000000001,
          0.7730000000000001
         ],
         "matches": "x",
         "showticklabels": false,
         "tickangle": 90,
         "tickfont": {
          "size": 16
         },
         "title": {
          "text": ""
         }
        },
        "yaxis": {
         "anchor": "x",
         "domain": [
          0,
          0.30666666666666664
         ],
         "showticklabels": true,
         "tickfont": {
          "size": 16
         },
         "title": {
          "text": ""
         }
        },
        "yaxis10": {
         "anchor": "x10",
         "domain": [
          0.3466666666666666,
          0.6533333333333333
         ],
         "showticklabels": true,
         "tickfont": {
          "size": 16
         },
         "title": {
          "text": ""
         }
        },
        "yaxis11": {
         "anchor": "x11",
         "domain": [
          0.6933333333333332,
          0.9999999999999999
         ],
         "showticklabels": true,
         "tickfont": {
          "size": 16
         },
         "title": {
          "text": ""
         }
        },
        "yaxis12": {
         "anchor": "x12",
         "domain": [
          0.6933333333333332,
          0.9999999999999999
         ],
         "showticklabels": true,
         "tickfont": {
          "size": 16
         },
         "title": {
          "text": ""
         }
        },
        "yaxis13": {
         "anchor": "x13",
         "domain": [
          0.6933333333333332,
          0.9999999999999999
         ],
         "showticklabels": true,
         "tickfont": {
          "size": 16
         },
         "title": {
          "text": ""
         }
        },
        "yaxis14": {
         "anchor": "x14",
         "domain": [
          0.6933333333333332,
          0.9999999999999999
         ],
         "showticklabels": true,
         "tickfont": {
          "size": 16
         },
         "title": {
          "text": ""
         }
        },
        "yaxis15": {
         "anchor": "x15",
         "domain": [
          0.6933333333333332,
          0.9999999999999999
         ],
         "showticklabels": true,
         "tickfont": {
          "size": 16
         },
         "title": {
          "text": ""
         }
        },
        "yaxis2": {
         "anchor": "x2",
         "domain": [
          0,
          0.30666666666666664
         ],
         "showticklabels": true,
         "tickfont": {
          "size": 16
         },
         "title": {
          "text": ""
         }
        },
        "yaxis3": {
         "anchor": "x3",
         "domain": [
          0,
          0.30666666666666664
         ],
         "showticklabels": true,
         "tickfont": {
          "size": 16
         },
         "title": {
          "text": ""
         }
        },
        "yaxis4": {
         "anchor": "x4",
         "domain": [
          0,
          0.30666666666666664
         ],
         "showticklabels": true,
         "tickfont": {
          "size": 16
         },
         "title": {
          "text": ""
         }
        },
        "yaxis5": {
         "anchor": "x5",
         "domain": [
          0,
          0.30666666666666664
         ],
         "showticklabels": true,
         "tickfont": {
          "size": 16
         },
         "title": {
          "text": ""
         }
        },
        "yaxis6": {
         "anchor": "x6",
         "domain": [
          0.3466666666666666,
          0.6533333333333333
         ],
         "showticklabels": true,
         "tickfont": {
          "size": 16
         },
         "title": {
          "text": ""
         }
        },
        "yaxis7": {
         "anchor": "x7",
         "domain": [
          0.3466666666666666,
          0.6533333333333333
         ],
         "showticklabels": true,
         "tickfont": {
          "size": 16
         },
         "title": {
          "text": ""
         }
        },
        "yaxis8": {
         "anchor": "x8",
         "domain": [
          0.3466666666666666,
          0.6533333333333333
         ],
         "showticklabels": true,
         "tickfont": {
          "size": 16
         },
         "title": {
          "text": ""
         }
        },
        "yaxis9": {
         "anchor": "x9",
         "domain": [
          0.3466666666666666,
          0.6533333333333333
         ],
         "showticklabels": true,
         "tickfont": {
          "size": 16
         },
         "title": {
          "text": ""
         }
        }
       }
      }
     },
     "metadata": {},
     "output_type": "display_data"
    }
   ],
   "source": [
    "fig = get_plot_metric(df, 'compose', model_names)\n",
    "fig.write_image('compose_boxplot.png', scale = 3)\n",
    "fig.show()"
   ]
  },
  {
   "cell_type": "markdown",
   "metadata": {},
   "source": [
    "# Bayes Approach 2: Location Shift"
   ]
  },
  {
   "cell_type": "code",
   "execution_count": 8,
   "metadata": {},
   "outputs": [
    {
     "data": {
      "application/vnd.plotly.v1+json": {
       "config": {
        "plotlyServerURL": "https://plot.ly"
       },
       "data": [
        {
         "alignmentgroup": "True",
         "hovertemplate": "Method=%{x}<br>Metric=ECE<br>Model=resnet152<br>Value=%{y}<extra></extra>",
         "legendgroup": "TS",
         "marker": {
          "color": "#636efa"
         },
         "name": "TS",
         "notched": false,
         "offsetgroup": "TS",
         "orientation": "v",
         "showlegend": true,
         "type": "box",
         "x": [
          "TS",
          "TS",
          "TS",
          "TS",
          "TS",
          "TS",
          "TS",
          "TS",
          "TS",
          "TS",
          "TS",
          "TS",
          "TS",
          "TS",
          "TS",
          "TS",
          "TS",
          "TS",
          "TS",
          "TS"
         ],
         "x0": " ",
         "xaxis": "x11",
         "y": [
          0.020256120711565,
          0.0197523143142461,
          0.0288615934550762,
          0.0254867319017648,
          0.0389621816575527,
          0.0249399300664663,
          0.0285653322935104,
          0.0317640341818332,
          0.0253509897738695,
          0.0249101985245943,
          0.0287133045494556,
          0.0301347989588975,
          0.0285891611129045,
          0.0321363732218742,
          0.0201783552765846,
          0.0268411673605442,
          0.0270671006292104,
          0.0280315838754177,
          0.0292707197368145,
          0.0220075733959674
         ],
         "y0": " ",
         "yaxis": "y11"
        },
        {
         "alignmentgroup": "True",
         "hovertemplate": "Method=%{x}<br>Metric=ECE<br>Model=seresnet152<br>Value=%{y}<extra></extra>",
         "legendgroup": "TS",
         "marker": {
          "color": "#636efa"
         },
         "name": "TS",
         "notched": false,
         "offsetgroup": "TS",
         "orientation": "v",
         "showlegend": false,
         "type": "box",
         "x": [
          "TS",
          "TS",
          "TS",
          "TS",
          "TS",
          "TS",
          "TS",
          "TS",
          "TS",
          "TS",
          "TS",
          "TS",
          "TS",
          "TS",
          "TS",
          "TS",
          "TS",
          "TS",
          "TS",
          "TS"
         ],
         "x0": " ",
         "xaxis": "x12",
         "y": [
          0.0247673355042934,
          0.0269550569355487,
          0.0149352634325623,
          0.0233644545078277,
          0.0249631330370903,
          0.0388071835041046,
          0.0285632312297821,
          0.0312273614108562,
          0.0366483554244041,
          0.0241064950823783,
          0.0245498083531856,
          0.0193270538002252,
          0.0245183948427438,
          0.0281270742416381,
          0.0216750241816043,
          0.0287128090858459,
          0.0193117558956146,
          0.0206187348812818,
          0.0167112201452255,
          0.0210147611796855
         ],
         "y0": " ",
         "yaxis": "y12"
        },
        {
         "alignmentgroup": "True",
         "hovertemplate": "Method=%{x}<br>Metric=ECE<br>Model=xception<br>Value=%{y}<extra></extra>",
         "legendgroup": "TS",
         "marker": {
          "color": "#636efa"
         },
         "name": "TS",
         "notched": false,
         "offsetgroup": "TS",
         "orientation": "v",
         "showlegend": false,
         "type": "box",
         "x": [
          "TS",
          "TS",
          "TS",
          "TS",
          "TS",
          "TS",
          "TS",
          "TS",
          "TS",
          "TS",
          "TS",
          "TS",
          "TS",
          "TS",
          "TS",
          "TS",
          "TS",
          "TS",
          "TS",
          "TS"
         ],
         "x0": " ",
         "xaxis": "x13",
         "y": [
          0.0374665111303329,
          0.0400777757167816,
          0.029940715059638,
          0.0313712507486343,
          0.0318287387490272,
          0.0438764430582523,
          0.0335194766521453,
          0.0321692004799842,
          0.0470617935061454,
          0.0253057014197111,
          0.0283389762043952,
          0.035166997462511,
          0.032433059066534,
          0.0382925942540168,
          0.0287712812423706,
          0.0415508113801479,
          0.030754379928112,
          0.0318383648991584,
          0.0376812703907489,
          0.0306491069495677
         ],
         "y0": " ",
         "yaxis": "y13"
        },
        {
         "alignmentgroup": "True",
         "hovertemplate": "Method=%{x}<br>Metric=ECE<br>Model=densenet161<br>Value=%{y}<extra></extra>",
         "legendgroup": "TS",
         "marker": {
          "color": "#636efa"
         },
         "name": "TS",
         "notched": false,
         "offsetgroup": "TS",
         "orientation": "v",
         "showlegend": false,
         "type": "box",
         "x": [
          "TS",
          "TS",
          "TS",
          "TS",
          "TS",
          "TS",
          "TS",
          "TS",
          "TS",
          "TS",
          "TS",
          "TS",
          "TS",
          "TS",
          "TS",
          "TS",
          "TS",
          "TS",
          "TS",
          "TS"
         ],
         "x0": " ",
         "xaxis": "x14",
         "y": [
          0.0248216968029737,
          0.0244262889027595,
          0.0284904707223176,
          0.0194477885961532,
          0.0256153047084808,
          0.0242070350795984,
          0.0140662128105759,
          0.0282225757837295,
          0.0223754905164241,
          0.0216268450021743,
          0.0235591940581798,
          0.0283674746751785,
          0.0233600810170173,
          0.0202089324593544,
          0.0259674154222011,
          0.0271493680775165,
          0.0226159542798995,
          0.0249852612614631,
          0.0284268707036972,
          0.0195851754397153
         ],
         "y0": " ",
         "yaxis": "y14"
        },
        {
         "alignmentgroup": "True",
         "hovertemplate": "Method=%{x}<br>Metric=ECE<br>Model=inceptionresnetv2<br>Value=%{y}<extra></extra>",
         "legendgroup": "TS",
         "marker": {
          "color": "#636efa"
         },
         "name": "TS",
         "notched": false,
         "offsetgroup": "TS",
         "orientation": "v",
         "showlegend": false,
         "type": "box",
         "x": [
          "TS",
          "TS",
          "TS",
          "TS",
          "TS",
          "TS",
          "TS",
          "TS",
          "TS",
          "TS",
          "TS",
          "TS",
          "TS",
          "TS",
          "TS",
          "TS",
          "TS",
          "TS",
          "TS",
          "TS"
         ],
         "x0": " ",
         "xaxis": "x15",
         "y": [
          0.0420839414000511,
          0.0463448241353035,
          0.0330367125570774,
          0.0353814400732517,
          0.0428376942873001,
          0.0522771850228309,
          0.0329219624400138,
          0.0434043817222118,
          0.0466109439730644,
          0.0554567649960517,
          0.03356209769845,
          0.0366580560803413,
          0.0394257605075836,
          0.0398425757884979,
          0.0308726504445076,
          0.0375224389135837,
          0.0303569417446851,
          0.0332072153687477,
          0.0348520502448082,
          0.0381789579987525
         ],
         "y0": " ",
         "yaxis": "y15"
        },
        {
         "alignmentgroup": "True",
         "hovertemplate": "Method=%{x}<br>Metric=SVHN<br>Model=resnet152<br>Value=%{y}<extra></extra>",
         "legendgroup": "TS",
         "marker": {
          "color": "#636efa"
         },
         "name": "TS",
         "notched": false,
         "offsetgroup": "TS",
         "orientation": "v",
         "showlegend": false,
         "type": "box",
         "x": [
          "TS",
          "TS",
          "TS",
          "TS",
          "TS",
          "TS",
          "TS",
          "TS",
          "TS",
          "TS",
          "TS",
          "TS",
          "TS",
          "TS",
          "TS",
          "TS",
          "TS",
          "TS",
          "TS",
          "TS"
         ],
         "x0": " ",
         "xaxis": "x6",
         "y": [
          0.8951804999999999,
          0.89474425,
          0.8963680000000002,
          0.8970672499999999,
          0.8948565,
          0.8924232499999999,
          0.89341925,
          0.8896525000000001,
          0.8826985,
          0.8927309999999999,
          0.8973487499999998,
          0.8901505000000001,
          0.89195675,
          0.8973582499999999,
          0.889778,
          0.893482125,
          0.8877597500000001,
          0.88470275,
          0.8872315000000001,
          0.8891142500000001
         ],
         "y0": " ",
         "yaxis": "y6"
        },
        {
         "alignmentgroup": "True",
         "hovertemplate": "Method=%{x}<br>Metric=SVHN<br>Model=seresnet152<br>Value=%{y}<extra></extra>",
         "legendgroup": "TS",
         "marker": {
          "color": "#636efa"
         },
         "name": "TS",
         "notched": false,
         "offsetgroup": "TS",
         "orientation": "v",
         "showlegend": false,
         "type": "box",
         "x": [
          "TS",
          "TS",
          "TS",
          "TS",
          "TS",
          "TS",
          "TS",
          "TS",
          "TS",
          "TS",
          "TS",
          "TS",
          "TS",
          "TS",
          "TS",
          "TS",
          "TS",
          "TS",
          "TS",
          "TS"
         ],
         "x0": " ",
         "xaxis": "x7",
         "y": [
          0.9140795,
          0.912334,
          0.9110665,
          0.91499025,
          0.91203425,
          0.90591875,
          0.9096695,
          0.9064275,
          0.9044782500000002,
          0.91092475,
          0.91296625,
          0.9126605,
          0.905697625,
          0.9109965,
          0.910095,
          0.91051875,
          0.90836775,
          0.90437075,
          0.90705825,
          0.910369375
         ],
         "y0": " ",
         "yaxis": "y7"
        },
        {
         "alignmentgroup": "True",
         "hovertemplate": "Method=%{x}<br>Metric=SVHN<br>Model=xception<br>Value=%{y}<extra></extra>",
         "legendgroup": "TS",
         "marker": {
          "color": "#636efa"
         },
         "name": "TS",
         "notched": false,
         "offsetgroup": "TS",
         "orientation": "v",
         "showlegend": false,
         "type": "box",
         "x": [
          "TS",
          "TS",
          "TS",
          "TS",
          "TS",
          "TS",
          "TS",
          "TS",
          "TS",
          "TS",
          "TS",
          "TS",
          "TS",
          "TS",
          "TS",
          "TS",
          "TS",
          "TS",
          "TS",
          "TS"
         ],
         "x0": " ",
         "xaxis": "x8",
         "y": [
          0.8721247499999999,
          0.8742864999999999,
          0.8663430000000001,
          0.87764925,
          0.87183225,
          0.8723436249999998,
          0.87280125,
          0.8656935,
          0.8672392499999999,
          0.8739797499999999,
          0.8758118749999999,
          0.8707874999999999,
          0.868185,
          0.8624475000000001,
          0.86656375,
          0.8674617499999999,
          0.86979575,
          0.868944,
          0.87134325,
          0.87505325
         ],
         "y0": " ",
         "yaxis": "y8"
        },
        {
         "alignmentgroup": "True",
         "hovertemplate": "Method=%{x}<br>Metric=SVHN<br>Model=densenet161<br>Value=%{y}<extra></extra>",
         "legendgroup": "TS",
         "marker": {
          "color": "#636efa"
         },
         "name": "TS",
         "notched": false,
         "offsetgroup": "TS",
         "orientation": "v",
         "showlegend": false,
         "type": "box",
         "x": [
          "TS",
          "TS",
          "TS",
          "TS",
          "TS",
          "TS",
          "TS",
          "TS",
          "TS",
          "TS",
          "TS",
          "TS",
          "TS",
          "TS",
          "TS",
          "TS",
          "TS",
          "TS",
          "TS",
          "TS"
         ],
         "x0": " ",
         "xaxis": "x9",
         "y": [
          0.91404075,
          0.9120215,
          0.9129625,
          0.91772325,
          0.9089095,
          0.9101765,
          0.9099235,
          0.912110875,
          0.90203825,
          0.910945,
          0.91275325,
          0.90862925,
          0.90499925,
          0.91271075,
          0.9111565,
          0.91479775,
          0.908639125,
          0.90453025,
          0.9101395,
          0.90889725
         ],
         "y0": " ",
         "yaxis": "y9"
        },
        {
         "alignmentgroup": "True",
         "hovertemplate": "Method=%{x}<br>Metric=SVHN<br>Model=inceptionresnetv2<br>Value=%{y}<extra></extra>",
         "legendgroup": "TS",
         "marker": {
          "color": "#636efa"
         },
         "name": "TS",
         "notched": false,
         "offsetgroup": "TS",
         "orientation": "v",
         "showlegend": false,
         "type": "box",
         "x": [
          "TS",
          "TS",
          "TS",
          "TS",
          "TS",
          "TS",
          "TS",
          "TS",
          "TS",
          "TS",
          "TS",
          "TS",
          "TS",
          "TS",
          "TS",
          "TS",
          "TS",
          "TS",
          "TS",
          "TS"
         ],
         "x0": " ",
         "xaxis": "x10",
         "y": [
          0.893629,
          0.8899485,
          0.89323175,
          0.9001345,
          0.8946534999999999,
          0.8887745000000001,
          0.894967125,
          0.8918344999999999,
          0.8893705000000001,
          0.89300425,
          0.89708975,
          0.8919324999999999,
          0.8939474999999999,
          0.8933117500000001,
          0.890881375,
          0.8924030000000001,
          0.891647375,
          0.8911760000000001,
          0.88739025,
          0.8907649999999999
         ],
         "y0": " ",
         "yaxis": "y10"
        },
        {
         "alignmentgroup": "True",
         "hovertemplate": "Method=%{x}<br>Metric=LSUN<br>Model=resnet152<br>Value=%{y}<extra></extra>",
         "legendgroup": "TS",
         "marker": {
          "color": "#636efa"
         },
         "name": "TS",
         "notched": false,
         "offsetgroup": "TS",
         "orientation": "v",
         "showlegend": false,
         "type": "box",
         "x": [
          "TS",
          "TS",
          "TS",
          "TS",
          "TS",
          "TS",
          "TS",
          "TS",
          "TS",
          "TS",
          "TS",
          "TS",
          "TS",
          "TS",
          "TS",
          "TS",
          "TS",
          "TS",
          "TS",
          "TS"
         ],
         "x0": " ",
         "xaxis": "x",
         "y": [
          0.92450625,
          0.923635,
          0.924996125,
          0.92621675,
          0.9237285,
          0.922004,
          0.9230517500000002,
          0.9182202499999998,
          0.913536,
          0.9221045,
          0.92533425,
          0.91976575,
          0.920375,
          0.9263217500000002,
          0.920196375,
          0.9245,
          0.91924975,
          0.914768625,
          0.9184755,
          0.9194855
         ],
         "y0": " ",
         "yaxis": "y"
        },
        {
         "alignmentgroup": "True",
         "hovertemplate": "Method=%{x}<br>Metric=LSUN<br>Model=seresnet152<br>Value=%{y}<extra></extra>",
         "legendgroup": "TS",
         "marker": {
          "color": "#636efa"
         },
         "name": "TS",
         "notched": false,
         "offsetgroup": "TS",
         "orientation": "v",
         "showlegend": false,
         "type": "box",
         "x": [
          "TS",
          "TS",
          "TS",
          "TS",
          "TS",
          "TS",
          "TS",
          "TS",
          "TS",
          "TS",
          "TS",
          "TS",
          "TS",
          "TS",
          "TS",
          "TS",
          "TS",
          "TS",
          "TS",
          "TS"
         ],
         "x0": " ",
         "xaxis": "x2",
         "y": [
          0.94191225,
          0.94001775,
          0.93924225,
          0.942848,
          0.939910125,
          0.93502125,
          0.9378037500000002,
          0.93518325,
          0.934221,
          0.9393034999999998,
          0.9400794999999998,
          0.94129075,
          0.93464575,
          0.9407835,
          0.93874275,
          0.9392045,
          0.93769475,
          0.93377325,
          0.9363629999999998,
          0.939557
         ],
         "y0": " ",
         "yaxis": "y2"
        },
        {
         "alignmentgroup": "True",
         "hovertemplate": "Method=%{x}<br>Metric=LSUN<br>Model=xception<br>Value=%{y}<extra></extra>",
         "legendgroup": "TS",
         "marker": {
          "color": "#636efa"
         },
         "name": "TS",
         "notched": false,
         "offsetgroup": "TS",
         "orientation": "v",
         "showlegend": false,
         "type": "box",
         "x": [
          "TS",
          "TS",
          "TS",
          "TS",
          "TS",
          "TS",
          "TS",
          "TS",
          "TS",
          "TS",
          "TS",
          "TS",
          "TS",
          "TS",
          "TS",
          "TS",
          "TS",
          "TS",
          "TS",
          "TS"
         ],
         "x0": " ",
         "xaxis": "x3",
         "y": [
          0.8932629999999999,
          0.8946904999999999,
          0.8887767499999999,
          0.89810525,
          0.89291,
          0.8934195,
          0.89330775,
          0.8866747500000001,
          0.8882862499999999,
          0.8947645000000001,
          0.8955545,
          0.89137025,
          0.8891600000000001,
          0.884765,
          0.8882806249999999,
          0.88925075,
          0.8915449999999999,
          0.890216,
          0.8925422500000001,
          0.8960315
         ],
         "y0": " ",
         "yaxis": "y3"
        },
        {
         "alignmentgroup": "True",
         "hovertemplate": "Method=%{x}<br>Metric=LSUN<br>Model=densenet161<br>Value=%{y}<extra></extra>",
         "legendgroup": "TS",
         "marker": {
          "color": "#636efa"
         },
         "name": "TS",
         "notched": false,
         "offsetgroup": "TS",
         "orientation": "v",
         "showlegend": false,
         "type": "box",
         "x": [
          "TS",
          "TS",
          "TS",
          "TS",
          "TS",
          "TS",
          "TS",
          "TS",
          "TS",
          "TS",
          "TS",
          "TS",
          "TS",
          "TS",
          "TS",
          "TS",
          "TS",
          "TS",
          "TS",
          "TS"
         ],
         "x0": " ",
         "xaxis": "x4",
         "y": [
          0.929827,
          0.9275105,
          0.92872775,
          0.93405675,
          0.92550425,
          0.926279,
          0.92615475,
          0.927518,
          0.9185687500000002,
          0.92759275,
          0.92820375,
          0.9247215,
          0.92136275,
          0.9288515,
          0.9269915,
          0.930995,
          0.92511525,
          0.9213515,
          0.9265515,
          0.92532275
         ],
         "y0": " ",
         "yaxis": "y4"
        },
        {
         "alignmentgroup": "True",
         "hovertemplate": "Method=%{x}<br>Metric=LSUN<br>Model=inceptionresnetv2<br>Value=%{y}<extra></extra>",
         "legendgroup": "TS",
         "marker": {
          "color": "#636efa"
         },
         "name": "TS",
         "notched": false,
         "offsetgroup": "TS",
         "orientation": "v",
         "showlegend": false,
         "type": "box",
         "x": [
          "TS",
          "TS",
          "TS",
          "TS",
          "TS",
          "TS",
          "TS",
          "TS",
          "TS",
          "TS",
          "TS",
          "TS",
          "TS",
          "TS",
          "TS",
          "TS",
          "TS",
          "TS",
          "TS",
          "TS"
         ],
         "x0": " ",
         "xaxis": "x5",
         "y": [
          0.921674125,
          0.9185265,
          0.92148825,
          0.9278125,
          0.922713,
          0.91785425,
          0.922924,
          0.919791,
          0.91758425,
          0.920475,
          0.92413975,
          0.918952,
          0.92267575,
          0.9217115,
          0.9196875,
          0.92160175,
          0.92076575,
          0.9199515,
          0.91579675,
          0.919256
         ],
         "y0": " ",
         "yaxis": "y5"
        },
        {
         "alignmentgroup": "True",
         "hovertemplate": "Method=%{x}<br>Metric=ECE<br>Model=resnet152<br>Value=%{y}<extra></extra>",
         "legendgroup": "SPTS",
         "marker": {
          "color": "#EF553B"
         },
         "name": "SPTS",
         "notched": false,
         "offsetgroup": "SPTS",
         "orientation": "v",
         "showlegend": true,
         "type": "box",
         "x": [
          "SPTS",
          "SPTS",
          "SPTS",
          "SPTS",
          "SPTS",
          "SPTS",
          "SPTS",
          "SPTS",
          "SPTS",
          "SPTS",
          "SPTS",
          "SPTS",
          "SPTS",
          "SPTS",
          "SPTS",
          "SPTS",
          "SPTS",
          "SPTS",
          "SPTS",
          "SPTS"
         ],
         "x0": " ",
         "xaxis": "x11",
         "y": [
          0.0171427559107542,
          0.0134267751127481,
          0.0155795160681009,
          0.0316616520285606,
          0.0273183695971965,
          0.016292318701744,
          0.0187596511095762,
          0.0247612614184618,
          0.021761430427432,
          0.0252670869231224,
          0.0306199081242084,
          0.023997014388442,
          0.0234329458326101,
          0.0166248269379138,
          0.0240409169346094,
          0.0176914427429437,
          0.0259375367313623,
          0.0229214914143085,
          0.0243538990616798,
          0.0312131475657224
         ],
         "y0": " ",
         "yaxis": "y11"
        },
        {
         "alignmentgroup": "True",
         "hovertemplate": "Method=%{x}<br>Metric=ECE<br>Model=seresnet152<br>Value=%{y}<extra></extra>",
         "legendgroup": "SPTS",
         "marker": {
          "color": "#EF553B"
         },
         "name": "SPTS",
         "notched": false,
         "offsetgroup": "SPTS",
         "orientation": "v",
         "showlegend": false,
         "type": "box",
         "x": [
          "SPTS",
          "SPTS",
          "SPTS",
          "SPTS",
          "SPTS",
          "SPTS",
          "SPTS",
          "SPTS",
          "SPTS",
          "SPTS",
          "SPTS",
          "SPTS",
          "SPTS",
          "SPTS",
          "SPTS",
          "SPTS",
          "SPTS",
          "SPTS",
          "SPTS",
          "SPTS"
         ],
         "x0": " ",
         "xaxis": "x12",
         "y": [
          0.0184691585600376,
          0.0339244417846202,
          0.0198309235274791,
          0.0244289748370647,
          0.0160676557570695,
          0.0347092561423778,
          0.0209726467728614,
          0.0279770586639642,
          0.0367833822965621,
          0.0250358134508132,
          0.0311009548604488,
          0.0248744040727615,
          0.0174441002309322,
          0.0258302502334117,
          0.02133784070611,
          0.021678052842617,
          0.0206823833286762,
          0.0223750304430723,
          0.0234517138451337,
          0.0203315615653991
         ],
         "y0": " ",
         "yaxis": "y12"
        },
        {
         "alignmentgroup": "True",
         "hovertemplate": "Method=%{x}<br>Metric=ECE<br>Model=xception<br>Value=%{y}<extra></extra>",
         "legendgroup": "SPTS",
         "marker": {
          "color": "#EF553B"
         },
         "name": "SPTS",
         "notched": false,
         "offsetgroup": "SPTS",
         "orientation": "v",
         "showlegend": false,
         "type": "box",
         "x": [
          "SPTS",
          "SPTS",
          "SPTS",
          "SPTS",
          "SPTS",
          "SPTS",
          "SPTS",
          "SPTS",
          "SPTS",
          "SPTS",
          "SPTS",
          "SPTS",
          "SPTS",
          "SPTS",
          "SPTS",
          "SPTS",
          "SPTS",
          "SPTS",
          "SPTS",
          "SPTS"
         ],
         "x0": " ",
         "xaxis": "x13",
         "y": [
          0.0261809844523668,
          0.0184875261038541,
          0.0150546422228217,
          0.020063828676939,
          0.0149899460375308,
          0.0244552083313465,
          0.017872292548418,
          0.0156687200069427,
          0.0307694934308528,
          0.0195132363587617,
          0.0317220203578472,
          0.0206300243735313,
          0.0168059729039669,
          0.0241794064640998,
          0.0191762428730726,
          0.0292632710188627,
          0.0127174444496631,
          0.0259214211255311,
          0.0223441701382398,
          0.0188867934048175
         ],
         "y0": " ",
         "yaxis": "y13"
        },
        {
         "alignmentgroup": "True",
         "hovertemplate": "Method=%{x}<br>Metric=ECE<br>Model=densenet161<br>Value=%{y}<extra></extra>",
         "legendgroup": "SPTS",
         "marker": {
          "color": "#EF553B"
         },
         "name": "SPTS",
         "notched": false,
         "offsetgroup": "SPTS",
         "orientation": "v",
         "showlegend": false,
         "type": "box",
         "x": [
          "SPTS",
          "SPTS",
          "SPTS",
          "SPTS",
          "SPTS",
          "SPTS",
          "SPTS",
          "SPTS",
          "SPTS",
          "SPTS",
          "SPTS",
          "SPTS",
          "SPTS",
          "SPTS",
          "SPTS",
          "SPTS",
          "SPTS",
          "SPTS",
          "SPTS",
          "SPTS"
         ],
         "x0": " ",
         "xaxis": "x14",
         "y": [
          0.0145064778625965,
          0.0246248114854097,
          0.0209870543330907,
          0.0241639520972967,
          0.0213538538664579,
          0.0181044451892375,
          0.0125799067318439,
          0.0276035014539957,
          0.0188880804926157,
          0.0161854196339845,
          0.025533091276884,
          0.0147567056119441,
          0.0172061398625373,
          0.0190223902463912,
          0.0195719003677368,
          0.022488098591566,
          0.0189723446965217,
          0.0213431250303983,
          0.0206781476736068,
          0.0299685150384902
         ],
         "y0": " ",
         "yaxis": "y14"
        },
        {
         "alignmentgroup": "True",
         "hovertemplate": "Method=%{x}<br>Metric=ECE<br>Model=inceptionresnetv2<br>Value=%{y}<extra></extra>",
         "legendgroup": "SPTS",
         "marker": {
          "color": "#EF553B"
         },
         "name": "SPTS",
         "notched": false,
         "offsetgroup": "SPTS",
         "orientation": "v",
         "showlegend": false,
         "type": "box",
         "x": [
          "SPTS",
          "SPTS",
          "SPTS",
          "SPTS",
          "SPTS",
          "SPTS",
          "SPTS",
          "SPTS",
          "SPTS",
          "SPTS",
          "SPTS",
          "SPTS",
          "SPTS",
          "SPTS",
          "SPTS",
          "SPTS",
          "SPTS",
          "SPTS",
          "SPTS",
          "SPTS"
         ],
         "x0": " ",
         "xaxis": "x15",
         "y": [
          0.0304260477423667,
          0.0364358313381671,
          0.0265364814549684,
          0.0257000923156738,
          0.0292239524424076,
          0.0319519713521003,
          0.0163808148354291,
          0.0261286366730928,
          0.0271670464426279,
          0.031135743483901,
          0.0163680184632539,
          0.0139805739745497,
          0.0176920443773269,
          0.0241674929857254,
          0.0283116120845079,
          0.0222519021481275,
          0.0181802343577146,
          0.0251097436994314,
          0.0307390578091144,
          0.0237158387899398
         ],
         "y0": " ",
         "yaxis": "y15"
        },
        {
         "alignmentgroup": "True",
         "hovertemplate": "Method=%{x}<br>Metric=SVHN<br>Model=resnet152<br>Value=%{y}<extra></extra>",
         "legendgroup": "SPTS",
         "marker": {
          "color": "#EF553B"
         },
         "name": "SPTS",
         "notched": false,
         "offsetgroup": "SPTS",
         "orientation": "v",
         "showlegend": false,
         "type": "box",
         "x": [
          "SPTS",
          "SPTS",
          "SPTS",
          "SPTS",
          "SPTS",
          "SPTS",
          "SPTS",
          "SPTS",
          "SPTS",
          "SPTS",
          "SPTS",
          "SPTS",
          "SPTS",
          "SPTS",
          "SPTS",
          "SPTS",
          "SPTS",
          "SPTS",
          "SPTS",
          "SPTS"
         ],
         "x0": " ",
         "xaxis": "x6",
         "y": [
          0.8951195,
          0.89465775,
          0.89634125,
          0.896996,
          0.8947824999999999,
          0.8923517500000001,
          0.8933637500000001,
          0.889551,
          0.8826552499999999,
          0.892637,
          0.897295,
          0.89008075,
          0.8918815000000001,
          0.8972647499999999,
          0.8897130000000001,
          0.8934154999999999,
          0.8877227499999999,
          0.8846465,
          0.8871602499999999,
          0.8890142499999999
         ],
         "y0": " ",
         "yaxis": "y6"
        },
        {
         "alignmentgroup": "True",
         "hovertemplate": "Method=%{x}<br>Metric=SVHN<br>Model=seresnet152<br>Value=%{y}<extra></extra>",
         "legendgroup": "SPTS",
         "marker": {
          "color": "#EF553B"
         },
         "name": "SPTS",
         "notched": false,
         "offsetgroup": "SPTS",
         "orientation": "v",
         "showlegend": false,
         "type": "box",
         "x": [
          "SPTS",
          "SPTS",
          "SPTS",
          "SPTS",
          "SPTS",
          "SPTS",
          "SPTS",
          "SPTS",
          "SPTS",
          "SPTS",
          "SPTS",
          "SPTS",
          "SPTS",
          "SPTS",
          "SPTS",
          "SPTS",
          "SPTS",
          "SPTS",
          "SPTS",
          "SPTS"
         ],
         "x0": " ",
         "xaxis": "x7",
         "y": [
          0.914091,
          0.912342625,
          0.9111005,
          0.91500975,
          0.9120765,
          0.9059455,
          0.90966825,
          0.906446,
          0.90448575,
          0.9109295,
          0.91299,
          0.9126625,
          0.905718,
          0.91099325,
          0.910116375,
          0.91055275,
          0.9083845000000002,
          0.90437725,
          0.90708175,
          0.9103830000000002
         ],
         "y0": " ",
         "yaxis": "y7"
        },
        {
         "alignmentgroup": "True",
         "hovertemplate": "Method=%{x}<br>Metric=SVHN<br>Model=xception<br>Value=%{y}<extra></extra>",
         "legendgroup": "SPTS",
         "marker": {
          "color": "#EF553B"
         },
         "name": "SPTS",
         "notched": false,
         "offsetgroup": "SPTS",
         "orientation": "v",
         "showlegend": false,
         "type": "box",
         "x": [
          "SPTS",
          "SPTS",
          "SPTS",
          "SPTS",
          "SPTS",
          "SPTS",
          "SPTS",
          "SPTS",
          "SPTS",
          "SPTS",
          "SPTS",
          "SPTS",
          "SPTS",
          "SPTS",
          "SPTS",
          "SPTS",
          "SPTS",
          "SPTS",
          "SPTS",
          "SPTS"
         ],
         "x0": " ",
         "xaxis": "x8",
         "y": [
          0.8721468750000001,
          0.8742640000000002,
          0.86637075,
          0.87760125,
          0.8718683750000001,
          0.8723569999999998,
          0.8728102499999999,
          0.8656833749999999,
          0.86725,
          0.8740089999999999,
          0.8758275000000001,
          0.8707795,
          0.8681468750000001,
          0.8624580000000001,
          0.8666382499999999,
          0.8675255,
          0.869831,
          0.868927,
          0.87125075,
          0.8750227500000001
         ],
         "y0": " ",
         "yaxis": "y8"
        },
        {
         "alignmentgroup": "True",
         "hovertemplate": "Method=%{x}<br>Metric=SVHN<br>Model=densenet161<br>Value=%{y}<extra></extra>",
         "legendgroup": "SPTS",
         "marker": {
          "color": "#EF553B"
         },
         "name": "SPTS",
         "notched": false,
         "offsetgroup": "SPTS",
         "orientation": "v",
         "showlegend": false,
         "type": "box",
         "x": [
          "SPTS",
          "SPTS",
          "SPTS",
          "SPTS",
          "SPTS",
          "SPTS",
          "SPTS",
          "SPTS",
          "SPTS",
          "SPTS",
          "SPTS",
          "SPTS",
          "SPTS",
          "SPTS",
          "SPTS",
          "SPTS",
          "SPTS",
          "SPTS",
          "SPTS",
          "SPTS"
         ],
         "x0": " ",
         "xaxis": "x9",
         "y": [
          0.9140455,
          0.912019,
          0.91296775,
          0.917714,
          0.908906,
          0.910172625,
          0.90991175,
          0.91208125,
          0.902057,
          0.91095525,
          0.91275125,
          0.908628,
          0.905033875,
          0.912718,
          0.9111487500000002,
          0.914779,
          0.90863125,
          0.904546125,
          0.91011175,
          0.9088695
         ],
         "y0": " ",
         "yaxis": "y9"
        },
        {
         "alignmentgroup": "True",
         "hovertemplate": "Method=%{x}<br>Metric=SVHN<br>Model=inceptionresnetv2<br>Value=%{y}<extra></extra>",
         "legendgroup": "SPTS",
         "marker": {
          "color": "#EF553B"
         },
         "name": "SPTS",
         "notched": false,
         "offsetgroup": "SPTS",
         "orientation": "v",
         "showlegend": false,
         "type": "box",
         "x": [
          "SPTS",
          "SPTS",
          "SPTS",
          "SPTS",
          "SPTS",
          "SPTS",
          "SPTS",
          "SPTS",
          "SPTS",
          "SPTS",
          "SPTS",
          "SPTS",
          "SPTS",
          "SPTS",
          "SPTS",
          "SPTS",
          "SPTS",
          "SPTS",
          "SPTS",
          "SPTS"
         ],
         "x0": " ",
         "xaxis": "x10",
         "y": [
          0.893436,
          0.889778,
          0.8930347499999999,
          0.8999453750000002,
          0.89446425,
          0.8886175000000002,
          0.8948037499999999,
          0.8916320000000001,
          0.8891337499999998,
          0.8928292499999999,
          0.8969210000000001,
          0.89172725,
          0.8938318749999999,
          0.89315425,
          0.8907707500000001,
          0.89224325,
          0.8914567500000001,
          0.8909722500000001,
          0.8871260000000001,
          0.8905735
         ],
         "y0": " ",
         "yaxis": "y10"
        },
        {
         "alignmentgroup": "True",
         "hovertemplate": "Method=%{x}<br>Metric=LSUN<br>Model=resnet152<br>Value=%{y}<extra></extra>",
         "legendgroup": "SPTS",
         "marker": {
          "color": "#EF553B"
         },
         "name": "SPTS",
         "notched": false,
         "offsetgroup": "SPTS",
         "orientation": "v",
         "showlegend": false,
         "type": "box",
         "x": [
          "SPTS",
          "SPTS",
          "SPTS",
          "SPTS",
          "SPTS",
          "SPTS",
          "SPTS",
          "SPTS",
          "SPTS",
          "SPTS",
          "SPTS",
          "SPTS",
          "SPTS",
          "SPTS",
          "SPTS",
          "SPTS",
          "SPTS",
          "SPTS",
          "SPTS",
          "SPTS"
         ],
         "x0": " ",
         "xaxis": "x",
         "y": [
          0.92450525,
          0.923631375,
          0.924982,
          0.9261935,
          0.92371475,
          0.9219810000000002,
          0.923027,
          0.91820225,
          0.9135265,
          0.9220835,
          0.92533175,
          0.9197555,
          0.9203665,
          0.9263025,
          0.9201805,
          0.92448725,
          0.91923575,
          0.9147642500000002,
          0.91845,
          0.91945875
         ],
         "y0": " ",
         "yaxis": "y"
        },
        {
         "alignmentgroup": "True",
         "hovertemplate": "Method=%{x}<br>Metric=LSUN<br>Model=seresnet152<br>Value=%{y}<extra></extra>",
         "legendgroup": "SPTS",
         "marker": {
          "color": "#EF553B"
         },
         "name": "SPTS",
         "notched": false,
         "offsetgroup": "SPTS",
         "orientation": "v",
         "showlegend": false,
         "type": "box",
         "x": [
          "SPTS",
          "SPTS",
          "SPTS",
          "SPTS",
          "SPTS",
          "SPTS",
          "SPTS",
          "SPTS",
          "SPTS",
          "SPTS",
          "SPTS",
          "SPTS",
          "SPTS",
          "SPTS",
          "SPTS",
          "SPTS",
          "SPTS",
          "SPTS",
          "SPTS",
          "SPTS"
         ],
         "x0": " ",
         "xaxis": "x2",
         "y": [
          0.9419195,
          0.940021625,
          0.9392415,
          0.942877,
          0.939912,
          0.93502825,
          0.93781025,
          0.935193875,
          0.93421825,
          0.93930075,
          0.94008325,
          0.9412875,
          0.93466675,
          0.94078575,
          0.93874775,
          0.9392095,
          0.93768675,
          0.933772375,
          0.93636325,
          0.939565
         ],
         "y0": " ",
         "yaxis": "y2"
        },
        {
         "alignmentgroup": "True",
         "hovertemplate": "Method=%{x}<br>Metric=LSUN<br>Model=xception<br>Value=%{y}<extra></extra>",
         "legendgroup": "SPTS",
         "marker": {
          "color": "#EF553B"
         },
         "name": "SPTS",
         "notched": false,
         "offsetgroup": "SPTS",
         "orientation": "v",
         "showlegend": false,
         "type": "box",
         "x": [
          "SPTS",
          "SPTS",
          "SPTS",
          "SPTS",
          "SPTS",
          "SPTS",
          "SPTS",
          "SPTS",
          "SPTS",
          "SPTS",
          "SPTS",
          "SPTS",
          "SPTS",
          "SPTS",
          "SPTS",
          "SPTS",
          "SPTS",
          "SPTS",
          "SPTS",
          "SPTS"
         ],
         "x0": " ",
         "xaxis": "x3",
         "y": [
          0.893432,
          0.89483825,
          0.8889484999999999,
          0.89825175,
          0.8931112500000001,
          0.8935878750000001,
          0.893468875,
          0.88685025,
          0.8884497499999999,
          0.894979,
          0.8957267500000001,
          0.8915659999999999,
          0.8892992500000001,
          0.88492375,
          0.8885385,
          0.8894384999999999,
          0.8917403749999999,
          0.89036775,
          0.8926755000000001,
          0.89612875
         ],
         "y0": " ",
         "yaxis": "y3"
        },
        {
         "alignmentgroup": "True",
         "hovertemplate": "Method=%{x}<br>Metric=LSUN<br>Model=densenet161<br>Value=%{y}<extra></extra>",
         "legendgroup": "SPTS",
         "marker": {
          "color": "#EF553B"
         },
         "name": "SPTS",
         "notched": false,
         "offsetgroup": "SPTS",
         "orientation": "v",
         "showlegend": false,
         "type": "box",
         "x": [
          "SPTS",
          "SPTS",
          "SPTS",
          "SPTS",
          "SPTS",
          "SPTS",
          "SPTS",
          "SPTS",
          "SPTS",
          "SPTS",
          "SPTS",
          "SPTS",
          "SPTS",
          "SPTS",
          "SPTS",
          "SPTS",
          "SPTS",
          "SPTS",
          "SPTS",
          "SPTS"
         ],
         "x0": " ",
         "xaxis": "x4",
         "y": [
          0.92985075,
          0.927538,
          0.92875075,
          0.93406375,
          0.925518,
          0.92629975,
          0.92616275,
          0.9275195,
          0.91859625,
          0.9276075,
          0.9282215,
          0.92473525,
          0.9213932499999998,
          0.92886625,
          0.9270135000000002,
          0.93099775,
          0.92514425,
          0.92136825,
          0.92655775,
          0.9253245
         ],
         "y0": " ",
         "yaxis": "y4"
        },
        {
         "alignmentgroup": "True",
         "hovertemplate": "Method=%{x}<br>Metric=LSUN<br>Model=inceptionresnetv2<br>Value=%{y}<extra></extra>",
         "legendgroup": "SPTS",
         "marker": {
          "color": "#EF553B"
         },
         "name": "SPTS",
         "notched": false,
         "offsetgroup": "SPTS",
         "orientation": "v",
         "showlegend": false,
         "type": "box",
         "x": [
          "SPTS",
          "SPTS",
          "SPTS",
          "SPTS",
          "SPTS",
          "SPTS",
          "SPTS",
          "SPTS",
          "SPTS",
          "SPTS",
          "SPTS",
          "SPTS",
          "SPTS",
          "SPTS",
          "SPTS",
          "SPTS",
          "SPTS",
          "SPTS",
          "SPTS",
          "SPTS"
         ],
         "x0": " ",
         "xaxis": "x5",
         "y": [
          0.921608,
          0.91845875,
          0.92139375,
          0.9277465,
          0.9226435,
          0.9178041250000002,
          0.92287875,
          0.919688,
          0.9174635,
          0.92039225,
          0.92405925,
          0.918853875,
          0.92263375,
          0.921629375,
          0.91965,
          0.92155825,
          0.920687,
          0.91985875,
          0.91568825,
          0.91918625
         ],
         "y0": " ",
         "yaxis": "y5"
        },
        {
         "alignmentgroup": "True",
         "hovertemplate": "Method=%{x}<br>Metric=ECE<br>Model=resnet152<br>Value=%{y}<extra></extra>",
         "legendgroup": "SP1",
         "marker": {
          "color": "#00cc96"
         },
         "name": "SP1",
         "notched": false,
         "offsetgroup": "SP1",
         "orientation": "v",
         "showlegend": true,
         "type": "box",
         "x": [
          "SP1",
          "SP1",
          "SP1",
          "SP1",
          "SP1",
          "SP1",
          "SP1",
          "SP1",
          "SP1",
          "SP1",
          "SP1",
          "SP1",
          "SP1",
          "SP1",
          "SP1",
          "SP1",
          "SP1",
          "SP1",
          "SP1",
          "SP1"
         ],
         "x0": " ",
         "xaxis": "x11",
         "y": [
          0.0211564805358648,
          0.0236778743565082,
          0.015564976260066,
          0.0255956966429948,
          0.0175631064921617,
          0.0183173157274723,
          0.0209261532872915,
          0.02885078266263,
          0.0260692555457353,
          0.0363993495702743,
          0.0288796760141849,
          0.027597164735198,
          0.0261347219347953,
          0.0218160226941108,
          0.0239039789885282,
          0.019315842539072,
          0.0302610285580158,
          0.0243583638221025,
          0.035959642380476,
          0.0306962206959724
         ],
         "y0": " ",
         "yaxis": "y11"
        },
        {
         "alignmentgroup": "True",
         "hovertemplate": "Method=%{x}<br>Metric=ECE<br>Model=seresnet152<br>Value=%{y}<extra></extra>",
         "legendgroup": "SP1",
         "marker": {
          "color": "#00cc96"
         },
         "name": "SP1",
         "notched": false,
         "offsetgroup": "SP1",
         "orientation": "v",
         "showlegend": false,
         "type": "box",
         "x": [
          "SP1",
          "SP1",
          "SP1",
          "SP1",
          "SP1",
          "SP1",
          "SP1",
          "SP1",
          "SP1",
          "SP1",
          "SP1",
          "SP1",
          "SP1",
          "SP1",
          "SP1",
          "SP1",
          "SP1",
          "SP1",
          "SP1",
          "SP1"
         ],
         "x0": " ",
         "xaxis": "x12",
         "y": [
          0.0159742217510938,
          0.0256886854767799,
          0.0230050757527351,
          0.0156362559646368,
          0.0215057376772165,
          0.029937420040369,
          0.0258221197873353,
          0.0209974274039268,
          0.0295980032533407,
          0.0264767557382583,
          0.0263742543756961,
          0.0164200570434331,
          0.0164228826761245,
          0.0230830088257789,
          0.0214664060622453,
          0.0149006694555282,
          0.0263570230454206,
          0.0207381602376699,
          0.0253856815397739,
          0.0235443096607923
         ],
         "y0": " ",
         "yaxis": "y12"
        },
        {
         "alignmentgroup": "True",
         "hovertemplate": "Method=%{x}<br>Metric=ECE<br>Model=xception<br>Value=%{y}<extra></extra>",
         "legendgroup": "SP1",
         "marker": {
          "color": "#00cc96"
         },
         "name": "SP1",
         "notched": false,
         "offsetgroup": "SP1",
         "orientation": "v",
         "showlegend": false,
         "type": "box",
         "x": [
          "SP1",
          "SP1",
          "SP1",
          "SP1",
          "SP1",
          "SP1",
          "SP1",
          "SP1",
          "SP1",
          "SP1",
          "SP1",
          "SP1",
          "SP1",
          "SP1",
          "SP1",
          "SP1",
          "SP1",
          "SP1",
          "SP1",
          "SP1"
         ],
         "x0": " ",
         "xaxis": "x13",
         "y": [
          0.0132820038124918,
          0.0158389918506145,
          0.0264155566692352,
          0.0202420819550752,
          0.0177820511162281,
          0.0263234451413154,
          0.0149390194565057,
          0.0186229348182678,
          0.0256037320941686,
          0.0198898557573556,
          0.0242310091853141,
          0.0141336042433977,
          0.0139529993757605,
          0.0148615464568138,
          0.0172541048377752,
          0.0292846634984016,
          0.0195499099791049,
          0.0242352336645126,
          0.0220130421221256,
          0.018362870439887
         ],
         "y0": " ",
         "yaxis": "y13"
        },
        {
         "alignmentgroup": "True",
         "hovertemplate": "Method=%{x}<br>Metric=ECE<br>Model=densenet161<br>Value=%{y}<extra></extra>",
         "legendgroup": "SP1",
         "marker": {
          "color": "#00cc96"
         },
         "name": "SP1",
         "notched": false,
         "offsetgroup": "SP1",
         "orientation": "v",
         "showlegend": false,
         "type": "box",
         "x": [
          "SP1",
          "SP1",
          "SP1",
          "SP1",
          "SP1",
          "SP1",
          "SP1",
          "SP1",
          "SP1",
          "SP1",
          "SP1",
          "SP1",
          "SP1",
          "SP1",
          "SP1",
          "SP1",
          "SP1",
          "SP1",
          "SP1",
          "SP1"
         ],
         "x0": " ",
         "xaxis": "x14",
         "y": [
          0.0166289079934358,
          0.018018826842308,
          0.0211086682975292,
          0.0184636954218149,
          0.0267620608210563,
          0.0271169580519199,
          0.0185852609574794,
          0.0324313379824161,
          0.0130943143740296,
          0.0157491061836481,
          0.0278553254902362,
          0.0170053336769342,
          0.0133020477369427,
          0.0204948633909225,
          0.0217717736959457,
          0.0238853264600038,
          0.0179466418921947,
          0.02372414059937,
          0.0208529215306043,
          0.0262932237237691
         ],
         "y0": " ",
         "yaxis": "y14"
        },
        {
         "alignmentgroup": "True",
         "hovertemplate": "Method=%{x}<br>Metric=ECE<br>Model=inceptionresnetv2<br>Value=%{y}<extra></extra>",
         "legendgroup": "SP1",
         "marker": {
          "color": "#00cc96"
         },
         "name": "SP1",
         "notched": false,
         "offsetgroup": "SP1",
         "orientation": "v",
         "showlegend": false,
         "type": "box",
         "x": [
          "SP1",
          "SP1",
          "SP1",
          "SP1",
          "SP1",
          "SP1",
          "SP1",
          "SP1",
          "SP1",
          "SP1",
          "SP1",
          "SP1",
          "SP1",
          "SP1",
          "SP1",
          "SP1",
          "SP1",
          "SP1",
          "SP1",
          "SP1"
         ],
         "x0": " ",
         "xaxis": "x15",
         "y": [
          0.0232761949300766,
          0.029874300584197,
          0.0261474009603261,
          0.0351610146462917,
          0.0283827856183052,
          0.0241758860647678,
          0.0205630734562873,
          0.0296180509030818,
          0.0256560500711202,
          0.0249369014054536,
          0.019107136875391,
          0.0206669680774211,
          0.0135977352038025,
          0.0262336935847997,
          0.0294650588184595,
          0.0188204422593116,
          0.0280381515622138,
          0.0231754798442125,
          0.0278770886361598,
          0.0215124785900115
         ],
         "y0": " ",
         "yaxis": "y15"
        },
        {
         "alignmentgroup": "True",
         "hovertemplate": "Method=%{x}<br>Metric=SVHN<br>Model=resnet152<br>Value=%{y}<extra></extra>",
         "legendgroup": "SP1",
         "marker": {
          "color": "#00cc96"
         },
         "name": "SP1",
         "notched": false,
         "offsetgroup": "SP1",
         "orientation": "v",
         "showlegend": false,
         "type": "box",
         "x": [
          "SP1",
          "SP1",
          "SP1",
          "SP1",
          "SP1",
          "SP1",
          "SP1",
          "SP1",
          "SP1",
          "SP1",
          "SP1",
          "SP1",
          "SP1",
          "SP1",
          "SP1",
          "SP1",
          "SP1",
          "SP1",
          "SP1",
          "SP1"
         ],
         "x0": " ",
         "xaxis": "x6",
         "y": [
          0.89199525,
          0.89220025,
          0.89399675,
          0.8952232499999999,
          0.8929489999999999,
          0.8906014999999999,
          0.8913465,
          0.8877165000000001,
          0.880003,
          0.8904145,
          0.8951550000000001,
          0.888272,
          0.889341,
          0.894844,
          0.8875035000000001,
          0.89111425,
          0.885769625,
          0.882466,
          0.88496425,
          0.8868117499999999
         ],
         "y0": " ",
         "yaxis": "y6"
        },
        {
         "alignmentgroup": "True",
         "hovertemplate": "Method=%{x}<br>Metric=SVHN<br>Model=seresnet152<br>Value=%{y}<extra></extra>",
         "legendgroup": "SP1",
         "marker": {
          "color": "#00cc96"
         },
         "name": "SP1",
         "notched": false,
         "offsetgroup": "SP1",
         "orientation": "v",
         "showlegend": false,
         "type": "box",
         "x": [
          "SP1",
          "SP1",
          "SP1",
          "SP1",
          "SP1",
          "SP1",
          "SP1",
          "SP1",
          "SP1",
          "SP1",
          "SP1",
          "SP1",
          "SP1",
          "SP1",
          "SP1",
          "SP1",
          "SP1",
          "SP1",
          "SP1",
          "SP1"
         ],
         "x0": " ",
         "xaxis": "x7",
         "y": [
          0.9095927499999998,
          0.907955,
          0.90582475,
          0.9101725,
          0.90757075,
          0.90141025,
          0.90498175,
          0.901953,
          0.8999845,
          0.906765,
          0.9086065,
          0.908478,
          0.90093875,
          0.906131625,
          0.90561975,
          0.906145,
          0.903691,
          0.89959,
          0.90209725,
          0.9053535
         ],
         "y0": " ",
         "yaxis": "y7"
        },
        {
         "alignmentgroup": "True",
         "hovertemplate": "Method=%{x}<br>Metric=SVHN<br>Model=xception<br>Value=%{y}<extra></extra>",
         "legendgroup": "SP1",
         "marker": {
          "color": "#00cc96"
         },
         "name": "SP1",
         "notched": false,
         "offsetgroup": "SP1",
         "orientation": "v",
         "showlegend": false,
         "type": "box",
         "x": [
          "SP1",
          "SP1",
          "SP1",
          "SP1",
          "SP1",
          "SP1",
          "SP1",
          "SP1",
          "SP1",
          "SP1",
          "SP1",
          "SP1",
          "SP1",
          "SP1",
          "SP1",
          "SP1",
          "SP1",
          "SP1",
          "SP1",
          "SP1"
         ],
         "x0": " ",
         "xaxis": "x8",
         "y": [
          0.8699535,
          0.8723339999999999,
          0.8644645000000001,
          0.8757722499999999,
          0.869729,
          0.8706430000000001,
          0.8708725000000002,
          0.86375375,
          0.8653642500000001,
          0.87202325,
          0.8736510000000001,
          0.8690175,
          0.86633025,
          0.8605004999999999,
          0.8645272500000001,
          0.86534475,
          0.8675896249999999,
          0.866565875,
          0.869248,
          0.8727342499999999
         ],
         "y0": " ",
         "yaxis": "y8"
        },
        {
         "alignmentgroup": "True",
         "hovertemplate": "Method=%{x}<br>Metric=SVHN<br>Model=densenet161<br>Value=%{y}<extra></extra>",
         "legendgroup": "SP1",
         "marker": {
          "color": "#00cc96"
         },
         "name": "SP1",
         "notched": false,
         "offsetgroup": "SP1",
         "orientation": "v",
         "showlegend": false,
         "type": "box",
         "x": [
          "SP1",
          "SP1",
          "SP1",
          "SP1",
          "SP1",
          "SP1",
          "SP1",
          "SP1",
          "SP1",
          "SP1",
          "SP1",
          "SP1",
          "SP1",
          "SP1",
          "SP1",
          "SP1",
          "SP1",
          "SP1",
          "SP1",
          "SP1"
         ],
         "x0": " ",
         "xaxis": "x9",
         "y": [
          0.91122575,
          0.90950075,
          0.91048825,
          0.915494,
          0.90675875,
          0.90769525,
          0.9075332500000002,
          0.9098317499999998,
          0.8996722500000001,
          0.908372,
          0.910463,
          0.906431125,
          0.9025192500000002,
          0.910017125,
          0.9088685,
          0.9121785,
          0.9059175,
          0.9017935,
          0.908000875,
          0.906001
         ],
         "y0": " ",
         "yaxis": "y9"
        },
        {
         "alignmentgroup": "True",
         "hovertemplate": "Method=%{x}<br>Metric=SVHN<br>Model=inceptionresnetv2<br>Value=%{y}<extra></extra>",
         "legendgroup": "SP1",
         "marker": {
          "color": "#00cc96"
         },
         "name": "SP1",
         "notched": false,
         "offsetgroup": "SP1",
         "orientation": "v",
         "showlegend": false,
         "type": "box",
         "x": [
          "SP1",
          "SP1",
          "SP1",
          "SP1",
          "SP1",
          "SP1",
          "SP1",
          "SP1",
          "SP1",
          "SP1",
          "SP1",
          "SP1",
          "SP1",
          "SP1",
          "SP1",
          "SP1",
          "SP1",
          "SP1",
          "SP1",
          "SP1"
         ],
         "x0": " ",
         "xaxis": "x10",
         "y": [
          0.88945275,
          0.88635725,
          0.8889775,
          0.896503,
          0.8911119999999999,
          0.88528825,
          0.8909337499999999,
          0.8880045,
          0.8853152500000001,
          0.889222,
          0.893487,
          0.8883192499999999,
          0.8903189999999999,
          0.88926025,
          0.88663075,
          0.8887990000000001,
          0.8875146249999999,
          0.8868677500000001,
          0.883478,
          0.8867335000000001
         ],
         "y0": " ",
         "yaxis": "y10"
        },
        {
         "alignmentgroup": "True",
         "hovertemplate": "Method=%{x}<br>Metric=LSUN<br>Model=resnet152<br>Value=%{y}<extra></extra>",
         "legendgroup": "SP1",
         "marker": {
          "color": "#00cc96"
         },
         "name": "SP1",
         "notched": false,
         "offsetgroup": "SP1",
         "orientation": "v",
         "showlegend": false,
         "type": "box",
         "x": [
          "SP1",
          "SP1",
          "SP1",
          "SP1",
          "SP1",
          "SP1",
          "SP1",
          "SP1",
          "SP1",
          "SP1",
          "SP1",
          "SP1",
          "SP1",
          "SP1",
          "SP1",
          "SP1",
          "SP1",
          "SP1",
          "SP1",
          "SP1"
         ],
         "x0": " ",
         "xaxis": "x",
         "y": [
          0.92126175,
          0.921063125,
          0.9225175,
          0.924189625,
          0.9216955,
          0.91986225,
          0.9207856249999998,
          0.916187,
          0.910849,
          0.9195335,
          0.92318025,
          0.91773325,
          0.9175955,
          0.92375275,
          0.91765125,
          0.921924,
          0.9168965,
          0.91267925,
          0.91582275,
          0.9169665
         ],
         "y0": " ",
         "yaxis": "y"
        },
        {
         "alignmentgroup": "True",
         "hovertemplate": "Method=%{x}<br>Metric=LSUN<br>Model=seresnet152<br>Value=%{y}<extra></extra>",
         "legendgroup": "SP1",
         "marker": {
          "color": "#00cc96"
         },
         "name": "SP1",
         "notched": false,
         "offsetgroup": "SP1",
         "orientation": "v",
         "showlegend": false,
         "type": "box",
         "x": [
          "SP1",
          "SP1",
          "SP1",
          "SP1",
          "SP1",
          "SP1",
          "SP1",
          "SP1",
          "SP1",
          "SP1",
          "SP1",
          "SP1",
          "SP1",
          "SP1",
          "SP1",
          "SP1",
          "SP1",
          "SP1",
          "SP1",
          "SP1"
         ],
         "x0": " ",
         "xaxis": "x2",
         "y": [
          0.93748725,
          0.93545075,
          0.93409275,
          0.938021875,
          0.935348,
          0.9303865,
          0.933087,
          0.93068,
          0.9296495,
          0.9349675,
          0.93573,
          0.9369425,
          0.92987425,
          0.9358495,
          0.9340645,
          0.93469175,
          0.9328922500000002,
          0.9289802500000002,
          0.93123125,
          0.934499
         ],
         "y0": " ",
         "yaxis": "y2"
        },
        {
         "alignmentgroup": "True",
         "hovertemplate": "Method=%{x}<br>Metric=LSUN<br>Model=xception<br>Value=%{y}<extra></extra>",
         "legendgroup": "SP1",
         "marker": {
          "color": "#00cc96"
         },
         "name": "SP1",
         "notched": false,
         "offsetgroup": "SP1",
         "orientation": "v",
         "showlegend": false,
         "type": "box",
         "x": [
          "SP1",
          "SP1",
          "SP1",
          "SP1",
          "SP1",
          "SP1",
          "SP1",
          "SP1",
          "SP1",
          "SP1",
          "SP1",
          "SP1",
          "SP1",
          "SP1",
          "SP1",
          "SP1",
          "SP1",
          "SP1",
          "SP1",
          "SP1"
         ],
         "x0": " ",
         "xaxis": "x3",
         "y": [
          0.89155375,
          0.89317325,
          0.8871932500000002,
          0.8965734999999999,
          0.8913577500000001,
          0.8921242500000002,
          0.8918255000000002,
          0.8851202499999999,
          0.8867235,
          0.89322475,
          0.8938275,
          0.8899708749999999,
          0.88771075,
          0.8832487499999999,
          0.8866702500000001,
          0.8875817500000001,
          0.88975175,
          0.8882570000000001,
          0.8909835,
          0.89412025
         ],
         "y0": " ",
         "yaxis": "y3"
        },
        {
         "alignmentgroup": "True",
         "hovertemplate": "Method=%{x}<br>Metric=LSUN<br>Model=densenet161<br>Value=%{y}<extra></extra>",
         "legendgroup": "SP1",
         "marker": {
          "color": "#00cc96"
         },
         "name": "SP1",
         "notched": false,
         "offsetgroup": "SP1",
         "orientation": "v",
         "showlegend": false,
         "type": "box",
         "x": [
          "SP1",
          "SP1",
          "SP1",
          "SP1",
          "SP1",
          "SP1",
          "SP1",
          "SP1",
          "SP1",
          "SP1",
          "SP1",
          "SP1",
          "SP1",
          "SP1",
          "SP1",
          "SP1",
          "SP1",
          "SP1",
          "SP1",
          "SP1"
         ],
         "x0": " ",
         "xaxis": "x4",
         "y": [
          0.92692225,
          0.92485775,
          0.926026,
          0.93163425,
          0.92320875,
          0.923525,
          0.92352225,
          0.925138,
          0.91602275,
          0.924837,
          0.92569825,
          0.922335,
          0.91861325,
          0.92607225,
          0.92451225,
          0.9282557500000002,
          0.92221125,
          0.91849075,
          0.9241295,
          0.92229425
         ],
         "y0": " ",
         "yaxis": "y4"
        },
        {
         "alignmentgroup": "True",
         "hovertemplate": "Method=%{x}<br>Metric=LSUN<br>Model=inceptionresnetv2<br>Value=%{y}<extra></extra>",
         "legendgroup": "SP1",
         "marker": {
          "color": "#00cc96"
         },
         "name": "SP1",
         "notched": false,
         "offsetgroup": "SP1",
         "orientation": "v",
         "showlegend": false,
         "type": "box",
         "x": [
          "SP1",
          "SP1",
          "SP1",
          "SP1",
          "SP1",
          "SP1",
          "SP1",
          "SP1",
          "SP1",
          "SP1",
          "SP1",
          "SP1",
          "SP1",
          "SP1",
          "SP1",
          "SP1",
          "SP1",
          "SP1",
          "SP1",
          "SP1"
         ],
         "x0": " ",
         "xaxis": "x5",
         "y": [
          0.91808325,
          0.915437,
          0.9178105,
          0.92469375,
          0.919743,
          0.91482325,
          0.91959875,
          0.91667375,
          0.91416325,
          0.9172475,
          0.92113825,
          0.91587875,
          0.919458,
          0.918213,
          0.916058,
          0.918468,
          0.917288625,
          0.91635525,
          0.912500125,
          0.91577325
         ],
         "y0": " ",
         "yaxis": "y5"
        },
        {
         "alignmentgroup": "True",
         "hovertemplate": "Method=%{x}<br>Metric=ECE<br>Model=resnet152<br>Value=%{y}<extra></extra>",
         "legendgroup": "SPU",
         "marker": {
          "color": "#ab63fa"
         },
         "name": "SPU",
         "notched": false,
         "offsetgroup": "SPU",
         "orientation": "v",
         "showlegend": true,
         "type": "box",
         "x": [
          "SPU",
          "SPU",
          "SPU",
          "SPU",
          "SPU",
          "SPU",
          "SPU",
          "SPU",
          "SPU",
          "SPU",
          "SPU",
          "SPU",
          "SPU",
          "SPU",
          "SPU",
          "SPU",
          "SPU",
          "SPU",
          "SPU",
          "SPU"
         ],
         "x0": " ",
         "xaxis": "x11",
         "y": [
          0.0171329341828823,
          0.0249975752085447,
          0.0152165042236447,
          0.0250705927610397,
          0.0165819618850946,
          0.0170582979917526,
          0.019166175276041,
          0.0314091145992279,
          0.0261785089969635,
          0.0343076363205909,
          0.0321293473243713,
          0.024359930306673,
          0.0257010832428932,
          0.0208369139581918,
          0.0249888449907302,
          0.0219202227890491,
          0.0313785523176193,
          0.0222579725086689,
          0.0356022454798221,
          0.0294496957212686
         ],
         "y0": " ",
         "yaxis": "y11"
        },
        {
         "alignmentgroup": "True",
         "hovertemplate": "Method=%{x}<br>Metric=ECE<br>Model=seresnet152<br>Value=%{y}<extra></extra>",
         "legendgroup": "SPU",
         "marker": {
          "color": "#ab63fa"
         },
         "name": "SPU",
         "notched": false,
         "offsetgroup": "SPU",
         "orientation": "v",
         "showlegend": false,
         "type": "box",
         "x": [
          "SPU",
          "SPU",
          "SPU",
          "SPU",
          "SPU",
          "SPU",
          "SPU",
          "SPU",
          "SPU",
          "SPU",
          "SPU",
          "SPU",
          "SPU",
          "SPU",
          "SPU",
          "SPU",
          "SPU",
          "SPU",
          "SPU",
          "SPU"
         ],
         "x0": " ",
         "xaxis": "x12",
         "y": [
          0.0157740041613578,
          0.0261558257043361,
          0.023702772334218,
          0.0150487925857305,
          0.0227319076657295,
          0.0302016697824001,
          0.0260419510304927,
          0.02187155559659,
          0.0268736649304628,
          0.026595028117299,
          0.0264972392469644,
          0.016318742185831,
          0.0173050239682197,
          0.0214119330048561,
          0.0207546390593051,
          0.0155118703842163,
          0.0267697013914585,
          0.0211783871054649,
          0.0247986055910587,
          0.0231455639004707
         ],
         "y0": " ",
         "yaxis": "y12"
        },
        {
         "alignmentgroup": "True",
         "hovertemplate": "Method=%{x}<br>Metric=ECE<br>Model=xception<br>Value=%{y}<extra></extra>",
         "legendgroup": "SPU",
         "marker": {
          "color": "#ab63fa"
         },
         "name": "SPU",
         "notched": false,
         "offsetgroup": "SPU",
         "orientation": "v",
         "showlegend": false,
         "type": "box",
         "x": [
          "SPU",
          "SPU",
          "SPU",
          "SPU",
          "SPU",
          "SPU",
          "SPU",
          "SPU",
          "SPU",
          "SPU",
          "SPU",
          "SPU",
          "SPU",
          "SPU",
          "SPU",
          "SPU",
          "SPU",
          "SPU",
          "SPU",
          "SPU"
         ],
         "x0": " ",
         "xaxis": "x13",
         "y": [
          0.0193173214793205,
          0.0190006829798221,
          0.0281769353896379,
          0.0223814584314823,
          0.0212755352258682,
          0.0220118202269077,
          0.0124517017975449,
          0.0262552239000797,
          0.0191931277513504,
          0.0246523823589086,
          0.0284964255988597,
          0.0186284631490707,
          0.0143487490713596,
          0.0131011493504047,
          0.0200290698558092,
          0.0227345637977123,
          0.0265253987163305,
          0.0209858678281307,
          0.0267402362078428,
          0.0206881929188966
         ],
         "y0": " ",
         "yaxis": "y13"
        },
        {
         "alignmentgroup": "True",
         "hovertemplate": "Method=%{x}<br>Metric=ECE<br>Model=densenet161<br>Value=%{y}<extra></extra>",
         "legendgroup": "SPU",
         "marker": {
          "color": "#ab63fa"
         },
         "name": "SPU",
         "notched": false,
         "offsetgroup": "SPU",
         "orientation": "v",
         "showlegend": false,
         "type": "box",
         "x": [
          "SPU",
          "SPU",
          "SPU",
          "SPU",
          "SPU",
          "SPU",
          "SPU",
          "SPU",
          "SPU",
          "SPU",
          "SPU",
          "SPU",
          "SPU",
          "SPU",
          "SPU",
          "SPU",
          "SPU",
          "SPU",
          "SPU",
          "SPU"
         ],
         "x0": " ",
         "xaxis": "x14",
         "y": [
          0.018271405249834,
          0.01965325884521,
          0.0212163608521223,
          0.0218414980918169,
          0.0238645542412996,
          0.0236080754548311,
          0.0209440626204013,
          0.0332901440560817,
          0.015512665733695,
          0.0116341756656765,
          0.0277861431241035,
          0.0163660049438476,
          0.0126643776893615,
          0.0156641732901334,
          0.0216226521879434,
          0.0201663989573717,
          0.0199979320168495,
          0.021863792091608,
          0.0200331807136535,
          0.0259501822292804
         ],
         "y0": " ",
         "yaxis": "y14"
        },
        {
         "alignmentgroup": "True",
         "hovertemplate": "Method=%{x}<br>Metric=ECE<br>Model=inceptionresnetv2<br>Value=%{y}<extra></extra>",
         "legendgroup": "SPU",
         "marker": {
          "color": "#ab63fa"
         },
         "name": "SPU",
         "notched": false,
         "offsetgroup": "SPU",
         "orientation": "v",
         "showlegend": false,
         "type": "box",
         "x": [
          "SPU",
          "SPU",
          "SPU",
          "SPU",
          "SPU",
          "SPU",
          "SPU",
          "SPU",
          "SPU",
          "SPU",
          "SPU",
          "SPU",
          "SPU",
          "SPU",
          "SPU",
          "SPU",
          "SPU",
          "SPU",
          "SPU",
          "SPU"
         ],
         "x0": " ",
         "xaxis": "x15",
         "y": [
          0.021521957591176,
          0.0275569353252649,
          0.0300206243991851,
          0.0332205258309841,
          0.0283339712768793,
          0.0175802335143089,
          0.0133696589618921,
          0.0296874679625034,
          0.0244943127036094,
          0.0217439457774162,
          0.0190874561667442,
          0.0193611830472946,
          0.0120203029364347,
          0.0196667537093162,
          0.0280151832848787,
          0.0176089014858007,
          0.0286451838910579,
          0.0279704332351684,
          0.0294297374784946,
          0.0226922761648893
         ],
         "y0": " ",
         "yaxis": "y15"
        },
        {
         "alignmentgroup": "True",
         "hovertemplate": "Method=%{x}<br>Metric=SVHN<br>Model=resnet152<br>Value=%{y}<extra></extra>",
         "legendgroup": "SPU",
         "marker": {
          "color": "#ab63fa"
         },
         "name": "SPU",
         "notched": false,
         "offsetgroup": "SPU",
         "orientation": "v",
         "showlegend": false,
         "type": "box",
         "x": [
          "SPU",
          "SPU",
          "SPU",
          "SPU",
          "SPU",
          "SPU",
          "SPU",
          "SPU",
          "SPU",
          "SPU",
          "SPU",
          "SPU",
          "SPU",
          "SPU",
          "SPU",
          "SPU",
          "SPU",
          "SPU",
          "SPU",
          "SPU"
         ],
         "x0": " ",
         "xaxis": "x6",
         "y": [
          0.89152675,
          0.8917495,
          0.8937362500000001,
          0.89500375,
          0.892487,
          0.89032775,
          0.8910512500000001,
          0.8874555,
          0.8795504999999999,
          0.8899675,
          0.894884,
          0.88797975,
          0.8888845000000001,
          0.8944365,
          0.8871120000000001,
          0.8907305,
          0.8852885,
          0.88213925,
          0.8845495000000001,
          0.8864325000000001
         ],
         "y0": " ",
         "yaxis": "y6"
        },
        {
         "alignmentgroup": "True",
         "hovertemplate": "Method=%{x}<br>Metric=SVHN<br>Model=seresnet152<br>Value=%{y}<extra></extra>",
         "legendgroup": "SPU",
         "marker": {
          "color": "#ab63fa"
         },
         "name": "SPU",
         "notched": false,
         "offsetgroup": "SPU",
         "orientation": "v",
         "showlegend": false,
         "type": "box",
         "x": [
          "SPU",
          "SPU",
          "SPU",
          "SPU",
          "SPU",
          "SPU",
          "SPU",
          "SPU",
          "SPU",
          "SPU",
          "SPU",
          "SPU",
          "SPU",
          "SPU",
          "SPU",
          "SPU",
          "SPU",
          "SPU",
          "SPU",
          "SPU"
         ],
         "x0": " ",
         "xaxis": "x7",
         "y": [
          0.909490125,
          0.907874875,
          0.90587275,
          0.9105645,
          0.9074205,
          0.9013855,
          0.9049525,
          0.90172275,
          0.89996575,
          0.90659175,
          0.9086995,
          0.90851,
          0.90100525,
          0.90624725,
          0.905669375,
          0.90636975,
          0.903593,
          0.8996450000000001,
          0.90189,
          0.9053235
         ],
         "y0": " ",
         "yaxis": "y7"
        },
        {
         "alignmentgroup": "True",
         "hovertemplate": "Method=%{x}<br>Metric=SVHN<br>Model=xception<br>Value=%{y}<extra></extra>",
         "legendgroup": "SPU",
         "marker": {
          "color": "#ab63fa"
         },
         "name": "SPU",
         "notched": false,
         "offsetgroup": "SPU",
         "orientation": "v",
         "showlegend": false,
         "type": "box",
         "x": [
          "SPU",
          "SPU",
          "SPU",
          "SPU",
          "SPU",
          "SPU",
          "SPU",
          "SPU",
          "SPU",
          "SPU",
          "SPU",
          "SPU",
          "SPU",
          "SPU",
          "SPU",
          "SPU",
          "SPU",
          "SPU",
          "SPU",
          "SPU"
         ],
         "x0": " ",
         "xaxis": "x8",
         "y": [
          0.8679479999999999,
          0.870492,
          0.8626472500000001,
          0.8740640000000001,
          0.8676772500000001,
          0.869059625,
          0.8688632500000001,
          0.8618585000000001,
          0.8635375000000002,
          0.86982125,
          0.871870875,
          0.86742075,
          0.864563,
          0.8586865,
          0.862543,
          0.8631452500000001,
          0.8650120000000001,
          0.86423825,
          0.86724225,
          0.87007825
         ],
         "y0": " ",
         "yaxis": "y8"
        },
        {
         "alignmentgroup": "True",
         "hovertemplate": "Method=%{x}<br>Metric=SVHN<br>Model=densenet161<br>Value=%{y}<extra></extra>",
         "legendgroup": "SPU",
         "marker": {
          "color": "#ab63fa"
         },
         "name": "SPU",
         "notched": false,
         "offsetgroup": "SPU",
         "orientation": "v",
         "showlegend": false,
         "type": "box",
         "x": [
          "SPU",
          "SPU",
          "SPU",
          "SPU",
          "SPU",
          "SPU",
          "SPU",
          "SPU",
          "SPU",
          "SPU",
          "SPU",
          "SPU",
          "SPU",
          "SPU",
          "SPU",
          "SPU",
          "SPU",
          "SPU",
          "SPU",
          "SPU"
         ],
         "x0": " ",
         "xaxis": "x9",
         "y": [
          0.910412625,
          0.9086770000000002,
          0.909962625,
          0.915212,
          0.9062965,
          0.907206,
          0.906937,
          0.90915275,
          0.8992160000000001,
          0.9077665,
          0.91009775,
          0.905938,
          0.90189025,
          0.90933625,
          0.90810025,
          0.9116837499999998,
          0.9049279999999998,
          0.90126025,
          0.90736575,
          0.90524775
         ],
         "y0": " ",
         "yaxis": "y9"
        },
        {
         "alignmentgroup": "True",
         "hovertemplate": "Method=%{x}<br>Metric=SVHN<br>Model=inceptionresnetv2<br>Value=%{y}<extra></extra>",
         "legendgroup": "SPU",
         "marker": {
          "color": "#ab63fa"
         },
         "name": "SPU",
         "notched": false,
         "offsetgroup": "SPU",
         "orientation": "v",
         "showlegend": false,
         "type": "box",
         "x": [
          "SPU",
          "SPU",
          "SPU",
          "SPU",
          "SPU",
          "SPU",
          "SPU",
          "SPU",
          "SPU",
          "SPU",
          "SPU",
          "SPU",
          "SPU",
          "SPU",
          "SPU",
          "SPU",
          "SPU",
          "SPU",
          "SPU",
          "SPU"
         ],
         "x0": " ",
         "xaxis": "x10",
         "y": [
          0.8859755,
          0.8832987500000001,
          0.8853915000000001,
          0.8937746249999999,
          0.888268,
          0.882889,
          0.8876822499999999,
          0.8850469999999999,
          0.882405875,
          0.88616575,
          0.89095675,
          0.8856352499999999,
          0.8871840000000001,
          0.8859614999999998,
          0.8830914999999999,
          0.8861009999999999,
          0.8842837500000001,
          0.8835740000000001,
          0.880155,
          0.8836535
         ],
         "y0": " ",
         "yaxis": "y10"
        },
        {
         "alignmentgroup": "True",
         "hovertemplate": "Method=%{x}<br>Metric=LSUN<br>Model=resnet152<br>Value=%{y}<extra></extra>",
         "legendgroup": "SPU",
         "marker": {
          "color": "#ab63fa"
         },
         "name": "SPU",
         "notched": false,
         "offsetgroup": "SPU",
         "orientation": "v",
         "showlegend": false,
         "type": "box",
         "x": [
          "SPU",
          "SPU",
          "SPU",
          "SPU",
          "SPU",
          "SPU",
          "SPU",
          "SPU",
          "SPU",
          "SPU",
          "SPU",
          "SPU",
          "SPU",
          "SPU",
          "SPU",
          "SPU",
          "SPU",
          "SPU",
          "SPU",
          "SPU"
         ],
         "x0": " ",
         "xaxis": "x",
         "y": [
          0.92059975,
          0.9204475,
          0.92214975,
          0.923809,
          0.92106075,
          0.91940525,
          0.92026425,
          0.9157345,
          0.9101705,
          0.9188425,
          0.92277075,
          0.91725875,
          0.91693875,
          0.92317525,
          0.91704475,
          0.921327,
          0.916073,
          0.912183375,
          0.9151125,
          0.91634325
         ],
         "y0": " ",
         "yaxis": "y"
        },
        {
         "alignmentgroup": "True",
         "hovertemplate": "Method=%{x}<br>Metric=LSUN<br>Model=seresnet152<br>Value=%{y}<extra></extra>",
         "legendgroup": "SPU",
         "marker": {
          "color": "#ab63fa"
         },
         "name": "SPU",
         "notched": false,
         "offsetgroup": "SPU",
         "orientation": "v",
         "showlegend": false,
         "type": "box",
         "x": [
          "SPU",
          "SPU",
          "SPU",
          "SPU",
          "SPU",
          "SPU",
          "SPU",
          "SPU",
          "SPU",
          "SPU",
          "SPU",
          "SPU",
          "SPU",
          "SPU",
          "SPU",
          "SPU",
          "SPU",
          "SPU",
          "SPU",
          "SPU"
         ],
         "x0": " ",
         "xaxis": "x2",
         "y": [
          0.9373335000000002,
          0.935340375,
          0.93412875,
          0.9384672500000002,
          0.9351415,
          0.9303402500000002,
          0.93303575,
          0.93038125,
          0.92961325,
          0.9347495,
          0.9358315,
          0.93697225,
          0.929939,
          0.93598525,
          0.93411875,
          0.9349625,
          0.932762625,
          0.92903725,
          0.9309675,
          0.93445725
         ],
         "y0": " ",
         "yaxis": "y2"
        },
        {
         "alignmentgroup": "True",
         "hovertemplate": "Method=%{x}<br>Metric=LSUN<br>Model=xception<br>Value=%{y}<extra></extra>",
         "legendgroup": "SPU",
         "marker": {
          "color": "#ab63fa"
         },
         "name": "SPU",
         "notched": false,
         "offsetgroup": "SPU",
         "orientation": "v",
         "showlegend": false,
         "type": "box",
         "x": [
          "SPU",
          "SPU",
          "SPU",
          "SPU",
          "SPU",
          "SPU",
          "SPU",
          "SPU",
          "SPU",
          "SPU",
          "SPU",
          "SPU",
          "SPU",
          "SPU",
          "SPU",
          "SPU",
          "SPU",
          "SPU",
          "SPU",
          "SPU"
         ],
         "x0": " ",
         "xaxis": "x3",
         "y": [
          0.8894362499999999,
          0.891261,
          0.8851045,
          0.8946505,
          0.8891365,
          0.8904522500000002,
          0.88975275,
          0.883093375,
          0.8848252499999999,
          0.8909465000000001,
          0.8918972500000001,
          0.8881727499999998,
          0.8858225000000001,
          0.881383625,
          0.88450275,
          0.8853085,
          0.887143,
          0.8858315,
          0.88878475,
          0.89153975
         ],
         "y0": " ",
         "yaxis": "y3"
        },
        {
         "alignmentgroup": "True",
         "hovertemplate": "Method=%{x}<br>Metric=LSUN<br>Model=densenet161<br>Value=%{y}<extra></extra>",
         "legendgroup": "SPU",
         "marker": {
          "color": "#ab63fa"
         },
         "name": "SPU",
         "notched": false,
         "offsetgroup": "SPU",
         "orientation": "v",
         "showlegend": false,
         "type": "box",
         "x": [
          "SPU",
          "SPU",
          "SPU",
          "SPU",
          "SPU",
          "SPU",
          "SPU",
          "SPU",
          "SPU",
          "SPU",
          "SPU",
          "SPU",
          "SPU",
          "SPU",
          "SPU",
          "SPU",
          "SPU",
          "SPU",
          "SPU",
          "SPU"
         ],
         "x0": " ",
         "xaxis": "x4",
         "y": [
          0.92597375,
          0.92387575,
          0.92542025,
          0.93122825,
          0.92259625,
          0.922976,
          0.92278175,
          0.9242872500000002,
          0.91546025,
          0.92411025,
          0.925247875,
          0.921745,
          0.91784875,
          0.92530925,
          0.92360025,
          0.92765575,
          0.921076,
          0.91787725,
          0.923307,
          0.921427
         ],
         "y0": " ",
         "yaxis": "y4"
        },
        {
         "alignmentgroup": "True",
         "hovertemplate": "Method=%{x}<br>Metric=LSUN<br>Model=inceptionresnetv2<br>Value=%{y}<extra></extra>",
         "legendgroup": "SPU",
         "marker": {
          "color": "#ab63fa"
         },
         "name": "SPU",
         "notched": false,
         "offsetgroup": "SPU",
         "orientation": "v",
         "showlegend": false,
         "type": "box",
         "x": [
          "SPU",
          "SPU",
          "SPU",
          "SPU",
          "SPU",
          "SPU",
          "SPU",
          "SPU",
          "SPU",
          "SPU",
          "SPU",
          "SPU",
          "SPU",
          "SPU",
          "SPU",
          "SPU",
          "SPU",
          "SPU",
          "SPU",
          "SPU"
         ],
         "x0": " ",
         "xaxis": "x5",
         "y": [
          0.9146025,
          0.91225675,
          0.914280625,
          0.9218602500000002,
          0.91705,
          0.91232425,
          0.91640675,
          0.913742,
          0.9113115,
          0.91425225,
          0.918648875,
          0.9131845,
          0.91615625,
          0.9150155,
          0.91252325,
          0.915647,
          0.91400925,
          0.91300875,
          0.909082875,
          0.91257725
         ],
         "y0": " ",
         "yaxis": "y5"
        }
       ],
       "layout": {
        "annotations": [
         {
          "font": {
           "size": 20
          },
          "showarrow": false,
          "text": "",
          "textangle": 0,
          "x": 0.07600000000000001,
          "xanchor": "center",
          "xref": "paper",
          "y": 0.9999999999999999,
          "yanchor": "bottom",
          "yref": "paper"
         },
         {
          "font": {
           "size": 20
          },
          "showarrow": false,
          "text": "",
          "textangle": 0,
          "x": 0.28300000000000003,
          "xanchor": "center",
          "xref": "paper",
          "y": 0.9999999999999999,
          "yanchor": "bottom",
          "yref": "paper"
         },
         {
          "font": {
           "size": 20
          },
          "showarrow": false,
          "text": "",
          "textangle": 0,
          "x": 0.49000000000000005,
          "xanchor": "center",
          "xref": "paper",
          "y": 0.9999999999999999,
          "yanchor": "bottom",
          "yref": "paper"
         },
         {
          "font": {
           "size": 20
          },
          "showarrow": false,
          "text": "",
          "textangle": 0,
          "x": 0.6970000000000001,
          "xanchor": "center",
          "xref": "paper",
          "y": 0.9999999999999999,
          "yanchor": "bottom",
          "yref": "paper"
         },
         {
          "font": {
           "size": 20
          },
          "showarrow": false,
          "text": "",
          "textangle": 0,
          "x": 0.9040000000000001,
          "xanchor": "center",
          "xref": "paper",
          "y": 0.9999999999999999,
          "yanchor": "bottom",
          "yref": "paper"
         },
         {
          "font": {
           "size": 20
          },
          "showarrow": false,
          "text": "",
          "textangle": 0,
          "x": 0.9800000000000001,
          "xanchor": "left",
          "xref": "paper",
          "y": 0.15333333333333332,
          "yanchor": "middle",
          "yref": "paper"
         },
         {
          "font": {
           "size": 20
          },
          "showarrow": false,
          "text": "",
          "textangle": 0,
          "x": 0.9800000000000001,
          "xanchor": "left",
          "xref": "paper",
          "y": 0.5,
          "yanchor": "middle",
          "yref": "paper"
         },
         {
          "font": {
           "size": 20
          },
          "showarrow": false,
          "text": "",
          "textangle": 0,
          "x": 0.9800000000000001,
          "xanchor": "left",
          "xref": "paper",
          "y": 0.8466666666666666,
          "yanchor": "middle",
          "yref": "paper"
         }
        ],
        "autosize": false,
        "boxmode": "overlay",
        "height": 420,
        "legend": {
         "title": {
          "text": "Method"
         },
         "tracegroupgap": 0
        },
        "margin": {
         "t": 60
        },
        "showlegend": false,
        "template": {
         "data": {
          "bar": [
           {
            "error_x": {
             "color": "#2a3f5f"
            },
            "error_y": {
             "color": "#2a3f5f"
            },
            "marker": {
             "line": {
              "color": "#E5ECF6",
              "width": 0.5
             },
             "pattern": {
              "fillmode": "overlay",
              "size": 10,
              "solidity": 0.2
             }
            },
            "type": "bar"
           }
          ],
          "barpolar": [
           {
            "marker": {
             "line": {
              "color": "#E5ECF6",
              "width": 0.5
             },
             "pattern": {
              "fillmode": "overlay",
              "size": 10,
              "solidity": 0.2
             }
            },
            "type": "barpolar"
           }
          ],
          "carpet": [
           {
            "aaxis": {
             "endlinecolor": "#2a3f5f",
             "gridcolor": "white",
             "linecolor": "white",
             "minorgridcolor": "white",
             "startlinecolor": "#2a3f5f"
            },
            "baxis": {
             "endlinecolor": "#2a3f5f",
             "gridcolor": "white",
             "linecolor": "white",
             "minorgridcolor": "white",
             "startlinecolor": "#2a3f5f"
            },
            "type": "carpet"
           }
          ],
          "choropleth": [
           {
            "colorbar": {
             "outlinewidth": 0,
             "ticks": ""
            },
            "type": "choropleth"
           }
          ],
          "contour": [
           {
            "colorbar": {
             "outlinewidth": 0,
             "ticks": ""
            },
            "colorscale": [
             [
              0,
              "#0d0887"
             ],
             [
              0.1111111111111111,
              "#46039f"
             ],
             [
              0.2222222222222222,
              "#7201a8"
             ],
             [
              0.3333333333333333,
              "#9c179e"
             ],
             [
              0.4444444444444444,
              "#bd3786"
             ],
             [
              0.5555555555555556,
              "#d8576b"
             ],
             [
              0.6666666666666666,
              "#ed7953"
             ],
             [
              0.7777777777777778,
              "#fb9f3a"
             ],
             [
              0.8888888888888888,
              "#fdca26"
             ],
             [
              1,
              "#f0f921"
             ]
            ],
            "type": "contour"
           }
          ],
          "contourcarpet": [
           {
            "colorbar": {
             "outlinewidth": 0,
             "ticks": ""
            },
            "type": "contourcarpet"
           }
          ],
          "heatmap": [
           {
            "colorbar": {
             "outlinewidth": 0,
             "ticks": ""
            },
            "colorscale": [
             [
              0,
              "#0d0887"
             ],
             [
              0.1111111111111111,
              "#46039f"
             ],
             [
              0.2222222222222222,
              "#7201a8"
             ],
             [
              0.3333333333333333,
              "#9c179e"
             ],
             [
              0.4444444444444444,
              "#bd3786"
             ],
             [
              0.5555555555555556,
              "#d8576b"
             ],
             [
              0.6666666666666666,
              "#ed7953"
             ],
             [
              0.7777777777777778,
              "#fb9f3a"
             ],
             [
              0.8888888888888888,
              "#fdca26"
             ],
             [
              1,
              "#f0f921"
             ]
            ],
            "type": "heatmap"
           }
          ],
          "heatmapgl": [
           {
            "colorbar": {
             "outlinewidth": 0,
             "ticks": ""
            },
            "colorscale": [
             [
              0,
              "#0d0887"
             ],
             [
              0.1111111111111111,
              "#46039f"
             ],
             [
              0.2222222222222222,
              "#7201a8"
             ],
             [
              0.3333333333333333,
              "#9c179e"
             ],
             [
              0.4444444444444444,
              "#bd3786"
             ],
             [
              0.5555555555555556,
              "#d8576b"
             ],
             [
              0.6666666666666666,
              "#ed7953"
             ],
             [
              0.7777777777777778,
              "#fb9f3a"
             ],
             [
              0.8888888888888888,
              "#fdca26"
             ],
             [
              1,
              "#f0f921"
             ]
            ],
            "type": "heatmapgl"
           }
          ],
          "histogram": [
           {
            "marker": {
             "pattern": {
              "fillmode": "overlay",
              "size": 10,
              "solidity": 0.2
             }
            },
            "type": "histogram"
           }
          ],
          "histogram2d": [
           {
            "colorbar": {
             "outlinewidth": 0,
             "ticks": ""
            },
            "colorscale": [
             [
              0,
              "#0d0887"
             ],
             [
              0.1111111111111111,
              "#46039f"
             ],
             [
              0.2222222222222222,
              "#7201a8"
             ],
             [
              0.3333333333333333,
              "#9c179e"
             ],
             [
              0.4444444444444444,
              "#bd3786"
             ],
             [
              0.5555555555555556,
              "#d8576b"
             ],
             [
              0.6666666666666666,
              "#ed7953"
             ],
             [
              0.7777777777777778,
              "#fb9f3a"
             ],
             [
              0.8888888888888888,
              "#fdca26"
             ],
             [
              1,
              "#f0f921"
             ]
            ],
            "type": "histogram2d"
           }
          ],
          "histogram2dcontour": [
           {
            "colorbar": {
             "outlinewidth": 0,
             "ticks": ""
            },
            "colorscale": [
             [
              0,
              "#0d0887"
             ],
             [
              0.1111111111111111,
              "#46039f"
             ],
             [
              0.2222222222222222,
              "#7201a8"
             ],
             [
              0.3333333333333333,
              "#9c179e"
             ],
             [
              0.4444444444444444,
              "#bd3786"
             ],
             [
              0.5555555555555556,
              "#d8576b"
             ],
             [
              0.6666666666666666,
              "#ed7953"
             ],
             [
              0.7777777777777778,
              "#fb9f3a"
             ],
             [
              0.8888888888888888,
              "#fdca26"
             ],
             [
              1,
              "#f0f921"
             ]
            ],
            "type": "histogram2dcontour"
           }
          ],
          "mesh3d": [
           {
            "colorbar": {
             "outlinewidth": 0,
             "ticks": ""
            },
            "type": "mesh3d"
           }
          ],
          "parcoords": [
           {
            "line": {
             "colorbar": {
              "outlinewidth": 0,
              "ticks": ""
             }
            },
            "type": "parcoords"
           }
          ],
          "pie": [
           {
            "automargin": true,
            "type": "pie"
           }
          ],
          "scatter": [
           {
            "fillpattern": {
             "fillmode": "overlay",
             "size": 10,
             "solidity": 0.2
            },
            "type": "scatter"
           }
          ],
          "scatter3d": [
           {
            "line": {
             "colorbar": {
              "outlinewidth": 0,
              "ticks": ""
             }
            },
            "marker": {
             "colorbar": {
              "outlinewidth": 0,
              "ticks": ""
             }
            },
            "type": "scatter3d"
           }
          ],
          "scattercarpet": [
           {
            "marker": {
             "colorbar": {
              "outlinewidth": 0,
              "ticks": ""
             }
            },
            "type": "scattercarpet"
           }
          ],
          "scattergeo": [
           {
            "marker": {
             "colorbar": {
              "outlinewidth": 0,
              "ticks": ""
             }
            },
            "type": "scattergeo"
           }
          ],
          "scattergl": [
           {
            "marker": {
             "colorbar": {
              "outlinewidth": 0,
              "ticks": ""
             }
            },
            "type": "scattergl"
           }
          ],
          "scattermapbox": [
           {
            "marker": {
             "colorbar": {
              "outlinewidth": 0,
              "ticks": ""
             }
            },
            "type": "scattermapbox"
           }
          ],
          "scatterpolar": [
           {
            "marker": {
             "colorbar": {
              "outlinewidth": 0,
              "ticks": ""
             }
            },
            "type": "scatterpolar"
           }
          ],
          "scatterpolargl": [
           {
            "marker": {
             "colorbar": {
              "outlinewidth": 0,
              "ticks": ""
             }
            },
            "type": "scatterpolargl"
           }
          ],
          "scatterternary": [
           {
            "marker": {
             "colorbar": {
              "outlinewidth": 0,
              "ticks": ""
             }
            },
            "type": "scatterternary"
           }
          ],
          "surface": [
           {
            "colorbar": {
             "outlinewidth": 0,
             "ticks": ""
            },
            "colorscale": [
             [
              0,
              "#0d0887"
             ],
             [
              0.1111111111111111,
              "#46039f"
             ],
             [
              0.2222222222222222,
              "#7201a8"
             ],
             [
              0.3333333333333333,
              "#9c179e"
             ],
             [
              0.4444444444444444,
              "#bd3786"
             ],
             [
              0.5555555555555556,
              "#d8576b"
             ],
             [
              0.6666666666666666,
              "#ed7953"
             ],
             [
              0.7777777777777778,
              "#fb9f3a"
             ],
             [
              0.8888888888888888,
              "#fdca26"
             ],
             [
              1,
              "#f0f921"
             ]
            ],
            "type": "surface"
           }
          ],
          "table": [
           {
            "cells": {
             "fill": {
              "color": "#EBF0F8"
             },
             "line": {
              "color": "white"
             }
            },
            "header": {
             "fill": {
              "color": "#C8D4E3"
             },
             "line": {
              "color": "white"
             }
            },
            "type": "table"
           }
          ]
         },
         "layout": {
          "annotationdefaults": {
           "arrowcolor": "#2a3f5f",
           "arrowhead": 0,
           "arrowwidth": 1
          },
          "autotypenumbers": "strict",
          "coloraxis": {
           "colorbar": {
            "outlinewidth": 0,
            "ticks": ""
           }
          },
          "colorscale": {
           "diverging": [
            [
             0,
             "#8e0152"
            ],
            [
             0.1,
             "#c51b7d"
            ],
            [
             0.2,
             "#de77ae"
            ],
            [
             0.3,
             "#f1b6da"
            ],
            [
             0.4,
             "#fde0ef"
            ],
            [
             0.5,
             "#f7f7f7"
            ],
            [
             0.6,
             "#e6f5d0"
            ],
            [
             0.7,
             "#b8e186"
            ],
            [
             0.8,
             "#7fbc41"
            ],
            [
             0.9,
             "#4d9221"
            ],
            [
             1,
             "#276419"
            ]
           ],
           "sequential": [
            [
             0,
             "#0d0887"
            ],
            [
             0.1111111111111111,
             "#46039f"
            ],
            [
             0.2222222222222222,
             "#7201a8"
            ],
            [
             0.3333333333333333,
             "#9c179e"
            ],
            [
             0.4444444444444444,
             "#bd3786"
            ],
            [
             0.5555555555555556,
             "#d8576b"
            ],
            [
             0.6666666666666666,
             "#ed7953"
            ],
            [
             0.7777777777777778,
             "#fb9f3a"
            ],
            [
             0.8888888888888888,
             "#fdca26"
            ],
            [
             1,
             "#f0f921"
            ]
           ],
           "sequentialminus": [
            [
             0,
             "#0d0887"
            ],
            [
             0.1111111111111111,
             "#46039f"
            ],
            [
             0.2222222222222222,
             "#7201a8"
            ],
            [
             0.3333333333333333,
             "#9c179e"
            ],
            [
             0.4444444444444444,
             "#bd3786"
            ],
            [
             0.5555555555555556,
             "#d8576b"
            ],
            [
             0.6666666666666666,
             "#ed7953"
            ],
            [
             0.7777777777777778,
             "#fb9f3a"
            ],
            [
             0.8888888888888888,
             "#fdca26"
            ],
            [
             1,
             "#f0f921"
            ]
           ]
          },
          "colorway": [
           "#636efa",
           "#EF553B",
           "#00cc96",
           "#ab63fa",
           "#FFA15A",
           "#19d3f3",
           "#FF6692",
           "#B6E880",
           "#FF97FF",
           "#FECB52"
          ],
          "font": {
           "color": "#2a3f5f"
          },
          "geo": {
           "bgcolor": "white",
           "lakecolor": "white",
           "landcolor": "#E5ECF6",
           "showlakes": true,
           "showland": true,
           "subunitcolor": "white"
          },
          "hoverlabel": {
           "align": "left"
          },
          "hovermode": "closest",
          "mapbox": {
           "style": "light"
          },
          "paper_bgcolor": "white",
          "plot_bgcolor": "#E5ECF6",
          "polar": {
           "angularaxis": {
            "gridcolor": "white",
            "linecolor": "white",
            "ticks": ""
           },
           "bgcolor": "#E5ECF6",
           "radialaxis": {
            "gridcolor": "white",
            "linecolor": "white",
            "ticks": ""
           }
          },
          "scene": {
           "xaxis": {
            "backgroundcolor": "#E5ECF6",
            "gridcolor": "white",
            "gridwidth": 2,
            "linecolor": "white",
            "showbackground": true,
            "ticks": "",
            "zerolinecolor": "white"
           },
           "yaxis": {
            "backgroundcolor": "#E5ECF6",
            "gridcolor": "white",
            "gridwidth": 2,
            "linecolor": "white",
            "showbackground": true,
            "ticks": "",
            "zerolinecolor": "white"
           },
           "zaxis": {
            "backgroundcolor": "#E5ECF6",
            "gridcolor": "white",
            "gridwidth": 2,
            "linecolor": "white",
            "showbackground": true,
            "ticks": "",
            "zerolinecolor": "white"
           }
          },
          "shapedefaults": {
           "line": {
            "color": "#2a3f5f"
           }
          },
          "ternary": {
           "aaxis": {
            "gridcolor": "white",
            "linecolor": "white",
            "ticks": ""
           },
           "baxis": {
            "gridcolor": "white",
            "linecolor": "white",
            "ticks": ""
           },
           "bgcolor": "#E5ECF6",
           "caxis": {
            "gridcolor": "white",
            "linecolor": "white",
            "ticks": ""
           }
          },
          "title": {
           "x": 0.05
          },
          "xaxis": {
           "automargin": true,
           "gridcolor": "white",
           "linecolor": "white",
           "ticks": "",
           "title": {
            "standoff": 15
           },
           "zerolinecolor": "white",
           "zerolinewidth": 2
          },
          "yaxis": {
           "automargin": true,
           "gridcolor": "white",
           "linecolor": "white",
           "ticks": "",
           "title": {
            "standoff": 15
           },
           "zerolinecolor": "white",
           "zerolinewidth": 2
          }
         }
        },
        "width": 979.9999999999999,
        "xaxis": {
         "anchor": "y",
         "categoryarray": [
          "TS",
          "SPTS",
          "SP1",
          "SPU"
         ],
         "categoryorder": "array",
         "domain": [
          0,
          0.15200000000000002
         ],
         "showticklabels": false,
         "tickangle": 90,
         "tickfont": {
          "size": 16
         },
         "title": {
          "text": ""
         }
        },
        "xaxis10": {
         "anchor": "y10",
         "domain": [
          0.8280000000000001,
          0.9800000000000001
         ],
         "matches": "x",
         "showticklabels": false,
         "tickangle": 90,
         "tickfont": {
          "size": 16
         },
         "title": {
          "text": ""
         }
        },
        "xaxis11": {
         "anchor": "y11",
         "domain": [
          0,
          0.15200000000000002
         ],
         "matches": "x",
         "showticklabels": false,
         "tickangle": 90,
         "tickfont": {
          "size": 16
         },
         "title": {
          "text": ""
         }
        },
        "xaxis12": {
         "anchor": "y12",
         "domain": [
          0.20700000000000002,
          0.35900000000000004
         ],
         "matches": "x",
         "showticklabels": false,
         "tickangle": 90,
         "tickfont": {
          "size": 16
         },
         "title": {
          "text": ""
         }
        },
        "xaxis13": {
         "anchor": "y13",
         "domain": [
          0.41400000000000003,
          0.5660000000000001
         ],
         "matches": "x",
         "showticklabels": false,
         "tickangle": 90,
         "tickfont": {
          "size": 16
         },
         "title": {
          "text": ""
         }
        },
        "xaxis14": {
         "anchor": "y14",
         "domain": [
          0.6210000000000001,
          0.7730000000000001
         ],
         "matches": "x",
         "showticklabels": false,
         "tickangle": 90,
         "tickfont": {
          "size": 16
         },
         "title": {
          "text": ""
         }
        },
        "xaxis15": {
         "anchor": "y15",
         "domain": [
          0.8280000000000001,
          0.9800000000000001
         ],
         "matches": "x",
         "showticklabels": false,
         "tickangle": 90,
         "tickfont": {
          "size": 16
         },
         "title": {
          "text": ""
         }
        },
        "xaxis2": {
         "anchor": "y2",
         "categoryarray": [
          "TS",
          "SPTS",
          "SP1",
          "SPU"
         ],
         "categoryorder": "array",
         "domain": [
          0.20700000000000002,
          0.35900000000000004
         ],
         "matches": "x",
         "showticklabels": false,
         "tickangle": 90,
         "tickfont": {
          "size": 16
         },
         "title": {
          "text": ""
         }
        },
        "xaxis3": {
         "anchor": "y3",
         "categoryarray": [
          "TS",
          "SPTS",
          "SP1",
          "SPU"
         ],
         "categoryorder": "array",
         "domain": [
          0.41400000000000003,
          0.5660000000000001
         ],
         "matches": "x",
         "showticklabels": false,
         "tickangle": 90,
         "tickfont": {
          "size": 16
         },
         "title": {
          "text": ""
         }
        },
        "xaxis4": {
         "anchor": "y4",
         "categoryarray": [
          "TS",
          "SPTS",
          "SP1",
          "SPU"
         ],
         "categoryorder": "array",
         "domain": [
          0.6210000000000001,
          0.7730000000000001
         ],
         "matches": "x",
         "showticklabels": false,
         "tickangle": 90,
         "tickfont": {
          "size": 16
         },
         "title": {
          "text": ""
         }
        },
        "xaxis5": {
         "anchor": "y5",
         "categoryarray": [
          "TS",
          "SPTS",
          "SP1",
          "SPU"
         ],
         "categoryorder": "array",
         "domain": [
          0.8280000000000001,
          0.9800000000000001
         ],
         "matches": "x",
         "showticklabels": false,
         "tickangle": 90,
         "tickfont": {
          "size": 16
         },
         "title": {
          "text": ""
         }
        },
        "xaxis6": {
         "anchor": "y6",
         "domain": [
          0,
          0.15200000000000002
         ],
         "matches": "x",
         "showticklabels": false,
         "tickangle": 90,
         "tickfont": {
          "size": 16
         },
         "title": {
          "text": ""
         }
        },
        "xaxis7": {
         "anchor": "y7",
         "domain": [
          0.20700000000000002,
          0.35900000000000004
         ],
         "matches": "x",
         "showticklabels": false,
         "tickangle": 90,
         "tickfont": {
          "size": 16
         },
         "title": {
          "text": ""
         }
        },
        "xaxis8": {
         "anchor": "y8",
         "domain": [
          0.41400000000000003,
          0.5660000000000001
         ],
         "matches": "x",
         "showticklabels": false,
         "tickangle": 90,
         "tickfont": {
          "size": 16
         },
         "title": {
          "text": ""
         }
        },
        "xaxis9": {
         "anchor": "y9",
         "domain": [
          0.6210000000000001,
          0.7730000000000001
         ],
         "matches": "x",
         "showticklabels": false,
         "tickangle": 90,
         "tickfont": {
          "size": 16
         },
         "title": {
          "text": ""
         }
        },
        "yaxis": {
         "anchor": "x",
         "domain": [
          0,
          0.30666666666666664
         ],
         "showticklabels": true,
         "tickfont": {
          "size": 16
         },
         "title": {
          "text": ""
         }
        },
        "yaxis10": {
         "anchor": "x10",
         "domain": [
          0.3466666666666666,
          0.6533333333333333
         ],
         "showticklabels": true,
         "tickfont": {
          "size": 16
         },
         "title": {
          "text": ""
         }
        },
        "yaxis11": {
         "anchor": "x11",
         "domain": [
          0.6933333333333332,
          0.9999999999999999
         ],
         "showticklabels": true,
         "tickfont": {
          "size": 16
         },
         "title": {
          "text": ""
         }
        },
        "yaxis12": {
         "anchor": "x12",
         "domain": [
          0.6933333333333332,
          0.9999999999999999
         ],
         "showticklabels": true,
         "tickfont": {
          "size": 16
         },
         "title": {
          "text": ""
         }
        },
        "yaxis13": {
         "anchor": "x13",
         "domain": [
          0.6933333333333332,
          0.9999999999999999
         ],
         "showticklabels": true,
         "tickfont": {
          "size": 16
         },
         "title": {
          "text": ""
         }
        },
        "yaxis14": {
         "anchor": "x14",
         "domain": [
          0.6933333333333332,
          0.9999999999999999
         ],
         "showticklabels": true,
         "tickfont": {
          "size": 16
         },
         "title": {
          "text": ""
         }
        },
        "yaxis15": {
         "anchor": "x15",
         "domain": [
          0.6933333333333332,
          0.9999999999999999
         ],
         "showticklabels": true,
         "tickfont": {
          "size": 16
         },
         "title": {
          "text": ""
         }
        },
        "yaxis2": {
         "anchor": "x2",
         "domain": [
          0,
          0.30666666666666664
         ],
         "showticklabels": true,
         "tickfont": {
          "size": 16
         },
         "title": {
          "text": ""
         }
        },
        "yaxis3": {
         "anchor": "x3",
         "domain": [
          0,
          0.30666666666666664
         ],
         "showticklabels": true,
         "tickfont": {
          "size": 16
         },
         "title": {
          "text": ""
         }
        },
        "yaxis4": {
         "anchor": "x4",
         "domain": [
          0,
          0.30666666666666664
         ],
         "showticklabels": true,
         "tickfont": {
          "size": 16
         },
         "title": {
          "text": ""
         }
        },
        "yaxis5": {
         "anchor": "x5",
         "domain": [
          0,
          0.30666666666666664
         ],
         "showticklabels": true,
         "tickfont": {
          "size": 16
         },
         "title": {
          "text": ""
         }
        },
        "yaxis6": {
         "anchor": "x6",
         "domain": [
          0.3466666666666666,
          0.6533333333333333
         ],
         "showticklabels": true,
         "tickfont": {
          "size": 16
         },
         "title": {
          "text": ""
         }
        },
        "yaxis7": {
         "anchor": "x7",
         "domain": [
          0.3466666666666666,
          0.6533333333333333
         ],
         "showticklabels": true,
         "tickfont": {
          "size": 16
         },
         "title": {
          "text": ""
         }
        },
        "yaxis8": {
         "anchor": "x8",
         "domain": [
          0.3466666666666666,
          0.6533333333333333
         ],
         "showticklabels": true,
         "tickfont": {
          "size": 16
         },
         "title": {
          "text": ""
         }
        },
        "yaxis9": {
         "anchor": "x9",
         "domain": [
          0.3466666666666666,
          0.6533333333333333
         ],
         "showticklabels": true,
         "tickfont": {
          "size": 16
         },
         "title": {
          "text": ""
         }
        }
       }
      }
     },
     "metadata": {},
     "output_type": "display_data"
    }
   ],
   "source": [
    "fig = get_plot_metric(df, 'locshift', model_names)\n",
    "fig.write_image('locshift_boxplot.png', scale = 3)\n",
    "fig.show()"
   ]
  },
  {
   "cell_type": "markdown",
   "metadata": {},
   "source": [
    "# Bayes Approach 3: Convert to Point Prediction"
   ]
  },
  {
   "cell_type": "code",
   "execution_count": 9,
   "metadata": {},
   "outputs": [
    {
     "data": {
      "application/vnd.plotly.v1+json": {
       "config": {
        "plotlyServerURL": "https://plot.ly"
       },
       "data": [
        {
         "alignmentgroup": "True",
         "hovertemplate": "Method=%{x}<br>Metric=ECE<br>Model=resnet152<br>Value=%{y}<extra></extra>",
         "legendgroup": "TS",
         "marker": {
          "color": "#636efa"
         },
         "name": "TS",
         "notched": false,
         "offsetgroup": "TS",
         "orientation": "v",
         "showlegend": true,
         "type": "box",
         "x": [
          "TS",
          "TS",
          "TS",
          "TS",
          "TS",
          "TS",
          "TS",
          "TS",
          "TS",
          "TS",
          "TS",
          "TS",
          "TS",
          "TS",
          "TS",
          "TS",
          "TS",
          "TS",
          "TS",
          "TS"
         ],
         "x0": " ",
         "xaxis": "x11",
         "y": [
          0.0225550569593906,
          0.0241486392915248,
          0.0333428606390953,
          0.0317482203245162,
          0.0451381579041481,
          0.0347615331411361,
          0.0331059992313385,
          0.0371660590171813,
          0.0256187785416841,
          0.0279650837182998,
          0.028875209391117,
          0.0342251770198345,
          0.0339131914079189,
          0.0305278338491916,
          0.0236963033676147,
          0.0299674458801746,
          0.0306936837732791,
          0.0343363955616951,
          0.0287498068064451,
          0.0223064739257097
         ],
         "y0": " ",
         "yaxis": "y11"
        },
        {
         "alignmentgroup": "True",
         "hovertemplate": "Method=%{x}<br>Metric=ECE<br>Model=seresnet152<br>Value=%{y}<extra></extra>",
         "legendgroup": "TS",
         "marker": {
          "color": "#636efa"
         },
         "name": "TS",
         "notched": false,
         "offsetgroup": "TS",
         "orientation": "v",
         "showlegend": false,
         "type": "box",
         "x": [
          "TS",
          "TS",
          "TS",
          "TS",
          "TS",
          "TS",
          "TS",
          "TS",
          "TS",
          "TS",
          "TS",
          "TS",
          "TS",
          "TS",
          "TS",
          "TS",
          "TS",
          "TS",
          "TS",
          "TS"
         ],
         "x0": " ",
         "xaxis": "x12",
         "y": [
          0.0274105444550514,
          0.031149661168456,
          0.0179114695638418,
          0.0256189703941345,
          0.0282945819199085,
          0.041255597025156,
          0.0343647189438343,
          0.0398863218724727,
          0.0414702892303466,
          0.0270981155335903,
          0.0258051864802837,
          0.0246034208685159,
          0.0260769296437501,
          0.0339887738227844,
          0.0216411277651786,
          0.0326365008950233,
          0.0264795832335948,
          0.0217317603528499,
          0.0214092470705509,
          0.0253298096358776
         ],
         "y0": " ",
         "yaxis": "y12"
        },
        {
         "alignmentgroup": "True",
         "hovertemplate": "Method=%{x}<br>Metric=ECE<br>Model=xception<br>Value=%{y}<extra></extra>",
         "legendgroup": "TS",
         "marker": {
          "color": "#636efa"
         },
         "name": "TS",
         "notched": false,
         "offsetgroup": "TS",
         "orientation": "v",
         "showlegend": false,
         "type": "box",
         "x": [
          "TS",
          "TS",
          "TS",
          "TS",
          "TS",
          "TS",
          "TS",
          "TS",
          "TS",
          "TS",
          "TS",
          "TS",
          "TS",
          "TS",
          "TS",
          "TS",
          "TS",
          "TS",
          "TS",
          "TS"
         ],
         "x0": " ",
         "xaxis": "x13",
         "y": [
          0.0385232046246528,
          0.0405948385596275,
          0.0303824078291654,
          0.0316648259758949,
          0.0323155298829078,
          0.0450248718261718,
          0.0345340855419635,
          0.0309060961008071,
          0.0474263839423656,
          0.0255367904901504,
          0.027317214757204,
          0.0374301075935363,
          0.0332999229431152,
          0.0384102389216423,
          0.0294505655765533,
          0.0420500673353672,
          0.0312497653067111,
          0.0323813818395137,
          0.0371925123035907,
          0.031734898686409
         ],
         "y0": " ",
         "yaxis": "y13"
        },
        {
         "alignmentgroup": "True",
         "hovertemplate": "Method=%{x}<br>Metric=ECE<br>Model=densenet161<br>Value=%{y}<extra></extra>",
         "legendgroup": "TS",
         "marker": {
          "color": "#636efa"
         },
         "name": "TS",
         "notched": false,
         "offsetgroup": "TS",
         "orientation": "v",
         "showlegend": false,
         "type": "box",
         "x": [
          "TS",
          "TS",
          "TS",
          "TS",
          "TS",
          "TS",
          "TS",
          "TS",
          "TS",
          "TS",
          "TS",
          "TS",
          "TS",
          "TS",
          "TS",
          "TS",
          "TS",
          "TS",
          "TS",
          "TS"
         ],
         "x0": " ",
         "xaxis": "x14",
         "y": [
          0.0276536419987678,
          0.0260174684226512,
          0.0314312055706977,
          0.023887250572443,
          0.025130920112133,
          0.0268679931759834,
          0.0164101477712392,
          0.0284046549350023,
          0.0204043537378311,
          0.0248837899416685,
          0.0231100358068943,
          0.0278168208897113,
          0.0273071378469467,
          0.0208890996873378,
          0.0255276896059513,
          0.0296258144080638,
          0.0260549485683441,
          0.0316649116575717,
          0.0316903106868267,
          0.018739853054285
         ],
         "y0": " ",
         "yaxis": "y14"
        },
        {
         "alignmentgroup": "True",
         "hovertemplate": "Method=%{x}<br>Metric=ECE<br>Model=inceptionresnetv2<br>Value=%{y}<extra></extra>",
         "legendgroup": "TS",
         "marker": {
          "color": "#636efa"
         },
         "name": "TS",
         "notched": false,
         "offsetgroup": "TS",
         "orientation": "v",
         "showlegend": false,
         "type": "box",
         "x": [
          "TS",
          "TS",
          "TS",
          "TS",
          "TS",
          "TS",
          "TS",
          "TS",
          "TS",
          "TS",
          "TS",
          "TS",
          "TS",
          "TS",
          "TS",
          "TS",
          "TS",
          "TS",
          "TS",
          "TS"
         ],
         "x0": " ",
         "xaxis": "x15",
         "y": [
          0.0420215837657451,
          0.0461757257580757,
          0.0333250947296619,
          0.0353999361395835,
          0.0428209789097309,
          0.0533067137002944,
          0.03569146245718,
          0.0440057404339313,
          0.0470612943172454,
          0.054972119629383,
          0.0326176658272743,
          0.0380799621343612,
          0.0389192923903465,
          0.0408977791666984,
          0.0318722613155841,
          0.0385718755424022,
          0.0299304984509944,
          0.0319845266640186,
          0.0341744385659694,
          0.0385857969522476
         ],
         "y0": " ",
         "yaxis": "y15"
        },
        {
         "alignmentgroup": "True",
         "hovertemplate": "Method=%{x}<br>Metric=SVHN<br>Model=resnet152<br>Value=%{y}<extra></extra>",
         "legendgroup": "TS",
         "marker": {
          "color": "#636efa"
         },
         "name": "TS",
         "notched": false,
         "offsetgroup": "TS",
         "orientation": "v",
         "showlegend": false,
         "type": "box",
         "x": [
          "TS",
          "TS",
          "TS",
          "TS",
          "TS",
          "TS",
          "TS",
          "TS",
          "TS",
          "TS",
          "TS",
          "TS",
          "TS",
          "TS",
          "TS",
          "TS",
          "TS",
          "TS",
          "TS",
          "TS"
         ],
         "x0": " ",
         "xaxis": "x6",
         "y": [
          0.8977702500000001,
          0.8974755,
          0.8989495000000001,
          0.89964925,
          0.897586,
          0.8950515,
          0.89588925,
          0.8919695,
          0.8853409999999999,
          0.89531925,
          0.8998639999999999,
          0.89275525,
          0.8942765,
          0.8999935,
          0.8924450000000002,
          0.8961155,
          0.89048675,
          0.8875004999999999,
          0.8897565000000001,
          0.8918449999999999
         ],
         "y0": " ",
         "yaxis": "y6"
        },
        {
         "alignmentgroup": "True",
         "hovertemplate": "Method=%{x}<br>Metric=SVHN<br>Model=seresnet152<br>Value=%{y}<extra></extra>",
         "legendgroup": "TS",
         "marker": {
          "color": "#636efa"
         },
         "name": "TS",
         "notched": false,
         "offsetgroup": "TS",
         "orientation": "v",
         "showlegend": false,
         "type": "box",
         "x": [
          "TS",
          "TS",
          "TS",
          "TS",
          "TS",
          "TS",
          "TS",
          "TS",
          "TS",
          "TS",
          "TS",
          "TS",
          "TS",
          "TS",
          "TS",
          "TS",
          "TS",
          "TS",
          "TS",
          "TS"
         ],
         "x0": " ",
         "xaxis": "x7",
         "y": [
          0.9152702500000002,
          0.91368325,
          0.912467,
          0.91614625,
          0.91337625,
          0.9070935,
          0.910979,
          0.9076817500000002,
          0.905785,
          0.91213575,
          0.91408925,
          0.913864,
          0.906852,
          0.9122925,
          0.911467,
          0.91169175,
          0.9095945,
          0.9056165,
          0.90812125,
          0.911638
         ],
         "y0": " ",
         "yaxis": "y7"
        },
        {
         "alignmentgroup": "True",
         "hovertemplate": "Method=%{x}<br>Metric=SVHN<br>Model=xception<br>Value=%{y}<extra></extra>",
         "legendgroup": "TS",
         "marker": {
          "color": "#636efa"
         },
         "name": "TS",
         "notched": false,
         "offsetgroup": "TS",
         "orientation": "v",
         "showlegend": false,
         "type": "box",
         "x": [
          "TS",
          "TS",
          "TS",
          "TS",
          "TS",
          "TS",
          "TS",
          "TS",
          "TS",
          "TS",
          "TS",
          "TS",
          "TS",
          "TS",
          "TS",
          "TS",
          "TS",
          "TS",
          "TS",
          "TS"
         ],
         "x0": " ",
         "xaxis": "x8",
         "y": [
          0.8722822499999999,
          0.87441025,
          0.866499,
          0.8777737499999999,
          0.8719842500000001,
          0.8724637500000001,
          0.8729199999999999,
          0.86582475,
          0.8673602499999998,
          0.8741135,
          0.8759571250000001,
          0.8709267499999999,
          0.8683161250000001,
          0.8626007499999999,
          0.8667255,
          0.8676175,
          0.8699445,
          0.869102875,
          0.8714811250000001,
          0.875191
         ],
         "y0": " ",
         "yaxis": "y8"
        },
        {
         "alignmentgroup": "True",
         "hovertemplate": "Method=%{x}<br>Metric=SVHN<br>Model=densenet161<br>Value=%{y}<extra></extra>",
         "legendgroup": "TS",
         "marker": {
          "color": "#636efa"
         },
         "name": "TS",
         "notched": false,
         "offsetgroup": "TS",
         "orientation": "v",
         "showlegend": false,
         "type": "box",
         "x": [
          "TS",
          "TS",
          "TS",
          "TS",
          "TS",
          "TS",
          "TS",
          "TS",
          "TS",
          "TS",
          "TS",
          "TS",
          "TS",
          "TS",
          "TS",
          "TS",
          "TS",
          "TS",
          "TS",
          "TS"
         ],
         "x0": " ",
         "xaxis": "x9",
         "y": [
          0.915418,
          0.91339025,
          0.91419175,
          0.9191655,
          0.91037375,
          0.91148875,
          0.911274,
          0.91329875,
          0.903384625,
          0.91241925,
          0.914105,
          0.9099885,
          0.90637175,
          0.914088,
          0.9123925,
          0.91611425,
          0.9100535,
          0.906035,
          0.911336,
          0.9103025
         ],
         "y0": " ",
         "yaxis": "y9"
        },
        {
         "alignmentgroup": "True",
         "hovertemplate": "Method=%{x}<br>Metric=SVHN<br>Model=inceptionresnetv2<br>Value=%{y}<extra></extra>",
         "legendgroup": "TS",
         "marker": {
          "color": "#636efa"
         },
         "name": "TS",
         "notched": false,
         "offsetgroup": "TS",
         "orientation": "v",
         "showlegend": false,
         "type": "box",
         "x": [
          "TS",
          "TS",
          "TS",
          "TS",
          "TS",
          "TS",
          "TS",
          "TS",
          "TS",
          "TS",
          "TS",
          "TS",
          "TS",
          "TS",
          "TS",
          "TS",
          "TS",
          "TS",
          "TS",
          "TS"
         ],
         "x0": " ",
         "xaxis": "x10",
         "y": [
          0.89368125,
          0.8900125000000001,
          0.893286,
          0.9001865000000001,
          0.8947219999999999,
          0.8888320000000001,
          0.8950400000000001,
          0.8918996250000001,
          0.8894287499999999,
          0.893067125,
          0.89714275,
          0.891993,
          0.89400875,
          0.893377,
          0.89095925,
          0.892456,
          0.89169475,
          0.8912450000000001,
          0.8874420000000001,
          0.8908337500000001
         ],
         "y0": " ",
         "yaxis": "y10"
        },
        {
         "alignmentgroup": "True",
         "hovertemplate": "Method=%{x}<br>Metric=LSUN<br>Model=resnet152<br>Value=%{y}<extra></extra>",
         "legendgroup": "TS",
         "marker": {
          "color": "#636efa"
         },
         "name": "TS",
         "notched": false,
         "offsetgroup": "TS",
         "orientation": "v",
         "showlegend": false,
         "type": "box",
         "x": [
          "TS",
          "TS",
          "TS",
          "TS",
          "TS",
          "TS",
          "TS",
          "TS",
          "TS",
          "TS",
          "TS",
          "TS",
          "TS",
          "TS",
          "TS",
          "TS",
          "TS",
          "TS",
          "TS",
          "TS"
         ],
         "x0": " ",
         "xaxis": "x",
         "y": [
          0.92726325,
          0.9266335,
          0.927875,
          0.929111375,
          0.92666075,
          0.92490525,
          0.925846,
          0.9209755,
          0.9166195,
          0.92512775,
          0.92811,
          0.92287425,
          0.9230334999999998,
          0.929190125,
          0.92327925,
          0.92749625,
          0.92254425,
          0.917944,
          0.92140075,
          0.922474
         ],
         "y0": " ",
         "yaxis": "y"
        },
        {
         "alignmentgroup": "True",
         "hovertemplate": "Method=%{x}<br>Metric=LSUN<br>Model=seresnet152<br>Value=%{y}<extra></extra>",
         "legendgroup": "TS",
         "marker": {
          "color": "#636efa"
         },
         "name": "TS",
         "notched": false,
         "offsetgroup": "TS",
         "orientation": "v",
         "showlegend": false,
         "type": "box",
         "x": [
          "TS",
          "TS",
          "TS",
          "TS",
          "TS",
          "TS",
          "TS",
          "TS",
          "TS",
          "TS",
          "TS",
          "TS",
          "TS",
          "TS",
          "TS",
          "TS",
          "TS",
          "TS",
          "TS",
          "TS"
         ],
         "x0": " ",
         "xaxis": "x2",
         "y": [
          0.943628,
          0.9417935,
          0.941116,
          0.94460875,
          0.94165625,
          0.93675075,
          0.93961875,
          0.93697075,
          0.936123,
          0.9410765,
          0.94167825,
          0.943030125,
          0.936419,
          0.942613,
          0.94065975,
          0.94096425,
          0.93948325,
          0.935579,
          0.937976,
          0.941384
         ],
         "y0": " ",
         "yaxis": "y2"
        },
        {
         "alignmentgroup": "True",
         "hovertemplate": "Method=%{x}<br>Metric=LSUN<br>Model=xception<br>Value=%{y}<extra></extra>",
         "legendgroup": "TS",
         "marker": {
          "color": "#636efa"
         },
         "name": "TS",
         "notched": false,
         "offsetgroup": "TS",
         "orientation": "v",
         "showlegend": false,
         "type": "box",
         "x": [
          "TS",
          "TS",
          "TS",
          "TS",
          "TS",
          "TS",
          "TS",
          "TS",
          "TS",
          "TS",
          "TS",
          "TS",
          "TS",
          "TS",
          "TS",
          "TS",
          "TS",
          "TS",
          "TS",
          "TS"
         ],
         "x0": " ",
         "xaxis": "x3",
         "y": [
          0.8934375000000001,
          0.8948527500000001,
          0.8889539999999999,
          0.8982502500000001,
          0.8930902500000002,
          0.8935642500000001,
          0.89345525,
          0.8868547499999999,
          0.88843825,
          0.89493225,
          0.895722875,
          0.891536625,
          0.889318625,
          0.8849360000000001,
          0.8884795,
          0.8894244999999998,
          0.8917197500000001,
          0.89039025,
          0.89271025,
          0.89618025
         ],
         "y0": " ",
         "yaxis": "y3"
        },
        {
         "alignmentgroup": "True",
         "hovertemplate": "Method=%{x}<br>Metric=LSUN<br>Model=densenet161<br>Value=%{y}<extra></extra>",
         "legendgroup": "TS",
         "marker": {
          "color": "#636efa"
         },
         "name": "TS",
         "notched": false,
         "offsetgroup": "TS",
         "orientation": "v",
         "showlegend": false,
         "type": "box",
         "x": [
          "TS",
          "TS",
          "TS",
          "TS",
          "TS",
          "TS",
          "TS",
          "TS",
          "TS",
          "TS",
          "TS",
          "TS",
          "TS",
          "TS",
          "TS",
          "TS",
          "TS",
          "TS",
          "TS",
          "TS"
         ],
         "x0": " ",
         "xaxis": "x4",
         "y": [
          0.9312435,
          0.928938,
          0.929984,
          0.9355385,
          0.92703975,
          0.927625875,
          0.92757725,
          0.92878425,
          0.91998025,
          0.929094,
          0.92964625,
          0.92617075,
          0.92283275,
          0.93030775,
          0.92831975,
          0.932374375,
          0.92658925,
          0.922911,
          0.927812,
          0.92677325
         ],
         "y0": " ",
         "yaxis": "y4"
        },
        {
         "alignmentgroup": "True",
         "hovertemplate": "Method=%{x}<br>Metric=LSUN<br>Model=inceptionresnetv2<br>Value=%{y}<extra></extra>",
         "legendgroup": "TS",
         "marker": {
          "color": "#636efa"
         },
         "name": "TS",
         "notched": false,
         "offsetgroup": "TS",
         "orientation": "v",
         "showlegend": false,
         "type": "box",
         "x": [
          "TS",
          "TS",
          "TS",
          "TS",
          "TS",
          "TS",
          "TS",
          "TS",
          "TS",
          "TS",
          "TS",
          "TS",
          "TS",
          "TS",
          "TS",
          "TS",
          "TS",
          "TS",
          "TS",
          "TS"
         ],
         "x0": " ",
         "xaxis": "x5",
         "y": [
          0.9217575,
          0.91861925,
          0.92158425,
          0.9279075,
          0.9228035,
          0.91795375,
          0.9230267500000002,
          0.91987375,
          0.91766375,
          0.920563,
          0.9242195,
          0.9190165,
          0.92275925,
          0.9217885,
          0.919794,
          0.921686,
          0.92084825,
          0.92004475,
          0.91586125,
          0.91934025
         ],
         "y0": " ",
         "yaxis": "y5"
        },
        {
         "alignmentgroup": "True",
         "hovertemplate": "Method=%{x}<br>Metric=ECE<br>Model=resnet152<br>Value=%{y}<extra></extra>",
         "legendgroup": "SPTS",
         "marker": {
          "color": "#EF553B"
         },
         "name": "SPTS",
         "notched": false,
         "offsetgroup": "SPTS",
         "orientation": "v",
         "showlegend": true,
         "type": "box",
         "x": [
          "SPTS",
          "SPTS",
          "SPTS",
          "SPTS",
          "SPTS",
          "SPTS",
          "SPTS",
          "SPTS",
          "SPTS",
          "SPTS",
          "SPTS",
          "SPTS",
          "SPTS",
          "SPTS",
          "SPTS",
          "SPTS",
          "SPTS",
          "SPTS",
          "SPTS",
          "SPTS"
         ],
         "x0": " ",
         "xaxis": "x11",
         "y": [
          0.0165163949131965,
          0.018951840698719,
          0.0187565125524997,
          0.0294667650014162,
          0.0293316915631294,
          0.0194441471248865,
          0.0209829993546009,
          0.0230824016034603,
          0.0252798274159431,
          0.023601334542036,
          0.033163882791996,
          0.0250366851687431,
          0.019014585763216,
          0.0210253801196813,
          0.0245204288512468,
          0.0198261700570583,
          0.0264682322740554,
          0.0279370564967393,
          0.0210694894194602,
          0.0278255380690097
         ],
         "y0": " ",
         "yaxis": "y11"
        },
        {
         "alignmentgroup": "True",
         "hovertemplate": "Method=%{x}<br>Metric=ECE<br>Model=seresnet152<br>Value=%{y}<extra></extra>",
         "legendgroup": "SPTS",
         "marker": {
          "color": "#EF553B"
         },
         "name": "SPTS",
         "notched": false,
         "offsetgroup": "SPTS",
         "orientation": "v",
         "showlegend": false,
         "type": "box",
         "x": [
          "SPTS",
          "SPTS",
          "SPTS",
          "SPTS",
          "SPTS",
          "SPTS",
          "SPTS",
          "SPTS",
          "SPTS",
          "SPTS",
          "SPTS",
          "SPTS",
          "SPTS",
          "SPTS",
          "SPTS",
          "SPTS",
          "SPTS",
          "SPTS",
          "SPTS",
          "SPTS"
         ],
         "x0": " ",
         "xaxis": "x12",
         "y": [
          0.0187584739178419,
          0.0364918708801269,
          0.0161274764686822,
          0.0236552860587835,
          0.0167305245995521,
          0.0359819941222667,
          0.0258695464581251,
          0.0322024822235107,
          0.0339325219392776,
          0.024002157151699,
          0.0343343839049339,
          0.0259746294468641,
          0.0211251899600029,
          0.0264932867139577,
          0.0201194360852241,
          0.0192105658352375,
          0.0247834976762533,
          0.0222581885755062,
          0.0265128277242183,
          0.0217763818800449
         ],
         "y0": " ",
         "yaxis": "y12"
        },
        {
         "alignmentgroup": "True",
         "hovertemplate": "Method=%{x}<br>Metric=ECE<br>Model=xception<br>Value=%{y}<extra></extra>",
         "legendgroup": "SPTS",
         "marker": {
          "color": "#EF553B"
         },
         "name": "SPTS",
         "notched": false,
         "offsetgroup": "SPTS",
         "orientation": "v",
         "showlegend": false,
         "type": "box",
         "x": [
          "SPTS",
          "SPTS",
          "SPTS",
          "SPTS",
          "SPTS",
          "SPTS",
          "SPTS",
          "SPTS",
          "SPTS",
          "SPTS",
          "SPTS",
          "SPTS",
          "SPTS",
          "SPTS",
          "SPTS",
          "SPTS",
          "SPTS",
          "SPTS",
          "SPTS",
          "SPTS"
         ],
         "x0": " ",
         "xaxis": "x13",
         "y": [
          0.0254258122295141,
          0.0199380349367856,
          0.0156490616500377,
          0.0221588741987943,
          0.014365411363542,
          0.0245207753032445,
          0.0185412093997001,
          0.0154080018401145,
          0.0312632918357849,
          0.0209607146680355,
          0.0316610857844352,
          0.0206648595631122,
          0.0185597334057092,
          0.0233824104070663,
          0.0196832157671451,
          0.0317495539784431,
          0.0107584409415721,
          0.0262781754136085,
          0.0232034102082252,
          0.0205744337290525
         ],
         "y0": " ",
         "yaxis": "y13"
        },
        {
         "alignmentgroup": "True",
         "hovertemplate": "Method=%{x}<br>Metric=ECE<br>Model=densenet161<br>Value=%{y}<extra></extra>",
         "legendgroup": "SPTS",
         "marker": {
          "color": "#EF553B"
         },
         "name": "SPTS",
         "notched": false,
         "offsetgroup": "SPTS",
         "orientation": "v",
         "showlegend": false,
         "type": "box",
         "x": [
          "SPTS",
          "SPTS",
          "SPTS",
          "SPTS",
          "SPTS",
          "SPTS",
          "SPTS",
          "SPTS",
          "SPTS",
          "SPTS",
          "SPTS",
          "SPTS",
          "SPTS",
          "SPTS",
          "SPTS",
          "SPTS",
          "SPTS",
          "SPTS",
          "SPTS",
          "SPTS"
         ],
         "x0": " ",
         "xaxis": "x14",
         "y": [
          0.018220130354166,
          0.0263013672083616,
          0.0178804248571395,
          0.0242341477423906,
          0.020581467077136,
          0.0163641199469566,
          0.0125774759799242,
          0.0265382006764411,
          0.0176981221884489,
          0.0181206930428743,
          0.0242853481322526,
          0.01657928340137,
          0.0180832296609878,
          0.0213568136096,
          0.015094974078238,
          0.0166143979877233,
          0.0201378371566534,
          0.0242784488946199,
          0.0199331454932689,
          0.0239791832864284
         ],
         "y0": " ",
         "yaxis": "y14"
        },
        {
         "alignmentgroup": "True",
         "hovertemplate": "Method=%{x}<br>Metric=ECE<br>Model=inceptionresnetv2<br>Value=%{y}<extra></extra>",
         "legendgroup": "SPTS",
         "marker": {
          "color": "#EF553B"
         },
         "name": "SPTS",
         "notched": false,
         "offsetgroup": "SPTS",
         "orientation": "v",
         "showlegend": false,
         "type": "box",
         "x": [
          "SPTS",
          "SPTS",
          "SPTS",
          "SPTS",
          "SPTS",
          "SPTS",
          "SPTS",
          "SPTS",
          "SPTS",
          "SPTS",
          "SPTS",
          "SPTS",
          "SPTS",
          "SPTS",
          "SPTS",
          "SPTS",
          "SPTS",
          "SPTS",
          "SPTS",
          "SPTS"
         ],
         "x0": " ",
         "xaxis": "x15",
         "y": [
          0.0285556241869926,
          0.0340578109025955,
          0.0258228555321693,
          0.0256431810557842,
          0.0289874374866485,
          0.0319327116012573,
          0.0163494013249874,
          0.0256997682154178,
          0.0258103534579277,
          0.0296179931610822,
          0.0155917014926671,
          0.0131052220240235,
          0.018432630226016,
          0.0256471298635005,
          0.0277820862829685,
          0.0233535002917051,
          0.019427590072155,
          0.0228251181542873,
          0.0279412493109703,
          0.0214466992765665
         ],
         "y0": " ",
         "yaxis": "y15"
        },
        {
         "alignmentgroup": "True",
         "hovertemplate": "Method=%{x}<br>Metric=SVHN<br>Model=resnet152<br>Value=%{y}<extra></extra>",
         "legendgroup": "SPTS",
         "marker": {
          "color": "#EF553B"
         },
         "name": "SPTS",
         "notched": false,
         "offsetgroup": "SPTS",
         "orientation": "v",
         "showlegend": false,
         "type": "box",
         "x": [
          "SPTS",
          "SPTS",
          "SPTS",
          "SPTS",
          "SPTS",
          "SPTS",
          "SPTS",
          "SPTS",
          "SPTS",
          "SPTS",
          "SPTS",
          "SPTS",
          "SPTS",
          "SPTS",
          "SPTS",
          "SPTS",
          "SPTS",
          "SPTS",
          "SPTS",
          "SPTS"
         ],
         "x0": " ",
         "xaxis": "x6",
         "y": [
          0.89749825,
          0.897239,
          0.898716,
          0.8993886249999999,
          0.897339,
          0.8947925000000001,
          0.895642,
          0.8916665,
          0.88512775,
          0.8950640000000001,
          0.8996077499999999,
          0.892511375,
          0.894012,
          0.8997075,
          0.892208,
          0.8958707499999999,
          0.890242,
          0.88727625,
          0.88947,
          0.891508
         ],
         "y0": " ",
         "yaxis": "y6"
        },
        {
         "alignmentgroup": "True",
         "hovertemplate": "Method=%{x}<br>Metric=SVHN<br>Model=seresnet152<br>Value=%{y}<extra></extra>",
         "legendgroup": "SPTS",
         "marker": {
          "color": "#EF553B"
         },
         "name": "SPTS",
         "notched": false,
         "offsetgroup": "SPTS",
         "orientation": "v",
         "showlegend": false,
         "type": "box",
         "x": [
          "SPTS",
          "SPTS",
          "SPTS",
          "SPTS",
          "SPTS",
          "SPTS",
          "SPTS",
          "SPTS",
          "SPTS",
          "SPTS",
          "SPTS",
          "SPTS",
          "SPTS",
          "SPTS",
          "SPTS",
          "SPTS",
          "SPTS",
          "SPTS",
          "SPTS",
          "SPTS"
         ],
         "x0": " ",
         "xaxis": "x7",
         "y": [
          0.91504975,
          0.913458,
          0.91226975,
          0.915912,
          0.91320075,
          0.90690625,
          0.9107485,
          0.9074605,
          0.9055495,
          0.91192675,
          0.913914,
          0.91365925,
          0.9066482500000002,
          0.91206325,
          0.91126725,
          0.911497,
          0.9094065,
          0.9053915,
          0.9079265,
          0.911437875
         ],
         "y0": " ",
         "yaxis": "y7"
        },
        {
         "alignmentgroup": "True",
         "hovertemplate": "Method=%{x}<br>Metric=SVHN<br>Model=xception<br>Value=%{y}<extra></extra>",
         "legendgroup": "SPTS",
         "marker": {
          "color": "#EF553B"
         },
         "name": "SPTS",
         "notched": false,
         "offsetgroup": "SPTS",
         "orientation": "v",
         "showlegend": false,
         "type": "box",
         "x": [
          "SPTS",
          "SPTS",
          "SPTS",
          "SPTS",
          "SPTS",
          "SPTS",
          "SPTS",
          "SPTS",
          "SPTS",
          "SPTS",
          "SPTS",
          "SPTS",
          "SPTS",
          "SPTS",
          "SPTS",
          "SPTS",
          "SPTS",
          "SPTS",
          "SPTS",
          "SPTS"
         ],
         "x0": " ",
         "xaxis": "x8",
         "y": [
          0.872293625,
          0.8743895,
          0.8665365,
          0.8777225,
          0.8720045,
          0.8724475,
          0.8729215000000001,
          0.8658027500000001,
          0.8673747500000001,
          0.8741415,
          0.8759545000000001,
          0.8708957500000001,
          0.868269,
          0.862581875,
          0.86679,
          0.867679,
          0.8699891249999999,
          0.8690775,
          0.8713582499999999,
          0.8751525
         ],
         "y0": " ",
         "yaxis": "y8"
        },
        {
         "alignmentgroup": "True",
         "hovertemplate": "Method=%{x}<br>Metric=SVHN<br>Model=densenet161<br>Value=%{y}<extra></extra>",
         "legendgroup": "SPTS",
         "marker": {
          "color": "#EF553B"
         },
         "name": "SPTS",
         "notched": false,
         "offsetgroup": "SPTS",
         "orientation": "v",
         "showlegend": false,
         "type": "box",
         "x": [
          "SPTS",
          "SPTS",
          "SPTS",
          "SPTS",
          "SPTS",
          "SPTS",
          "SPTS",
          "SPTS",
          "SPTS",
          "SPTS",
          "SPTS",
          "SPTS",
          "SPTS",
          "SPTS",
          "SPTS",
          "SPTS",
          "SPTS",
          "SPTS",
          "SPTS",
          "SPTS"
         ],
         "x0": " ",
         "xaxis": "x9",
         "y": [
          0.9152705,
          0.913232125,
          0.91403425,
          0.918994375,
          0.91026675,
          0.91135075,
          0.91108925,
          0.91310475,
          0.903267,
          0.91226925,
          0.913948,
          0.909849,
          0.90625375,
          0.91393175,
          0.91223075,
          0.91592775,
          0.90990125,
          0.9058714999999998,
          0.9111695,
          0.9101050000000002
         ],
         "y0": " ",
         "yaxis": "y9"
        },
        {
         "alignmentgroup": "True",
         "hovertemplate": "Method=%{x}<br>Metric=SVHN<br>Model=inceptionresnetv2<br>Value=%{y}<extra></extra>",
         "legendgroup": "SPTS",
         "marker": {
          "color": "#EF553B"
         },
         "name": "SPTS",
         "notched": false,
         "offsetgroup": "SPTS",
         "orientation": "v",
         "showlegend": false,
         "type": "box",
         "x": [
          "SPTS",
          "SPTS",
          "SPTS",
          "SPTS",
          "SPTS",
          "SPTS",
          "SPTS",
          "SPTS",
          "SPTS",
          "SPTS",
          "SPTS",
          "SPTS",
          "SPTS",
          "SPTS",
          "SPTS",
          "SPTS",
          "SPTS",
          "SPTS",
          "SPTS",
          "SPTS"
         ],
         "x0": " ",
         "xaxis": "x10",
         "y": [
          0.89348175,
          0.8898387499999999,
          0.8931027500000001,
          0.899982,
          0.89449125,
          0.88866175,
          0.89486725,
          0.8916645,
          0.8891770000000001,
          0.8928699999999999,
          0.8969687500000003,
          0.8917784999999999,
          0.8938875000000002,
          0.8932085,
          0.89083075,
          0.8922787500000001,
          0.89149175,
          0.8910290000000001,
          0.8871547500000001,
          0.89060925
         ],
         "y0": " ",
         "yaxis": "y10"
        },
        {
         "alignmentgroup": "True",
         "hovertemplate": "Method=%{x}<br>Metric=LSUN<br>Model=resnet152<br>Value=%{y}<extra></extra>",
         "legendgroup": "SPTS",
         "marker": {
          "color": "#EF553B"
         },
         "name": "SPTS",
         "notched": false,
         "offsetgroup": "SPTS",
         "orientation": "v",
         "showlegend": false,
         "type": "box",
         "x": [
          "SPTS",
          "SPTS",
          "SPTS",
          "SPTS",
          "SPTS",
          "SPTS",
          "SPTS",
          "SPTS",
          "SPTS",
          "SPTS",
          "SPTS",
          "SPTS",
          "SPTS",
          "SPTS",
          "SPTS",
          "SPTS",
          "SPTS",
          "SPTS",
          "SPTS",
          "SPTS"
         ],
         "x0": " ",
         "xaxis": "x",
         "y": [
          0.92719825,
          0.92654475,
          0.92779875,
          0.929024,
          0.9265835,
          0.924792,
          0.925752,
          0.920882625,
          0.916566,
          0.9250365,
          0.9280535,
          0.92280825,
          0.92295675,
          0.92910225,
          0.92319,
          0.92742425,
          0.92248025,
          0.91786575,
          0.9213085,
          0.92236575
         ],
         "y0": " ",
         "yaxis": "y"
        },
        {
         "alignmentgroup": "True",
         "hovertemplate": "Method=%{x}<br>Metric=LSUN<br>Model=seresnet152<br>Value=%{y}<extra></extra>",
         "legendgroup": "SPTS",
         "marker": {
          "color": "#EF553B"
         },
         "name": "SPTS",
         "notched": false,
         "offsetgroup": "SPTS",
         "orientation": "v",
         "showlegend": false,
         "type": "box",
         "x": [
          "SPTS",
          "SPTS",
          "SPTS",
          "SPTS",
          "SPTS",
          "SPTS",
          "SPTS",
          "SPTS",
          "SPTS",
          "SPTS",
          "SPTS",
          "SPTS",
          "SPTS",
          "SPTS",
          "SPTS",
          "SPTS",
          "SPTS",
          "SPTS",
          "SPTS",
          "SPTS"
         ],
         "x0": " ",
         "xaxis": "x2",
         "y": [
          0.94354775,
          0.94172625,
          0.9410505,
          0.94453725,
          0.94160125,
          0.93670775,
          0.9395575,
          0.93690575,
          0.936047625,
          0.9410285,
          0.94161775,
          0.942963,
          0.93637425,
          0.9425475,
          0.9405885,
          0.940893625,
          0.939411,
          0.93551025,
          0.937911,
          0.9413195
         ],
         "y0": " ",
         "yaxis": "y2"
        },
        {
         "alignmentgroup": "True",
         "hovertemplate": "Method=%{x}<br>Metric=LSUN<br>Model=xception<br>Value=%{y}<extra></extra>",
         "legendgroup": "SPTS",
         "marker": {
          "color": "#EF553B"
         },
         "name": "SPTS",
         "notched": false,
         "offsetgroup": "SPTS",
         "orientation": "v",
         "showlegend": false,
         "type": "box",
         "x": [
          "SPTS",
          "SPTS",
          "SPTS",
          "SPTS",
          "SPTS",
          "SPTS",
          "SPTS",
          "SPTS",
          "SPTS",
          "SPTS",
          "SPTS",
          "SPTS",
          "SPTS",
          "SPTS",
          "SPTS",
          "SPTS",
          "SPTS",
          "SPTS",
          "SPTS",
          "SPTS"
         ],
         "x0": " ",
         "xaxis": "x3",
         "y": [
          0.8935955000000001,
          0.89500825,
          0.8891155,
          0.8984120000000001,
          0.89330125,
          0.89373375,
          0.89361925,
          0.8870205,
          0.8885995,
          0.89515,
          0.8958677499999999,
          0.8917127499999999,
          0.8894495,
          0.8850892499999999,
          0.8887265,
          0.88961075,
          0.89191375,
          0.8905305,
          0.8928371249999999,
          0.896285875
         ],
         "y0": " ",
         "yaxis": "y3"
        },
        {
         "alignmentgroup": "True",
         "hovertemplate": "Method=%{x}<br>Metric=LSUN<br>Model=densenet161<br>Value=%{y}<extra></extra>",
         "legendgroup": "SPTS",
         "marker": {
          "color": "#EF553B"
         },
         "name": "SPTS",
         "notched": false,
         "offsetgroup": "SPTS",
         "orientation": "v",
         "showlegend": false,
         "type": "box",
         "x": [
          "SPTS",
          "SPTS",
          "SPTS",
          "SPTS",
          "SPTS",
          "SPTS",
          "SPTS",
          "SPTS",
          "SPTS",
          "SPTS",
          "SPTS",
          "SPTS",
          "SPTS",
          "SPTS",
          "SPTS",
          "SPTS",
          "SPTS",
          "SPTS",
          "SPTS",
          "SPTS"
         ],
         "x0": " ",
         "xaxis": "x4",
         "y": [
          0.931185,
          0.928869,
          0.929888,
          0.93545325,
          0.926976,
          0.92753625,
          0.9274887500000002,
          0.92866175,
          0.9199235,
          0.929014125,
          0.929556875,
          0.9261005,
          0.92276975,
          0.930230125,
          0.928222125,
          0.93228325,
          0.9265235,
          0.9228219999999998,
          0.92769825,
          0.9266695
         ],
         "y0": " ",
         "yaxis": "y4"
        },
        {
         "alignmentgroup": "True",
         "hovertemplate": "Method=%{x}<br>Metric=LSUN<br>Model=inceptionresnetv2<br>Value=%{y}<extra></extra>",
         "legendgroup": "SPTS",
         "marker": {
          "color": "#EF553B"
         },
         "name": "SPTS",
         "notched": false,
         "offsetgroup": "SPTS",
         "orientation": "v",
         "showlegend": false,
         "type": "box",
         "x": [
          "SPTS",
          "SPTS",
          "SPTS",
          "SPTS",
          "SPTS",
          "SPTS",
          "SPTS",
          "SPTS",
          "SPTS",
          "SPTS",
          "SPTS",
          "SPTS",
          "SPTS",
          "SPTS",
          "SPTS",
          "SPTS",
          "SPTS",
          "SPTS",
          "SPTS",
          "SPTS"
         ],
         "x0": " ",
         "xaxis": "x5",
         "y": [
          0.92168125,
          0.918557,
          0.9214755,
          0.92781175,
          0.9227235,
          0.917885,
          0.92294825,
          0.91976225,
          0.91755175,
          0.920479,
          0.924145,
          0.91892975,
          0.922719,
          0.92171125,
          0.9197415,
          0.921629,
          0.920771,
          0.919949,
          0.915748,
          0.91926475
         ],
         "y0": " ",
         "yaxis": "y5"
        },
        {
         "alignmentgroup": "True",
         "hovertemplate": "Method=%{x}<br>Metric=ECE<br>Model=resnet152<br>Value=%{y}<extra></extra>",
         "legendgroup": "SP1",
         "marker": {
          "color": "#00cc96"
         },
         "name": "SP1",
         "notched": false,
         "offsetgroup": "SP1",
         "orientation": "v",
         "showlegend": true,
         "type": "box",
         "x": [
          "SP1",
          "SP1",
          "SP1",
          "SP1",
          "SP1",
          "SP1",
          "SP1",
          "SP1",
          "SP1",
          "SP1",
          "SP1",
          "SP1",
          "SP1",
          "SP1",
          "SP1",
          "SP1",
          "SP1",
          "SP1",
          "SP1",
          "SP1"
         ],
         "x0": " ",
         "xaxis": "x11",
         "y": [
          0.0150721501559019,
          0.0232159961014986,
          0.0158134121447801,
          0.0239157155156135,
          0.0188282318413257,
          0.0149696310982108,
          0.0181300453841686,
          0.032435230910778,
          0.0235170740634202,
          0.0294697098433971,
          0.0296791717410087,
          0.0258817076683044,
          0.0208457950502634,
          0.0188843570649623,
          0.0240167528390884,
          0.0189245902001857,
          0.0259044989943504,
          0.0268824603408575,
          0.0244605354964733,
          0.0252794437110424
         ],
         "y0": " ",
         "yaxis": "y11"
        },
        {
         "alignmentgroup": "True",
         "hovertemplate": "Method=%{x}<br>Metric=ECE<br>Model=seresnet152<br>Value=%{y}<extra></extra>",
         "legendgroup": "SP1",
         "marker": {
          "color": "#00cc96"
         },
         "name": "SP1",
         "notched": false,
         "offsetgroup": "SP1",
         "orientation": "v",
         "showlegend": false,
         "type": "box",
         "x": [
          "SP1",
          "SP1",
          "SP1",
          "SP1",
          "SP1",
          "SP1",
          "SP1",
          "SP1",
          "SP1",
          "SP1",
          "SP1",
          "SP1",
          "SP1",
          "SP1",
          "SP1",
          "SP1",
          "SP1",
          "SP1",
          "SP1",
          "SP1"
         ],
         "x0": " ",
         "xaxis": "x12",
         "y": [
          0.0183319300413131,
          0.0274052340537309,
          0.0224844478070735,
          0.0185934677720069,
          0.0210073702037334,
          0.0340081565082073,
          0.0241570770740509,
          0.0218466725200414,
          0.024937555193901,
          0.0260772723704576,
          0.0294992327690124,
          0.0144060654565691,
          0.0186131242662668,
          0.0143296439200639,
          0.0277961306273937,
          0.0159151349216699,
          0.027758564800024,
          0.0243061818182468,
          0.0253645777702331,
          0.0232430212199687
         ],
         "y0": " ",
         "yaxis": "y12"
        },
        {
         "alignmentgroup": "True",
         "hovertemplate": "Method=%{x}<br>Metric=ECE<br>Model=xception<br>Value=%{y}<extra></extra>",
         "legendgroup": "SP1",
         "marker": {
          "color": "#00cc96"
         },
         "name": "SP1",
         "notched": false,
         "offsetgroup": "SP1",
         "orientation": "v",
         "showlegend": false,
         "type": "box",
         "x": [
          "SP1",
          "SP1",
          "SP1",
          "SP1",
          "SP1",
          "SP1",
          "SP1",
          "SP1",
          "SP1",
          "SP1",
          "SP1",
          "SP1",
          "SP1",
          "SP1",
          "SP1",
          "SP1",
          "SP1",
          "SP1",
          "SP1",
          "SP1"
         ],
         "x0": " ",
         "xaxis": "x13",
         "y": [
          0.014298410154879,
          0.0170757062733173,
          0.0252709258347749,
          0.021760243922472,
          0.0177887342870235,
          0.0232352074235677,
          0.0147083783522248,
          0.0194537565112113,
          0.0238898061215877,
          0.0202194731682539,
          0.0243232399225235,
          0.0143583323806524,
          0.0156967360526323,
          0.0150176053866744,
          0.01840809173882,
          0.0285289175808429,
          0.0180482510477304,
          0.0250454097986221,
          0.0220009796321392,
          0.0169610604643821
         ],
         "y0": " ",
         "yaxis": "y13"
        },
        {
         "alignmentgroup": "True",
         "hovertemplate": "Method=%{x}<br>Metric=ECE<br>Model=densenet161<br>Value=%{y}<extra></extra>",
         "legendgroup": "SP1",
         "marker": {
          "color": "#00cc96"
         },
         "name": "SP1",
         "notched": false,
         "offsetgroup": "SP1",
         "orientation": "v",
         "showlegend": false,
         "type": "box",
         "x": [
          "SP1",
          "SP1",
          "SP1",
          "SP1",
          "SP1",
          "SP1",
          "SP1",
          "SP1",
          "SP1",
          "SP1",
          "SP1",
          "SP1",
          "SP1",
          "SP1",
          "SP1",
          "SP1",
          "SP1",
          "SP1",
          "SP1",
          "SP1"
         ],
         "x0": " ",
         "xaxis": "x14",
         "y": [
          0.0157204903662204,
          0.0169165153056383,
          0.0206460673362016,
          0.0155711965635418,
          0.0251805316656827,
          0.0276222936809062,
          0.0181858837604522,
          0.0327197834849357,
          0.0128357075154781,
          0.0100779486820101,
          0.0273828282952308,
          0.0194182209670543,
          0.0124390088021755,
          0.0131362890824675,
          0.0199179071933031,
          0.0242590978741645,
          0.016861330717802,
          0.0204692557454109,
          0.0186075214296579,
          0.0226138215512037
         ],
         "y0": " ",
         "yaxis": "y14"
        },
        {
         "alignmentgroup": "True",
         "hovertemplate": "Method=%{x}<br>Metric=ECE<br>Model=inceptionresnetv2<br>Value=%{y}<extra></extra>",
         "legendgroup": "SP1",
         "marker": {
          "color": "#00cc96"
         },
         "name": "SP1",
         "notched": false,
         "offsetgroup": "SP1",
         "orientation": "v",
         "showlegend": false,
         "type": "box",
         "x": [
          "SP1",
          "SP1",
          "SP1",
          "SP1",
          "SP1",
          "SP1",
          "SP1",
          "SP1",
          "SP1",
          "SP1",
          "SP1",
          "SP1",
          "SP1",
          "SP1",
          "SP1",
          "SP1",
          "SP1",
          "SP1",
          "SP1",
          "SP1"
         ],
         "x0": " ",
         "xaxis": "x15",
         "y": [
          0.0223304592072963,
          0.0297339614480733,
          0.0290499422699213,
          0.0343598313629627,
          0.0271142423152923,
          0.0241139363497495,
          0.0199879985302686,
          0.0289374254643917,
          0.0244028810411691,
          0.0233572479337453,
          0.0177701599895954,
          0.0204901173710823,
          0.0142579218372702,
          0.0261364262551069,
          0.028603333979845,
          0.0186980850994586,
          0.0271654240787029,
          0.0224129576236009,
          0.0274512935429811,
          0.0202566292136907
         ],
         "y0": " ",
         "yaxis": "y15"
        },
        {
         "alignmentgroup": "True",
         "hovertemplate": "Method=%{x}<br>Metric=SVHN<br>Model=resnet152<br>Value=%{y}<extra></extra>",
         "legendgroup": "SP1",
         "marker": {
          "color": "#00cc96"
         },
         "name": "SP1",
         "notched": false,
         "offsetgroup": "SP1",
         "orientation": "v",
         "showlegend": false,
         "type": "box",
         "x": [
          "SP1",
          "SP1",
          "SP1",
          "SP1",
          "SP1",
          "SP1",
          "SP1",
          "SP1",
          "SP1",
          "SP1",
          "SP1",
          "SP1",
          "SP1",
          "SP1",
          "SP1",
          "SP1",
          "SP1",
          "SP1",
          "SP1",
          "SP1"
         ],
         "x0": " ",
         "xaxis": "x6",
         "y": [
          0.89205075,
          0.8925657499999999,
          0.89421625,
          0.8954627500000002,
          0.8934332500000001,
          0.890875,
          0.891715,
          0.887826125,
          0.8802266250000002,
          0.890622,
          0.89537,
          0.88857175,
          0.8895077499999998,
          0.8950685,
          0.8877759999999999,
          0.891386,
          0.8860754999999999,
          0.88292375,
          0.8850475,
          0.8869469999999999
         ],
         "y0": " ",
         "yaxis": "y6"
        },
        {
         "alignmentgroup": "True",
         "hovertemplate": "Method=%{x}<br>Metric=SVHN<br>Model=seresnet152<br>Value=%{y}<extra></extra>",
         "legendgroup": "SP1",
         "marker": {
          "color": "#00cc96"
         },
         "name": "SP1",
         "notched": false,
         "offsetgroup": "SP1",
         "orientation": "v",
         "showlegend": false,
         "type": "box",
         "x": [
          "SP1",
          "SP1",
          "SP1",
          "SP1",
          "SP1",
          "SP1",
          "SP1",
          "SP1",
          "SP1",
          "SP1",
          "SP1",
          "SP1",
          "SP1",
          "SP1",
          "SP1",
          "SP1",
          "SP1",
          "SP1",
          "SP1",
          "SP1"
         ],
         "x0": " ",
         "xaxis": "x7",
         "y": [
          0.908706125,
          0.90722675,
          0.90513025,
          0.909337,
          0.9068937500000002,
          0.9006255,
          0.904283,
          0.901188,
          0.89918425,
          0.906011875,
          0.9078005,
          0.90775725,
          0.9001232499999999,
          0.90530775,
          0.904984,
          0.905386,
          0.902954,
          0.898831,
          0.901218,
          0.90461175
         ],
         "y0": " ",
         "yaxis": "y7"
        },
        {
         "alignmentgroup": "True",
         "hovertemplate": "Method=%{x}<br>Metric=SVHN<br>Model=xception<br>Value=%{y}<extra></extra>",
         "legendgroup": "SP1",
         "marker": {
          "color": "#00cc96"
         },
         "name": "SP1",
         "notched": false,
         "offsetgroup": "SP1",
         "orientation": "v",
         "showlegend": false,
         "type": "box",
         "x": [
          "SP1",
          "SP1",
          "SP1",
          "SP1",
          "SP1",
          "SP1",
          "SP1",
          "SP1",
          "SP1",
          "SP1",
          "SP1",
          "SP1",
          "SP1",
          "SP1",
          "SP1",
          "SP1",
          "SP1",
          "SP1",
          "SP1",
          "SP1"
         ],
         "x0": " ",
         "xaxis": "x8",
         "y": [
          0.8699045000000001,
          0.8722905,
          0.8644227499999999,
          0.8757094999999999,
          0.8697109999999999,
          0.8705925,
          0.8708285,
          0.8637111249999999,
          0.8653215000000001,
          0.8719752500000001,
          0.8735775,
          0.8689690000000001,
          0.8662787500000001,
          0.860451,
          0.8644952499999999,
          0.8653055000000001,
          0.8675350000000002,
          0.8665082500000001,
          0.8691854999999999,
          0.8726655
         ],
         "y0": " ",
         "yaxis": "y8"
        },
        {
         "alignmentgroup": "True",
         "hovertemplate": "Method=%{x}<br>Metric=SVHN<br>Model=densenet161<br>Value=%{y}<extra></extra>",
         "legendgroup": "SP1",
         "marker": {
          "color": "#00cc96"
         },
         "name": "SP1",
         "notched": false,
         "offsetgroup": "SP1",
         "orientation": "v",
         "showlegend": false,
         "type": "box",
         "x": [
          "SP1",
          "SP1",
          "SP1",
          "SP1",
          "SP1",
          "SP1",
          "SP1",
          "SP1",
          "SP1",
          "SP1",
          "SP1",
          "SP1",
          "SP1",
          "SP1",
          "SP1",
          "SP1",
          "SP1",
          "SP1",
          "SP1",
          "SP1"
         ],
         "x0": " ",
         "xaxis": "x9",
         "y": [
          0.9108695,
          0.909116375,
          0.91005175,
          0.9151615,
          0.9065255,
          0.9072945,
          0.9071215,
          0.90938625,
          0.899237,
          0.908043125,
          0.9100375,
          0.90611625,
          0.902144875,
          0.90960525,
          0.9084265,
          0.911786,
          0.90551425,
          0.9013695,
          0.90758625,
          0.90550675
         ],
         "y0": " ",
         "yaxis": "y9"
        },
        {
         "alignmentgroup": "True",
         "hovertemplate": "Method=%{x}<br>Metric=SVHN<br>Model=inceptionresnetv2<br>Value=%{y}<extra></extra>",
         "legendgroup": "SP1",
         "marker": {
          "color": "#00cc96"
         },
         "name": "SP1",
         "notched": false,
         "offsetgroup": "SP1",
         "orientation": "v",
         "showlegend": false,
         "type": "box",
         "x": [
          "SP1",
          "SP1",
          "SP1",
          "SP1",
          "SP1",
          "SP1",
          "SP1",
          "SP1",
          "SP1",
          "SP1",
          "SP1",
          "SP1",
          "SP1",
          "SP1",
          "SP1",
          "SP1",
          "SP1",
          "SP1",
          "SP1",
          "SP1"
         ],
         "x0": " ",
         "xaxis": "x10",
         "y": [
          0.8893245000000001,
          0.8862554999999999,
          0.8888517499999999,
          0.8963895,
          0.8910155,
          0.8851809999999998,
          0.89081,
          0.8878758750000002,
          0.8851782499999999,
          0.8891074999999999,
          0.89336875,
          0.888217625,
          0.890214,
          0.88912325,
          0.886508,
          0.888673,
          0.88738575,
          0.8867522499999999,
          0.8833632499999999,
          0.8866056250000001
         ],
         "y0": " ",
         "yaxis": "y10"
        },
        {
         "alignmentgroup": "True",
         "hovertemplate": "Method=%{x}<br>Metric=LSUN<br>Model=resnet152<br>Value=%{y}<extra></extra>",
         "legendgroup": "SP1",
         "marker": {
          "color": "#00cc96"
         },
         "name": "SP1",
         "notched": false,
         "offsetgroup": "SP1",
         "orientation": "v",
         "showlegend": false,
         "type": "box",
         "x": [
          "SP1",
          "SP1",
          "SP1",
          "SP1",
          "SP1",
          "SP1",
          "SP1",
          "SP1",
          "SP1",
          "SP1",
          "SP1",
          "SP1",
          "SP1",
          "SP1",
          "SP1",
          "SP1",
          "SP1",
          "SP1",
          "SP1",
          "SP1"
         ],
         "x0": " ",
         "xaxis": "x",
         "y": [
          0.92165125,
          0.92172325,
          0.923109,
          0.9247335,
          0.9224675,
          0.920508,
          0.92136,
          0.91667425,
          0.91149325,
          0.9201095,
          0.923756375,
          0.91849525,
          0.918075,
          0.92430925,
          0.918296,
          0.922537,
          0.91759925,
          0.913492,
          0.9163034999999998,
          0.917465
         ],
         "y0": " ",
         "yaxis": "y"
        },
        {
         "alignmentgroup": "True",
         "hovertemplate": "Method=%{x}<br>Metric=LSUN<br>Model=seresnet152<br>Value=%{y}<extra></extra>",
         "legendgroup": "SP1",
         "marker": {
          "color": "#00cc96"
         },
         "name": "SP1",
         "notched": false,
         "offsetgroup": "SP1",
         "orientation": "v",
         "showlegend": false,
         "type": "box",
         "x": [
          "SP1",
          "SP1",
          "SP1",
          "SP1",
          "SP1",
          "SP1",
          "SP1",
          "SP1",
          "SP1",
          "SP1",
          "SP1",
          "SP1",
          "SP1",
          "SP1",
          "SP1",
          "SP1",
          "SP1",
          "SP1",
          "SP1",
          "SP1"
         ],
         "x0": " ",
         "xaxis": "x2",
         "y": [
          0.9372445,
          0.9352875,
          0.93393525,
          0.93771725,
          0.93522575,
          0.9302845000000002,
          0.93292825,
          0.930507125,
          0.92949475,
          0.93484325,
          0.935507,
          0.9368055000000002,
          0.92965925,
          0.935674375,
          0.9339745,
          0.934507375,
          0.93266775,
          0.928807625,
          0.9309605,
          0.93430025
         ],
         "y0": " ",
         "yaxis": "y2"
        },
        {
         "alignmentgroup": "True",
         "hovertemplate": "Method=%{x}<br>Metric=LSUN<br>Model=xception<br>Value=%{y}<extra></extra>",
         "legendgroup": "SP1",
         "marker": {
          "color": "#00cc96"
         },
         "name": "SP1",
         "notched": false,
         "offsetgroup": "SP1",
         "orientation": "v",
         "showlegend": false,
         "type": "box",
         "x": [
          "SP1",
          "SP1",
          "SP1",
          "SP1",
          "SP1",
          "SP1",
          "SP1",
          "SP1",
          "SP1",
          "SP1",
          "SP1",
          "SP1",
          "SP1",
          "SP1",
          "SP1",
          "SP1",
          "SP1",
          "SP1",
          "SP1",
          "SP1"
         ],
         "x0": " ",
         "xaxis": "x3",
         "y": [
          0.8915195,
          0.893146,
          0.8871592500000001,
          0.8965202499999999,
          0.891335,
          0.8920825000000001,
          0.891793,
          0.8850935000000001,
          0.8866989999999999,
          0.8931849999999999,
          0.8937853750000001,
          0.8899465,
          0.88768175,
          0.8832190000000001,
          0.886644,
          0.8875679999999999,
          0.889700625,
          0.8882247499999999,
          0.890943,
          0.89408825
         ],
         "y0": " ",
         "yaxis": "y3"
        },
        {
         "alignmentgroup": "True",
         "hovertemplate": "Method=%{x}<br>Metric=LSUN<br>Model=densenet161<br>Value=%{y}<extra></extra>",
         "legendgroup": "SP1",
         "marker": {
          "color": "#00cc96"
         },
         "name": "SP1",
         "notched": false,
         "offsetgroup": "SP1",
         "orientation": "v",
         "showlegend": false,
         "type": "box",
         "x": [
          "SP1",
          "SP1",
          "SP1",
          "SP1",
          "SP1",
          "SP1",
          "SP1",
          "SP1",
          "SP1",
          "SP1",
          "SP1",
          "SP1",
          "SP1",
          "SP1",
          "SP1",
          "SP1",
          "SP1",
          "SP1",
          "SP1",
          "SP1"
         ],
         "x0": " ",
         "xaxis": "x4",
         "y": [
          0.92661925,
          0.9244965,
          0.92562775,
          0.93128925,
          0.922983125,
          0.923174,
          0.92317,
          0.9247230000000002,
          0.91564275,
          0.92450975,
          0.925322,
          0.9220865,
          0.9183115,
          0.9256985,
          0.92413825,
          0.92786725,
          0.92187725,
          0.91813625,
          0.9237255,
          0.921869375
         ],
         "y0": " ",
         "yaxis": "y4"
        },
        {
         "alignmentgroup": "True",
         "hovertemplate": "Method=%{x}<br>Metric=LSUN<br>Model=inceptionresnetv2<br>Value=%{y}<extra></extra>",
         "legendgroup": "SP1",
         "marker": {
          "color": "#00cc96"
         },
         "name": "SP1",
         "notched": false,
         "offsetgroup": "SP1",
         "orientation": "v",
         "showlegend": false,
         "type": "box",
         "x": [
          "SP1",
          "SP1",
          "SP1",
          "SP1",
          "SP1",
          "SP1",
          "SP1",
          "SP1",
          "SP1",
          "SP1",
          "SP1",
          "SP1",
          "SP1",
          "SP1",
          "SP1",
          "SP1",
          "SP1",
          "SP1",
          "SP1",
          "SP1"
         ],
         "x0": " ",
         "xaxis": "x5",
         "y": [
          0.91798625,
          0.9153715,
          0.917726,
          0.924615,
          0.919687,
          0.914763,
          0.91951,
          0.916599,
          0.91407875,
          0.91718375,
          0.92107575,
          0.9157959999999998,
          0.9193857500000002,
          0.918136,
          0.91598275,
          0.918397,
          0.9171954999999998,
          0.9162815000000002,
          0.912419,
          0.915683
         ],
         "y0": " ",
         "yaxis": "y5"
        },
        {
         "alignmentgroup": "True",
         "hovertemplate": "Method=%{x}<br>Metric=ECE<br>Model=resnet152<br>Value=%{y}<extra></extra>",
         "legendgroup": "SPU",
         "marker": {
          "color": "#ab63fa"
         },
         "name": "SPU",
         "notched": false,
         "offsetgroup": "SPU",
         "orientation": "v",
         "showlegend": true,
         "type": "box",
         "x": [
          "SPU",
          "SPU",
          "SPU",
          "SPU",
          "SPU",
          "SPU",
          "SPU",
          "SPU",
          "SPU",
          "SPU",
          "SPU",
          "SPU",
          "SPU",
          "SPU",
          "SPU",
          "SPU",
          "SPU",
          "SPU",
          "SPU",
          "SPU"
         ],
         "x0": " ",
         "xaxis": "x11",
         "y": [
          0.0174695793539285,
          0.0244688838720321,
          0.0115740671753883,
          0.0242136549204587,
          0.0178737770766019,
          0.0142044937238097,
          0.019165351986885,
          0.0297458954155445,
          0.0252576079219579,
          0.0289977621287107,
          0.0324466936290264,
          0.0216092802584171,
          0.0190736129879951,
          0.0220648106187582,
          0.0236248206347227,
          0.0217995774000883,
          0.0265782289206981,
          0.0281611643731594,
          0.0233195703476667,
          0.026607371866703
         ],
         "y0": " ",
         "yaxis": "y11"
        },
        {
         "alignmentgroup": "True",
         "hovertemplate": "Method=%{x}<br>Metric=ECE<br>Model=seresnet152<br>Value=%{y}<extra></extra>",
         "legendgroup": "SPU",
         "marker": {
          "color": "#ab63fa"
         },
         "name": "SPU",
         "notched": false,
         "offsetgroup": "SPU",
         "orientation": "v",
         "showlegend": false,
         "type": "box",
         "x": [
          "SPU",
          "SPU",
          "SPU",
          "SPU",
          "SPU",
          "SPU",
          "SPU",
          "SPU",
          "SPU",
          "SPU",
          "SPU",
          "SPU",
          "SPU",
          "SPU",
          "SPU",
          "SPU",
          "SPU",
          "SPU",
          "SPU",
          "SPU"
         ],
         "x0": " ",
         "xaxis": "x12",
         "y": [
          0.0163675490766763,
          0.0279246009886264,
          0.0224243495613336,
          0.0196713022887706,
          0.0214956030249595,
          0.0351955406367778,
          0.0223727542906999,
          0.0232856273651123,
          0.023521065711975,
          0.0255549140274524,
          0.029789375141263,
          0.0154640693217515,
          0.0184084642678499,
          0.0141822770237922,
          0.0275091100484132,
          0.0151612823829054,
          0.0308890864253044,
          0.0245492160320281,
          0.0232490040361881,
          0.0228000096976757
         ],
         "y0": " ",
         "yaxis": "y12"
        },
        {
         "alignmentgroup": "True",
         "hovertemplate": "Method=%{x}<br>Metric=ECE<br>Model=xception<br>Value=%{y}<extra></extra>",
         "legendgroup": "SPU",
         "marker": {
          "color": "#ab63fa"
         },
         "name": "SPU",
         "notched": false,
         "offsetgroup": "SPU",
         "orientation": "v",
         "showlegend": false,
         "type": "box",
         "x": [
          "SPU",
          "SPU",
          "SPU",
          "SPU",
          "SPU",
          "SPU",
          "SPU",
          "SPU",
          "SPU",
          "SPU",
          "SPU",
          "SPU",
          "SPU",
          "SPU",
          "SPU",
          "SPU",
          "SPU",
          "SPU",
          "SPU",
          "SPU"
         ],
         "x0": " ",
         "xaxis": "x13",
         "y": [
          0.0199946910142898,
          0.0191584210842847,
          0.0266550835222005,
          0.0223793368786573,
          0.0195814091712236,
          0.0204481892287731,
          0.0119216330349445,
          0.027245745062828,
          0.0180551949888467,
          0.0237331464886665,
          0.0295965503901243,
          0.0195272527635097,
          0.0132421851158142,
          0.0136489197611808,
          0.0183503087610006,
          0.0219371505081653,
          0.025358123704791,
          0.0185315608978271,
          0.0266521926969289,
          0.0194927938282489
         ],
         "y0": " ",
         "yaxis": "y13"
        },
        {
         "alignmentgroup": "True",
         "hovertemplate": "Method=%{x}<br>Metric=ECE<br>Model=densenet161<br>Value=%{y}<extra></extra>",
         "legendgroup": "SPU",
         "marker": {
          "color": "#ab63fa"
         },
         "name": "SPU",
         "notched": false,
         "offsetgroup": "SPU",
         "orientation": "v",
         "showlegend": false,
         "type": "box",
         "x": [
          "SPU",
          "SPU",
          "SPU",
          "SPU",
          "SPU",
          "SPU",
          "SPU",
          "SPU",
          "SPU",
          "SPU",
          "SPU",
          "SPU",
          "SPU",
          "SPU",
          "SPU",
          "SPU",
          "SPU",
          "SPU",
          "SPU",
          "SPU"
         ],
         "x0": " ",
         "xaxis": "x14",
         "y": [
          0.0180028174072504,
          0.0163506604731082,
          0.0197993386536836,
          0.0188834071159362,
          0.0200032815337181,
          0.0221619345247745,
          0.018130013719201,
          0.0299853272736072,
          0.0107690645381808,
          0.0147462664172053,
          0.031582910567522,
          0.0178158562630414,
          0.0151329562067985,
          0.0178276561200618,
          0.0191654134541749,
          0.0189556293189525,
          0.02054931409657,
          0.0254881158471107,
          0.0212055891752243,
          0.0242116805166006
         ],
         "y0": " ",
         "yaxis": "y14"
        },
        {
         "alignmentgroup": "True",
         "hovertemplate": "Method=%{x}<br>Metric=ECE<br>Model=inceptionresnetv2<br>Value=%{y}<extra></extra>",
         "legendgroup": "SPU",
         "marker": {
          "color": "#ab63fa"
         },
         "name": "SPU",
         "notched": false,
         "offsetgroup": "SPU",
         "orientation": "v",
         "showlegend": false,
         "type": "box",
         "x": [
          "SPU",
          "SPU",
          "SPU",
          "SPU",
          "SPU",
          "SPU",
          "SPU",
          "SPU",
          "SPU",
          "SPU",
          "SPU",
          "SPU",
          "SPU",
          "SPU",
          "SPU",
          "SPU",
          "SPU",
          "SPU",
          "SPU",
          "SPU"
         ],
         "x0": " ",
         "xaxis": "x15",
         "y": [
          0.0212969034910202,
          0.0293506719172,
          0.029062021523714,
          0.0314198173582553,
          0.0262610483914613,
          0.0156876519322395,
          0.0143972411751747,
          0.0275711249560117,
          0.0229404512792825,
          0.0198722500354051,
          0.0183918718248605,
          0.0183122251182794,
          0.0092863049358129,
          0.0204315762966871,
          0.0253849159926176,
          0.0176157131791114,
          0.0267718266695737,
          0.0275342855602502,
          0.0282565988600254,
          0.0214079637080431
         ],
         "y0": " ",
         "yaxis": "y15"
        },
        {
         "alignmentgroup": "True",
         "hovertemplate": "Method=%{x}<br>Metric=SVHN<br>Model=resnet152<br>Value=%{y}<extra></extra>",
         "legendgroup": "SPU",
         "marker": {
          "color": "#ab63fa"
         },
         "name": "SPU",
         "notched": false,
         "offsetgroup": "SPU",
         "orientation": "v",
         "showlegend": false,
         "type": "box",
         "x": [
          "SPU",
          "SPU",
          "SPU",
          "SPU",
          "SPU",
          "SPU",
          "SPU",
          "SPU",
          "SPU",
          "SPU",
          "SPU",
          "SPU",
          "SPU",
          "SPU",
          "SPU",
          "SPU",
          "SPU",
          "SPU",
          "SPU",
          "SPU"
         ],
         "x0": " ",
         "xaxis": "x6",
         "y": [
          0.8912061250000001,
          0.8916799999999999,
          0.89366875,
          0.8949625000000001,
          0.892649,
          0.8903105,
          0.89109825,
          0.887257375,
          0.879365,
          0.8897525,
          0.8948225,
          0.8879652499999999,
          0.88866075,
          0.8943771250000001,
          0.8869988750000001,
          0.8906522499999999,
          0.8851517500000001,
          0.882244,
          0.8842935000000002,
          0.8862377499999999
         ],
         "y0": " ",
         "yaxis": "y6"
        },
        {
         "alignmentgroup": "True",
         "hovertemplate": "Method=%{x}<br>Metric=SVHN<br>Model=seresnet152<br>Value=%{y}<extra></extra>",
         "legendgroup": "SPU",
         "marker": {
          "color": "#ab63fa"
         },
         "name": "SPU",
         "notched": false,
         "offsetgroup": "SPU",
         "orientation": "v",
         "showlegend": false,
         "type": "box",
         "x": [
          "SPU",
          "SPU",
          "SPU",
          "SPU",
          "SPU",
          "SPU",
          "SPU",
          "SPU",
          "SPU",
          "SPU",
          "SPU",
          "SPU",
          "SPU",
          "SPU",
          "SPU",
          "SPU",
          "SPU",
          "SPU",
          "SPU",
          "SPU"
         ],
         "x0": " ",
         "xaxis": "x7",
         "y": [
          0.908185,
          0.90678475,
          0.90484,
          0.90956725,
          0.90636125,
          0.9002853749999999,
          0.903920625,
          0.9004682500000001,
          0.8988065,
          0.905456,
          0.90766175,
          0.907516,
          0.8998682499999999,
          0.9051555,
          0.90469275,
          0.905366875,
          0.90245525,
          0.89855575,
          0.900501,
          0.9041825
         ],
         "y0": " ",
         "yaxis": "y7"
        },
        {
         "alignmentgroup": "True",
         "hovertemplate": "Method=%{x}<br>Metric=SVHN<br>Model=xception<br>Value=%{y}<extra></extra>",
         "legendgroup": "SPU",
         "marker": {
          "color": "#ab63fa"
         },
         "name": "SPU",
         "notched": false,
         "offsetgroup": "SPU",
         "orientation": "v",
         "showlegend": false,
         "type": "box",
         "x": [
          "SPU",
          "SPU",
          "SPU",
          "SPU",
          "SPU",
          "SPU",
          "SPU",
          "SPU",
          "SPU",
          "SPU",
          "SPU",
          "SPU",
          "SPU",
          "SPU",
          "SPU",
          "SPU",
          "SPU",
          "SPU",
          "SPU",
          "SPU"
         ],
         "x0": " ",
         "xaxis": "x8",
         "y": [
          0.8676935,
          0.870272875,
          0.862423,
          0.8738520000000001,
          0.8674683750000001,
          0.8688454999999999,
          0.8686449999999999,
          0.8616354999999999,
          0.8633435,
          0.8695835000000001,
          0.87166775,
          0.8672497499999998,
          0.864376,
          0.8584907500000001,
          0.86234525,
          0.8629087499999999,
          0.8647595000000001,
          0.86398825,
          0.86703525,
          0.8698365
         ],
         "y0": " ",
         "yaxis": "y8"
        },
        {
         "alignmentgroup": "True",
         "hovertemplate": "Method=%{x}<br>Metric=SVHN<br>Model=densenet161<br>Value=%{y}<extra></extra>",
         "legendgroup": "SPU",
         "marker": {
          "color": "#ab63fa"
         },
         "name": "SPU",
         "notched": false,
         "offsetgroup": "SPU",
         "orientation": "v",
         "showlegend": false,
         "type": "box",
         "x": [
          "SPU",
          "SPU",
          "SPU",
          "SPU",
          "SPU",
          "SPU",
          "SPU",
          "SPU",
          "SPU",
          "SPU",
          "SPU",
          "SPU",
          "SPU",
          "SPU",
          "SPU",
          "SPU",
          "SPU",
          "SPU",
          "SPU",
          "SPU"
         ],
         "x0": " ",
         "xaxis": "x9",
         "y": [
          0.90835375,
          0.906684375,
          0.90834625,
          0.913864,
          0.904702875,
          0.9055965,
          0.90527675,
          0.9073255,
          0.89766425,
          0.905990625,
          0.90863125,
          0.90445875,
          0.9000477500000001,
          0.90746575,
          0.90608675,
          0.9100295,
          0.9028215,
          0.8996395,
          0.9055745,
          0.9033305
         ],
         "y0": " ",
         "yaxis": "y9"
        },
        {
         "alignmentgroup": "True",
         "hovertemplate": "Method=%{x}<br>Metric=SVHN<br>Model=inceptionresnetv2<br>Value=%{y}<extra></extra>",
         "legendgroup": "SPU",
         "marker": {
          "color": "#ab63fa"
         },
         "name": "SPU",
         "notched": false,
         "offsetgroup": "SPU",
         "orientation": "v",
         "showlegend": false,
         "type": "box",
         "x": [
          "SPU",
          "SPU",
          "SPU",
          "SPU",
          "SPU",
          "SPU",
          "SPU",
          "SPU",
          "SPU",
          "SPU",
          "SPU",
          "SPU",
          "SPU",
          "SPU",
          "SPU",
          "SPU",
          "SPU",
          "SPU",
          "SPU",
          "SPU"
         ],
         "x0": " ",
         "xaxis": "x10",
         "y": [
          0.88564,
          0.883005125,
          0.8850950000000001,
          0.8935297500000001,
          0.888007,
          0.8826433749999999,
          0.88738125,
          0.88475775,
          0.8821395000000001,
          0.8858940000000001,
          0.89072075,
          0.8853639999999998,
          0.8869222499999999,
          0.8856475,
          0.88277,
          0.88583725,
          0.8840092499999999,
          0.8832525,
          0.8798596250000001,
          0.8833536249999999
         ],
         "y0": " ",
         "yaxis": "y10"
        },
        {
         "alignmentgroup": "True",
         "hovertemplate": "Method=%{x}<br>Metric=LSUN<br>Model=resnet152<br>Value=%{y}<extra></extra>",
         "legendgroup": "SPU",
         "marker": {
          "color": "#ab63fa"
         },
         "name": "SPU",
         "notched": false,
         "offsetgroup": "SPU",
         "orientation": "v",
         "showlegend": false,
         "type": "box",
         "x": [
          "SPU",
          "SPU",
          "SPU",
          "SPU",
          "SPU",
          "SPU",
          "SPU",
          "SPU",
          "SPU",
          "SPU",
          "SPU",
          "SPU",
          "SPU",
          "SPU",
          "SPU",
          "SPU",
          "SPU",
          "SPU",
          "SPU",
          "SPU"
         ],
         "x0": " ",
         "xaxis": "x",
         "y": [
          0.92032575,
          0.920369125,
          0.9222035,
          0.923876625,
          0.921236,
          0.91948725,
          0.920312,
          0.91567925,
          0.9101195,
          0.9186950000000002,
          0.9228655,
          0.9173995,
          0.91675475,
          0.923134,
          0.9170127500000002,
          0.92125225,
          0.91593175,
          0.9124487499999998,
          0.91489525,
          0.916208875
         ],
         "y0": " ",
         "yaxis": "y"
        },
        {
         "alignmentgroup": "True",
         "hovertemplate": "Method=%{x}<br>Metric=LSUN<br>Model=seresnet152<br>Value=%{y}<extra></extra>",
         "legendgroup": "SPU",
         "marker": {
          "color": "#ab63fa"
         },
         "name": "SPU",
         "notched": false,
         "offsetgroup": "SPU",
         "orientation": "v",
         "showlegend": false,
         "type": "box",
         "x": [
          "SPU",
          "SPU",
          "SPU",
          "SPU",
          "SPU",
          "SPU",
          "SPU",
          "SPU",
          "SPU",
          "SPU",
          "SPU",
          "SPU",
          "SPU",
          "SPU",
          "SPU",
          "SPU",
          "SPU",
          "SPU",
          "SPU",
          "SPU"
         ],
         "x0": " ",
         "xaxis": "x2",
         "y": [
          0.93661775,
          0.934727,
          0.9335927500000002,
          0.938013,
          0.934571,
          0.9298105,
          0.932497,
          0.92964075,
          0.929016,
          0.9341405,
          0.93534275,
          0.9364932500000002,
          0.92934025,
          0.9354825,
          0.933601,
          0.9344815,
          0.93208325,
          0.92846225,
          0.93007475,
          0.93376925
         ],
         "y0": " ",
         "yaxis": "y2"
        },
        {
         "alignmentgroup": "True",
         "hovertemplate": "Method=%{x}<br>Metric=LSUN<br>Model=xception<br>Value=%{y}<extra></extra>",
         "legendgroup": "SPU",
         "marker": {
          "color": "#ab63fa"
         },
         "name": "SPU",
         "notched": false,
         "offsetgroup": "SPU",
         "orientation": "v",
         "showlegend": false,
         "type": "box",
         "x": [
          "SPU",
          "SPU",
          "SPU",
          "SPU",
          "SPU",
          "SPU",
          "SPU",
          "SPU",
          "SPU",
          "SPU",
          "SPU",
          "SPU",
          "SPU",
          "SPU",
          "SPU",
          "SPU",
          "SPU",
          "SPU",
          "SPU",
          "SPU"
         ],
         "x0": " ",
         "xaxis": "x3",
         "y": [
          0.8891802500000001,
          0.8910305,
          0.8848605,
          0.8944177499999999,
          0.8888902500000001,
          0.89021775,
          0.88951775,
          0.8828482499999998,
          0.884578,
          0.8906875,
          0.891647875,
          0.88796425,
          0.885615375,
          0.881156,
          0.88425875,
          0.8850640000000001,
          0.88684975,
          0.8855622499999999,
          0.88853275,
          0.8912385000000002
         ],
         "y0": " ",
         "yaxis": "y3"
        },
        {
         "alignmentgroup": "True",
         "hovertemplate": "Method=%{x}<br>Metric=LSUN<br>Model=densenet161<br>Value=%{y}<extra></extra>",
         "legendgroup": "SPU",
         "marker": {
          "color": "#ab63fa"
         },
         "name": "SPU",
         "notched": false,
         "offsetgroup": "SPU",
         "orientation": "v",
         "showlegend": false,
         "type": "box",
         "x": [
          "SPU",
          "SPU",
          "SPU",
          "SPU",
          "SPU",
          "SPU",
          "SPU",
          "SPU",
          "SPU",
          "SPU",
          "SPU",
          "SPU",
          "SPU",
          "SPU",
          "SPU",
          "SPU",
          "SPU",
          "SPU",
          "SPU",
          "SPU"
         ],
         "x0": " ",
         "xaxis": "x4",
         "y": [
          0.9237167500000002,
          0.92156675,
          0.9235945,
          0.92974975,
          0.92073325,
          0.92113975,
          0.9208875,
          0.9221795,
          0.9137215,
          0.922067,
          0.9236355,
          0.91991825,
          0.915757875,
          0.92320375,
          0.92135075,
          0.925779875,
          0.9187065,
          0.91606925,
          0.92119275,
          0.9193375
         ],
         "y0": " ",
         "yaxis": "y4"
        },
        {
         "alignmentgroup": "True",
         "hovertemplate": "Method=%{x}<br>Metric=LSUN<br>Model=inceptionresnetv2<br>Value=%{y}<extra></extra>",
         "legendgroup": "SPU",
         "marker": {
          "color": "#ab63fa"
         },
         "name": "SPU",
         "notched": false,
         "offsetgroup": "SPU",
         "orientation": "v",
         "showlegend": false,
         "type": "box",
         "x": [
          "SPU",
          "SPU",
          "SPU",
          "SPU",
          "SPU",
          "SPU",
          "SPU",
          "SPU",
          "SPU",
          "SPU",
          "SPU",
          "SPU",
          "SPU",
          "SPU",
          "SPU",
          "SPU",
          "SPU",
          "SPU",
          "SPU",
          "SPU"
         ],
         "x0": " ",
         "xaxis": "x5",
         "y": [
          0.914291,
          0.9119715,
          0.913999,
          0.921610375,
          0.9168195,
          0.9120995,
          0.916125,
          0.91346975,
          0.91104275,
          0.91398825,
          0.91844425,
          0.912932,
          0.91589825,
          0.914746625,
          0.912225,
          0.915403875,
          0.91374275,
          0.912713875,
          0.90878525,
          0.9122945
         ],
         "y0": " ",
         "yaxis": "y5"
        }
       ],
       "layout": {
        "annotations": [
         {
          "font": {
           "size": 20
          },
          "showarrow": false,
          "text": "",
          "textangle": 0,
          "x": 0.07600000000000001,
          "xanchor": "center",
          "xref": "paper",
          "y": 0.9999999999999999,
          "yanchor": "bottom",
          "yref": "paper"
         },
         {
          "font": {
           "size": 20
          },
          "showarrow": false,
          "text": "",
          "textangle": 0,
          "x": 0.28300000000000003,
          "xanchor": "center",
          "xref": "paper",
          "y": 0.9999999999999999,
          "yanchor": "bottom",
          "yref": "paper"
         },
         {
          "font": {
           "size": 20
          },
          "showarrow": false,
          "text": "",
          "textangle": 0,
          "x": 0.49000000000000005,
          "xanchor": "center",
          "xref": "paper",
          "y": 0.9999999999999999,
          "yanchor": "bottom",
          "yref": "paper"
         },
         {
          "font": {
           "size": 20
          },
          "showarrow": false,
          "text": "",
          "textangle": 0,
          "x": 0.6970000000000001,
          "xanchor": "center",
          "xref": "paper",
          "y": 0.9999999999999999,
          "yanchor": "bottom",
          "yref": "paper"
         },
         {
          "font": {
           "size": 20
          },
          "showarrow": false,
          "text": "",
          "textangle": 0,
          "x": 0.9040000000000001,
          "xanchor": "center",
          "xref": "paper",
          "y": 0.9999999999999999,
          "yanchor": "bottom",
          "yref": "paper"
         },
         {
          "font": {
           "size": 20
          },
          "showarrow": false,
          "text": "",
          "textangle": 0,
          "x": 0.9800000000000001,
          "xanchor": "left",
          "xref": "paper",
          "y": 0.15333333333333332,
          "yanchor": "middle",
          "yref": "paper"
         },
         {
          "font": {
           "size": 20
          },
          "showarrow": false,
          "text": "",
          "textangle": 0,
          "x": 0.9800000000000001,
          "xanchor": "left",
          "xref": "paper",
          "y": 0.5,
          "yanchor": "middle",
          "yref": "paper"
         },
         {
          "font": {
           "size": 20
          },
          "showarrow": false,
          "text": "",
          "textangle": 0,
          "x": 0.9800000000000001,
          "xanchor": "left",
          "xref": "paper",
          "y": 0.8466666666666666,
          "yanchor": "middle",
          "yref": "paper"
         }
        ],
        "autosize": false,
        "boxmode": "overlay",
        "height": 420,
        "legend": {
         "title": {
          "text": "Method"
         },
         "tracegroupgap": 0
        },
        "margin": {
         "t": 60
        },
        "showlegend": false,
        "template": {
         "data": {
          "bar": [
           {
            "error_x": {
             "color": "#2a3f5f"
            },
            "error_y": {
             "color": "#2a3f5f"
            },
            "marker": {
             "line": {
              "color": "#E5ECF6",
              "width": 0.5
             },
             "pattern": {
              "fillmode": "overlay",
              "size": 10,
              "solidity": 0.2
             }
            },
            "type": "bar"
           }
          ],
          "barpolar": [
           {
            "marker": {
             "line": {
              "color": "#E5ECF6",
              "width": 0.5
             },
             "pattern": {
              "fillmode": "overlay",
              "size": 10,
              "solidity": 0.2
             }
            },
            "type": "barpolar"
           }
          ],
          "carpet": [
           {
            "aaxis": {
             "endlinecolor": "#2a3f5f",
             "gridcolor": "white",
             "linecolor": "white",
             "minorgridcolor": "white",
             "startlinecolor": "#2a3f5f"
            },
            "baxis": {
             "endlinecolor": "#2a3f5f",
             "gridcolor": "white",
             "linecolor": "white",
             "minorgridcolor": "white",
             "startlinecolor": "#2a3f5f"
            },
            "type": "carpet"
           }
          ],
          "choropleth": [
           {
            "colorbar": {
             "outlinewidth": 0,
             "ticks": ""
            },
            "type": "choropleth"
           }
          ],
          "contour": [
           {
            "colorbar": {
             "outlinewidth": 0,
             "ticks": ""
            },
            "colorscale": [
             [
              0,
              "#0d0887"
             ],
             [
              0.1111111111111111,
              "#46039f"
             ],
             [
              0.2222222222222222,
              "#7201a8"
             ],
             [
              0.3333333333333333,
              "#9c179e"
             ],
             [
              0.4444444444444444,
              "#bd3786"
             ],
             [
              0.5555555555555556,
              "#d8576b"
             ],
             [
              0.6666666666666666,
              "#ed7953"
             ],
             [
              0.7777777777777778,
              "#fb9f3a"
             ],
             [
              0.8888888888888888,
              "#fdca26"
             ],
             [
              1,
              "#f0f921"
             ]
            ],
            "type": "contour"
           }
          ],
          "contourcarpet": [
           {
            "colorbar": {
             "outlinewidth": 0,
             "ticks": ""
            },
            "type": "contourcarpet"
           }
          ],
          "heatmap": [
           {
            "colorbar": {
             "outlinewidth": 0,
             "ticks": ""
            },
            "colorscale": [
             [
              0,
              "#0d0887"
             ],
             [
              0.1111111111111111,
              "#46039f"
             ],
             [
              0.2222222222222222,
              "#7201a8"
             ],
             [
              0.3333333333333333,
              "#9c179e"
             ],
             [
              0.4444444444444444,
              "#bd3786"
             ],
             [
              0.5555555555555556,
              "#d8576b"
             ],
             [
              0.6666666666666666,
              "#ed7953"
             ],
             [
              0.7777777777777778,
              "#fb9f3a"
             ],
             [
              0.8888888888888888,
              "#fdca26"
             ],
             [
              1,
              "#f0f921"
             ]
            ],
            "type": "heatmap"
           }
          ],
          "heatmapgl": [
           {
            "colorbar": {
             "outlinewidth": 0,
             "ticks": ""
            },
            "colorscale": [
             [
              0,
              "#0d0887"
             ],
             [
              0.1111111111111111,
              "#46039f"
             ],
             [
              0.2222222222222222,
              "#7201a8"
             ],
             [
              0.3333333333333333,
              "#9c179e"
             ],
             [
              0.4444444444444444,
              "#bd3786"
             ],
             [
              0.5555555555555556,
              "#d8576b"
             ],
             [
              0.6666666666666666,
              "#ed7953"
             ],
             [
              0.7777777777777778,
              "#fb9f3a"
             ],
             [
              0.8888888888888888,
              "#fdca26"
             ],
             [
              1,
              "#f0f921"
             ]
            ],
            "type": "heatmapgl"
           }
          ],
          "histogram": [
           {
            "marker": {
             "pattern": {
              "fillmode": "overlay",
              "size": 10,
              "solidity": 0.2
             }
            },
            "type": "histogram"
           }
          ],
          "histogram2d": [
           {
            "colorbar": {
             "outlinewidth": 0,
             "ticks": ""
            },
            "colorscale": [
             [
              0,
              "#0d0887"
             ],
             [
              0.1111111111111111,
              "#46039f"
             ],
             [
              0.2222222222222222,
              "#7201a8"
             ],
             [
              0.3333333333333333,
              "#9c179e"
             ],
             [
              0.4444444444444444,
              "#bd3786"
             ],
             [
              0.5555555555555556,
              "#d8576b"
             ],
             [
              0.6666666666666666,
              "#ed7953"
             ],
             [
              0.7777777777777778,
              "#fb9f3a"
             ],
             [
              0.8888888888888888,
              "#fdca26"
             ],
             [
              1,
              "#f0f921"
             ]
            ],
            "type": "histogram2d"
           }
          ],
          "histogram2dcontour": [
           {
            "colorbar": {
             "outlinewidth": 0,
             "ticks": ""
            },
            "colorscale": [
             [
              0,
              "#0d0887"
             ],
             [
              0.1111111111111111,
              "#46039f"
             ],
             [
              0.2222222222222222,
              "#7201a8"
             ],
             [
              0.3333333333333333,
              "#9c179e"
             ],
             [
              0.4444444444444444,
              "#bd3786"
             ],
             [
              0.5555555555555556,
              "#d8576b"
             ],
             [
              0.6666666666666666,
              "#ed7953"
             ],
             [
              0.7777777777777778,
              "#fb9f3a"
             ],
             [
              0.8888888888888888,
              "#fdca26"
             ],
             [
              1,
              "#f0f921"
             ]
            ],
            "type": "histogram2dcontour"
           }
          ],
          "mesh3d": [
           {
            "colorbar": {
             "outlinewidth": 0,
             "ticks": ""
            },
            "type": "mesh3d"
           }
          ],
          "parcoords": [
           {
            "line": {
             "colorbar": {
              "outlinewidth": 0,
              "ticks": ""
             }
            },
            "type": "parcoords"
           }
          ],
          "pie": [
           {
            "automargin": true,
            "type": "pie"
           }
          ],
          "scatter": [
           {
            "fillpattern": {
             "fillmode": "overlay",
             "size": 10,
             "solidity": 0.2
            },
            "type": "scatter"
           }
          ],
          "scatter3d": [
           {
            "line": {
             "colorbar": {
              "outlinewidth": 0,
              "ticks": ""
             }
            },
            "marker": {
             "colorbar": {
              "outlinewidth": 0,
              "ticks": ""
             }
            },
            "type": "scatter3d"
           }
          ],
          "scattercarpet": [
           {
            "marker": {
             "colorbar": {
              "outlinewidth": 0,
              "ticks": ""
             }
            },
            "type": "scattercarpet"
           }
          ],
          "scattergeo": [
           {
            "marker": {
             "colorbar": {
              "outlinewidth": 0,
              "ticks": ""
             }
            },
            "type": "scattergeo"
           }
          ],
          "scattergl": [
           {
            "marker": {
             "colorbar": {
              "outlinewidth": 0,
              "ticks": ""
             }
            },
            "type": "scattergl"
           }
          ],
          "scattermapbox": [
           {
            "marker": {
             "colorbar": {
              "outlinewidth": 0,
              "ticks": ""
             }
            },
            "type": "scattermapbox"
           }
          ],
          "scatterpolar": [
           {
            "marker": {
             "colorbar": {
              "outlinewidth": 0,
              "ticks": ""
             }
            },
            "type": "scatterpolar"
           }
          ],
          "scatterpolargl": [
           {
            "marker": {
             "colorbar": {
              "outlinewidth": 0,
              "ticks": ""
             }
            },
            "type": "scatterpolargl"
           }
          ],
          "scatterternary": [
           {
            "marker": {
             "colorbar": {
              "outlinewidth": 0,
              "ticks": ""
             }
            },
            "type": "scatterternary"
           }
          ],
          "surface": [
           {
            "colorbar": {
             "outlinewidth": 0,
             "ticks": ""
            },
            "colorscale": [
             [
              0,
              "#0d0887"
             ],
             [
              0.1111111111111111,
              "#46039f"
             ],
             [
              0.2222222222222222,
              "#7201a8"
             ],
             [
              0.3333333333333333,
              "#9c179e"
             ],
             [
              0.4444444444444444,
              "#bd3786"
             ],
             [
              0.5555555555555556,
              "#d8576b"
             ],
             [
              0.6666666666666666,
              "#ed7953"
             ],
             [
              0.7777777777777778,
              "#fb9f3a"
             ],
             [
              0.8888888888888888,
              "#fdca26"
             ],
             [
              1,
              "#f0f921"
             ]
            ],
            "type": "surface"
           }
          ],
          "table": [
           {
            "cells": {
             "fill": {
              "color": "#EBF0F8"
             },
             "line": {
              "color": "white"
             }
            },
            "header": {
             "fill": {
              "color": "#C8D4E3"
             },
             "line": {
              "color": "white"
             }
            },
            "type": "table"
           }
          ]
         },
         "layout": {
          "annotationdefaults": {
           "arrowcolor": "#2a3f5f",
           "arrowhead": 0,
           "arrowwidth": 1
          },
          "autotypenumbers": "strict",
          "coloraxis": {
           "colorbar": {
            "outlinewidth": 0,
            "ticks": ""
           }
          },
          "colorscale": {
           "diverging": [
            [
             0,
             "#8e0152"
            ],
            [
             0.1,
             "#c51b7d"
            ],
            [
             0.2,
             "#de77ae"
            ],
            [
             0.3,
             "#f1b6da"
            ],
            [
             0.4,
             "#fde0ef"
            ],
            [
             0.5,
             "#f7f7f7"
            ],
            [
             0.6,
             "#e6f5d0"
            ],
            [
             0.7,
             "#b8e186"
            ],
            [
             0.8,
             "#7fbc41"
            ],
            [
             0.9,
             "#4d9221"
            ],
            [
             1,
             "#276419"
            ]
           ],
           "sequential": [
            [
             0,
             "#0d0887"
            ],
            [
             0.1111111111111111,
             "#46039f"
            ],
            [
             0.2222222222222222,
             "#7201a8"
            ],
            [
             0.3333333333333333,
             "#9c179e"
            ],
            [
             0.4444444444444444,
             "#bd3786"
            ],
            [
             0.5555555555555556,
             "#d8576b"
            ],
            [
             0.6666666666666666,
             "#ed7953"
            ],
            [
             0.7777777777777778,
             "#fb9f3a"
            ],
            [
             0.8888888888888888,
             "#fdca26"
            ],
            [
             1,
             "#f0f921"
            ]
           ],
           "sequentialminus": [
            [
             0,
             "#0d0887"
            ],
            [
             0.1111111111111111,
             "#46039f"
            ],
            [
             0.2222222222222222,
             "#7201a8"
            ],
            [
             0.3333333333333333,
             "#9c179e"
            ],
            [
             0.4444444444444444,
             "#bd3786"
            ],
            [
             0.5555555555555556,
             "#d8576b"
            ],
            [
             0.6666666666666666,
             "#ed7953"
            ],
            [
             0.7777777777777778,
             "#fb9f3a"
            ],
            [
             0.8888888888888888,
             "#fdca26"
            ],
            [
             1,
             "#f0f921"
            ]
           ]
          },
          "colorway": [
           "#636efa",
           "#EF553B",
           "#00cc96",
           "#ab63fa",
           "#FFA15A",
           "#19d3f3",
           "#FF6692",
           "#B6E880",
           "#FF97FF",
           "#FECB52"
          ],
          "font": {
           "color": "#2a3f5f"
          },
          "geo": {
           "bgcolor": "white",
           "lakecolor": "white",
           "landcolor": "#E5ECF6",
           "showlakes": true,
           "showland": true,
           "subunitcolor": "white"
          },
          "hoverlabel": {
           "align": "left"
          },
          "hovermode": "closest",
          "mapbox": {
           "style": "light"
          },
          "paper_bgcolor": "white",
          "plot_bgcolor": "#E5ECF6",
          "polar": {
           "angularaxis": {
            "gridcolor": "white",
            "linecolor": "white",
            "ticks": ""
           },
           "bgcolor": "#E5ECF6",
           "radialaxis": {
            "gridcolor": "white",
            "linecolor": "white",
            "ticks": ""
           }
          },
          "scene": {
           "xaxis": {
            "backgroundcolor": "#E5ECF6",
            "gridcolor": "white",
            "gridwidth": 2,
            "linecolor": "white",
            "showbackground": true,
            "ticks": "",
            "zerolinecolor": "white"
           },
           "yaxis": {
            "backgroundcolor": "#E5ECF6",
            "gridcolor": "white",
            "gridwidth": 2,
            "linecolor": "white",
            "showbackground": true,
            "ticks": "",
            "zerolinecolor": "white"
           },
           "zaxis": {
            "backgroundcolor": "#E5ECF6",
            "gridcolor": "white",
            "gridwidth": 2,
            "linecolor": "white",
            "showbackground": true,
            "ticks": "",
            "zerolinecolor": "white"
           }
          },
          "shapedefaults": {
           "line": {
            "color": "#2a3f5f"
           }
          },
          "ternary": {
           "aaxis": {
            "gridcolor": "white",
            "linecolor": "white",
            "ticks": ""
           },
           "baxis": {
            "gridcolor": "white",
            "linecolor": "white",
            "ticks": ""
           },
           "bgcolor": "#E5ECF6",
           "caxis": {
            "gridcolor": "white",
            "linecolor": "white",
            "ticks": ""
           }
          },
          "title": {
           "x": 0.05
          },
          "xaxis": {
           "automargin": true,
           "gridcolor": "white",
           "linecolor": "white",
           "ticks": "",
           "title": {
            "standoff": 15
           },
           "zerolinecolor": "white",
           "zerolinewidth": 2
          },
          "yaxis": {
           "automargin": true,
           "gridcolor": "white",
           "linecolor": "white",
           "ticks": "",
           "title": {
            "standoff": 15
           },
           "zerolinecolor": "white",
           "zerolinewidth": 2
          }
         }
        },
        "width": 979.9999999999999,
        "xaxis": {
         "anchor": "y",
         "categoryarray": [
          "TS",
          "SPTS",
          "SP1",
          "SPU"
         ],
         "categoryorder": "array",
         "domain": [
          0,
          0.15200000000000002
         ],
         "showticklabels": false,
         "tickangle": 90,
         "tickfont": {
          "size": 16
         },
         "title": {
          "text": ""
         }
        },
        "xaxis10": {
         "anchor": "y10",
         "domain": [
          0.8280000000000001,
          0.9800000000000001
         ],
         "matches": "x",
         "showticklabels": false,
         "tickangle": 90,
         "tickfont": {
          "size": 16
         },
         "title": {
          "text": ""
         }
        },
        "xaxis11": {
         "anchor": "y11",
         "domain": [
          0,
          0.15200000000000002
         ],
         "matches": "x",
         "showticklabels": false,
         "tickangle": 90,
         "tickfont": {
          "size": 16
         },
         "title": {
          "text": ""
         }
        },
        "xaxis12": {
         "anchor": "y12",
         "domain": [
          0.20700000000000002,
          0.35900000000000004
         ],
         "matches": "x",
         "showticklabels": false,
         "tickangle": 90,
         "tickfont": {
          "size": 16
         },
         "title": {
          "text": ""
         }
        },
        "xaxis13": {
         "anchor": "y13",
         "domain": [
          0.41400000000000003,
          0.5660000000000001
         ],
         "matches": "x",
         "showticklabels": false,
         "tickangle": 90,
         "tickfont": {
          "size": 16
         },
         "title": {
          "text": ""
         }
        },
        "xaxis14": {
         "anchor": "y14",
         "domain": [
          0.6210000000000001,
          0.7730000000000001
         ],
         "matches": "x",
         "showticklabels": false,
         "tickangle": 90,
         "tickfont": {
          "size": 16
         },
         "title": {
          "text": ""
         }
        },
        "xaxis15": {
         "anchor": "y15",
         "domain": [
          0.8280000000000001,
          0.9800000000000001
         ],
         "matches": "x",
         "showticklabels": false,
         "tickangle": 90,
         "tickfont": {
          "size": 16
         },
         "title": {
          "text": ""
         }
        },
        "xaxis2": {
         "anchor": "y2",
         "categoryarray": [
          "TS",
          "SPTS",
          "SP1",
          "SPU"
         ],
         "categoryorder": "array",
         "domain": [
          0.20700000000000002,
          0.35900000000000004
         ],
         "matches": "x",
         "showticklabels": false,
         "tickangle": 90,
         "tickfont": {
          "size": 16
         },
         "title": {
          "text": ""
         }
        },
        "xaxis3": {
         "anchor": "y3",
         "categoryarray": [
          "TS",
          "SPTS",
          "SP1",
          "SPU"
         ],
         "categoryorder": "array",
         "domain": [
          0.41400000000000003,
          0.5660000000000001
         ],
         "matches": "x",
         "showticklabels": false,
         "tickangle": 90,
         "tickfont": {
          "size": 16
         },
         "title": {
          "text": ""
         }
        },
        "xaxis4": {
         "anchor": "y4",
         "categoryarray": [
          "TS",
          "SPTS",
          "SP1",
          "SPU"
         ],
         "categoryorder": "array",
         "domain": [
          0.6210000000000001,
          0.7730000000000001
         ],
         "matches": "x",
         "showticklabels": false,
         "tickangle": 90,
         "tickfont": {
          "size": 16
         },
         "title": {
          "text": ""
         }
        },
        "xaxis5": {
         "anchor": "y5",
         "categoryarray": [
          "TS",
          "SPTS",
          "SP1",
          "SPU"
         ],
         "categoryorder": "array",
         "domain": [
          0.8280000000000001,
          0.9800000000000001
         ],
         "matches": "x",
         "showticklabels": false,
         "tickangle": 90,
         "tickfont": {
          "size": 16
         },
         "title": {
          "text": ""
         }
        },
        "xaxis6": {
         "anchor": "y6",
         "domain": [
          0,
          0.15200000000000002
         ],
         "matches": "x",
         "showticklabels": false,
         "tickangle": 90,
         "tickfont": {
          "size": 16
         },
         "title": {
          "text": ""
         }
        },
        "xaxis7": {
         "anchor": "y7",
         "domain": [
          0.20700000000000002,
          0.35900000000000004
         ],
         "matches": "x",
         "showticklabels": false,
         "tickangle": 90,
         "tickfont": {
          "size": 16
         },
         "title": {
          "text": ""
         }
        },
        "xaxis8": {
         "anchor": "y8",
         "domain": [
          0.41400000000000003,
          0.5660000000000001
         ],
         "matches": "x",
         "showticklabels": false,
         "tickangle": 90,
         "tickfont": {
          "size": 16
         },
         "title": {
          "text": ""
         }
        },
        "xaxis9": {
         "anchor": "y9",
         "domain": [
          0.6210000000000001,
          0.7730000000000001
         ],
         "matches": "x",
         "showticklabels": false,
         "tickangle": 90,
         "tickfont": {
          "size": 16
         },
         "title": {
          "text": ""
         }
        },
        "yaxis": {
         "anchor": "x",
         "domain": [
          0,
          0.30666666666666664
         ],
         "showticklabels": true,
         "tickfont": {
          "size": 16
         },
         "title": {
          "text": ""
         }
        },
        "yaxis10": {
         "anchor": "x10",
         "domain": [
          0.3466666666666666,
          0.6533333333333333
         ],
         "showticklabels": true,
         "tickfont": {
          "size": 16
         },
         "title": {
          "text": ""
         }
        },
        "yaxis11": {
         "anchor": "x11",
         "domain": [
          0.6933333333333332,
          0.9999999999999999
         ],
         "showticklabels": true,
         "tickfont": {
          "size": 16
         },
         "title": {
          "text": ""
         }
        },
        "yaxis12": {
         "anchor": "x12",
         "domain": [
          0.6933333333333332,
          0.9999999999999999
         ],
         "showticklabels": true,
         "tickfont": {
          "size": 16
         },
         "title": {
          "text": ""
         }
        },
        "yaxis13": {
         "anchor": "x13",
         "domain": [
          0.6933333333333332,
          0.9999999999999999
         ],
         "showticklabels": true,
         "tickfont": {
          "size": 16
         },
         "title": {
          "text": ""
         }
        },
        "yaxis14": {
         "anchor": "x14",
         "domain": [
          0.6933333333333332,
          0.9999999999999999
         ],
         "showticklabels": true,
         "tickfont": {
          "size": 16
         },
         "title": {
          "text": ""
         }
        },
        "yaxis15": {
         "anchor": "x15",
         "domain": [
          0.6933333333333332,
          0.9999999999999999
         ],
         "showticklabels": true,
         "tickfont": {
          "size": 16
         },
         "title": {
          "text": ""
         }
        },
        "yaxis2": {
         "anchor": "x2",
         "domain": [
          0,
          0.30666666666666664
         ],
         "showticklabels": true,
         "tickfont": {
          "size": 16
         },
         "title": {
          "text": ""
         }
        },
        "yaxis3": {
         "anchor": "x3",
         "domain": [
          0,
          0.30666666666666664
         ],
         "showticklabels": true,
         "tickfont": {
          "size": 16
         },
         "title": {
          "text": ""
         }
        },
        "yaxis4": {
         "anchor": "x4",
         "domain": [
          0,
          0.30666666666666664
         ],
         "showticklabels": true,
         "tickfont": {
          "size": 16
         },
         "title": {
          "text": ""
         }
        },
        "yaxis5": {
         "anchor": "x5",
         "domain": [
          0,
          0.30666666666666664
         ],
         "showticklabels": true,
         "tickfont": {
          "size": 16
         },
         "title": {
          "text": ""
         }
        },
        "yaxis6": {
         "anchor": "x6",
         "domain": [
          0.3466666666666666,
          0.6533333333333333
         ],
         "showticklabels": true,
         "tickfont": {
          "size": 16
         },
         "title": {
          "text": ""
         }
        },
        "yaxis7": {
         "anchor": "x7",
         "domain": [
          0.3466666666666666,
          0.6533333333333333
         ],
         "showticklabels": true,
         "tickfont": {
          "size": 16
         },
         "title": {
          "text": ""
         }
        },
        "yaxis8": {
         "anchor": "x8",
         "domain": [
          0.3466666666666666,
          0.6533333333333333
         ],
         "showticklabels": true,
         "tickfont": {
          "size": 16
         },
         "title": {
          "text": ""
         }
        },
        "yaxis9": {
         "anchor": "x9",
         "domain": [
          0.3466666666666666,
          0.6533333333333333
         ],
         "showticklabels": true,
         "tickfont": {
          "size": 16
         },
         "title": {
          "text": ""
         }
        }
       }
      }
     },
     "metadata": {},
     "output_type": "display_data"
    }
   ],
   "source": [
    "fig = get_plot_metric(df, 'convert', model_names)\n",
    "fig.write_image('convert_boxplot.png', scale = 3)\n",
    "fig.show()"
   ]
  }
 ],
 "metadata": {
  "kernelspec": {
   "display_name": "project2_env",
   "language": "python",
   "name": "python3"
  },
  "language_info": {
   "codemirror_mode": {
    "name": "ipython",
    "version": 3
   },
   "file_extension": ".py",
   "mimetype": "text/x-python",
   "name": "python",
   "nbconvert_exporter": "python",
   "pygments_lexer": "ipython3",
   "version": "3.12.3"
  }
 },
 "nbformat": 4,
 "nbformat_minor": 2
}
